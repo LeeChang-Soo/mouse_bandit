{
 "cells": [
  {
   "cell_type": "markdown",
   "metadata": {},
   "source": [
    "# Comparing mouse behavior to HMM\n",
    "\n",
    "## This notebook extracts the following behavioral features to compare with the HMM model:\n",
    "\n",
    "1. probability/rate of choosing 'correct' port at the end of a block (ie at its most stable point)\n",
    "2. time constant of rate/probability of choosing the 'correct' port following a block switch\n",
    "3. peak probability/rate of switching at the beginning of a block\n",
    "\n",
    "Approach:\n",
    "\n",
    "1. load in feature matrix for each session\n",
    "2. Try and extract the 3 features and append columns to a copy of the record DB\n",
    "3. Calculate averages for each condition & mouse\n",
    "4. store in dataframe <-- maybe want to do some filtering here to take out really bad performances?\n"
   ]
  },
  {
   "cell_type": "code",
   "execution_count": 10,
   "metadata": {
    "collapsed": false
   },
   "outputs": [],
   "source": [
    "import sys\n",
    "sys.path.append('/Users/shayneufeld/GitHub/mouse_bandit/data_preprocessing_code')\n",
    "sys.path.append('/Users/shayneufeld/GitHub/mouse_bandit')\n",
    "import support_functions as sf\n",
    "import numpy as np\n",
    "import matplotlib.pyplot as plt\n",
    "import seaborn as sns\n",
    "import pandas as pd\n",
    "import scipy as sp\n",
    "import bandit_preprocessing as bp\n",
    "import os\n",
    "from scipy import optimize\n",
    "%matplotlib inline "
   ]
  },
  {
   "cell_type": "markdown",
   "metadata": {},
   "source": [
    "## function *extract_session_stats(data)*\n",
    "Takes in a feature matrix and returns the 3 stats we want to compare to the hmm"
   ]
  },
  {
   "cell_type": "code",
   "execution_count": 27,
   "metadata": {
    "collapsed": false
   },
   "outputs": [],
   "source": [
    "def extract_session_stats(data):\n",
    "    '''\n",
    "    Inputs:\n",
    "        data - (pandas dataframe) feature matrix (reduced or not)\n",
    "    \n",
    "    Outputs:\n",
    "        dataframe with 3 columns:\n",
    "            stable_phigh- prob/rate of choosing high p port at end of block (last 10 trials)\n",
    "            peak_pswitch- prob/rate of switching at beginning of block (first 10 trials)\n",
    "            rebias_tau-   time constant of exponential function fit to p(high p port) after block switch\n",
    "    '''\n",
    "    \n",
    "    \n",
    "    #all the block numbers\n",
    "    t_block_unique = np.unique(data['Block Trial'].values)\n",
    "\n",
    "    # initialize matrix for p(switch) at every trial number in block. 2nd column for SEM\n",
    "    p_switch_block = np.zeros((t_block_unique.shape[0],2))\n",
    "\n",
    "    # initialize matrix for p(high_p_port)\n",
    "    high_p_port = np.zeros_like(p_switch_block)\n",
    "\n",
    "    '''\n",
    "    calculate p(switch) for each trial # in block (from 0 -> end)\n",
    "    '''\n",
    "    for t in t_block_unique:\n",
    "        switches = data[data['Block Trial'] == t]['Switch']\n",
    "        p_switch_block[t,0] = switches.mean(axis=0)\n",
    "        p_switch_block[t,1] = switches.std(axis=0) / np.sqrt(switches.shape[0])\n",
    "        \n",
    "        highport = data[data['Block Trial']==t]['Higher p port']\n",
    "        high_p_port[t,0] = highport.mean(axis=0)\n",
    "        high_p_port[t,1] = highport.std(axis=0) / np.sqrt(highport.shape[0])\n",
    "\n",
    "\n",
    "    '''\n",
    "    calculate p(switch) and p(high port) for trial #s in block (from -L to +L)\n",
    "    '''\n",
    "\n",
    "    data.index = np.arange(data.shape[0]) # <-- this is important\n",
    "    switch_points = data[data['Block Trial'] == 0].index.values\n",
    "\n",
    "    L = 30\n",
    "    paraswitch = np.zeros((switch_points.shape[0],L*2 + 1))\n",
    "    paraswitch_port = np.zeros_like(paraswitch)\n",
    "\n",
    "    for i,point in enumerate(switch_points):\n",
    "        try:\n",
    "            paraswitch[i,:] = data.iloc[point-L:point+L+1]['Switch']\n",
    "            paraswitch_port[i,:] = data.iloc[point-L:point+L+1]['Higher p port']\n",
    "        except:\n",
    "            pass\n",
    "\n",
    "    '''\n",
    "    calculate exponential fit for p(high port) after block switch\n",
    "    '''\n",
    "    #first define exponential function to be optimized\n",
    "    def exp_func(x,a,b,c):\n",
    "        return a*np.exp(-b*x) + c\n",
    "    \n",
    "    #fit curve\n",
    "    popt,pcov = optimize.curve_fit(exp_func,np.arange(L+1),paraswitch_port.mean(axis=0)[L:])\n",
    "    \n",
    "    #calc peak_switch, stable_phigh, and tau\n",
    "    peak_switch = paraswitch[:,L:L+10].mean(axis=0).max()\n",
    "    stable_phigh = paraswitch_port[:,L-10:L].mean()\n",
    "    rebias_tau = 1./popt[1]\n",
    "    \n",
    "    d = {'stable_phigh':stable_phigh,'peak_pswitch':peak_switch,'rebias_tau':rebias_tau}\n",
    "    \n",
    "    return pd.DataFrame(data=d,index=[0])"
   ]
  },
  {
   "cell_type": "markdown",
   "metadata": {},
   "source": [
    "## Load in data database\n",
    "\n",
    "We don't want to consider *every* session. Let's make the following requirements:\n",
    "1. It's in Phase 2 (not phase 1, which does not require switches)\n",
    "2. No. Blocks >= 4\n",
    "3. No. Rewards > 100\n",
    "4. p(high Port) > 0.5"
   ]
  },
  {
   "cell_type": "code",
   "execution_count": 53,
   "metadata": {
    "collapsed": false
   },
   "outputs": [
    {
     "data": {
      "text/html": [
       "<div>\n",
       "<table border=\"1\" class=\"dataframe\">\n",
       "  <thead>\n",
       "    <tr style=\"text-align: right;\">\n",
       "      <th></th>\n",
       "      <th>Session ID</th>\n",
       "      <th>Mouse ID</th>\n",
       "      <th>Date</th>\n",
       "      <th>Phase</th>\n",
       "      <th>Left Reward Prob</th>\n",
       "      <th>Right Reward Prob</th>\n",
       "      <th>Block Range Min</th>\n",
       "      <th>Block Range Max</th>\n",
       "      <th>No. Trials</th>\n",
       "      <th>No. Blocks</th>\n",
       "      <th>No. Rewards</th>\n",
       "      <th>p(high Port)</th>\n",
       "      <th>Decision Window Duration</th>\n",
       "      <th>Min Inter-trial-interval</th>\n",
       "      <th>Left Solenoid Duration</th>\n",
       "      <th>Right Solenoid Duration</th>\n",
       "    </tr>\n",
       "  </thead>\n",
       "  <tbody>\n",
       "    <tr>\n",
       "      <th>0</th>\n",
       "      <td>11012016_K1</td>\n",
       "      <td>K1</td>\n",
       "      <td>11012016</td>\n",
       "      <td>1.0</td>\n",
       "      <td>1.0</td>\n",
       "      <td>1.0</td>\n",
       "      <td>1000.0</td>\n",
       "      <td>1000.0</td>\n",
       "      <td>8.0</td>\n",
       "      <td>0.0</td>\n",
       "      <td>8.0</td>\n",
       "      <td>0.0</td>\n",
       "      <td>10.0</td>\n",
       "      <td>0.5</td>\n",
       "      <td>35.0</td>\n",
       "      <td>35.0</td>\n",
       "    </tr>\n",
       "    <tr>\n",
       "      <th>1</th>\n",
       "      <td>11022016_K1</td>\n",
       "      <td>K1</td>\n",
       "      <td>11022016</td>\n",
       "      <td>1.0</td>\n",
       "      <td>1.0</td>\n",
       "      <td>1.0</td>\n",
       "      <td>1000.0</td>\n",
       "      <td>1000.0</td>\n",
       "      <td>85.0</td>\n",
       "      <td>0.0</td>\n",
       "      <td>85.0</td>\n",
       "      <td>0.0</td>\n",
       "      <td>10.0</td>\n",
       "      <td>0.5</td>\n",
       "      <td>35.0</td>\n",
       "      <td>35.0</td>\n",
       "    </tr>\n",
       "  </tbody>\n",
       "</table>\n",
       "</div>"
      ],
      "text/plain": [
       "    Session ID Mouse ID      Date  Phase  Left Reward Prob  Right Reward Prob  \\\n",
       "0  11012016_K1       K1  11012016    1.0               1.0                1.0   \n",
       "1  11022016_K1       K1  11022016    1.0               1.0                1.0   \n",
       "\n",
       "   Block Range Min  Block Range Max  No. Trials  No. Blocks  No. Rewards  \\\n",
       "0           1000.0           1000.0         8.0         0.0          8.0   \n",
       "1           1000.0           1000.0        85.0         0.0         85.0   \n",
       "\n",
       "   p(high Port)  Decision Window Duration  Min Inter-trial-interval  \\\n",
       "0           0.0                      10.0                       0.5   \n",
       "1           0.0                      10.0                       0.5   \n",
       "\n",
       "   Left Solenoid Duration  Right Solenoid Duration  \n",
       "0                    35.0                     35.0  \n",
       "1                    35.0                     35.0  "
      ]
     },
     "execution_count": 53,
     "metadata": {},
     "output_type": "execute_result"
    }
   ],
   "source": [
    "db.head(2)"
   ]
  },
  {
   "cell_type": "code",
   "execution_count": 61,
   "metadata": {
    "collapsed": false
   },
   "outputs": [],
   "source": [
    "#load in data base\n",
    "db = pd.read_csv('/Users/shayneufeld/GitHub/mouse_bandit/session_record.csv',index_col=0)\n",
    "\n",
    "'''\n",
    "select the sessions we want\n",
    "'''\n",
    "\n",
    "#only phase 2\n",
    "db_s = db[(db['Phase'] == 2)].copy()\n",
    "# No. Blocks >= 4\n",
    "db_s = db_s[db_s['No. Blocks'] >= 4].copy()\n",
    "# No. Rewards > 100\n",
    "db_s = db_s[db_s['No. Rewards'] > 100].copy()\n",
    "# p(high Port) 0.5\n",
    "db_s = db_s[db_s['p(high Port)'] > 0.5].copy()\n",
    "# only 50 reward blocks\n",
    "db_s = db_s[db_s['Block Range Min'] == 50].copy()\n",
    "\n",
    "session_names = db_s['Session ID'].values\n",
    "mouse_ids = db_s['Mouse ID'].values\n",
    "session_ids = db_s['Session ID'].values\n",
    "conditions = db_s['Left Reward Prob'].values\n",
    "phigh = db_s['p(high Port)'].values\n",
    "nrewards = db_s['No. Rewards'].values"
   ]
  },
  {
   "cell_type": "code",
   "execution_count": 92,
   "metadata": {
    "collapsed": false
   },
   "outputs": [
    {
     "name": "stderr",
     "output_type": "stream",
     "text": [
      "//anaconda/envs/CaGRIN/lib/python3.5/site-packages/ipykernel/__main__.py:28: VisibleDeprecationWarning: using a non-integer number instead of an integer will result in an error in the future\n",
      "//anaconda/envs/CaGRIN/lib/python3.5/site-packages/ipykernel/__main__.py:29: VisibleDeprecationWarning: using a non-integer number instead of an integer will result in an error in the future\n",
      "//anaconda/envs/CaGRIN/lib/python3.5/site-packages/ipykernel/__main__.py:32: VisibleDeprecationWarning: using a non-integer number instead of an integer will result in an error in the future\n",
      "//anaconda/envs/CaGRIN/lib/python3.5/site-packages/ipykernel/__main__.py:33: VisibleDeprecationWarning: using a non-integer number instead of an integer will result in an error in the future\n"
     ]
    }
   ],
   "source": [
    "root_dir = '/Users/shayneufeld/GitHub/mouse_bandit/data/feature_data'\n",
    "failures = []\n",
    "for i,session in enumerate(session_ids):\n",
    "    \n",
    "    #load in the feature matrix\n",
    "    full_name = session + '_features.csv'\n",
    "    path_name = os.path.join(root_dir,full_name)\n",
    "    session_matrix = pd.read_csv(path_name,index_col=0)\n",
    "    #try calculating the stats with extract_stats\n",
    "    try:\n",
    "        stats = extract_session_stats(session_matrix)\n",
    "\n",
    "        #append them to a master dataframe\n",
    "        stats['Mouse ID'] = mouse_ids[i]\n",
    "        stats['Session ID'] = session_ids[i]\n",
    "        stats['Condition'] = conditions[i]\n",
    "        stats['p(high Port)'] = phigh[i]\n",
    "        stats['No. Rewards'] = nrewards[i]\n",
    "\n",
    "        if i == 0:\n",
    "            stats_df = stats.copy()\n",
    "        else:\n",
    "            stats_df = stats_df.append(stats)\n",
    "    \n",
    "    except:\n",
    "        failures.append(session)\n",
    "        "
   ]
  },
  {
   "cell_type": "code",
   "execution_count": 95,
   "metadata": {
    "collapsed": false
   },
   "outputs": [],
   "source": [
    "#clean up conditions\n",
    "stats_df['Condition'] = stats_df['Condition'].replace(to_replace=0,value=1.0)\n",
    "stats_df['Condition'] = stats_df['Condition'].replace(to_replace=0.1,value=0.9)\n",
    "stats_df['Condition'] = stats_df['Condition'].replace(to_replace=0.2,value=0.8)\n",
    "stats_df['Condition'] = stats_df['Condition'].replace(to_replace=0.3,value=0.7)"
   ]
  },
  {
   "cell_type": "markdown",
   "metadata": {},
   "source": [
    "## Look at stats by mouse"
   ]
  },
  {
   "cell_type": "code",
   "execution_count": 110,
   "metadata": {
    "collapsed": true
   },
   "outputs": [],
   "source": [
    "stats_90 = stats_df[stats_df['Condition']==0.9].copy()\n",
    "stats_80 = stats_df[stats_df['Condition']==0.8].copy()\n",
    "stats_70 = stats_df[stats_df['Condition']==0.7].copy()"
   ]
  },
  {
   "cell_type": "code",
   "execution_count": 134,
   "metadata": {
    "collapsed": false
   },
   "outputs": [
    {
     "data": {
      "image/png": "[encoded data removed]",
      "text/plain": [
       "<matplotlib.figure.Figure at 0x116521e10>"
      ]
     },
     "metadata": {},
     "output_type": "display_data"
    }
   ],
   "source": [
    "plt.figure(figsize=(15,5))\n",
    "plt.suptitle('prob choose high port',fontsize=20,x=0.5,y=1.1)\n",
    "for i,s in enumerate([stats_90,stats_80,stats_70]):\n",
    "    plt.subplot(1,3,i+1)\n",
    "    sns.boxplot(x='Mouse ID',y='p(high Port)',data=s)\n",
    "    plt.ylim(0.5,1)\n",
    "plt.tight_layout()"
   ]
  }
 ],
 "metadata": {
  "anaconda-cloud": {},
  "kernelspec": {
   "display_name": "Python [conda env:CaGRIN]",
   "language": "python",
   "name": "conda-env-CaGRIN-py"
  },
  "language_info": {
   "codemirror_mode": {
    "name": "ipython",
    "version": 3
   },
   "file_extension": ".py",
   "mimetype": "text/x-python",
   "name": "python",
   "nbconvert_exporter": "python",
   "pygments_lexer": "ipython3",
   "version": "3.5.2"
  }
 },
 "nbformat": 4,
 "nbformat_minor": 1
}
