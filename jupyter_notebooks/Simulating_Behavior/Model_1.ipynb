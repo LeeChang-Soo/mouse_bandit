{
 "cells": [
  {
   "cell_type": "markdown",
   "metadata": {},
   "source": [
    "# Building Models. Attempt 1"
   ]
  },
  {
   "cell_type": "markdown",
   "metadata": {},
   "source": [
    "## TO DO:\n",
    "\n",
    "1. use the shape of the betas on the logistic regression to weight the previous 5 rewards\n",
    "2. in addition, add an exponential decay for time (ie measured by # of trials)"
   ]
  },
  {
   "cell_type": "code",
   "execution_count": 2,
   "metadata": {
    "collapsed": false
   },
   "outputs": [],
   "source": [
    "import sys\n",
    "sys.path.append('/Users/shayneufeld/GitHub/mouse_bandit/data_preprocessing_code')\n",
    "sys.path.append('/Users/shayneufeld/GitHub/mouse_bandit')\n",
    "import support_functions as sf\n",
    "import numpy as np\n",
    "import matplotlib.pyplot as plt\n",
    "import seaborn as sns\n",
    "import pandas as pd\n",
    "import scipy as sp\n",
    "import bandit_preprocessing as bp\n",
    "import sklearn.linear_model\n",
    "from sklearn import discriminant_analysis\n",
    "from sklearn import model_selection\n",
    "from sklearn import tree as Tree\n",
    "import sklearn.tree\n",
    "import sys\n",
    "import os\n",
    "%matplotlib inline "
   ]
  },
  {
   "cell_type": "markdown",
   "metadata": {},
   "source": [
    "# Build a simple model\n",
    "\n",
    "Where it chooses whichever port is rewarding at > 50%"
   ]
  },
  {
   "cell_type": "code",
   "execution_count": 2,
   "metadata": {
    "collapsed": false
   },
   "outputs": [],
   "source": [
    "def play(choice,pR,pL):\n",
    "    outcome = np.zeros(2)\n",
    "    if choice == 0: #right trial\n",
    "        outcome[0] = np.random.uniform() <= pR\n",
    "        outcome[1] = -1\n",
    "    else:\n",
    "        outcome[0] = -1\n",
    "        outcome[1] = np.random.uniform() <= pL\n",
    "    \n",
    "    return outcome\n",
    "        \n",
    "\n",
    "def decide(last_choice,history):\n",
    "    decision = -1\n",
    "    \n",
    "    if last_choice == 0: #right trial\n",
    "        h = history[:,0]\n",
    "        \n",
    "        if h[h!= -1].mean() >= 0.5:\n",
    "            decision = 0\n",
    "        else:\n",
    "            decision = 1\n",
    "    \n",
    "    else: #left trial\n",
    "        h = history[:,1]\n",
    "        \n",
    "        if h[h!= -1].mean() >= 0.5:\n",
    "            decision = 1\n",
    "        else:\n",
    "            decision = 0\n",
    "    \n",
    "    return decision"
   ]
  },
  {
   "cell_type": "code",
   "execution_count": 3,
   "metadata": {
    "collapsed": false,
    "scrolled": false
   },
   "outputs": [],
   "source": [
    "def simulate(pL=0.8,pR=0.2,block_length=50,n_trials=500):\n",
    "\n",
    "    #initialize game\n",
    "    curr_block_reward = 0\n",
    "    last_choice = 0\n",
    "    choices = np.zeros(n_trials)*-1\n",
    "    outcomes = np.zeros((n_trials,2))\n",
    "    block_num = 0\n",
    "\n",
    "    trials = np.zeros((n_trials,6))\n",
    "\n",
    "    for trial in range(n_trials):\n",
    "\n",
    "        '''\n",
    "        update reward probabilities\n",
    "        '''\n",
    "        if curr_block_reward == 50:\n",
    "            pL = 1 - pL\n",
    "            pR = 1 - pR\n",
    "            curr_block_reward = 0\n",
    "            block_num +=1\n",
    "\n",
    "        '''\n",
    "        play a trial\n",
    "        '''\n",
    "\n",
    "        if trial < 5:\n",
    "            choices[trial] = decide(last_choice,outcomes[:trial,:])\n",
    "\n",
    "        else:\n",
    "            choices[trial] = decide(last_choice,outcomes[trial-5:trial,:])\n",
    "\n",
    "        outcomes[trial,:] = play(choices[trial],pR,pL)\n",
    "\n",
    "        '''\n",
    "        store trial information\n",
    "        '''\n",
    "\n",
    "        #choice\n",
    "        trials[trial,0] = choices[trial]\n",
    "        #p(R)\n",
    "        trials[trial,1] = pR\n",
    "        #p(L)\n",
    "        trials[trial,2] = pL\n",
    "        #reward\n",
    "        trials[trial,3] = outcomes[trial,choices[trial]]\n",
    "        #switch\n",
    "        if last_choice != choices[trial]:\n",
    "            trials[trial,4] = 1\n",
    "\n",
    "        #p(high)\n",
    "        if pL > pR:\n",
    "            if choices[trial] == 1:\n",
    "                trials[trial,5] = 1\n",
    "        else:\n",
    "            if choices[trial] == 0:\n",
    "                trials[trial,5] = 1\n",
    "\n",
    "\n",
    "        '''\n",
    "        update\n",
    "        '''\n",
    "        if outcomes[trial,choices[trial]] == 1:\n",
    "            curr_block_reward += 1\n",
    "\n",
    "        last_choice = choices[trial]\n",
    "        \n",
    "    '''\n",
    "    convert into dataframe\n",
    "    '''\n",
    "    model = pd.DataFrame(data = trials,index=None,columns=['Port','pR','pL','Reward','Switch','p(high) chosen'])\n",
    "        \n",
    "    return model"
   ]
  },
  {
   "cell_type": "code",
   "execution_count": 4,
   "metadata": {
    "collapsed": false
   },
   "outputs": [
    {
     "name": "stderr",
     "output_type": "stream",
     "text": [
      "/Users/shayneufeld/anaconda/envs/cagrin/lib/python3.5/site-packages/numpy/core/_methods.py:59: RuntimeWarning: Mean of empty slice.\n",
      "  warnings.warn(\"Mean of empty slice.\", RuntimeWarning)\n",
      "/Users/shayneufeld/anaconda/envs/cagrin/lib/python3.5/site-packages/numpy/core/_methods.py:70: RuntimeWarning: invalid value encountered in double_scalars\n",
      "  ret = ret.dtype.type(ret / rcount)\n",
      "/Users/shayneufeld/anaconda/envs/cagrin/lib/python3.5/site-packages/ipykernel/__main__.py:46: VisibleDeprecationWarning: using a non-integer number instead of an integer will result in an error in the future\n",
      "/Users/shayneufeld/anaconda/envs/cagrin/lib/python3.5/site-packages/ipykernel/__main__.py:63: VisibleDeprecationWarning: using a non-integer number instead of an integer will result in an error in the future\n"
     ]
    }
   ],
   "source": [
    "model = simulate()"
   ]
  },
  {
   "cell_type": "code",
   "execution_count": 5,
   "metadata": {
    "collapsed": true
   },
   "outputs": [],
   "source": [
    "right_1 = np.where((model['Port']==0) & (model['Reward'] == 1))[0]\n",
    "right_0 = np.where((model['Port']==0) & (model['Reward'] == 0))[0]\n",
    "\n",
    "left_1 = np.where((model['Port']==1) & (model['Reward'] == 1))[0]\n",
    "left_0 = np.where((model['Port']==1) & (model['Reward'] == 0))[0]"
   ]
  },
  {
   "cell_type": "code",
   "execution_count": 6,
   "metadata": {
    "collapsed": false
   },
   "outputs": [
    {
     "data": {
      "text/plain": [
       "<matplotlib.text.Text at 0x10eb63588>"
      ]
     },
     "execution_count": 6,
     "metadata": {},
     "output_type": "execute_result"
    },
    {
     "data": {
      "image/png": "[encoded data removed]",
      "text/plain": [
       "<matplotlib.figure.Figure at 0x10eb27b70>"
      ]
     },
     "metadata": {},
     "output_type": "display_data"
    }
   ],
   "source": [
    "plt.figure(figsize=(15,5))\n",
    "#plt.scatter(np.arange(n_trials),choices)\n",
    "plt.scatter(right_1,np.zeros(right_1.shape[0]),color='green',s=50)\n",
    "plt.scatter(right_0,np.zeros(right_0.shape[0]),color='purple',s=50)\n",
    "plt.scatter(left_1,np.zeros(left_1.shape[0])+1,color='green',s=50)\n",
    "plt.scatter(left_0,np.zeros(left_0.shape[0])+1,color='purple',s=50)\n",
    "plt.xlim(100,300)\n",
    "plt.yticks([0,1],['Right','Left'],fontsize=20)\n",
    "plt.xticks(fontsize=20)\n",
    "plt.xlabel('Trial #',fontsize=20)\n",
    "plt.title('Basic Model 1 Simulation',fontsize=20)"
   ]
  },
  {
   "cell_type": "code",
   "execution_count": 7,
   "metadata": {
    "collapsed": false
   },
   "outputs": [
    {
     "name": "stderr",
     "output_type": "stream",
     "text": [
      "/Users/shayneufeld/anaconda/envs/cagrin/lib/python3.5/site-packages/numpy/core/_methods.py:59: RuntimeWarning: Mean of empty slice.\n",
      "  warnings.warn(\"Mean of empty slice.\", RuntimeWarning)\n",
      "/Users/shayneufeld/anaconda/envs/cagrin/lib/python3.5/site-packages/numpy/core/_methods.py:70: RuntimeWarning: invalid value encountered in double_scalars\n",
      "  ret = ret.dtype.type(ret / rcount)\n",
      "/Users/shayneufeld/anaconda/envs/cagrin/lib/python3.5/site-packages/ipykernel/__main__.py:46: VisibleDeprecationWarning: using a non-integer number instead of an integer will result in an error in the future\n",
      "/Users/shayneufeld/anaconda/envs/cagrin/lib/python3.5/site-packages/ipykernel/__main__.py:63: VisibleDeprecationWarning: using a non-integer number instead of an integer will result in an error in the future\n"
     ]
    }
   ],
   "source": [
    "n_sims = 50\n",
    "\n",
    "p_switch_model = np.zeros(n_sims)\n",
    "for sim in range(n_sims):\n",
    "    model = simulate() \n",
    "    p_switch_model[sim] = model['p(high) chosen'].mean()"
   ]
  },
  {
   "cell_type": "markdown",
   "metadata": {},
   "source": [
    "# Compare to data"
   ]
  },
  {
   "cell_type": "code",
   "execution_count": 8,
   "metadata": {
    "collapsed": true
   },
   "outputs": [],
   "source": [
    "data = pd.read_csv('/Users/shayneufeld/GitHub/mouse_bandit/data/processed_data/new_master_8020_df.csv',index_col=0)"
   ]
  },
  {
   "cell_type": "code",
   "execution_count": 13,
   "metadata": {
    "collapsed": false
   },
   "outputs": [
    {
     "data": {
      "text/html": [
       "<div>\n",
       "<table border=\"1\" class=\"dataframe\">\n",
       "  <thead>\n",
       "    <tr style=\"text-align: right;\">\n",
       "      <th></th>\n",
       "      <th>Mouse ID</th>\n",
       "      <th>Session ID</th>\n",
       "      <th>Block Trial</th>\n",
       "      <th>Port Streak</th>\n",
       "      <th>Reward Streak</th>\n",
       "      <th>10_Port</th>\n",
       "      <th>10_Reward</th>\n",
       "      <th>10_ITI</th>\n",
       "      <th>10_trialDuration</th>\n",
       "      <th>9_Port</th>\n",
       "      <th>...</th>\n",
       "      <th>2_trialDuration</th>\n",
       "      <th>1_Port</th>\n",
       "      <th>1_Reward</th>\n",
       "      <th>1_ITI</th>\n",
       "      <th>1_trialDuration</th>\n",
       "      <th>0_ITI</th>\n",
       "      <th>Decision</th>\n",
       "      <th>Switch</th>\n",
       "      <th>Higher p port</th>\n",
       "      <th>Reward</th>\n",
       "    </tr>\n",
       "  </thead>\n",
       "  <tbody>\n",
       "    <tr>\n",
       "      <th>0</th>\n",
       "      <td>dumble</td>\n",
       "      <td>70716</td>\n",
       "      <td>11.0</td>\n",
       "      <td>10.0</td>\n",
       "      <td>-1.0</td>\n",
       "      <td>1.0</td>\n",
       "      <td>1.0</td>\n",
       "      <td>1.801</td>\n",
       "      <td>0.439</td>\n",
       "      <td>1.0</td>\n",
       "      <td>...</td>\n",
       "      <td>0.325</td>\n",
       "      <td>1.0</td>\n",
       "      <td>0.0</td>\n",
       "      <td>2.133</td>\n",
       "      <td>0.482</td>\n",
       "      <td>1.411</td>\n",
       "      <td>1.0</td>\n",
       "      <td>0.0</td>\n",
       "      <td>1.0</td>\n",
       "      <td>0.0</td>\n",
       "    </tr>\n",
       "    <tr>\n",
       "      <th>1</th>\n",
       "      <td>dumble</td>\n",
       "      <td>70716</td>\n",
       "      <td>12.0</td>\n",
       "      <td>10.0</td>\n",
       "      <td>-2.0</td>\n",
       "      <td>1.0</td>\n",
       "      <td>1.0</td>\n",
       "      <td>1.828</td>\n",
       "      <td>0.353</td>\n",
       "      <td>1.0</td>\n",
       "      <td>...</td>\n",
       "      <td>0.482</td>\n",
       "      <td>1.0</td>\n",
       "      <td>0.0</td>\n",
       "      <td>1.411</td>\n",
       "      <td>0.435</td>\n",
       "      <td>2.169</td>\n",
       "      <td>0.0</td>\n",
       "      <td>1.0</td>\n",
       "      <td>0.0</td>\n",
       "      <td>0.0</td>\n",
       "    </tr>\n",
       "  </tbody>\n",
       "</table>\n",
       "<p>2 rows × 50 columns</p>\n",
       "</div>"
      ],
      "text/plain": [
       "  Mouse ID  Session ID  Block Trial  Port Streak  Reward Streak  10_Port  \\\n",
       "0   dumble       70716         11.0         10.0           -1.0      1.0   \n",
       "1   dumble       70716         12.0         10.0           -2.0      1.0   \n",
       "\n",
       "   10_Reward  10_ITI  10_trialDuration  9_Port   ...    2_trialDuration  \\\n",
       "0        1.0   1.801             0.439     1.0   ...              0.325   \n",
       "1        1.0   1.828             0.353     1.0   ...              0.482   \n",
       "\n",
       "   1_Port  1_Reward  1_ITI  1_trialDuration  0_ITI  Decision  Switch  \\\n",
       "0     1.0       0.0  2.133            0.482  1.411       1.0     0.0   \n",
       "1     1.0       0.0  1.411            0.435  2.169       0.0     1.0   \n",
       "\n",
       "   Higher p port  Reward  \n",
       "0            1.0     0.0  \n",
       "1            0.0     0.0  \n",
       "\n",
       "[2 rows x 50 columns]"
      ]
     },
     "execution_count": 13,
     "metadata": {},
     "output_type": "execute_result"
    }
   ],
   "source": [
    "data.head(2)"
   ]
  },
  {
   "cell_type": "code",
   "execution_count": 17,
   "metadata": {
    "collapsed": false
   },
   "outputs": [
    {
     "data": {
      "text/plain": [
       "([<matplotlib.axis.XTick at 0x112263978>,\n",
       "  <matplotlib.axis.XTick at 0x112125898>],\n",
       " <a list of 2 Text xticklabel objects>)"
      ]
     },
     "execution_count": 17,
     "metadata": {},
     "output_type": "execute_result"
    },
    {
     "data": {
      "image/png": "[encoded data removed]",
      "text/plain": [
       "<matplotlib.figure.Figure at 0x112153630>"
      ]
     },
     "metadata": {},
     "output_type": "display_data"
    }
   ],
   "source": [
    "plt.bar([1,2],[p_switch_model.mean(),data['Higher p port'].mean()])\n",
    "plt.ylim(0.5,1)\n",
    "plt.xticks([1.5,2.5],['Model','Data'])"
   ]
  },
  {
   "cell_type": "code",
   "execution_count": 18,
   "metadata": {
    "collapsed": false
   },
   "outputs": [
    {
     "data": {
      "text/plain": [
       "0.89416000000000007"
      ]
     },
     "execution_count": 18,
     "metadata": {},
     "output_type": "execute_result"
    }
   ],
   "source": [
    "p_switch_model.mean()"
   ]
  },
  {
   "cell_type": "code",
   "execution_count": 19,
   "metadata": {
    "collapsed": false
   },
   "outputs": [
    {
     "data": {
      "text/plain": [
       "0.016698934097720143"
      ]
     },
     "execution_count": 19,
     "metadata": {},
     "output_type": "execute_result"
    }
   ],
   "source": [
    "p_switch_model.std()"
   ]
  },
  {
   "cell_type": "code",
   "execution_count": 20,
   "metadata": {
    "collapsed": false,
    "scrolled": true
   },
   "outputs": [
    {
     "data": {
      "text/plain": [
       "0.83868974042027189"
      ]
     },
     "execution_count": 20,
     "metadata": {},
     "output_type": "execute_result"
    }
   ],
   "source": [
    "data['Higher p port'].mean()"
   ]
  },
  {
   "cell_type": "code",
   "execution_count": 17,
   "metadata": {
    "collapsed": false
   },
   "outputs": [
    {
     "data": {
      "text/plain": [
       "(0, 10)"
      ]
     },
     "execution_count": 17,
     "metadata": {},
     "output_type": "execute_result"
    },
    {
     "data": {
      "image/png": "[encoded data removed]",
      "text/plain": [
       "<matplotlib.figure.Figure at 0x1147c5828>"
      ]
     },
     "metadata": {},
     "output_type": "display_data"
    }
   ],
   "source": [
    "x = np.arange(5)\n",
    "\n",
    "y = np.exp(-1*x)*10\n",
    "\n",
    "plt.plot(x,y)\n",
    "plt.ylim(0,10)"
   ]
  }
 ],
 "metadata": {
  "anaconda-cloud": {},
  "kernelspec": {
   "display_name": "Python [conda env:ac209]",
   "language": "python",
   "name": "conda-env-ac209-py"
  },
  "language_info": {
   "codemirror_mode": {
    "name": "ipython",
    "version": 2
   },
   "file_extension": ".py",
   "mimetype": "text/x-python",
   "name": "python",
   "nbconvert_exporter": "python",
   "pygments_lexer": "ipython2",
   "version": "2.7.12"
  }
 },
 "nbformat": 4,
 "nbformat_minor": 1
}
