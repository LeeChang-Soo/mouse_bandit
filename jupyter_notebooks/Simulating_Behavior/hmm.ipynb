{
 "cells": [
  {
   "cell_type": "markdown",
   "metadata": {},
   "source": [
    "# hidden Markov model"
   ]
  },
  {
   "cell_type": "markdown",
   "metadata": {},
   "source": []
  },
  {
   "cell_type": "code",
   "execution_count": 36,
   "metadata": {
    "collapsed": false
   },
   "outputs": [],
   "source": [
    "import numpy as np\n",
    "from sklearn.preprocessing import normalize\n",
    "import matplotlib.pyplot as plt\n",
    "%matplotlib inline"
   ]
  },
  {
   "cell_type": "markdown",
   "metadata": {},
   "source": [
    "### For simplictly, first consider the following case:\n",
    "\n",
    "1. the mouse *always* chooses left\n",
    "2. the state starts out in L = 0.8, R = 0.2\n",
    "3. State switches after 'switch' plays\n",
    "4. prior begins at [0.5,0.5]\n",
    "5. transition matrix is"
   ]
  },
  {
   "cell_type": "code",
   "execution_count": 121,
   "metadata": {
    "collapsed": false
   },
   "outputs": [
    {
     "data": {
      "text/plain": [
       "<matplotlib.legend.Legend at 0x117728eb8>"
      ]
     },
     "execution_count": 121,
     "metadata": {},
     "output_type": "execute_result"
    },
    {
     "data": {
      "image/png": "[encoded data removed]",
      "text/plain": [
       "<matplotlib.figure.Figure at 0x11742c860>"
      ]
     },
     "metadata": {},
     "output_type": "display_data"
    }
   ],
   "source": [
    "#set transition matrix\n",
    "s = 0.5\n",
    "T = np.array([[s,1.0-s],[s,1.0-s]])\n",
    "\n",
    "n_plays = 30 # of trials\n",
    "outcomes = [] #initialize record of outcomes (1 = reward, 0 = no reward)\n",
    "f = np.zeros((n_plays,2)) #initialize forward probability matrix\n",
    "switch = 10 # number of trials until the state switches\n",
    "\n",
    "#initialize prior\n",
    "prior = np.array([0.5,0.5])\n",
    "\n",
    "'''\n",
    "run algorithm\n",
    "'''\n",
    "for play in range(n_plays):\n",
    "    \n",
    "    #receive outcome according to current state probabilities\n",
    "    if play < switch:\n",
    "        outcomes.append(np.random.uniform() <= 0.8)\n",
    "    else:\n",
    "        outcomes.append(np.random.uniform() <= 0.2)\n",
    "    \n",
    "    #assign observation matrix according to the reward outcome\n",
    "    if outcomes[-1] is True:\n",
    "        O = np.array([[0.8,0],[0,0.2]])\n",
    "    else:\n",
    "        O = np.array([[0.2,0],[0,0.8]])\n",
    "    \n",
    "    #calculate forward probability\n",
    "    f_ = O*T*prior\n",
    "    f[play,:] = f_[f_ != 0] / f_.sum()\n",
    "    \n",
    "    #update prior\n",
    "    prior = f[play]\n",
    "\n",
    "#pull out the rewarded and non-reward trials (for plotting)\n",
    "R_trials = np.where(np.asarray(outcomes) == True)[0]\n",
    "NR_trials = np.where(np.asarray(outcomes) == False)[0] \n",
    "\n",
    "\n",
    "'''\n",
    "Plot\n",
    "'''\n",
    "plt.figure(figsize=(5,5))\n",
    "plt.plot(np.arange(n_plays),f[:,0],color='black',label='p(z==left)')\n",
    "plt.plot(np.arange(n_plays),f[:,1],color='purple',label='p(z==right)')\n",
    "plt.scatter(R_trials,np.zeros(R_trials.shape[0])+0.5,color='green')\n",
    "plt.scatter(NR_trials,np.zeros(NR_trials.shape[0])+0.5,color='red')\n",
    "plt.vlines(x=switch,ymin=0,ymax=1,color='grey',linestyles='dotted',label='state transition')\n",
    "plt.ylim(-0.05,1.05)\n",
    "plt.legend(bbox_to_anchor=(1.6,1))"
   ]
  },
  {
   "cell_type": "code",
   "execution_count": 58,
   "metadata": {
    "collapsed": false
   },
   "outputs": [
    {
     "data": {
      "text/plain": [
       "array([0, 1, 2, 4, 5, 6, 8, 9])"
      ]
     },
     "execution_count": 58,
     "metadata": {},
     "output_type": "execute_result"
    }
   ],
   "source": [
    "np.where(np.asarray(outcomes) == True)[0]"
   ]
  },
  {
   "cell_type": "code",
   "execution_count": 61,
   "metadata": {
    "collapsed": false,
    "scrolled": true
   },
   "outputs": [
    {
     "ename": "IndexError",
     "evalue": "tuple index out of range",
     "output_type": "error",
     "traceback": [
      "\u001b[0;31m---------------------------------------------------------------------------\u001b[0m",
      "\u001b[0;31mIndexError\u001b[0m                                Traceback (most recent call last)",
      "\u001b[0;32m<ipython-input-61-d4fd2c1cbc1a>\u001b[0m in \u001b[0;36m<module>\u001b[0;34m()\u001b[0m\n\u001b[0;32m----> 1\u001b[0;31m \u001b[0mnp\u001b[0m\u001b[0;34m.\u001b[0m\u001b[0mzeros\u001b[0m\u001b[0;34m(\u001b[0m\u001b[0mnp\u001b[0m\u001b[0;34m.\u001b[0m\u001b[0mwhere\u001b[0m\u001b[0;34m(\u001b[0m\u001b[0mnp\u001b[0m\u001b[0;34m.\u001b[0m\u001b[0masarray\u001b[0m\u001b[0;34m(\u001b[0m\u001b[0moutcomes\u001b[0m\u001b[0;34m)\u001b[0m\u001b[0;34m[\u001b[0m\u001b[0;36m0\u001b[0m\u001b[0;34m]\u001b[0m\u001b[0;34m.\u001b[0m\u001b[0mshape\u001b[0m\u001b[0;34m[\u001b[0m\u001b[0;36m0\u001b[0m\u001b[0;34m]\u001b[0m\u001b[0;34m)\u001b[0m\u001b[0;34m)\u001b[0m\u001b[0;34m\u001b[0m\u001b[0m\n\u001b[0m",
      "\u001b[0;31mIndexError\u001b[0m: tuple index out of range"
     ]
    }
   ],
   "source": [
    "np.zeros(np.where(np.asarray(outcomes)[0].shape[0]))"
   ]
  },
  {
   "cell_type": "code",
   "execution_count": 53,
   "metadata": {
    "collapsed": false
   },
   "outputs": [
    {
     "data": {
      "text/plain": [
       "[True, True, True, True, True, True, True, True, True, True]"
      ]
     },
     "execution_count": 53,
     "metadata": {},
     "output_type": "execute_result"
    }
   ],
   "source": [
    "outcomes"
   ]
  }
 ],
 "metadata": {
  "anaconda-cloud": {},
  "kernelspec": {
   "display_name": "Python [conda env:CaGRIN]",
   "language": "python",
   "name": "conda-env-CaGRIN-py"
  },
  "language_info": {
   "codemirror_mode": {
    "name": "ipython",
    "version": 3
   },
   "file_extension": ".py",
   "mimetype": "text/x-python",
   "name": "python",
   "nbconvert_exporter": "python",
   "pygments_lexer": "ipython3",
   "version": "3.5.2"
  }
 },
 "nbformat": 4,
 "nbformat_minor": 1
}
