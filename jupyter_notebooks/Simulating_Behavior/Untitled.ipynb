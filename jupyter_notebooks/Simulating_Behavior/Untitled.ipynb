{
 "cells": [
  {
   "cell_type": "markdown",
   "metadata": {},
   "source": [
    "# hidden Markov model"
   ]
  },
  {
   "cell_type": "code",
   "execution_count": 24,
   "metadata": {
    "collapsed": false
   },
   "outputs": [],
   "source": [
    "import numpy as np\n",
    "from sklearn.preprocessing import normalize"
   ]
  },
  {
   "cell_type": "code",
   "execution_count": 117,
   "metadata": {
    "collapsed": true
   },
   "outputs": [],
   "source": [
    "B = np.array([[0.9,0.1],[0.2,0.8]])\n",
    "T = np.array([[0.98,0.02],[0.02,0.98]])\n",
    "\n",
    "R = np.array([[0.8,0],[0,0.2]])\n",
    "NR = np.array([[0.2,0],[0,0.8]])\n",
    "choices = ['left','right']\n",
    "\n",
    "prior = np.array([0.5,0.5])"
   ]
  },
  {
   "cell_type": "code",
   "execution_count": null,
   "metadata": {
    "collapsed": true
   },
   "outputs": [],
   "source": [
    "n_plays = 1\n",
    "actions = []\n",
    "f = np.zeros(n_plays)\n",
    "\n",
    "for play in range(n_plays):\n",
    "    \n",
    "    #receive outcome, update probs\n",
    "    \n",
    "    outcomes.append(np.random.uniform() <= 0.8)\n",
    "    \n",
    "    if outcomes[-1] is True:\n",
    "        O = np.array([[0.8,0],[0,0.2]])\n",
    "    else:\n",
    "        O = np.array([[0.2,0],[0,0.8]])\n",
    "    \n",
    "    \n",
    "    f_ = O*T*prior\n",
    "    f[play] = f_ / f_.sum()\n",
    "    prior = \n",
    "    \n",
    "    \n",
    "    "
   ]
  },
  {
   "cell_type": "code",
   "execution_count": 102,
   "metadata": {
    "collapsed": false
   },
   "outputs": [],
   "source": [
    "n_plays = 1\n",
    "actions = []\n",
    "\n",
    "for play in range(n_plays):\n",
    "    \n",
    "    if play == 0: #choose first one randomly\n",
    "        actions.append(outcomes[np.random.choice([0,1])])\n",
    "        \n",
    "    else:\n",
    "        \n",
    "        if np.where(f == f.max())[0][0] == 0:\n",
    "            actions.append('left')\n",
    "        else:\n",
    "            actions.append('right')\n",
    "    \n",
    "    #receive outcome, update probs\n",
    "    outcomes.append(get_outcome(actions[-1]))\n",
    "    \n",
    "    f = updateprob(outcomes[-1])    "
   ]
  },
  {
   "cell_type": "code",
   "execution_count": 130,
   "metadata": {
    "collapsed": false
   },
   "outputs": [
    {
     "data": {
      "text/plain": [
       "0.012296604174539705"
      ]
     },
     "execution_count": 130,
     "metadata": {},
     "output_type": "execute_result"
    }
   ],
   "source": [
    "np.random.uniform()"
   ]
  },
  {
   "cell_type": "code",
   "execution_count": 120,
   "metadata": {
    "collapsed": false
   },
   "outputs": [
    {
     "data": {
      "text/plain": [
       "['left', 'right']"
      ]
     },
     "execution_count": 120,
     "metadata": {},
     "output_type": "execute_result"
    }
   ],
   "source": [
    "choices"
   ]
  },
  {
   "cell_type": "code",
   "execution_count": 76,
   "metadata": {
    "collapsed": true
   },
   "outputs": [],
   "source": [
    "O1 = np.array([[0.9,0],[0,0.2]])\n",
    "\n",
    "f_1 = O1*T*prior"
   ]
  },
  {
   "cell_type": "code",
   "execution_count": 52,
   "metadata": {
    "collapsed": false
   },
   "outputs": [],
   "source": [
    "O1 = np.array([[0.9,0],[0,0.2]])\n",
    "\n",
    "f_1 = normalize(O1*T*prior,axis=0,norm='l1')"
   ]
  },
  {
   "cell_type": "code",
   "execution_count": 71,
   "metadata": {
    "collapsed": false
   },
   "outputs": [
    {
     "data": {
      "text/plain": [
       "0.45175767840735148"
      ]
     },
     "execution_count": 71,
     "metadata": {},
     "output_type": "execute_result"
    }
   ],
   "source": [
    "np.linalg.norm(f_1,axis=None)"
   ]
  },
  {
   "cell_type": "code",
   "execution_count": 105,
   "metadata": {
    "collapsed": false
   },
   "outputs": [],
   "source": [
    "f = f_1 / f_1.sum()"
   ]
  },
  {
   "cell_type": "code",
   "execution_count": 112,
   "metadata": {
    "collapsed": false
   },
   "outputs": [
    {
     "data": {
      "text/plain": [
       "0"
      ]
     },
     "execution_count": 112,
     "metadata": {},
     "output_type": "execute_result"
    }
   ],
   "source": [
    "np.where(f == f.max())[0][0]"
   ]
  },
  {
   "cell_type": "code",
   "execution_count": 115,
   "metadata": {
    "collapsed": false
   },
   "outputs": [
    {
     "data": {
      "text/plain": [
       "array([[ 0.81818182,  0.        ],\n",
       "       [ 0.        ,  0.18181818]])"
      ]
     },
     "execution_count": 115,
     "metadata": {},
     "output_type": "execute_result"
    }
   ],
   "source": [
    "f"
   ]
  }
 ],
 "metadata": {
  "anaconda-cloud": {},
  "kernelspec": {
   "display_name": "Python [conda env:CaGRIN]",
   "language": "python",
   "name": "conda-env-CaGRIN-py"
  },
  "language_info": {
   "codemirror_mode": {
    "name": "ipython",
    "version": 3
   },
   "file_extension": ".py",
   "mimetype": "text/x-python",
   "name": "python",
   "nbconvert_exporter": "python",
   "pygments_lexer": "ipython3",
   "version": "3.5.2"
  }
 },
 "nbformat": 4,
 "nbformat_minor": 1
}
