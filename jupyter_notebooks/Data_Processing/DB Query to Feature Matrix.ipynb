{
 "cells": [
  {
   "cell_type": "markdown",
   "metadata": {},
   "source": [
    "# Creating a feature matrix from a DB Query"
   ]
  },
  {
   "cell_type": "code",
   "execution_count": 1,
   "metadata": {
    "collapsed": false
   },
   "outputs": [],
   "source": [
    "import sys\n",
    "sys.path.append('/Users/shayneufeld/GitHub/mouse_bandit/data_preprocessing_code')\n",
    "sys.path.append('/Users/shayneufeld/GitHub/mouse_bandit')\n",
    "import support_functions as sf\n",
    "import numpy as np\n",
    "import pandas as pd\n",
    "import scipy as sp\n",
    "import bandit_preprocessing as bp\n",
    "from sklearn import preprocessing\n",
    "import sys\n",
    "import os\n",
    "%matplotlib inline "
   ]
  },
  {
   "cell_type": "markdown",
   "metadata": {},
   "source": [
    "## Retrieve names of sessions you want from the DB"
   ]
  },
  {
   "cell_type": "code",
   "execution_count": 2,
   "metadata": {
    "collapsed": true
   },
   "outputs": [],
   "source": [
    "#load in data base\n",
    "db = pd.read_csv('/Users/shayneufeld/GitHub/mouse_bandit/session_record.csv',index_col=0)"
   ]
  },
  {
   "cell_type": "markdown",
   "metadata": {},
   "source": [
    "### Query all 80-20 sessions where performance > 0.7 and block structure was 50"
   ]
  },
  {
   "cell_type": "code",
   "execution_count": 5,
   "metadata": {
    "collapsed": false
   },
   "outputs": [],
   "source": [
    "r = db[((db['Left Reward Prob'] == 0.8) |  (db['Right Reward Prob'] == 0.8))].copy()\n",
    "r = r[r['p(high Port)'] > 0.85].copy()\n",
    "r = r[r['Block Range Min'] == 50].copy()\n",
    "r = r[r['Mouse ID'] == 'harry']\n",
    "session_names = r['Session ID'].values"
   ]
  },
  {
   "cell_type": "code",
   "execution_count": 6,
   "metadata": {
    "collapsed": false,
    "scrolled": false
   },
   "outputs": [
    {
     "data": {
      "text/html": [
       "<div>\n",
       "<table border=\"1\" class=\"dataframe\">\n",
       "  <thead>\n",
       "    <tr style=\"text-align: right;\">\n",
       "      <th></th>\n",
       "      <th>Session ID</th>\n",
       "      <th>Mouse ID</th>\n",
       "      <th>Date</th>\n",
       "      <th>Phase</th>\n",
       "      <th>Left Reward Prob</th>\n",
       "      <th>Right Reward Prob</th>\n",
       "      <th>Block Range Min</th>\n",
       "      <th>Block Range Max</th>\n",
       "      <th>No. Trials</th>\n",
       "      <th>No. Blocks</th>\n",
       "      <th>No. Rewards</th>\n",
       "      <th>p(high Port)</th>\n",
       "      <th>Decision Window Duration</th>\n",
       "      <th>Min Inter-trial-interval</th>\n",
       "      <th>Left Solenoid Duration</th>\n",
       "      <th>Right Solenoid Duration</th>\n",
       "    </tr>\n",
       "  </thead>\n",
       "  <tbody>\n",
       "    <tr>\n",
       "      <th>167</th>\n",
       "      <td>07252016_harry</td>\n",
       "      <td>harry</td>\n",
       "      <td>2016-07-25 00:00:00</td>\n",
       "      <td>2.0</td>\n",
       "      <td>0.2</td>\n",
       "      <td>0.8</td>\n",
       "      <td>50.0</td>\n",
       "      <td>50.0</td>\n",
       "      <td>579.0</td>\n",
       "      <td>8.0</td>\n",
       "      <td>419.0</td>\n",
       "      <td>0.88</td>\n",
       "      <td>2.0</td>\n",
       "      <td>1.0</td>\n",
       "      <td>45.0</td>\n",
       "      <td>40.0</td>\n",
       "    </tr>\n",
       "    <tr>\n",
       "      <th>475</th>\n",
       "      <td>07082016_harry</td>\n",
       "      <td>harry</td>\n",
       "      <td>2016-07-08 00:00:00</td>\n",
       "      <td>2.0</td>\n",
       "      <td>0.8</td>\n",
       "      <td>0.2</td>\n",
       "      <td>50.0</td>\n",
       "      <td>50.0</td>\n",
       "      <td>538.0</td>\n",
       "      <td>8.0</td>\n",
       "      <td>401.0</td>\n",
       "      <td>0.88</td>\n",
       "      <td>2.0</td>\n",
       "      <td>1.0</td>\n",
       "      <td>45.0</td>\n",
       "      <td>40.0</td>\n",
       "    </tr>\n",
       "    <tr>\n",
       "      <th>496</th>\n",
       "      <td>07132016_harry</td>\n",
       "      <td>harry</td>\n",
       "      <td>2016-07-13 00:00:00</td>\n",
       "      <td>2.0</td>\n",
       "      <td>0.8</td>\n",
       "      <td>0.2</td>\n",
       "      <td>50.0</td>\n",
       "      <td>50.0</td>\n",
       "      <td>653.0</td>\n",
       "      <td>8.0</td>\n",
       "      <td>445.0</td>\n",
       "      <td>0.89</td>\n",
       "      <td>2.0</td>\n",
       "      <td>1.0</td>\n",
       "      <td>45.0</td>\n",
       "      <td>40.0</td>\n",
       "    </tr>\n",
       "    <tr>\n",
       "      <th>517</th>\n",
       "      <td>07182016_harry</td>\n",
       "      <td>harry</td>\n",
       "      <td>2016-07-18 00:00:00</td>\n",
       "      <td>2.0</td>\n",
       "      <td>0.8</td>\n",
       "      <td>0.2</td>\n",
       "      <td>50.0</td>\n",
       "      <td>50.0</td>\n",
       "      <td>520.0</td>\n",
       "      <td>7.0</td>\n",
       "      <td>360.0</td>\n",
       "      <td>0.88</td>\n",
       "      <td>2.0</td>\n",
       "      <td>1.0</td>\n",
       "      <td>45.0</td>\n",
       "      <td>40.0</td>\n",
       "    </tr>\n",
       "    <tr>\n",
       "      <th>524</th>\n",
       "      <td>07192016_harry</td>\n",
       "      <td>harry</td>\n",
       "      <td>2016-07-19 00:00:00</td>\n",
       "      <td>2.0</td>\n",
       "      <td>0.8</td>\n",
       "      <td>0.2</td>\n",
       "      <td>50.0</td>\n",
       "      <td>50.0</td>\n",
       "      <td>800.0</td>\n",
       "      <td>11.0</td>\n",
       "      <td>574.0</td>\n",
       "      <td>0.87</td>\n",
       "      <td>2.0</td>\n",
       "      <td>1.0</td>\n",
       "      <td>45.0</td>\n",
       "      <td>40.0</td>\n",
       "    </tr>\n",
       "  </tbody>\n",
       "</table>\n",
       "</div>"
      ],
      "text/plain": [
       "         Session ID Mouse ID                 Date  Phase  Left Reward Prob  \\\n",
       "167  07252016_harry    harry  2016-07-25 00:00:00    2.0               0.2   \n",
       "475  07082016_harry    harry  2016-07-08 00:00:00    2.0               0.8   \n",
       "496  07132016_harry    harry  2016-07-13 00:00:00    2.0               0.8   \n",
       "517  07182016_harry    harry  2016-07-18 00:00:00    2.0               0.8   \n",
       "524  07192016_harry    harry  2016-07-19 00:00:00    2.0               0.8   \n",
       "\n",
       "     Right Reward Prob  Block Range Min  Block Range Max  No. Trials  \\\n",
       "167                0.8             50.0             50.0       579.0   \n",
       "475                0.2             50.0             50.0       538.0   \n",
       "496                0.2             50.0             50.0       653.0   \n",
       "517                0.2             50.0             50.0       520.0   \n",
       "524                0.2             50.0             50.0       800.0   \n",
       "\n",
       "     No. Blocks  No. Rewards  p(high Port)  Decision Window Duration  \\\n",
       "167         8.0        419.0          0.88                       2.0   \n",
       "475         8.0        401.0          0.88                       2.0   \n",
       "496         8.0        445.0          0.89                       2.0   \n",
       "517         7.0        360.0          0.88                       2.0   \n",
       "524        11.0        574.0          0.87                       2.0   \n",
       "\n",
       "     Min Inter-trial-interval  Left Solenoid Duration  Right Solenoid Duration  \n",
       "167                       1.0                    45.0                     40.0  \n",
       "475                       1.0                    45.0                     40.0  \n",
       "496                       1.0                    45.0                     40.0  \n",
       "517                       1.0                    45.0                     40.0  \n",
       "524                       1.0                    45.0                     40.0  "
      ]
     },
     "execution_count": 6,
     "metadata": {},
     "output_type": "execute_result"
    }
   ],
   "source": [
    "r"
   ]
  },
  {
   "cell_type": "code",
   "execution_count": 7,
   "metadata": {
    "collapsed": false
   },
   "outputs": [
    {
     "data": {
      "text/plain": [
       "(5, 16)"
      ]
     },
     "execution_count": 7,
     "metadata": {},
     "output_type": "execute_result"
    }
   ],
   "source": [
    "r.shape"
   ]
  },
  {
   "cell_type": "markdown",
   "metadata": {},
   "source": [
    "## load in csv files (from running exportTrials.m)"
   ]
  },
  {
   "cell_type": "code",
   "execution_count": 8,
   "metadata": {
    "collapsed": false
   },
   "outputs": [],
   "source": [
    "'''\n",
    "load in trial data\n",
    "'''\n",
    "columns = ['Elapsed Time (s)','Since last trial (s)','Trial Duration (s)','Port Poked','Right Reward Prob','Left Reward Prob','Reward Given']\n",
    "\n",
    "root_dir = '/Users/shayneufeld/GitHub/mouse_bandit/data/trial_data'\n",
    "\n",
    "trial_df = []\n",
    "\n",
    "for session in session_names:\n",
    "    full_name = session + '_trials.csv'\n",
    "    \n",
    "    path_name = os.path.join(root_dir,full_name)\n",
    "    \n",
    "    trial_df.append(pd.read_csv(path_name,names=columns))\n",
    "\n",
    "mouse_ids = r['Mouse ID'].values"
   ]
  },
  {
   "cell_type": "code",
   "execution_count": 9,
   "metadata": {
    "collapsed": false
   },
   "outputs": [
    {
     "data": {
      "text/plain": [
       "21"
      ]
     },
     "execution_count": 9,
     "metadata": {},
     "output_type": "execute_result"
    }
   ],
   "source": [
    "len(trial_df)"
   ]
  },
  {
   "cell_type": "markdown",
   "metadata": {},
   "source": [
    "## convert into 1 feature matrix"
   ]
  },
  {
   "cell_type": "code",
   "execution_count": 10,
   "metadata": {
    "collapsed": false
   },
   "outputs": [],
   "source": [
    "for i,df in enumerate(trial_df):\n",
    "    \n",
    "    curr_feature_matrix = bp.create_feature_matrix(df,10,mouse_ids[i],session_names[i],feature_names='Default')\n",
    "    \n",
    "    if i == 0:\n",
    "        master_matrix = curr_feature_matrix.copy()\n",
    "    else:\n",
    "        master_matrix = master_matrix.append(curr_feature_matrix)\n",
    "    "
   ]
  },
  {
   "cell_type": "code",
   "execution_count": 11,
   "metadata": {
    "collapsed": false,
    "scrolled": true
   },
   "outputs": [
    {
     "data": {
      "text/plain": [
       "(3040, 50)"
      ]
     },
     "execution_count": 11,
     "metadata": {},
     "output_type": "execute_result"
    }
   ],
   "source": [
    "master_matrix.shape"
   ]
  },
  {
   "cell_type": "code",
   "execution_count": 12,
   "metadata": {
    "collapsed": false
   },
   "outputs": [
    {
     "data": {
      "text/plain": [
       "0.88092105263157894"
      ]
     },
     "execution_count": 12,
     "metadata": {},
     "output_type": "execute_result"
    }
   ],
   "source": [
    "master_matrix['Higher p port'].mean()"
   ]
  },
  {
   "cell_type": "markdown",
   "metadata": {},
   "source": [
    "## Save combined feature matrix  "
   ]
  },
  {
   "cell_type": "code",
   "execution_count": 13,
   "metadata": {
    "collapsed": false
   },
   "outputs": [],
   "source": [
    "master_matrix.to_csv(os.path.join(root_dir,'harry_8020_high.csv'))"
   ]
  }
 ],
 "metadata": {
  "anaconda-cloud": {},
  "kernelspec": {
   "display_name": "Python [conda env:CaGRIN]",
   "language": "python",
   "name": "conda-env-CaGRIN-py"
  },
  "language_info": {
   "codemirror_mode": {
    "name": "ipython",
    "version": 3
   },
   "file_extension": ".py",
   "mimetype": "text/x-python",
   "name": "python",
   "nbconvert_exporter": "python",
   "pygments_lexer": "ipython3",
   "version": "3.5.2"
  }
 },
 "nbformat": 4,
 "nbformat_minor": 1
}
