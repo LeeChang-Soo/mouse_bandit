{
 "cells": [
  {
   "cell_type": "code",
   "execution_count": 3,
   "metadata": {
    "collapsed": true
   },
   "outputs": [],
   "source": [
    "import sys\n",
    "sys.path.append('/Users/celiaberon/GitHub/mouse_bandit/data_preprocessing_code')\n",
    "sys.path.append('/Users/celiaberon/GitHub/mouse_bandit')\n",
    "import support_functions as sf\n",
    "import numpy as np\n",
    "import pandas as pd\n",
    "import scipy as sp\n",
    "import scipy.io as scio\n",
    "import bandit_preprocessing as bp\n",
    "import sys\n",
    "import os\n",
    "import matplotlib.pyplot as plt\n",
    "%matplotlib inline"
   ]
  },
  {
   "cell_type": "code",
   "execution_count": 4,
   "metadata": {},
   "outputs": [],
   "source": [
    "record = pd.read_csv('/Users/celiaberon/GitHub/mouse_bandit/session_record.csv',index_col=0)\n",
    "ca_data = scio.loadmat('/Volumes/Neurobio/MICROSCOPE/Celia/data/k7_03142017_test/neuron_results.mat',squeeze_me = True, struct_as_record = False)\n",
    "neuron = ca_data['neuron_results'] "
   ]
  },
  {
   "cell_type": "code",
   "execution_count": 5,
   "metadata": {},
   "outputs": [
    {
     "data": {
      "text/plain": [
       "(801, 16)"
      ]
     },
     "execution_count": 5,
     "metadata": {},
     "output_type": "execute_result"
    }
   ],
   "source": [
    "record.shape"
   ]
  },
  {
   "cell_type": "code",
   "execution_count": 6,
   "metadata": {},
   "outputs": [
    {
     "data": {
      "text/html": [
       "<div>\n",
       "<style>\n",
       "    .dataframe thead tr:only-child th {\n",
       "        text-align: right;\n",
       "    }\n",
       "\n",
       "    .dataframe thead th {\n",
       "        text-align: left;\n",
       "    }\n",
       "\n",
       "    .dataframe tbody tr th {\n",
       "        vertical-align: top;\n",
       "    }\n",
       "</style>\n",
       "<table border=\"1\" class=\"dataframe\">\n",
       "  <thead>\n",
       "    <tr style=\"text-align: right;\">\n",
       "      <th></th>\n",
       "      <th>Session ID</th>\n",
       "      <th>Mouse ID</th>\n",
       "      <th>Date</th>\n",
       "      <th>Phase</th>\n",
       "      <th>Left Reward Prob</th>\n",
       "      <th>Right Reward Prob</th>\n",
       "      <th>Block Range Min</th>\n",
       "      <th>Block Range Max</th>\n",
       "      <th>No. Trials</th>\n",
       "      <th>No. Blocks</th>\n",
       "      <th>No. Rewards</th>\n",
       "      <th>p(high Port)</th>\n",
       "      <th>Decision Window Duration</th>\n",
       "      <th>Min Inter-trial-interval</th>\n",
       "      <th>Left Solenoid Duration</th>\n",
       "      <th>Right Solenoid Duration</th>\n",
       "    </tr>\n",
       "  </thead>\n",
       "  <tbody>\n",
       "    <tr>\n",
       "      <th>0</th>\n",
       "      <td>11012016_K1</td>\n",
       "      <td>K1</td>\n",
       "      <td>2016-11-01 00:00:00</td>\n",
       "      <td>1.0</td>\n",
       "      <td>1.0</td>\n",
       "      <td>1.0</td>\n",
       "      <td>1000.0</td>\n",
       "      <td>1000.0</td>\n",
       "      <td>8.0</td>\n",
       "      <td>0.0</td>\n",
       "      <td>8.0</td>\n",
       "      <td>0.00</td>\n",
       "      <td>10.0</td>\n",
       "      <td>0.5</td>\n",
       "      <td>35.0</td>\n",
       "      <td>35.0</td>\n",
       "    </tr>\n",
       "    <tr>\n",
       "      <th>1</th>\n",
       "      <td>11022016_K1</td>\n",
       "      <td>K1</td>\n",
       "      <td>2016-11-02 00:00:00</td>\n",
       "      <td>1.0</td>\n",
       "      <td>1.0</td>\n",
       "      <td>1.0</td>\n",
       "      <td>1000.0</td>\n",
       "      <td>1000.0</td>\n",
       "      <td>85.0</td>\n",
       "      <td>0.0</td>\n",
       "      <td>85.0</td>\n",
       "      <td>0.00</td>\n",
       "      <td>10.0</td>\n",
       "      <td>0.5</td>\n",
       "      <td>35.0</td>\n",
       "      <td>35.0</td>\n",
       "    </tr>\n",
       "    <tr>\n",
       "      <th>2</th>\n",
       "      <td>11032016_K1</td>\n",
       "      <td>K1</td>\n",
       "      <td>2016-11-03 00:00:00</td>\n",
       "      <td>1.0</td>\n",
       "      <td>1.0</td>\n",
       "      <td>1.0</td>\n",
       "      <td>1000.0</td>\n",
       "      <td>1000.0</td>\n",
       "      <td>104.0</td>\n",
       "      <td>0.0</td>\n",
       "      <td>104.0</td>\n",
       "      <td>0.00</td>\n",
       "      <td>3.0</td>\n",
       "      <td>1.0</td>\n",
       "      <td>35.0</td>\n",
       "      <td>35.0</td>\n",
       "    </tr>\n",
       "    <tr>\n",
       "      <th>3</th>\n",
       "      <td>11042016_K1</td>\n",
       "      <td>K1</td>\n",
       "      <td>2016-11-04 00:00:00</td>\n",
       "      <td>2.0</td>\n",
       "      <td>0.1</td>\n",
       "      <td>0.9</td>\n",
       "      <td>50.0</td>\n",
       "      <td>50.0</td>\n",
       "      <td>70.0</td>\n",
       "      <td>1.0</td>\n",
       "      <td>50.0</td>\n",
       "      <td>0.83</td>\n",
       "      <td>2.0</td>\n",
       "      <td>1.0</td>\n",
       "      <td>35.0</td>\n",
       "      <td>35.0</td>\n",
       "    </tr>\n",
       "    <tr>\n",
       "      <th>4</th>\n",
       "      <td>11082016_K1</td>\n",
       "      <td>K1</td>\n",
       "      <td>2016-11-08 00:00:00</td>\n",
       "      <td>1.0</td>\n",
       "      <td>1.0</td>\n",
       "      <td>1.0</td>\n",
       "      <td>500.0</td>\n",
       "      <td>500.0</td>\n",
       "      <td>118.0</td>\n",
       "      <td>0.0</td>\n",
       "      <td>118.0</td>\n",
       "      <td>0.00</td>\n",
       "      <td>5.0</td>\n",
       "      <td>1.0</td>\n",
       "      <td>60.0</td>\n",
       "      <td>60.0</td>\n",
       "    </tr>\n",
       "  </tbody>\n",
       "</table>\n",
       "</div>"
      ],
      "text/plain": [
       "    Session ID Mouse ID                 Date  Phase  Left Reward Prob  \\\n",
       "0  11012016_K1       K1  2016-11-01 00:00:00    1.0               1.0   \n",
       "1  11022016_K1       K1  2016-11-02 00:00:00    1.0               1.0   \n",
       "2  11032016_K1       K1  2016-11-03 00:00:00    1.0               1.0   \n",
       "3  11042016_K1       K1  2016-11-04 00:00:00    2.0               0.1   \n",
       "4  11082016_K1       K1  2016-11-08 00:00:00    1.0               1.0   \n",
       "\n",
       "   Right Reward Prob  Block Range Min  Block Range Max  No. Trials  \\\n",
       "0                1.0           1000.0           1000.0         8.0   \n",
       "1                1.0           1000.0           1000.0        85.0   \n",
       "2                1.0           1000.0           1000.0       104.0   \n",
       "3                0.9             50.0             50.0        70.0   \n",
       "4                1.0            500.0            500.0       118.0   \n",
       "\n",
       "   No. Blocks  No. Rewards  p(high Port)  Decision Window Duration  \\\n",
       "0         0.0          8.0          0.00                      10.0   \n",
       "1         0.0         85.0          0.00                      10.0   \n",
       "2         0.0        104.0          0.00                       3.0   \n",
       "3         1.0         50.0          0.83                       2.0   \n",
       "4         0.0        118.0          0.00                       5.0   \n",
       "\n",
       "   Min Inter-trial-interval  Left Solenoid Duration  Right Solenoid Duration  \n",
       "0                       0.5                    35.0                     35.0  \n",
       "1                       0.5                    35.0                     35.0  \n",
       "2                       1.0                    35.0                     35.0  \n",
       "3                       1.0                    35.0                     35.0  \n",
       "4                       1.0                    60.0                     60.0  "
      ]
     },
     "execution_count": 6,
     "metadata": {},
     "output_type": "execute_result"
    }
   ],
   "source": [
    "record.head(5)"
   ]
  },
  {
   "cell_type": "code",
   "execution_count": 7,
   "metadata": {},
   "outputs": [
    {
     "data": {
      "text/html": [
       "<div>\n",
       "<style>\n",
       "    .dataframe thead tr:only-child th {\n",
       "        text-align: right;\n",
       "    }\n",
       "\n",
       "    .dataframe thead th {\n",
       "        text-align: left;\n",
       "    }\n",
       "\n",
       "    .dataframe tbody tr th {\n",
       "        vertical-align: top;\n",
       "    }\n",
       "</style>\n",
       "<table border=\"1\" class=\"dataframe\">\n",
       "  <thead>\n",
       "    <tr style=\"text-align: right;\">\n",
       "      <th></th>\n",
       "      <th>Session ID</th>\n",
       "      <th>Mouse ID</th>\n",
       "      <th>Date</th>\n",
       "      <th>Phase</th>\n",
       "      <th>Left Reward Prob</th>\n",
       "      <th>Right Reward Prob</th>\n",
       "      <th>Block Range Min</th>\n",
       "      <th>Block Range Max</th>\n",
       "      <th>No. Trials</th>\n",
       "      <th>No. Blocks</th>\n",
       "      <th>No. Rewards</th>\n",
       "      <th>p(high Port)</th>\n",
       "      <th>Decision Window Duration</th>\n",
       "      <th>Min Inter-trial-interval</th>\n",
       "      <th>Left Solenoid Duration</th>\n",
       "      <th>Right Solenoid Duration</th>\n",
       "    </tr>\n",
       "  </thead>\n",
       "  <tbody>\n",
       "    <tr>\n",
       "      <th>676</th>\n",
       "      <td>03142017_K7</td>\n",
       "      <td>K7</td>\n",
       "      <td>2017-03-14 00:00:00</td>\n",
       "      <td>2.0</td>\n",
       "      <td>0.8</td>\n",
       "      <td>0.2</td>\n",
       "      <td>50.0</td>\n",
       "      <td>50.0</td>\n",
       "      <td>519.0</td>\n",
       "      <td>7.0</td>\n",
       "      <td>378.0</td>\n",
       "      <td>0.89</td>\n",
       "      <td>2.0</td>\n",
       "      <td>1.0</td>\n",
       "      <td>35.0</td>\n",
       "      <td>35.0</td>\n",
       "    </tr>\n",
       "  </tbody>\n",
       "</table>\n",
       "</div>"
      ],
      "text/plain": [
       "      Session ID Mouse ID                 Date  Phase  Left Reward Prob  \\\n",
       "676  03142017_K7       K7  2017-03-14 00:00:00    2.0               0.8   \n",
       "\n",
       "     Right Reward Prob  Block Range Min  Block Range Max  No. Trials  \\\n",
       "676                0.2             50.0             50.0       519.0   \n",
       "\n",
       "     No. Blocks  No. Rewards  p(high Port)  Decision Window Duration  \\\n",
       "676         7.0        378.0          0.89                       2.0   \n",
       "\n",
       "     Min Inter-trial-interval  Left Solenoid Duration  Right Solenoid Duration  \n",
       "676                       1.0                    35.0                     35.0  "
      ]
     },
     "execution_count": 7,
     "metadata": {},
     "output_type": "execute_result"
    }
   ],
   "source": [
    "session_name  = '03142017_K7'\n",
    "mouse_id = 'K7'\n",
    "\n",
    "record[record['Session ID'] == session_name]"
   ]
  },
  {
   "cell_type": "markdown",
   "metadata": {},
   "source": [
    "# Extract data from specific session"
   ]
  },
  {
   "cell_type": "code",
   "execution_count": 16,
   "metadata": {
    "collapsed": true
   },
   "outputs": [],
   "source": [
    "'''\n",
    "load in trial data\n",
    "'''\n",
    "columns = ['Elapsed Time (s)','Since last trial (s)','Trial Duration (s)','Port Poked',\n",
    "           'Right Reward Prob','Left Reward Prob','Reward Given',\n",
    "          'center_frame','decision_frame']\n",
    "\n",
    "root_dir = '/Users/celiaberon/GitHub/mouse_bandit/data/trial_data'\n",
    "\n",
    "full_name = session_name + '_trials.csv'\n",
    "\n",
    "path_name = os.path.join(root_dir,full_name)\n",
    "\n",
    "trial_df = pd.read_csv(path_name,names=columns)"
   ]
  },
  {
   "cell_type": "code",
   "execution_count": 9,
   "metadata": {},
   "outputs": [
    {
     "data": {
      "text/html": [
       "<div>\n",
       "<style>\n",
       "    .dataframe thead tr:only-child th {\n",
       "        text-align: right;\n",
       "    }\n",
       "\n",
       "    .dataframe thead th {\n",
       "        text-align: left;\n",
       "    }\n",
       "\n",
       "    .dataframe tbody tr th {\n",
       "        vertical-align: top;\n",
       "    }\n",
       "</style>\n",
       "<table border=\"1\" class=\"dataframe\">\n",
       "  <thead>\n",
       "    <tr style=\"text-align: right;\">\n",
       "      <th></th>\n",
       "      <th>Elapsed Time (s)</th>\n",
       "      <th>Since last trial (s)</th>\n",
       "      <th>Trial Duration (s)</th>\n",
       "      <th>Port Poked</th>\n",
       "      <th>Right Reward Prob</th>\n",
       "      <th>Left Reward Prob</th>\n",
       "      <th>Reward Given</th>\n",
       "      <th>center_frame</th>\n",
       "      <th>decision_frame</th>\n",
       "    </tr>\n",
       "  </thead>\n",
       "  <tbody>\n",
       "    <tr>\n",
       "      <th>0</th>\n",
       "      <td>13.361</td>\n",
       "      <td>1.547</td>\n",
       "      <td>0.384</td>\n",
       "      <td>2</td>\n",
       "      <td>0.8</td>\n",
       "      <td>0.2</td>\n",
       "      <td>1</td>\n",
       "      <td>636</td>\n",
       "      <td>647</td>\n",
       "    </tr>\n",
       "    <tr>\n",
       "      <th>1</th>\n",
       "      <td>15.477</td>\n",
       "      <td>1.719</td>\n",
       "      <td>0.397</td>\n",
       "      <td>2</td>\n",
       "      <td>0.8</td>\n",
       "      <td>0.2</td>\n",
       "      <td>0</td>\n",
       "      <td>699</td>\n",
       "      <td>711</td>\n",
       "    </tr>\n",
       "    <tr>\n",
       "      <th>2</th>\n",
       "      <td>39.428</td>\n",
       "      <td>23.441</td>\n",
       "      <td>0.510</td>\n",
       "      <td>2</td>\n",
       "      <td>0.8</td>\n",
       "      <td>0.2</td>\n",
       "      <td>0</td>\n",
       "      <td>1414</td>\n",
       "      <td>1429</td>\n",
       "    </tr>\n",
       "    <tr>\n",
       "      <th>3</th>\n",
       "      <td>48.378</td>\n",
       "      <td>1.807</td>\n",
       "      <td>0.418</td>\n",
       "      <td>2</td>\n",
       "      <td>0.8</td>\n",
       "      <td>0.2</td>\n",
       "      <td>0</td>\n",
       "      <td>1685</td>\n",
       "      <td>1697</td>\n",
       "    </tr>\n",
       "    <tr>\n",
       "      <th>4</th>\n",
       "      <td>55.984</td>\n",
       "      <td>7.032</td>\n",
       "      <td>0.574</td>\n",
       "      <td>2</td>\n",
       "      <td>0.8</td>\n",
       "      <td>0.2</td>\n",
       "      <td>0</td>\n",
       "      <td>1908</td>\n",
       "      <td>1926</td>\n",
       "    </tr>\n",
       "    <tr>\n",
       "      <th>5</th>\n",
       "      <td>57.603</td>\n",
       "      <td>1.117</td>\n",
       "      <td>0.502</td>\n",
       "      <td>2</td>\n",
       "      <td>0.8</td>\n",
       "      <td>0.2</td>\n",
       "      <td>0</td>\n",
       "      <td>1959</td>\n",
       "      <td>1974</td>\n",
       "    </tr>\n",
       "    <tr>\n",
       "      <th>6</th>\n",
       "      <td>67.366</td>\n",
       "      <td>1.858</td>\n",
       "      <td>0.366</td>\n",
       "      <td>2</td>\n",
       "      <td>0.8</td>\n",
       "      <td>0.2</td>\n",
       "      <td>0</td>\n",
       "      <td>2256</td>\n",
       "      <td>2267</td>\n",
       "    </tr>\n",
       "    <tr>\n",
       "      <th>7</th>\n",
       "      <td>70.060</td>\n",
       "      <td>2.302</td>\n",
       "      <td>0.392</td>\n",
       "      <td>2</td>\n",
       "      <td>0.8</td>\n",
       "      <td>0.2</td>\n",
       "      <td>0</td>\n",
       "      <td>2336</td>\n",
       "      <td>2348</td>\n",
       "    </tr>\n",
       "    <tr>\n",
       "      <th>8</th>\n",
       "      <td>75.495</td>\n",
       "      <td>5.043</td>\n",
       "      <td>0.392</td>\n",
       "      <td>1</td>\n",
       "      <td>0.8</td>\n",
       "      <td>0.2</td>\n",
       "      <td>1</td>\n",
       "      <td>2499</td>\n",
       "      <td>2511</td>\n",
       "    </tr>\n",
       "    <tr>\n",
       "      <th>9</th>\n",
       "      <td>77.620</td>\n",
       "      <td>1.714</td>\n",
       "      <td>0.411</td>\n",
       "      <td>1</td>\n",
       "      <td>0.8</td>\n",
       "      <td>0.2</td>\n",
       "      <td>1</td>\n",
       "      <td>2562</td>\n",
       "      <td>2571</td>\n",
       "    </tr>\n",
       "    <tr>\n",
       "      <th>10</th>\n",
       "      <td>80.228</td>\n",
       "      <td>1.641</td>\n",
       "      <td>0.378</td>\n",
       "      <td>1</td>\n",
       "      <td>0.8</td>\n",
       "      <td>0.2</td>\n",
       "      <td>0</td>\n",
       "      <td>2642</td>\n",
       "      <td>2653</td>\n",
       "    </tr>\n",
       "  </tbody>\n",
       "</table>\n",
       "</div>"
      ],
      "text/plain": [
       "    Elapsed Time (s)  Since last trial (s)  Trial Duration (s)  Port Poked  \\\n",
       "0             13.361                 1.547               0.384           2   \n",
       "1             15.477                 1.719               0.397           2   \n",
       "2             39.428                23.441               0.510           2   \n",
       "3             48.378                 1.807               0.418           2   \n",
       "4             55.984                 7.032               0.574           2   \n",
       "5             57.603                 1.117               0.502           2   \n",
       "6             67.366                 1.858               0.366           2   \n",
       "7             70.060                 2.302               0.392           2   \n",
       "8             75.495                 5.043               0.392           1   \n",
       "9             77.620                 1.714               0.411           1   \n",
       "10            80.228                 1.641               0.378           1   \n",
       "\n",
       "    Right Reward Prob  Left Reward Prob  Reward Given  center_frame  \\\n",
       "0                 0.8               0.2             1           636   \n",
       "1                 0.8               0.2             0           699   \n",
       "2                 0.8               0.2             0          1414   \n",
       "3                 0.8               0.2             0          1685   \n",
       "4                 0.8               0.2             0          1908   \n",
       "5                 0.8               0.2             0          1959   \n",
       "6                 0.8               0.2             0          2256   \n",
       "7                 0.8               0.2             0          2336   \n",
       "8                 0.8               0.2             1          2499   \n",
       "9                 0.8               0.2             1          2562   \n",
       "10                0.8               0.2             0          2642   \n",
       "\n",
       "    decision_frame  \n",
       "0              647  \n",
       "1              711  \n",
       "2             1429  \n",
       "3             1697  \n",
       "4             1926  \n",
       "5             1974  \n",
       "6             2267  \n",
       "7             2348  \n",
       "8             2511  \n",
       "9             2571  \n",
       "10            2653  "
      ]
     },
     "execution_count": 9,
     "metadata": {},
     "output_type": "execute_result"
    }
   ],
   "source": [
    "trial_df.head(11)"
   ]
  },
  {
   "cell_type": "markdown",
   "metadata": {},
   "source": [
    "# convert to feature matrix"
   ]
  },
  {
   "cell_type": "code",
   "execution_count": 10,
   "metadata": {
    "collapsed": true
   },
   "outputs": [],
   "source": [
    "feature_matrix = bp.create_feature_matrix(trial_df,10,mouse_id,session_name,feature_names='Default',imaging=True)"
   ]
  },
  {
   "cell_type": "code",
   "execution_count": 11,
   "metadata": {
    "scrolled": true
   },
   "outputs": [
    {
     "data": {
      "text/html": [
       "<div>\n",
       "<style>\n",
       "    .dataframe thead tr:only-child th {\n",
       "        text-align: right;\n",
       "    }\n",
       "\n",
       "    .dataframe thead th {\n",
       "        text-align: left;\n",
       "    }\n",
       "\n",
       "    .dataframe tbody tr th {\n",
       "        vertical-align: top;\n",
       "    }\n",
       "</style>\n",
       "<table border=\"1\" class=\"dataframe\">\n",
       "  <thead>\n",
       "    <tr style=\"text-align: right;\">\n",
       "      <th></th>\n",
       "      <th>Mouse ID</th>\n",
       "      <th>Session ID</th>\n",
       "      <th>Trial</th>\n",
       "      <th>Block Trial</th>\n",
       "      <th>Block Reward</th>\n",
       "      <th>Port Streak</th>\n",
       "      <th>Reward Streak</th>\n",
       "      <th>10_Port</th>\n",
       "      <th>10_Reward</th>\n",
       "      <th>10_ITI</th>\n",
       "      <th>...</th>\n",
       "      <th>1_ITI</th>\n",
       "      <th>1_trialDuration</th>\n",
       "      <th>0_ITI</th>\n",
       "      <th>0_trialDuration</th>\n",
       "      <th>Decision</th>\n",
       "      <th>Switch</th>\n",
       "      <th>Higher p port</th>\n",
       "      <th>Reward</th>\n",
       "      <th>center_frame</th>\n",
       "      <th>decision_frame</th>\n",
       "    </tr>\n",
       "  </thead>\n",
       "  <tbody>\n",
       "    <tr>\n",
       "      <th>0</th>\n",
       "      <td>K7</td>\n",
       "      <td>03142017_K7</td>\n",
       "      <td>11.0</td>\n",
       "      <td>11.0</td>\n",
       "      <td>3.0</td>\n",
       "      <td>2.0</td>\n",
       "      <td>2.0</td>\n",
       "      <td>1.0</td>\n",
       "      <td>1.0</td>\n",
       "      <td>1.547</td>\n",
       "      <td>...</td>\n",
       "      <td>1.714</td>\n",
       "      <td>0.411</td>\n",
       "      <td>1.641</td>\n",
       "      <td>0.378</td>\n",
       "      <td>0.0</td>\n",
       "      <td>0.0</td>\n",
       "      <td>1.0</td>\n",
       "      <td>0.0</td>\n",
       "      <td>2642.0</td>\n",
       "      <td>2653.0</td>\n",
       "    </tr>\n",
       "    <tr>\n",
       "      <th>1</th>\n",
       "      <td>K7</td>\n",
       "      <td>03142017_K7</td>\n",
       "      <td>12.0</td>\n",
       "      <td>12.0</td>\n",
       "      <td>3.0</td>\n",
       "      <td>3.0</td>\n",
       "      <td>-1.0</td>\n",
       "      <td>1.0</td>\n",
       "      <td>0.0</td>\n",
       "      <td>1.719</td>\n",
       "      <td>...</td>\n",
       "      <td>1.641</td>\n",
       "      <td>0.378</td>\n",
       "      <td>1.391</td>\n",
       "      <td>0.443</td>\n",
       "      <td>0.0</td>\n",
       "      <td>0.0</td>\n",
       "      <td>1.0</td>\n",
       "      <td>1.0</td>\n",
       "      <td>2695.0</td>\n",
       "      <td>2708.0</td>\n",
       "    </tr>\n",
       "  </tbody>\n",
       "</table>\n",
       "<p>2 rows × 55 columns</p>\n",
       "</div>"
      ],
      "text/plain": [
       "  Mouse ID   Session ID  Trial  Block Trial  Block Reward  Port Streak  \\\n",
       "0       K7  03142017_K7   11.0         11.0           3.0          2.0   \n",
       "1       K7  03142017_K7   12.0         12.0           3.0          3.0   \n",
       "\n",
       "   Reward Streak  10_Port  10_Reward  10_ITI       ...        1_ITI  \\\n",
       "0            2.0      1.0        1.0   1.547       ...        1.714   \n",
       "1           -1.0      1.0        0.0   1.719       ...        1.641   \n",
       "\n",
       "   1_trialDuration  0_ITI  0_trialDuration  Decision  Switch  Higher p port  \\\n",
       "0            0.411  1.641            0.378       0.0     0.0            1.0   \n",
       "1            0.378  1.391            0.443       0.0     0.0            1.0   \n",
       "\n",
       "   Reward  center_frame  decision_frame  \n",
       "0     0.0        2642.0          2653.0  \n",
       "1     1.0        2695.0          2708.0  \n",
       "\n",
       "[2 rows x 55 columns]"
      ]
     },
     "execution_count": 11,
     "metadata": {},
     "output_type": "execute_result"
    }
   ],
   "source": [
    "feature_matrix.head(2)"
   ]
  },
  {
   "cell_type": "code",
   "execution_count": 12,
   "metadata": {
    "scrolled": true
   },
   "outputs": [
    {
     "data": {
      "text/html": [
       "<div>\n",
       "<style>\n",
       "    .dataframe thead tr:only-child th {\n",
       "        text-align: right;\n",
       "    }\n",
       "\n",
       "    .dataframe thead th {\n",
       "        text-align: left;\n",
       "    }\n",
       "\n",
       "    .dataframe tbody tr th {\n",
       "        vertical-align: top;\n",
       "    }\n",
       "</style>\n",
       "<table border=\"1\" class=\"dataframe\">\n",
       "  <thead>\n",
       "    <tr style=\"text-align: right;\">\n",
       "      <th></th>\n",
       "      <th>10_Port</th>\n",
       "      <th>10_ITI</th>\n",
       "      <th>10_trialDuration</th>\n",
       "    </tr>\n",
       "  </thead>\n",
       "  <tbody>\n",
       "    <tr>\n",
       "      <th>0</th>\n",
       "      <td>1.0</td>\n",
       "      <td>1.547</td>\n",
       "      <td>0.384</td>\n",
       "    </tr>\n",
       "    <tr>\n",
       "      <th>1</th>\n",
       "      <td>1.0</td>\n",
       "      <td>1.719</td>\n",
       "      <td>0.397</td>\n",
       "    </tr>\n",
       "    <tr>\n",
       "      <th>2</th>\n",
       "      <td>1.0</td>\n",
       "      <td>23.441</td>\n",
       "      <td>0.510</td>\n",
       "    </tr>\n",
       "    <tr>\n",
       "      <th>3</th>\n",
       "      <td>1.0</td>\n",
       "      <td>1.807</td>\n",
       "      <td>0.418</td>\n",
       "    </tr>\n",
       "    <tr>\n",
       "      <th>4</th>\n",
       "      <td>1.0</td>\n",
       "      <td>7.032</td>\n",
       "      <td>0.574</td>\n",
       "    </tr>\n",
       "  </tbody>\n",
       "</table>\n",
       "</div>"
      ],
      "text/plain": [
       "   10_Port  10_ITI  10_trialDuration\n",
       "0      1.0   1.547             0.384\n",
       "1      1.0   1.719             0.397\n",
       "2      1.0  23.441             0.510\n",
       "3      1.0   1.807             0.418\n",
       "4      1.0   7.032             0.574"
      ]
     },
     "execution_count": 12,
     "metadata": {},
     "output_type": "execute_result"
    }
   ],
   "source": [
    "feature_matrix[['10_Port','10_ITI','10_trialDuration']].head(5)"
   ]
  },
  {
   "cell_type": "code",
   "execution_count": 13,
   "metadata": {
    "collapsed": true
   },
   "outputs": [],
   "source": [
    "decisions = [0,1]\n",
    "frames = ['center_frame','decision_frame']\n",
    "imaging_frames = [] #initialize empty list\n",
    "for decision in decisions:\n",
    "    for frame in frames:\n",
    "        imaging_frames.append(feature_matrix[((feature_matrix['Switch'] == 0) \n",
    "                                      & (feature_matrix['Decision'] == decision))][frame])"
   ]
  },
  {
   "cell_type": "code",
   "execution_count": 14,
   "metadata": {
    "collapsed": true
   },
   "outputs": [],
   "source": [
    "d_right = {'center_frame_right':imaging_frames[0],\n",
    "     'decision_frame_right':imaging_frames[1],\n",
    "    }\n",
    "d_left = {'center_frame_left':imaging_frames[2],\n",
    "     'decision_frame_left':imaging_frames[3]}\n",
    "\n",
    "df_right = pd.DataFrame(data=d_right) #df_right.values[:,0]\n",
    "df_left = pd.DataFrame(data=d_left)"
   ]
  },
  {
   "cell_type": "code",
   "execution_count": 15,
   "metadata": {},
   "outputs": [
    {
     "ename": "NameError",
     "evalue": "name 'stay_center_port0' is not defined",
     "output_type": "error",
     "traceback": [
      "\u001b[0;31m---------------------------------------------------------------------------\u001b[0m",
      "\u001b[0;31mNameError\u001b[0m                                 Traceback (most recent call last)",
      "\u001b[0;32m<ipython-input-15-1219fc6ae67e>\u001b[0m in \u001b[0;36m<module>\u001b[0;34m()\u001b[0m\n\u001b[1;32m      2\u001b[0m \u001b[0mswitch_center\u001b[0m \u001b[0;34m=\u001b[0m \u001b[0mfeature_matrix\u001b[0m\u001b[0;34m[\u001b[0m\u001b[0mfeature_matrix\u001b[0m\u001b[0;34m[\u001b[0m\u001b[0;34m'Switch'\u001b[0m\u001b[0;34m]\u001b[0m \u001b[0;34m==\u001b[0m \u001b[0;36m1\u001b[0m\u001b[0;34m]\u001b[0m\u001b[0;34m[\u001b[0m\u001b[0;34m'center_frame'\u001b[0m\u001b[0;34m]\u001b[0m\u001b[0;34m\u001b[0m\u001b[0m\n\u001b[1;32m      3\u001b[0m \u001b[0;34m\u001b[0m\u001b[0m\n\u001b[0;32m----> 4\u001b[0;31m \u001b[0mpreStart\u001b[0m \u001b[0;34m=\u001b[0m \u001b[0mstay_center_port0\u001b[0m \u001b[0;34m-\u001b[0m\u001b[0;36m10\u001b[0m\u001b[0;34m\u001b[0m\u001b[0m\n\u001b[0m\u001b[1;32m      5\u001b[0m \u001b[0mpostDecision\u001b[0m \u001b[0;34m=\u001b[0m \u001b[0mstay_decision_port0\u001b[0m \u001b[0;34m+\u001b[0m\u001b[0;36m10\u001b[0m\u001b[0;34m\u001b[0m\u001b[0m\n\u001b[1;32m      6\u001b[0m \u001b[0mtrialDecision\u001b[0m \u001b[0;34m=\u001b[0m \u001b[0mstay_decision_port0\u001b[0m\u001b[0;34m\u001b[0m\u001b[0m\n",
      "\u001b[0;31mNameError\u001b[0m: name 'stay_center_port0' is not defined"
     ]
    }
   ],
   "source": [
    "switch_decision = feature_matrix[feature_matrix['Switch'] == 1]['decision_frame']\n",
    "switch_center = feature_matrix[feature_matrix['Switch'] == 1]['center_frame']\n",
    "\n",
    "preStart = stay_center_port0 -10\n",
    "postDecision = stay_decision_port0 +10\n",
    "trialDecision = stay_decision_port0"
   ]
  },
  {
   "cell_type": "markdown",
   "metadata": {},
   "source": [
    "## function to get frames based on one or two conditions"
   ]
  },
  {
   "cell_type": "code",
   "execution_count": 55,
   "metadata": {
    "collapsed": true
   },
   "outputs": [],
   "source": [
    "def extract_frames(df, cond1_name, cond1=False, cond2_name=False, cond2=False, frame_type='decision_frame'):\n",
    "    if type(cond2_name)==str:\n",
    "        frames = (df[((df[cond1_name] == cond1) \n",
    "                    & (df[cond2_name] == cond2))][frame_type])\n",
    "        return frames\n",
    "    else:\n",
    "        frames =(df[(df[cond1_name] == cond1)][frame_type])\n",
    "        return frames"
   ]
  },
  {
   "cell_type": "code",
   "execution_count": 65,
   "metadata": {
    "collapsed": true
   },
   "outputs": [],
   "source": [
    "cond1_name = 'Reward'\n",
    "cond1 = 0\n",
    "cond2_name = 'Decision'\n",
    "cond2 = 0"
   ]
  },
  {
   "cell_type": "code",
   "execution_count": 66,
   "metadata": {
    "collapsed": true
   },
   "outputs": [],
   "source": [
    "frames_center = extract_frames(feature_matrix, cond1_name, cond1, cond2_name, cond2, 'center_frame')\n",
    "frames_decision = extract_frames(feature_matrix, cond1_name, cond1, cond2_name, cond2, 'decision_frame')\n",
    "\n",
    "preStart = frames_center - 10 # start 10 frames before center poke\n",
    "postDecision = frames_decision + 10 # end 10 frames after decision poke"
   ]
  },
  {
   "cell_type": "code",
   "execution_count": 67,
   "metadata": {
    "collapsed": true
   },
   "outputs": [],
   "source": [
    "#plt.plot(neuron.C_raw[0, preStart:trialDecision])\n",
    "nNeurons = neuron.C.shape[0]\n",
    "\n",
    "# remove neurons that have NaNs\n",
    "nan_neurons = np.where(np.isnan(neuron.C_raw))[0]\n",
    "nan_neurons = np.unique(nan_neurons)\n",
    "good_neurons = [x for x in range(0, nNeurons) if x not in nan_neurons]\n",
    "\n",
    "nNeurons = len(good_neurons) # redefine number of neurons\n",
    "nTrials = len(preStart) # number of trials\n",
    "\n",
    "# iterate through to determine duration between preStart and postDecision for each trial\n",
    "window_length = []\n",
    "for i in range(0,nTrials):\n",
    "    window_length.append((postDecision.iloc[i] - preStart.iloc[i]))"
   ]
  },
  {
   "cell_type": "code",
   "execution_count": 68,
   "metadata": {},
   "outputs": [
    {
     "data": {
      "text/plain": [
       "(<matplotlib.image.AxesImage at 0x12ce1e390>,\n",
       " <matplotlib.colorbar.Colorbar at 0x12cdca710>)"
      ]
     },
     "execution_count": 68,
     "metadata": {},
     "output_type": "execute_result"
    },
    {
     "data": {
      "image/png": "[encoded data removed]",
      "text/plain": [
       "<matplotlib.figure.Figure at 0x12c3c9c50>"
      ]
     },
     "metadata": {},
     "output_type": "display_data"
    }
   ],
   "source": [
    "# find longest window between preStart and postDecision and set as length for all trials\n",
    "max_window = int(np.max(window_length))\n",
    "#max_window = int(np.ceil(np.mean(window_length)+3*std_window_length))\n",
    "aligned_start = np.zeros((nTrials, max_window, nNeurons))\n",
    "\n",
    "#long_trials = np.where(np.array(window_length)>(np.mean(window_length)+3*std_window_length))[0]\n",
    "#good_trials = [x for x in range(0, nTrials) if x not in long_trials]\n",
    "\n",
    "# create array containing segment of raw trace for each neuron for each trial \n",
    "# aligned to center poke\n",
    "count = 0\n",
    "for iNeuron in good_neurons:\n",
    "    for iTrial in range(0,nTrials):\n",
    "        aligned_start[iTrial,0:max_window, count] = neuron.C_raw[iNeuron, int(preStart.iloc[iTrial]):(int(preStart.iloc[iTrial])+max_window)]\n",
    "    count = count+1\n",
    "\n",
    "#plt.imshow(aligned_start[:,:,0]), plt.colorbar()\n",
    "\n",
    "# take mean of fluorescent traces across all trials for each neuron, then normalize for each neuron\n",
    "mean_across_trials = np.mean(aligned_start, axis=0)\n",
    "norm_mean = np.zeros((mean_across_trials.shape[0], nNeurons))\n",
    "\n",
    "for iNeuron in range(0,nNeurons):\n",
    "    norm_mean[:,iNeuron] = (mean_across_trials[:,iNeuron] - np.min(mean_across_trials, axis=0)[iNeuron])/(np.max(mean_across_trials,axis=0)[iNeuron] - np.min(mean_across_trials,axis=0)[iNeuron])\n",
    "    #norm_mean = [x-np.min(mean_across_trials, axis=0) for x in mean_across_trials]/(np.max(mean_across_trials,axis=0) - np.min(mean_across_trials,axis=0))\n",
    "plt.imshow(np.transpose(mean_across_trials)), plt.colorbar()"
   ]
  },
  {
   "cell_type": "code",
   "execution_count": 69,
   "metadata": {},
   "outputs": [
    {
     "data": {
      "text/plain": [
       "<matplotlib.lines.Line2D at 0x12cd36f60>"
      ]
     },
     "execution_count": 69,
     "metadata": {},
     "output_type": "execute_result"
    },
    {
     "data": {
      "image/png": "[encoded data removed]",
      "text/plain": [
       "<matplotlib.figure.Figure at 0x12cd36f98>"
      ]
     },
     "metadata": {},
     "output_type": "display_data"
    }
   ],
   "source": [
    "# heatmap for all neurons (each neuron represented by avg fluorescence across all trials)\n",
    "plt.imshow(np.transpose(norm_mean)), plt.colorbar()\n",
    "plt.axvline(x=10, color='k', linestyle = '--', linewidth=.9)"
   ]
  },
  {
   "cell_type": "code",
   "execution_count": 70,
   "metadata": {},
   "outputs": [
    {
     "data": {
      "text/plain": [
       "<matplotlib.lines.Line2D at 0x12ce00e80>"
      ]
     },
     "execution_count": 70,
     "metadata": {},
     "output_type": "execute_result"
    },
    {
     "data": {
      "image/png": "[encoded data removed]",
      "text/plain": [
       "<matplotlib.figure.Figure at 0x12cf06ef0>"
      ]
     },
     "metadata": {},
     "output_type": "display_data"
    }
   ],
   "source": [
    "# heatmap for calcium traces of a single neuron across all trials\n",
    "# white dashed line for center poke time\n",
    "# white vertical lines for decision poke time -- need something more subtle\n",
    "sample_neuron = 10\n",
    "\n",
    "plt.figure(figsize=(8,8))\n",
    "plt.imshow(aligned_start[:,:,sample_neuron])\n",
    "plt.axvline(x=10, color='white', linestyle = '--', linewidth=.9)\n",
    "#plt.scatter(trialDecision-preStart,range(0,nTrials), color='white', marker = '|', s=8)"
   ]
  },
  {
   "cell_type": "markdown",
   "metadata": {},
   "source": [
    "## aligned to decision poke"
   ]
  },
  {
   "cell_type": "code",
   "execution_count": 71,
   "metadata": {},
   "outputs": [
    {
     "data": {
      "text/plain": [
       "(<matplotlib.image.AxesImage at 0x12d15cc50>,\n",
       " <matplotlib.colorbar.Colorbar at 0x119169160>)"
      ]
     },
     "execution_count": 71,
     "metadata": {},
     "output_type": "execute_result"
    },
    {
     "data": {
      "image/png": "[encoded data removed]",
      "text/plain": [
       "<matplotlib.figure.Figure at 0x12c556fd0>"
      ]
     },
     "metadata": {},
     "output_type": "display_data"
    }
   ],
   "source": [
    "aligned_decision = np.zeros((nTrials, max_window, nNeurons))\n",
    "\n",
    "# create array containing segment of raw trace for each neuron for each trial \n",
    "# aligned to decision poke\n",
    "count = 0\n",
    "for iNeuron in good_neurons:\n",
    "    for iTrial in range(0,nTrials):\n",
    "        aligned_decision[iTrial,0:max_window, count] = neuron.C_raw[iNeuron, int(postDecision.iloc[iTrial])-max_window:(int(postDecision.iloc[iTrial]))]\n",
    "    count = count+1\n",
    "\n",
    "#plt.imshow(aligned_start[:,:,0]), plt.colorbar()\n",
    "\n",
    "# take mean of fluorescent traces across all trials for each neuron, then normalize for each neuron\n",
    "mean_decision = np.mean(aligned_decision, axis=0)\n",
    "norm_mean_decision = np.zeros((mean_decision.shape[0], nNeurons))\n",
    "\n",
    "for iNeuron in range(0,nNeurons):\n",
    "    norm_mean_decision[:,iNeuron] = (mean_decision[:,iNeuron] - np.min(mean_decision, axis=0)[iNeuron])/(np.max(mean_decision,axis=0)[iNeuron] - np.min(mean_across_trials,axis=0)[iNeuron])\n",
    "plt.imshow(np.transpose(mean_decision)), plt.colorbar()"
   ]
  },
  {
   "cell_type": "code",
   "execution_count": 72,
   "metadata": {},
   "outputs": [
    {
     "data": {
      "text/plain": [
       "<matplotlib.lines.Line2D at 0x12d0453c8>"
      ]
     },
     "execution_count": 72,
     "metadata": {},
     "output_type": "execute_result"
    },
    {
     "data": {
      "image/png": "[encoded data removed]",
      "text/plain": [
       "<matplotlib.figure.Figure at 0x12d045320>"
      ]
     },
     "metadata": {},
     "output_type": "display_data"
    }
   ],
   "source": [
    "# heatmap for all neurons (each neuron represented by avg fluorescence across all trials)\n",
    "plt.imshow(np.transpose(norm_mean_decision)), plt.colorbar()\n",
    "plt.axvline(x=max_window-10, color='k', linestyle = '--', linewidth=.9)"
   ]
  },
  {
   "cell_type": "markdown",
   "metadata": {},
   "source": [
    "## plot the difference between two different conditions"
   ]
  },
  {
   "cell_type": "code",
   "execution_count": 64,
   "metadata": {},
   "outputs": [],
   "source": [
    "# save array of normalized means for one condition before re-running on second condition\n",
    "norm_mean_1 = norm_mean\n",
    "norm_mean_decision_1 = norm_mean_decision"
   ]
  },
  {
   "cell_type": "code",
   "execution_count": 73,
   "metadata": {},
   "outputs": [
    {
     "data": {
      "text/plain": [
       "<matplotlib.lines.Line2D at 0x11930fd68>"
      ]
     },
     "execution_count": 73,
     "metadata": {},
     "output_type": "execute_result"
    },
    {
     "data": {
      "image/png": "[encoded data removed]",
      "text/plain": [
       "<matplotlib.figure.Figure at 0x11930f748>"
      ]
     },
     "metadata": {},
     "output_type": "display_data"
    }
   ],
   "source": [
    "# plot the difference between two conditions for aligned to center poke\n",
    "plt.imshow(np.transpose(norm_mean_1[0:43] - norm_mean[0:43])), plt.colorbar()\n",
    "plt.axvline(x=10, color='white', linestyle = '--', linewidth=.9)"
   ]
  },
  {
   "cell_type": "code",
   "execution_count": 74,
   "metadata": {},
   "outputs": [
    {
     "data": {
      "text/plain": [
       "<matplotlib.lines.Line2D at 0x119461e48>"
      ]
     },
     "execution_count": 74,
     "metadata": {},
     "output_type": "execute_result"
    },
    {
     "data": {
      "image/png": "[encoded data removed]",
      "text/plain": [
       "<matplotlib.figure.Figure at 0x1194615c0>"
      ]
     },
     "metadata": {},
     "output_type": "display_data"
    }
   ],
   "source": [
    "# plot the difference between two conditions for aligned to decision poke\n",
    "plt.imshow(np.transpose(norm_mean_decision_1[0:43] - norm_mean_decision[0:43])), plt.colorbar()\n",
    "plt.axvline(x=max_window-10, color='white', linestyle = '--', linewidth=.9)"
   ]
  }
 ],
 "metadata": {
  "anaconda-cloud": {},
  "kernelspec": {
   "display_name": "Python 3",
   "language": "python",
   "name": "python3"
  },
  "language_info": {
   "codemirror_mode": {
    "name": "ipython",
    "version": 3
   },
   "file_extension": ".py",
   "mimetype": "text/x-python",
   "name": "python",
   "nbconvert_exporter": "python",
   "pygments_lexer": "ipython3",
   "version": "3.5.3"
  }
 },
 "nbformat": 4,
 "nbformat_minor": 1
}
