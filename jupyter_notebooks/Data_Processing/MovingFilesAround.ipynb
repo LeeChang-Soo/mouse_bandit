{
 "cells": [
  {
   "cell_type": "markdown",
   "metadata": {},
   "source": [
    "# Move files around"
   ]
  },
  {
   "cell_type": "code",
   "execution_count": 7,
   "metadata": {
    "collapsed": true
   },
   "outputs": [],
   "source": [
    "import sys\n",
    "import os\n",
    "import shutil"
   ]
  },
  {
   "cell_type": "markdown",
   "metadata": {},
   "source": [
    "## First deal with BehaviorData_Round2\n",
    "\n",
    "Note - had to run first in the Round2 dir, and then in the WITHOUT_GUI dir"
   ]
  },
  {
   "cell_type": "code",
   "execution_count": 10,
   "metadata": {
    "collapsed": false
   },
   "outputs": [],
   "source": [
    "root_dir = '/Users/shayneufeld/Dropbox/Shay_BehaviorFiles/BehaviorData_Round2/WITHOUT_GUI'\n",
    "dist_dir = '/Users/shayneufeld/GitHub/mouse_bandit/data/trial_data'\n",
    "\n",
    "for date_folder in os.listdir(root_dir):\n",
    "    \n",
    "    date_folder_dir = os.path.join(root_dir,date_folder)\n",
    "    \n",
    "    for mouse_folder in os.listdir(date_folder_dir):\n",
    "        \n",
    "        for file in os.listdir(os.path.join(date_folder_dir,mouse_folder)):\n",
    "            \n",
    "                if not file[0] == '.':\n",
    "                    file_name = os.path.join(date_folder_dir,mouse_folder,file)\n",
    "                    \n",
    "                    if 'trials.csv' in file:\n",
    "                         shutil.copy(file_name, dist_dir)\n",
    "                else:\n",
    "                    raise ValueError('In a hidden folder')"
   ]
  },
  {
   "cell_type": "markdown",
   "metadata": {},
   "source": [
    "## Now deal with 'supermice'"
   ]
  },
  {
   "cell_type": "code",
   "execution_count": 13,
   "metadata": {
    "collapsed": false
   },
   "outputs": [],
   "source": [
    "root_dir = '/Users/shayneufeld/Dropbox/Shay_BehaviorFiles/BehaviorData_supermice'\n",
    "dist_dir = '/Users/shayneufeld/GitHub/mouse_bandit/data/trial_data'\n",
    "\n",
    "for mouse_folder in os.listdir(root_dir):\n",
    "    \n",
    "    if not mouse_folder[0] == '.':\n",
    "        mouse_folder_dir = os.path.join(root_dir,mouse_folder)\n",
    "\n",
    "        for date_folder in os.listdir(mouse_folder_dir):\n",
    "\n",
    "            for file in os.listdir(os.path.join(mouse_folder_dir,date_folder)):\n",
    "\n",
    "                    if not file[0] == '.':\n",
    "                        file_name = os.path.join(mouse_folder_dir,date_folder,file)\n",
    "\n",
    "                        if 'trials.csv' in file:\n",
    "                             shutil.copy(file_name, dist_dir)\n",
    "                    else:\n",
    "                        raise ValueError('In a hidden folder')"
   ]
  },
  {
   "cell_type": "code",
   "execution_count": 4,
   "metadata": {
    "collapsed": false
   },
   "outputs": [
    {
     "data": {
      "text/plain": [
       "['j07222016',\n",
       " 'J07252016',\n",
       " 'j07262016',\n",
       " 'j07272016',\n",
       " 'j07282016',\n",
       " 'j07292016',\n",
       " 'j08012016',\n",
       " 'j08022016',\n",
       " 'j08032016',\n",
       " 'j08042016',\n",
       " 'j08052016',\n",
       " 'j08082016',\n",
       " 'j08092016',\n",
       " 'j08102016',\n",
       " 'j08112016',\n",
       " 'j08122016',\n",
       " 'j08152016',\n",
       " 'j08162016',\n",
       " 'j08192016',\n",
       " 'j08232016',\n",
       " 'j08242016',\n",
       " 'j08252016',\n",
       " 'j08262016',\n",
       " 'WITHOUT_GUI']"
      ]
     },
     "execution_count": 4,
     "metadata": {},
     "output_type": "execute_result"
    }
   ],
   "source": [
    "os.listdir(root_dir)"
   ]
  }
 ],
 "metadata": {
  "anaconda-cloud": {},
  "kernelspec": {
   "display_name": "Python [conda env:CaGRIN]",
   "language": "python",
   "name": "conda-env-CaGRIN-py"
  },
  "language_info": {
   "codemirror_mode": {
    "name": "ipython",
    "version": 3
   },
   "file_extension": ".py",
   "mimetype": "text/x-python",
   "name": "python",
   "nbconvert_exporter": "python",
   "pygments_lexer": "ipython3",
   "version": "3.5.2"
  }
 },
 "nbformat": 4,
 "nbformat_minor": 1
}
