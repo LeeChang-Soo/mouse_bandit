{
 "cells": [
  {
   "cell_type": "markdown",
   "metadata": {},
   "source": [
    "# Move files around"
   ]
  },
  {
   "cell_type": "code",
   "execution_count": 2,
   "metadata": {
    "collapsed": true
   },
   "outputs": [],
   "source": [
    "import sys\n",
    "import os\n",
    "import shutil"
   ]
  },
  {
   "cell_type": "markdown",
   "metadata": {},
   "source": [
    "# Most recent - 'datesfirst' data"
   ]
  },
  {
   "cell_type": "code",
   "execution_count": 7,
   "metadata": {
    "collapsed": false
   },
   "outputs": [
    {
     "name": "stdout",
     "output_type": "stream",
     "text": [
      "03302017\n",
      "K10\n"
     ]
    }
   ],
   "source": [
    "root_dir = '/Users/shayneufeld/Dropbox/Shay_BehaviorFiles/BehaviorData/datesfirst'\n",
    "dist_dir = '/Users/shayneufeld/GitHub/mouse_bandit/data/trial_data'\n",
    "\n",
    "for date_folder in os.listdir(root_dir):\n",
    "    \n",
    "    if not date_folder[0] == '.':\n",
    "        date_folder_dir = os.path.join(root_dir,date_folder)\n",
    "\n",
    "        for mouse_folder in os.listdir(date_folder_dir):\n",
    "            if not mouse_folder[0] == '.':\n",
    "                for file in os.listdir(os.path.join(date_folder_dir,mouse_folder)):\n",
    "\n",
    "                        if not file[0] == '.':\n",
    "                            file_name = os.path.join(date_folder_dir,mouse_folder,file)\n",
    "\n",
    "                            if 'trials.csv' in file:\n",
    "                                 shutil.copy(file_name, dist_dir)\n",
    "                        else:\n",
    "                            print(date_folder)\n",
    "                            print(mouse_folder)\n",
    "                            #raise ValueError('In a hidden folder')"
   ]
  },
  {
   "cell_type": "code",
   "execution_count": 11,
   "metadata": {
    "collapsed": false
   },
   "outputs": [
    {
     "data": {
      "text/plain": [
       "'.DS_Store'"
      ]
     },
     "execution_count": 11,
     "metadata": {},
     "output_type": "execute_result"
    }
   ],
   "source": [
    "mouse_folder"
   ]
  },
  {
   "cell_type": "markdown",
   "metadata": {},
   "source": [
    "## First deal with BehaviorData_Round2\n",
    "\n",
    "Note - had to run first in the Round2 dir, and then in the WITHOUT_GUI dir"
   ]
  },
  {
   "cell_type": "code",
   "execution_count": 10,
   "metadata": {
    "collapsed": false
   },
   "outputs": [],
   "source": [
    "root_dir = '/Users/shayneufeld/Dropbox/Shay_BehaviorFiles/BehaviorData_Round2/WITHOUT_GUI'\n",
    "dist_dir = '/Users/shayneufeld/GitHub/mouse_bandit/data/trial_data'\n",
    "\n",
    "for date_folder in os.listdir(root_dir):\n",
    "    \n",
    "    date_folder_dir = os.path.join(root_dir,date_folder)\n",
    "    \n",
    "    for mouse_folder in os.listdir(date_folder_dir):\n",
    "        \n",
    "        for file in os.listdir(os.path.join(date_folder_dir,mouse_folder)):\n",
    "            \n",
    "                if not file[0] == '.':\n",
    "                    file_name = os.path.join(date_folder_dir,mouse_folder,file)\n",
    "                    \n",
    "                    if 'trials.csv' in file:\n",
    "                         shutil.copy(file_name, dist_dir)\n",
    "                else:\n",
    "                    raise ValueError('In a hidden folder')"
   ]
  },
  {
   "cell_type": "markdown",
   "metadata": {},
   "source": [
    "## Now deal with 'supermice'"
   ]
  },
  {
   "cell_type": "code",
   "execution_count": 15,
   "metadata": {
    "collapsed": false
   },
   "outputs": [],
   "source": [
    "root_dir = '/Users/shayneufeld/Dropbox/Shay_BehaviorFiles/BehaviorData'\n",
    "dist_dir = '/Users/shayneufeld/GitHub/mouse_bandit/data/trial_data'\n",
    "\n",
    "for mouse_folder in os.listdir(root_dir):\n",
    "    \n",
    "    if not mouse_folder[0] == '.':\n",
    "        mouse_folder_dir = os.path.join(root_dir,mouse_folder)\n",
    "\n",
    "        for date_folder in os.listdir(mouse_folder_dir):\n",
    "            if not date_folder[0] == '.':\n",
    "                \n",
    "                for file in os.listdir(os.path.join(mouse_folder_dir,date_folder)):\n",
    "\n",
    "                        if not file[0] == '.':\n",
    "                            file_name = os.path.join(mouse_folder_dir,date_folder,file)\n",
    "\n",
    "                            if 'trials.csv' in file:\n",
    "                                 shutil.copy(file_name, dist_dir)\n",
    "                        #else:\n",
    "                        #    raise ValueError('In a hidden folder')"
   ]
  },
  {
   "cell_type": "code",
   "execution_count": 14,
   "metadata": {
    "collapsed": false
   },
   "outputs": [
    {
     "data": {
      "text/plain": [
       "'/Users/shayneufeld/Dropbox/Shay_BehaviorFiles/BehaviorData/K5'"
      ]
     },
     "execution_count": 14,
     "metadata": {},
     "output_type": "execute_result"
    }
   ],
   "source": [
    "mouse_folder_dir"
   ]
  },
  {
   "cell_type": "code",
   "execution_count": 11,
   "metadata": {
    "collapsed": false
   },
   "outputs": [
    {
     "ename": "NotADirectoryError",
     "evalue": "[Errno 20] Not a directory: '/Users/shayneufeld/Dropbox/Shay_BehaviorFiles/BehaviorData/K5/k5_log_20170118_1.csv'",
     "output_type": "error",
     "traceback": [
      "\u001b[0;31m---------------------------------------------------------------------------\u001b[0m",
      "\u001b[0;31mNotADirectoryError\u001b[0m                        Traceback (most recent call last)",
      "\u001b[0;32m<ipython-input-11-2e96e3c48fe6>\u001b[0m in \u001b[0;36m<module>\u001b[0;34m()\u001b[0m\n\u001b[0;32m----> 1\u001b[0;31m \u001b[0mos\u001b[0m\u001b[0;34m.\u001b[0m\u001b[0mlistdir\u001b[0m\u001b[0;34m(\u001b[0m\u001b[0mos\u001b[0m\u001b[0;34m.\u001b[0m\u001b[0mpath\u001b[0m\u001b[0;34m.\u001b[0m\u001b[0mjoin\u001b[0m\u001b[0;34m(\u001b[0m\u001b[0mmouse_folder_dir\u001b[0m\u001b[0;34m,\u001b[0m\u001b[0mdate_folder\u001b[0m\u001b[0;34m)\u001b[0m\u001b[0;34m)\u001b[0m\u001b[0;34m\u001b[0m\u001b[0m\n\u001b[0m",
      "\u001b[0;31mNotADirectoryError\u001b[0m: [Errno 20] Not a directory: '/Users/shayneufeld/Dropbox/Shay_BehaviorFiles/BehaviorData/K5/k5_log_20170118_1.csv'"
     ]
    }
   ],
   "source": [
    "os.listdir(os.path.join(mouse_folder_dir,date_folder))"
   ]
  },
  {
   "cell_type": "code",
   "execution_count": 10,
   "metadata": {
    "collapsed": false,
    "scrolled": true
   },
   "outputs": [
    {
     "data": {
      "text/plain": [
       "'stats16-Dec-2016.mat'"
      ]
     },
     "execution_count": 10,
     "metadata": {},
     "output_type": "execute_result"
    }
   ],
   "source": [
    "file"
   ]
  },
  {
   "cell_type": "code",
   "execution_count": 4,
   "metadata": {
    "collapsed": false,
    "scrolled": true
   },
   "outputs": [
    {
     "data": {
      "text/plain": [
       "['j07222016',\n",
       " 'J07252016',\n",
       " 'j07262016',\n",
       " 'j07272016',\n",
       " 'j07282016',\n",
       " 'j07292016',\n",
       " 'j08012016',\n",
       " 'j08022016',\n",
       " 'j08032016',\n",
       " 'j08042016',\n",
       " 'j08052016',\n",
       " 'j08082016',\n",
       " 'j08092016',\n",
       " 'j08102016',\n",
       " 'j08112016',\n",
       " 'j08122016',\n",
       " 'j08152016',\n",
       " 'j08162016',\n",
       " 'j08192016',\n",
       " 'j08232016',\n",
       " 'j08242016',\n",
       " 'j08252016',\n",
       " 'j08262016',\n",
       " 'WITHOUT_GUI']"
      ]
     },
     "execution_count": 4,
     "metadata": {},
     "output_type": "execute_result"
    }
   ],
   "source": [
    "os.listdir(root_dir)"
   ]
  }
 ],
 "metadata": {
  "anaconda-cloud": {},
  "kernelspec": {
   "display_name": "Python [conda env:CaGRIN]",
   "language": "python",
   "name": "conda-env-CaGRIN-py"
  },
  "language_info": {
   "codemirror_mode": {
    "name": "ipython",
    "version": 3
   },
   "file_extension": ".py",
   "mimetype": "text/x-python",
   "name": "python",
   "nbconvert_exporter": "python",
   "pygments_lexer": "ipython3",
   "version": "3.5.2"
  }
 },
 "nbformat": 4,
 "nbformat_minor": 1
}
