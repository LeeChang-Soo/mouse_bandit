{
 "cells": [
  {
   "cell_type": "code",
   "execution_count": 3,
   "metadata": {
    "collapsed": true
   },
   "outputs": [],
   "source": [
    "import sys\n",
    "sys.path.append('/Users/celiaberon/GitHub/mouse_bandit/data_preprocessing_code')\n",
    "sys.path.append('/Users/celiaberon/GitHub/mouse_bandit')\n",
    "import support_functions as sf\n",
    "import numpy as np\n",
    "import pandas as pd\n",
    "import scipy as sp\n",
    "import scipy.io as scio\n",
    "import bandit_preprocessing as bp\n",
    "import sys\n",
    "import os\n",
    "import matplotlib.pyplot as plt\n",
    "import calcium_codes as cc\n",
    "import hmm_on_behavior as hob\n",
    "%matplotlib inline"
   ]
  },
  {
   "cell_type": "code",
   "execution_count": 4,
   "metadata": {
    "collapsed": true
   },
   "outputs": [],
   "source": [
    "record = pd.read_csv('/Users/celiaberon/GitHub/mouse_bandit/session_record.csv',index_col=0)\n",
    "record_path = '/Users/celiaberon/GitHub/mouse_bandit/session_record.csv'\n",
    "ca_data = scio.loadmat('/Volumes/Neurobio/MICROSCOPE/Celia/data/k7_03142017_test/neuron_results.mat',squeeze_me = True, struct_as_record = False)\n",
    "#ca_data = scio.loadmat('/Volumes/Neurobio/MICROSCOPE/Celia/data/q43_03202017_bandit_8020/q43_03202017_neuron_master.mat',squeeze_me = True, struct_as_record = False)\n",
    "neuron = ca_data['neuron_results'] "
   ]
  },
  {
   "cell_type": "code",
   "execution_count": 3,
   "metadata": {
    "scrolled": true
   },
   "outputs": [
    {
     "data": {
      "text/html": [
       "<div>\n",
       "<style>\n",
       "    .dataframe thead tr:only-child th {\n",
       "        text-align: right;\n",
       "    }\n",
       "\n",
       "    .dataframe thead th {\n",
       "        text-align: left;\n",
       "    }\n",
       "\n",
       "    .dataframe tbody tr th {\n",
       "        vertical-align: top;\n",
       "    }\n",
       "</style>\n",
       "<table border=\"1\" class=\"dataframe\">\n",
       "  <thead>\n",
       "    <tr style=\"text-align: right;\">\n",
       "      <th></th>\n",
       "      <th>Session ID</th>\n",
       "      <th>Mouse ID</th>\n",
       "      <th>Date</th>\n",
       "      <th>Phase</th>\n",
       "      <th>Left Reward Prob</th>\n",
       "      <th>Right Reward Prob</th>\n",
       "      <th>Block Range Min</th>\n",
       "      <th>Block Range Max</th>\n",
       "      <th>No. Trials</th>\n",
       "      <th>No. Blocks</th>\n",
       "      <th>No. Rewards</th>\n",
       "      <th>p(high Port)</th>\n",
       "      <th>Decision Window Duration</th>\n",
       "      <th>Min Inter-trial-interval</th>\n",
       "      <th>Left Solenoid Duration</th>\n",
       "      <th>Right Solenoid Duration</th>\n",
       "    </tr>\n",
       "  </thead>\n",
       "  <tbody>\n",
       "    <tr>\n",
       "      <th>0</th>\n",
       "      <td>11012016_K1</td>\n",
       "      <td>K1</td>\n",
       "      <td>2016-11-01 00:00:00</td>\n",
       "      <td>1.0</td>\n",
       "      <td>1.0</td>\n",
       "      <td>1.0</td>\n",
       "      <td>1000.0</td>\n",
       "      <td>1000.0</td>\n",
       "      <td>8.0</td>\n",
       "      <td>0.0</td>\n",
       "      <td>8.0</td>\n",
       "      <td>0.0</td>\n",
       "      <td>10.0</td>\n",
       "      <td>0.5</td>\n",
       "      <td>35.0</td>\n",
       "      <td>35.0</td>\n",
       "    </tr>\n",
       "    <tr>\n",
       "      <th>1</th>\n",
       "      <td>11022016_K1</td>\n",
       "      <td>K1</td>\n",
       "      <td>2016-11-02 00:00:00</td>\n",
       "      <td>1.0</td>\n",
       "      <td>1.0</td>\n",
       "      <td>1.0</td>\n",
       "      <td>1000.0</td>\n",
       "      <td>1000.0</td>\n",
       "      <td>85.0</td>\n",
       "      <td>0.0</td>\n",
       "      <td>85.0</td>\n",
       "      <td>0.0</td>\n",
       "      <td>10.0</td>\n",
       "      <td>0.5</td>\n",
       "      <td>35.0</td>\n",
       "      <td>35.0</td>\n",
       "    </tr>\n",
       "  </tbody>\n",
       "</table>\n",
       "</div>"
      ],
      "text/plain": [
       "    Session ID Mouse ID                 Date  Phase  Left Reward Prob  \\\n",
       "0  11012016_K1       K1  2016-11-01 00:00:00    1.0               1.0   \n",
       "1  11022016_K1       K1  2016-11-02 00:00:00    1.0               1.0   \n",
       "\n",
       "   Right Reward Prob  Block Range Min  Block Range Max  No. Trials  \\\n",
       "0                1.0           1000.0           1000.0         8.0   \n",
       "1                1.0           1000.0           1000.0        85.0   \n",
       "\n",
       "   No. Blocks  No. Rewards  p(high Port)  Decision Window Duration  \\\n",
       "0         0.0          8.0           0.0                      10.0   \n",
       "1         0.0         85.0           0.0                      10.0   \n",
       "\n",
       "   Min Inter-trial-interval  Left Solenoid Duration  Right Solenoid Duration  \n",
       "0                       0.5                    35.0                     35.0  \n",
       "1                       0.5                    35.0                     35.0  "
      ]
     },
     "execution_count": 3,
     "metadata": {},
     "output_type": "execute_result"
    }
   ],
   "source": [
    "record.head(2)"
   ]
  },
  {
   "cell_type": "code",
   "execution_count": 5,
   "metadata": {},
   "outputs": [
    {
     "data": {
      "text/html": [
       "<div>\n",
       "<style>\n",
       "    .dataframe thead tr:only-child th {\n",
       "        text-align: right;\n",
       "    }\n",
       "\n",
       "    .dataframe thead th {\n",
       "        text-align: left;\n",
       "    }\n",
       "\n",
       "    .dataframe tbody tr th {\n",
       "        vertical-align: top;\n",
       "    }\n",
       "</style>\n",
       "<table border=\"1\" class=\"dataframe\">\n",
       "  <thead>\n",
       "    <tr style=\"text-align: right;\">\n",
       "      <th></th>\n",
       "      <th>Session ID</th>\n",
       "      <th>Mouse ID</th>\n",
       "      <th>Date</th>\n",
       "      <th>Phase</th>\n",
       "      <th>Left Reward Prob</th>\n",
       "      <th>Right Reward Prob</th>\n",
       "      <th>Block Range Min</th>\n",
       "      <th>Block Range Max</th>\n",
       "      <th>No. Trials</th>\n",
       "      <th>No. Blocks</th>\n",
       "      <th>No. Rewards</th>\n",
       "      <th>p(high Port)</th>\n",
       "      <th>Decision Window Duration</th>\n",
       "      <th>Min Inter-trial-interval</th>\n",
       "      <th>Left Solenoid Duration</th>\n",
       "      <th>Right Solenoid Duration</th>\n",
       "    </tr>\n",
       "  </thead>\n",
       "  <tbody>\n",
       "    <tr>\n",
       "      <th>676</th>\n",
       "      <td>03142017_K7</td>\n",
       "      <td>K7</td>\n",
       "      <td>2017-03-14 00:00:00</td>\n",
       "      <td>2.0</td>\n",
       "      <td>0.8</td>\n",
       "      <td>0.2</td>\n",
       "      <td>50.0</td>\n",
       "      <td>50.0</td>\n",
       "      <td>519.0</td>\n",
       "      <td>7.0</td>\n",
       "      <td>378.0</td>\n",
       "      <td>0.89</td>\n",
       "      <td>2.0</td>\n",
       "      <td>1.0</td>\n",
       "      <td>35.0</td>\n",
       "      <td>35.0</td>\n",
       "    </tr>\n",
       "  </tbody>\n",
       "</table>\n",
       "</div>"
      ],
      "text/plain": [
       "      Session ID Mouse ID                 Date  Phase  Left Reward Prob  \\\n",
       "676  03142017_K7       K7  2017-03-14 00:00:00    2.0               0.8   \n",
       "\n",
       "     Right Reward Prob  Block Range Min  Block Range Max  No. Trials  \\\n",
       "676                0.2             50.0             50.0       519.0   \n",
       "\n",
       "     No. Blocks  No. Rewards  p(high Port)  Decision Window Duration  \\\n",
       "676         7.0        378.0          0.89                       2.0   \n",
       "\n",
       "     Min Inter-trial-interval  Left Solenoid Duration  Right Solenoid Duration  \n",
       "676                       1.0                    35.0                     35.0  "
      ]
     },
     "execution_count": 5,
     "metadata": {},
     "output_type": "execute_result"
    }
   ],
   "source": [
    "session_name  = '03142017_K7'\n",
    "mouse_id = 'K7'\n",
    "\n",
    "record[record['Session ID'] == session_name]"
   ]
  },
  {
   "cell_type": "markdown",
   "metadata": {},
   "source": [
    "# Extract data from specific session"
   ]
  },
  {
   "cell_type": "code",
   "execution_count": 6,
   "metadata": {
    "collapsed": true
   },
   "outputs": [],
   "source": [
    "'''\n",
    "load in trial data\n",
    "'''\n",
    "columns = ['Elapsed Time (s)','Since last trial (s)','Trial Duration (s)','Port Poked',\n",
    "           'Right Reward Prob','Left Reward Prob','Reward Given',\n",
    "          'center_frame','decision_frame']\n",
    "\n",
    "root_dir = '/Users/celiaberon/GitHub/mouse_bandit/data/trial_data'\n",
    "\n",
    "full_name = session_name + '_trials.csv'\n",
    "\n",
    "path_name = os.path.join(root_dir,full_name)\n",
    "\n",
    "trial_df = pd.read_csv(path_name,names=columns)"
   ]
  },
  {
   "cell_type": "code",
   "execution_count": 7,
   "metadata": {},
   "outputs": [
    {
     "data": {
      "text/html": [
       "<div>\n",
       "<style>\n",
       "    .dataframe thead tr:only-child th {\n",
       "        text-align: right;\n",
       "    }\n",
       "\n",
       "    .dataframe thead th {\n",
       "        text-align: left;\n",
       "    }\n",
       "\n",
       "    .dataframe tbody tr th {\n",
       "        vertical-align: top;\n",
       "    }\n",
       "</style>\n",
       "<table border=\"1\" class=\"dataframe\">\n",
       "  <thead>\n",
       "    <tr style=\"text-align: right;\">\n",
       "      <th></th>\n",
       "      <th>Elapsed Time (s)</th>\n",
       "      <th>Since last trial (s)</th>\n",
       "      <th>Trial Duration (s)</th>\n",
       "      <th>Port Poked</th>\n",
       "      <th>Right Reward Prob</th>\n",
       "      <th>Left Reward Prob</th>\n",
       "      <th>Reward Given</th>\n",
       "      <th>center_frame</th>\n",
       "      <th>decision_frame</th>\n",
       "    </tr>\n",
       "  </thead>\n",
       "  <tbody>\n",
       "    <tr>\n",
       "      <th>0</th>\n",
       "      <td>13.361</td>\n",
       "      <td>1.547</td>\n",
       "      <td>0.384</td>\n",
       "      <td>2</td>\n",
       "      <td>0.8</td>\n",
       "      <td>0.2</td>\n",
       "      <td>1</td>\n",
       "      <td>636</td>\n",
       "      <td>647</td>\n",
       "    </tr>\n",
       "    <tr>\n",
       "      <th>1</th>\n",
       "      <td>15.477</td>\n",
       "      <td>1.719</td>\n",
       "      <td>0.397</td>\n",
       "      <td>2</td>\n",
       "      <td>0.8</td>\n",
       "      <td>0.2</td>\n",
       "      <td>0</td>\n",
       "      <td>699</td>\n",
       "      <td>711</td>\n",
       "    </tr>\n",
       "    <tr>\n",
       "      <th>2</th>\n",
       "      <td>39.428</td>\n",
       "      <td>23.441</td>\n",
       "      <td>0.510</td>\n",
       "      <td>2</td>\n",
       "      <td>0.8</td>\n",
       "      <td>0.2</td>\n",
       "      <td>0</td>\n",
       "      <td>1414</td>\n",
       "      <td>1429</td>\n",
       "    </tr>\n",
       "    <tr>\n",
       "      <th>3</th>\n",
       "      <td>48.378</td>\n",
       "      <td>1.807</td>\n",
       "      <td>0.418</td>\n",
       "      <td>2</td>\n",
       "      <td>0.8</td>\n",
       "      <td>0.2</td>\n",
       "      <td>0</td>\n",
       "      <td>1685</td>\n",
       "      <td>1697</td>\n",
       "    </tr>\n",
       "    <tr>\n",
       "      <th>4</th>\n",
       "      <td>55.984</td>\n",
       "      <td>7.032</td>\n",
       "      <td>0.574</td>\n",
       "      <td>2</td>\n",
       "      <td>0.8</td>\n",
       "      <td>0.2</td>\n",
       "      <td>0</td>\n",
       "      <td>1908</td>\n",
       "      <td>1926</td>\n",
       "    </tr>\n",
       "  </tbody>\n",
       "</table>\n",
       "</div>"
      ],
      "text/plain": [
       "   Elapsed Time (s)  Since last trial (s)  Trial Duration (s)  Port Poked  \\\n",
       "0            13.361                 1.547               0.384           2   \n",
       "1            15.477                 1.719               0.397           2   \n",
       "2            39.428                23.441               0.510           2   \n",
       "3            48.378                 1.807               0.418           2   \n",
       "4            55.984                 7.032               0.574           2   \n",
       "\n",
       "   Right Reward Prob  Left Reward Prob  Reward Given  center_frame  \\\n",
       "0                0.8               0.2             1           636   \n",
       "1                0.8               0.2             0           699   \n",
       "2                0.8               0.2             0          1414   \n",
       "3                0.8               0.2             0          1685   \n",
       "4                0.8               0.2             0          1908   \n",
       "\n",
       "   decision_frame  \n",
       "0             647  \n",
       "1             711  \n",
       "2            1429  \n",
       "3            1697  \n",
       "4            1926  "
      ]
     },
     "execution_count": 7,
     "metadata": {},
     "output_type": "execute_result"
    }
   ],
   "source": [
    "trial_df.head(5)"
   ]
  },
  {
   "cell_type": "code",
   "execution_count": 9,
   "metadata": {},
   "outputs": [],
   "source": [
    "beliefs = hob.predictBeliefBySession(record_path, session_name, mouse_id)\n",
    "\n",
    "columns.append('belief')\n",
    "trial_df['belief'] = beliefs"
   ]
  },
  {
   "cell_type": "code",
   "execution_count": 15,
   "metadata": {},
   "outputs": [
    {
     "data": {
      "text/html": [
       "<div>\n",
       "<style>\n",
       "    .dataframe thead tr:only-child th {\n",
       "        text-align: right;\n",
       "    }\n",
       "\n",
       "    .dataframe thead th {\n",
       "        text-align: left;\n",
       "    }\n",
       "\n",
       "    .dataframe tbody tr th {\n",
       "        vertical-align: top;\n",
       "    }\n",
       "</style>\n",
       "<table border=\"1\" class=\"dataframe\">\n",
       "  <thead>\n",
       "    <tr style=\"text-align: right;\">\n",
       "      <th></th>\n",
       "      <th>Elapsed Time (s)</th>\n",
       "      <th>Since last trial (s)</th>\n",
       "      <th>Trial Duration (s)</th>\n",
       "      <th>Port Poked</th>\n",
       "      <th>Right Reward Prob</th>\n",
       "      <th>Left Reward Prob</th>\n",
       "      <th>Reward Given</th>\n",
       "      <th>center_frame</th>\n",
       "      <th>decision_frame</th>\n",
       "      <th>belief</th>\n",
       "    </tr>\n",
       "  </thead>\n",
       "  <tbody>\n",
       "    <tr>\n",
       "      <th>0</th>\n",
       "      <td>13.361</td>\n",
       "      <td>1.547</td>\n",
       "      <td>0.384</td>\n",
       "      <td>2</td>\n",
       "      <td>0.8</td>\n",
       "      <td>0.2</td>\n",
       "      <td>1</td>\n",
       "      <td>636</td>\n",
       "      <td>647</td>\n",
       "      <td>0.500000</td>\n",
       "    </tr>\n",
       "    <tr>\n",
       "      <th>1</th>\n",
       "      <td>15.477</td>\n",
       "      <td>1.719</td>\n",
       "      <td>0.397</td>\n",
       "      <td>2</td>\n",
       "      <td>0.8</td>\n",
       "      <td>0.2</td>\n",
       "      <td>0</td>\n",
       "      <td>699</td>\n",
       "      <td>711</td>\n",
       "      <td>0.790000</td>\n",
       "    </tr>\n",
       "    <tr>\n",
       "      <th>2</th>\n",
       "      <td>39.428</td>\n",
       "      <td>23.441</td>\n",
       "      <td>0.510</td>\n",
       "      <td>2</td>\n",
       "      <td>0.8</td>\n",
       "      <td>0.2</td>\n",
       "      <td>0</td>\n",
       "      <td>1414</td>\n",
       "      <td>1429</td>\n",
       "      <td>0.514826</td>\n",
       "    </tr>\n",
       "    <tr>\n",
       "      <th>3</th>\n",
       "      <td>48.378</td>\n",
       "      <td>1.807</td>\n",
       "      <td>0.418</td>\n",
       "      <td>2</td>\n",
       "      <td>0.8</td>\n",
       "      <td>0.2</td>\n",
       "      <td>0</td>\n",
       "      <td>1685</td>\n",
       "      <td>1697</td>\n",
       "      <td>0.799012</td>\n",
       "    </tr>\n",
       "    <tr>\n",
       "      <th>4</th>\n",
       "      <td>55.984</td>\n",
       "      <td>7.032</td>\n",
       "      <td>0.574</td>\n",
       "      <td>2</td>\n",
       "      <td>0.8</td>\n",
       "      <td>0.2</td>\n",
       "      <td>0</td>\n",
       "      <td>1908</td>\n",
       "      <td>1926</td>\n",
       "      <td>0.926140</td>\n",
       "    </tr>\n",
       "  </tbody>\n",
       "</table>\n",
       "</div>"
      ],
      "text/plain": [
       "   Elapsed Time (s)  Since last trial (s)  Trial Duration (s)  Port Poked  \\\n",
       "0            13.361                 1.547               0.384           2   \n",
       "1            15.477                 1.719               0.397           2   \n",
       "2            39.428                23.441               0.510           2   \n",
       "3            48.378                 1.807               0.418           2   \n",
       "4            55.984                 7.032               0.574           2   \n",
       "\n",
       "   Right Reward Prob  Left Reward Prob  Reward Given  center_frame  \\\n",
       "0                0.8               0.2             1           636   \n",
       "1                0.8               0.2             0           699   \n",
       "2                0.8               0.2             0          1414   \n",
       "3                0.8               0.2             0          1685   \n",
       "4                0.8               0.2             0          1908   \n",
       "\n",
       "   decision_frame    belief  \n",
       "0             647  0.500000  \n",
       "1             711  0.790000  \n",
       "2            1429  0.514826  \n",
       "3            1697  0.799012  \n",
       "4            1926  0.926140  "
      ]
     },
     "execution_count": 15,
     "metadata": {},
     "output_type": "execute_result"
    }
   ],
   "source": [
    "trial_df.head(5)"
   ]
  },
  {
   "cell_type": "code",
   "execution_count": 18,
   "metadata": {},
   "outputs": [
    {
     "data": {
      "text/plain": [
       "[<matplotlib.lines.Line2D at 0x10ebcdc50>]"
      ]
     },
     "execution_count": 18,
     "metadata": {},
     "output_type": "execute_result"
    },
    {
     "data": {
      "image/png": "[encoded data removed]",
      "text/plain": [
       "<matplotlib.figure.Figure at 0x10ebcd198>"
      ]
     },
     "metadata": {},
     "output_type": "display_data"
    }
   ],
   "source": [
    "plt.plot(trial_df['Right Reward Prob'])\n",
    "plt.plot(trial_df['belief'])"
   ]
  },
  {
   "cell_type": "markdown",
   "metadata": {},
   "source": [
    "# convert to feature matrix"
   ]
  },
  {
   "cell_type": "code",
   "execution_count": 7,
   "metadata": {},
   "outputs": [],
   "source": [
    "feature_matrix = bp.create_feature_matrix(trial_df,10,mouse_id,session_name,feature_names='Default',imaging=True)"
   ]
  },
  {
   "cell_type": "code",
   "execution_count": 13,
   "metadata": {},
   "outputs": [],
   "source": [
    "beliefs_feat_mat = hob.predictBeliefFeatureMat(feature_matrix, 10)"
   ]
  },
  {
   "cell_type": "code",
   "execution_count": 14,
   "metadata": {
    "scrolled": true
   },
   "outputs": [
    {
     "ename": "KeyError",
     "evalue": "0",
     "output_type": "error",
     "traceback": [
      "\u001b[0;31m---------------------------------------------------------------------------\u001b[0m",
      "\u001b[0;31mKeyError\u001b[0m                                  Traceback (most recent call last)",
      "\u001b[0;32m/anaconda/envs/python3/lib/python3.5/site-packages/pandas/core/indexes/base.py\u001b[0m in \u001b[0;36mget_loc\u001b[0;34m(self, key, method, tolerance)\u001b[0m\n\u001b[1;32m   2392\u001b[0m             \u001b[0;32mtry\u001b[0m\u001b[0;34m:\u001b[0m\u001b[0;34m\u001b[0m\u001b[0m\n\u001b[0;32m-> 2393\u001b[0;31m                 \u001b[0;32mreturn\u001b[0m \u001b[0mself\u001b[0m\u001b[0;34m.\u001b[0m\u001b[0m_engine\u001b[0m\u001b[0;34m.\u001b[0m\u001b[0mget_loc\u001b[0m\u001b[0;34m(\u001b[0m\u001b[0mkey\u001b[0m\u001b[0;34m)\u001b[0m\u001b[0;34m\u001b[0m\u001b[0m\n\u001b[0m\u001b[1;32m   2394\u001b[0m             \u001b[0;32mexcept\u001b[0m \u001b[0mKeyError\u001b[0m\u001b[0;34m:\u001b[0m\u001b[0;34m\u001b[0m\u001b[0m\n",
      "\u001b[0;32mpandas/_libs/index.pyx\u001b[0m in \u001b[0;36mpandas._libs.index.IndexEngine.get_loc (pandas/_libs/index.c:5239)\u001b[0;34m()\u001b[0m\n",
      "\u001b[0;32mpandas/_libs/index.pyx\u001b[0m in \u001b[0;36mpandas._libs.index.IndexEngine.get_loc (pandas/_libs/index.c:5085)\u001b[0;34m()\u001b[0m\n",
      "\u001b[0;32mpandas/_libs/hashtable_class_helper.pxi\u001b[0m in \u001b[0;36mpandas._libs.hashtable.PyObjectHashTable.get_item (pandas/_libs/hashtable.c:20405)\u001b[0;34m()\u001b[0m\n",
      "\u001b[0;32mpandas/_libs/hashtable_class_helper.pxi\u001b[0m in \u001b[0;36mpandas._libs.hashtable.PyObjectHashTable.get_item (pandas/_libs/hashtable.c:20359)\u001b[0;34m()\u001b[0m\n",
      "\u001b[0;31mKeyError\u001b[0m: 0",
      "\nDuring handling of the above exception, another exception occurred:\n",
      "\u001b[0;31mKeyError\u001b[0m                                  Traceback (most recent call last)",
      "\u001b[0;32m<ipython-input-14-24639a519c47>\u001b[0m in \u001b[0;36m<module>\u001b[0;34m()\u001b[0m\n\u001b[0;32m----> 1\u001b[0;31m \u001b[0mfeature_matrix\u001b[0m\u001b[0;34m[\u001b[0m\u001b[0;36m0\u001b[0m\u001b[0;34m]\u001b[0m\u001b[0;34m\u001b[0m\u001b[0m\n\u001b[0m",
      "\u001b[0;32m/anaconda/envs/python3/lib/python3.5/site-packages/pandas/core/frame.py\u001b[0m in \u001b[0;36m__getitem__\u001b[0;34m(self, key)\u001b[0m\n\u001b[1;32m   2060\u001b[0m             \u001b[0;32mreturn\u001b[0m \u001b[0mself\u001b[0m\u001b[0;34m.\u001b[0m\u001b[0m_getitem_multilevel\u001b[0m\u001b[0;34m(\u001b[0m\u001b[0mkey\u001b[0m\u001b[0;34m)\u001b[0m\u001b[0;34m\u001b[0m\u001b[0m\n\u001b[1;32m   2061\u001b[0m         \u001b[0;32melse\u001b[0m\u001b[0;34m:\u001b[0m\u001b[0;34m\u001b[0m\u001b[0m\n\u001b[0;32m-> 2062\u001b[0;31m             \u001b[0;32mreturn\u001b[0m \u001b[0mself\u001b[0m\u001b[0;34m.\u001b[0m\u001b[0m_getitem_column\u001b[0m\u001b[0;34m(\u001b[0m\u001b[0mkey\u001b[0m\u001b[0;34m)\u001b[0m\u001b[0;34m\u001b[0m\u001b[0m\n\u001b[0m\u001b[1;32m   2063\u001b[0m \u001b[0;34m\u001b[0m\u001b[0m\n\u001b[1;32m   2064\u001b[0m     \u001b[0;32mdef\u001b[0m \u001b[0m_getitem_column\u001b[0m\u001b[0;34m(\u001b[0m\u001b[0mself\u001b[0m\u001b[0;34m,\u001b[0m \u001b[0mkey\u001b[0m\u001b[0;34m)\u001b[0m\u001b[0;34m:\u001b[0m\u001b[0;34m\u001b[0m\u001b[0m\n",
      "\u001b[0;32m/anaconda/envs/python3/lib/python3.5/site-packages/pandas/core/frame.py\u001b[0m in \u001b[0;36m_getitem_column\u001b[0;34m(self, key)\u001b[0m\n\u001b[1;32m   2067\u001b[0m         \u001b[0;31m# get column\u001b[0m\u001b[0;34m\u001b[0m\u001b[0;34m\u001b[0m\u001b[0m\n\u001b[1;32m   2068\u001b[0m         \u001b[0;32mif\u001b[0m \u001b[0mself\u001b[0m\u001b[0;34m.\u001b[0m\u001b[0mcolumns\u001b[0m\u001b[0;34m.\u001b[0m\u001b[0mis_unique\u001b[0m\u001b[0;34m:\u001b[0m\u001b[0;34m\u001b[0m\u001b[0m\n\u001b[0;32m-> 2069\u001b[0;31m             \u001b[0;32mreturn\u001b[0m \u001b[0mself\u001b[0m\u001b[0;34m.\u001b[0m\u001b[0m_get_item_cache\u001b[0m\u001b[0;34m(\u001b[0m\u001b[0mkey\u001b[0m\u001b[0;34m)\u001b[0m\u001b[0;34m\u001b[0m\u001b[0m\n\u001b[0m\u001b[1;32m   2070\u001b[0m \u001b[0;34m\u001b[0m\u001b[0m\n\u001b[1;32m   2071\u001b[0m         \u001b[0;31m# duplicate columns & possible reduce dimensionality\u001b[0m\u001b[0;34m\u001b[0m\u001b[0;34m\u001b[0m\u001b[0m\n",
      "\u001b[0;32m/anaconda/envs/python3/lib/python3.5/site-packages/pandas/core/generic.py\u001b[0m in \u001b[0;36m_get_item_cache\u001b[0;34m(self, item)\u001b[0m\n\u001b[1;32m   1532\u001b[0m         \u001b[0mres\u001b[0m \u001b[0;34m=\u001b[0m \u001b[0mcache\u001b[0m\u001b[0;34m.\u001b[0m\u001b[0mget\u001b[0m\u001b[0;34m(\u001b[0m\u001b[0mitem\u001b[0m\u001b[0;34m)\u001b[0m\u001b[0;34m\u001b[0m\u001b[0m\n\u001b[1;32m   1533\u001b[0m         \u001b[0;32mif\u001b[0m \u001b[0mres\u001b[0m \u001b[0;32mis\u001b[0m \u001b[0;32mNone\u001b[0m\u001b[0;34m:\u001b[0m\u001b[0;34m\u001b[0m\u001b[0m\n\u001b[0;32m-> 1534\u001b[0;31m             \u001b[0mvalues\u001b[0m \u001b[0;34m=\u001b[0m \u001b[0mself\u001b[0m\u001b[0;34m.\u001b[0m\u001b[0m_data\u001b[0m\u001b[0;34m.\u001b[0m\u001b[0mget\u001b[0m\u001b[0;34m(\u001b[0m\u001b[0mitem\u001b[0m\u001b[0;34m)\u001b[0m\u001b[0;34m\u001b[0m\u001b[0m\n\u001b[0m\u001b[1;32m   1535\u001b[0m             \u001b[0mres\u001b[0m \u001b[0;34m=\u001b[0m \u001b[0mself\u001b[0m\u001b[0;34m.\u001b[0m\u001b[0m_box_item_values\u001b[0m\u001b[0;34m(\u001b[0m\u001b[0mitem\u001b[0m\u001b[0;34m,\u001b[0m \u001b[0mvalues\u001b[0m\u001b[0;34m)\u001b[0m\u001b[0;34m\u001b[0m\u001b[0m\n\u001b[1;32m   1536\u001b[0m             \u001b[0mcache\u001b[0m\u001b[0;34m[\u001b[0m\u001b[0mitem\u001b[0m\u001b[0;34m]\u001b[0m \u001b[0;34m=\u001b[0m \u001b[0mres\u001b[0m\u001b[0;34m\u001b[0m\u001b[0m\n",
      "\u001b[0;32m/anaconda/envs/python3/lib/python3.5/site-packages/pandas/core/internals.py\u001b[0m in \u001b[0;36mget\u001b[0;34m(self, item, fastpath)\u001b[0m\n\u001b[1;32m   3588\u001b[0m \u001b[0;34m\u001b[0m\u001b[0m\n\u001b[1;32m   3589\u001b[0m             \u001b[0;32mif\u001b[0m \u001b[0;32mnot\u001b[0m \u001b[0misnull\u001b[0m\u001b[0;34m(\u001b[0m\u001b[0mitem\u001b[0m\u001b[0;34m)\u001b[0m\u001b[0;34m:\u001b[0m\u001b[0;34m\u001b[0m\u001b[0m\n\u001b[0;32m-> 3590\u001b[0;31m                 \u001b[0mloc\u001b[0m \u001b[0;34m=\u001b[0m \u001b[0mself\u001b[0m\u001b[0;34m.\u001b[0m\u001b[0mitems\u001b[0m\u001b[0;34m.\u001b[0m\u001b[0mget_loc\u001b[0m\u001b[0;34m(\u001b[0m\u001b[0mitem\u001b[0m\u001b[0;34m)\u001b[0m\u001b[0;34m\u001b[0m\u001b[0m\n\u001b[0m\u001b[1;32m   3591\u001b[0m             \u001b[0;32melse\u001b[0m\u001b[0;34m:\u001b[0m\u001b[0;34m\u001b[0m\u001b[0m\n\u001b[1;32m   3592\u001b[0m                 \u001b[0mindexer\u001b[0m \u001b[0;34m=\u001b[0m \u001b[0mnp\u001b[0m\u001b[0;34m.\u001b[0m\u001b[0marange\u001b[0m\u001b[0;34m(\u001b[0m\u001b[0mlen\u001b[0m\u001b[0;34m(\u001b[0m\u001b[0mself\u001b[0m\u001b[0;34m.\u001b[0m\u001b[0mitems\u001b[0m\u001b[0;34m)\u001b[0m\u001b[0;34m)\u001b[0m\u001b[0;34m[\u001b[0m\u001b[0misnull\u001b[0m\u001b[0;34m(\u001b[0m\u001b[0mself\u001b[0m\u001b[0;34m.\u001b[0m\u001b[0mitems\u001b[0m\u001b[0;34m)\u001b[0m\u001b[0;34m]\u001b[0m\u001b[0;34m\u001b[0m\u001b[0m\n",
      "\u001b[0;32m/anaconda/envs/python3/lib/python3.5/site-packages/pandas/core/indexes/base.py\u001b[0m in \u001b[0;36mget_loc\u001b[0;34m(self, key, method, tolerance)\u001b[0m\n\u001b[1;32m   2393\u001b[0m                 \u001b[0;32mreturn\u001b[0m \u001b[0mself\u001b[0m\u001b[0;34m.\u001b[0m\u001b[0m_engine\u001b[0m\u001b[0;34m.\u001b[0m\u001b[0mget_loc\u001b[0m\u001b[0;34m(\u001b[0m\u001b[0mkey\u001b[0m\u001b[0;34m)\u001b[0m\u001b[0;34m\u001b[0m\u001b[0m\n\u001b[1;32m   2394\u001b[0m             \u001b[0;32mexcept\u001b[0m \u001b[0mKeyError\u001b[0m\u001b[0;34m:\u001b[0m\u001b[0;34m\u001b[0m\u001b[0m\n\u001b[0;32m-> 2395\u001b[0;31m                 \u001b[0;32mreturn\u001b[0m \u001b[0mself\u001b[0m\u001b[0;34m.\u001b[0m\u001b[0m_engine\u001b[0m\u001b[0;34m.\u001b[0m\u001b[0mget_loc\u001b[0m\u001b[0;34m(\u001b[0m\u001b[0mself\u001b[0m\u001b[0;34m.\u001b[0m\u001b[0m_maybe_cast_indexer\u001b[0m\u001b[0;34m(\u001b[0m\u001b[0mkey\u001b[0m\u001b[0;34m)\u001b[0m\u001b[0;34m)\u001b[0m\u001b[0;34m\u001b[0m\u001b[0m\n\u001b[0m\u001b[1;32m   2396\u001b[0m \u001b[0;34m\u001b[0m\u001b[0m\n\u001b[1;32m   2397\u001b[0m         \u001b[0mindexer\u001b[0m \u001b[0;34m=\u001b[0m \u001b[0mself\u001b[0m\u001b[0;34m.\u001b[0m\u001b[0mget_indexer\u001b[0m\u001b[0;34m(\u001b[0m\u001b[0;34m[\u001b[0m\u001b[0mkey\u001b[0m\u001b[0;34m]\u001b[0m\u001b[0;34m,\u001b[0m \u001b[0mmethod\u001b[0m\u001b[0;34m=\u001b[0m\u001b[0mmethod\u001b[0m\u001b[0;34m,\u001b[0m \u001b[0mtolerance\u001b[0m\u001b[0;34m=\u001b[0m\u001b[0mtolerance\u001b[0m\u001b[0;34m)\u001b[0m\u001b[0;34m\u001b[0m\u001b[0m\n",
      "\u001b[0;32mpandas/_libs/index.pyx\u001b[0m in \u001b[0;36mpandas._libs.index.IndexEngine.get_loc (pandas/_libs/index.c:5239)\u001b[0;34m()\u001b[0m\n",
      "\u001b[0;32mpandas/_libs/index.pyx\u001b[0m in \u001b[0;36mpandas._libs.index.IndexEngine.get_loc (pandas/_libs/index.c:5085)\u001b[0;34m()\u001b[0m\n",
      "\u001b[0;32mpandas/_libs/hashtable_class_helper.pxi\u001b[0m in \u001b[0;36mpandas._libs.hashtable.PyObjectHashTable.get_item (pandas/_libs/hashtable.c:20405)\u001b[0;34m()\u001b[0m\n",
      "\u001b[0;32mpandas/_libs/hashtable_class_helper.pxi\u001b[0m in \u001b[0;36mpandas._libs.hashtable.PyObjectHashTable.get_item (pandas/_libs/hashtable.c:20359)\u001b[0;34m()\u001b[0m\n",
      "\u001b[0;31mKeyError\u001b[0m: 0"
     ]
    }
   ],
   "source": [
    "feature_matrix[0]"
   ]
  },
  {
   "cell_type": "code",
   "execution_count": 12,
   "metadata": {
    "scrolled": false
   },
   "outputs": [
    {
     "data": {
      "text/html": [
       "<div>\n",
       "<style>\n",
       "    .dataframe thead tr:only-child th {\n",
       "        text-align: right;\n",
       "    }\n",
       "\n",
       "    .dataframe thead th {\n",
       "        text-align: left;\n",
       "    }\n",
       "\n",
       "    .dataframe tbody tr th {\n",
       "        vertical-align: top;\n",
       "    }\n",
       "</style>\n",
       "<table border=\"1\" class=\"dataframe\">\n",
       "  <thead>\n",
       "    <tr style=\"text-align: right;\">\n",
       "      <th></th>\n",
       "      <th>10_Port</th>\n",
       "      <th>10_ITI</th>\n",
       "      <th>10_trialDuration</th>\n",
       "    </tr>\n",
       "  </thead>\n",
       "  <tbody>\n",
       "    <tr>\n",
       "      <th>0</th>\n",
       "      <td>1.0</td>\n",
       "      <td>1.547</td>\n",
       "      <td>0.384</td>\n",
       "    </tr>\n",
       "    <tr>\n",
       "      <th>1</th>\n",
       "      <td>1.0</td>\n",
       "      <td>1.719</td>\n",
       "      <td>0.397</td>\n",
       "    </tr>\n",
       "    <tr>\n",
       "      <th>2</th>\n",
       "      <td>1.0</td>\n",
       "      <td>23.441</td>\n",
       "      <td>0.510</td>\n",
       "    </tr>\n",
       "    <tr>\n",
       "      <th>3</th>\n",
       "      <td>1.0</td>\n",
       "      <td>1.807</td>\n",
       "      <td>0.418</td>\n",
       "    </tr>\n",
       "    <tr>\n",
       "      <th>4</th>\n",
       "      <td>1.0</td>\n",
       "      <td>7.032</td>\n",
       "      <td>0.574</td>\n",
       "    </tr>\n",
       "  </tbody>\n",
       "</table>\n",
       "</div>"
      ],
      "text/plain": [
       "   10_Port  10_ITI  10_trialDuration\n",
       "0      1.0   1.547             0.384\n",
       "1      1.0   1.719             0.397\n",
       "2      1.0  23.441             0.510\n",
       "3      1.0   1.807             0.418\n",
       "4      1.0   7.032             0.574"
      ]
     },
     "execution_count": 12,
     "metadata": {},
     "output_type": "execute_result"
    }
   ],
   "source": [
    "feature_matrix[['10_Port','10_ITI','10_trialDuration']].head(5)"
   ]
  },
  {
   "cell_type": "markdown",
   "metadata": {},
   "source": [
    "## function to get frames based on one or two conditions\n",
    "    First define function so it can take multiple conditions (Reward, Switch, etc.) and the desired identity (0,1)\n",
    "    May just want to make function for each number of conditions desired\n"
   ]
  },
  {
   "cell_type": "code",
   "execution_count": 13,
   "metadata": {
    "collapsed": true
   },
   "outputs": [],
   "source": [
    "def extract_frames(df, cond1_name, cond1=False, cond2_name=False, cond2=False, frame_type='decision_frame'):\n",
    "    if type(cond2_name)==str:\n",
    "        frames = (df[((df[cond1_name] == cond1) \n",
    "                    & (df[cond2_name] == cond2))][frame_type])\n",
    "        return frames\n",
    "    else:\n",
    "        frames =(df[(df[cond1_name] == cond1)][frame_type])\n",
    "        return frames"
   ]
  },
  {
   "cell_type": "markdown",
   "metadata": {},
   "source": [
    "### Set the parameters to input into extract_frames function\n",
    "    The rest of the notebook is set up for a comparison between 2 different states of a condition (a and b), so define those here"
   ]
  },
  {
   "cell_type": "code",
   "execution_count": 14,
   "metadata": {
    "collapsed": true
   },
   "outputs": [],
   "source": [
    "cond1_name = 'Switch'\n",
    "cond1_a = 0\n",
    "cond1_b = 1\n",
    "cond2_name = 'Decision'\n",
    "cond2_a = 0\n",
    "cond2_b = 1\n",
    "\n",
    "conditions_1 = [cond1_a, cond1_b]\n"
   ]
  },
  {
   "cell_type": "markdown",
   "metadata": {},
   "source": [
    "### Extract the frames for the specified conditions and create arrays containing frames for beginning and end of window of interest\n",
    "    Currently set up so window spans from 10 frames before center poke to 10 frames after decision poke"
   ]
  },
  {
   "cell_type": "code",
   "execution_count": 15,
   "metadata": {
    "collapsed": true
   },
   "outputs": [],
   "source": [
    "extension = 30\n",
    "\n",
    "frames_center_1a = extract_frames(feature_matrix, cond1_name, cond1_a, cond2_name, cond2_a, 'center_frame')\n",
    "frames_decision_1a = extract_frames(feature_matrix, cond1_name, cond1_a, cond2_name, cond2_a, 'decision_frame')\n",
    "\n",
    "frames_center_1b = extract_frames(feature_matrix, cond1_name, cond1_b, cond2_name, cond2_a, 'center_frame')\n",
    "frames_decision_1b = extract_frames(feature_matrix, cond1_name, cond1_b, cond2_name, cond2_a, 'decision_frame')\n",
    "\n",
    "start_stop_times_1a = [[frames_center_1a - extension], [frames_decision_1a + extension]] # start 10 frames before center poke\n",
    "start_stop_times_1b = [[frames_center_1b - extension], [frames_decision_1b + extension]] # start 10 frames before center poke\n"
   ]
  },
  {
   "cell_type": "code",
   "execution_count": 16,
   "metadata": {
    "collapsed": true
   },
   "outputs": [],
   "source": [
    "frames_center_2a = extract_frames(feature_matrix, cond1_name, cond1_a, cond2_name, cond2_b, 'center_frame')\n",
    "frames_decision_2a = extract_frames(feature_matrix, cond1_name, cond1_a, cond2_name, cond2_b, 'decision_frame')\n",
    "\n",
    "frames_center_2b = extract_frames(feature_matrix, cond1_name, cond1_b, cond2_name, cond2_b, 'center_frame')\n",
    "frames_decision_2b = extract_frames(feature_matrix, cond1_name, cond1_b, cond2_name, cond2_b, 'decision_frame')\n",
    "\n",
    "start_stop_times_2a = [[frames_center_2a - extension], [frames_decision_2a + extension]] # start 10 frames before center poke\n",
    "start_stop_times_2b = [[frames_center_2b - extension], [frames_decision_2b + extension]] # start 10 frames before center poke\n"
   ]
  },
  {
   "cell_type": "markdown",
   "metadata": {},
   "source": [
    "### Set up some other parameters to be used in the rest of the script\n",
    "    --nNeurons = number of neurons output by CNMF-e\n",
    "        Redefined as number of neurons after some initial processing:\n",
    "    --nan_neurons = any neurons containing NaNs in their calcium traces\n",
    "    --good_neurons = neurons not containing NaNs -- used to redefine nNeurons\n",
    "    --nTrials = [a,b] = number of trials in first condition, number in second condition\n",
    "    --window_lengths -- max_window = find window length (number of frames) required to capture center poke to decision poke for all trials (just take maximum length trial across all conditions)"
   ]
  },
  {
   "cell_type": "code",
   "execution_count": 17,
   "metadata": {
    "collapsed": true
   },
   "outputs": [],
   "source": [
    "#plt.plot(neuron.C_raw[0, preStart:trialDecision])\n",
    "nNeurons = neuron.C.shape[0]\n",
    "ca_data_path = '/Volumes/Neurobio/MICROSCOPE/Celia/data/k7_03142017_test/neuron_results.mat'\n",
    "events = cc.detectEvents(ca_data_path)\n",
    "neuron.C_raw = np.copy(events)\n",
    "\n",
    "# remove neurons that have NaNs\n",
    "nan_neurons = np.where(np.isnan(neuron.C_raw))[0]\n",
    "nan_neurons = np.unique(nan_neurons)\n",
    "good_neurons = [x for x in range(0, nNeurons) if x not in nan_neurons]\n",
    "\n",
    "nNeurons = len(good_neurons) # redefine number of neurons\n",
    "nTrials_1 = [len(start_stop_times_1a[0][0]), len(start_stop_times_1b[0][0])] # number of trials\n",
    "\n",
    "# iterate through to determine duration between preStart and postDecision for each trial\n",
    "window_length_1a = []\n",
    "window_length_1b = []\n",
    "for i in range(0,nTrials_1[0]):\n",
    "    window_length_1a.append((start_stop_times_1a[1][0].iloc[i] - start_stop_times_1a[0][0].iloc[i]))\n",
    "for i in range(0,nTrials_1[1]):\n",
    "    window_length_1b.append((start_stop_times_1b[1][0].iloc[i] - start_stop_times_1b[0][0].iloc[i]))\n",
    "\n",
    "# find longest window between preStart and postDecision and set as length for all trials\n",
    "max_window_1 = int([max((max(window_length_1a), max(window_length_1b)))][0])\n"
   ]
  },
  {
   "cell_type": "code",
   "execution_count": 18,
   "metadata": {
    "collapsed": true
   },
   "outputs": [],
   "source": [
    "nTrials_2 = [len(start_stop_times_2a[0][0]), len(start_stop_times_2b[0][0])] # number of trials\n",
    "\n",
    "# iterate through to determine duration between preStart and postDecision for each trial\n",
    "window_length_2a = []\n",
    "window_length_2b = []\n",
    "for i in range(0,nTrials_2[0]):\n",
    "    window_length_2a.append((start_stop_times_2a[1][0].iloc[i] - start_stop_times_2a[0][0].iloc[i]))\n",
    "for i in range(0,nTrials_2[1]):\n",
    "    window_length_2b.append((start_stop_times_2b[1][0].iloc[i] - start_stop_times_2b[0][0].iloc[i]))\n",
    "\n",
    "# find longest window between preStart and postDecision and set as length for all trials\n",
    "max_window_2 = int([max((max(window_length_2a), max(window_length_2b)))][0])\n"
   ]
  },
  {
   "cell_type": "code",
   "execution_count": 19,
   "metadata": {},
   "outputs": [
    {
     "name": "stderr",
     "output_type": "stream",
     "text": [
      "/anaconda/envs/python3/lib/python3.5/site-packages/ipykernel_launcher.py:4: DeprecationWarning: numpy boolean subtract, the `-` operator, is deprecated, use the bitwise_xor, the `^` operator, or the logical_xor function instead.\n",
      "  after removing the cwd from sys.path.\n"
     ]
    },
    {
     "ename": "IndexError",
     "evalue": "index 71 is out of bounds for axis 0 with size 71",
     "output_type": "error",
     "traceback": [
      "\u001b[0;31m---------------------------------------------------------------------------\u001b[0m",
      "\u001b[0;31mIndexError\u001b[0m                                Traceback (most recent call last)",
      "\u001b[0;32m<ipython-input-19-a7c4c115a01d>\u001b[0m in \u001b[0;36m<module>\u001b[0;34m()\u001b[0m\n\u001b[1;32m      2\u001b[0m \u001b[0mi\u001b[0m \u001b[0;34m=\u001b[0m \u001b[0;36m0\u001b[0m\u001b[0;34m\u001b[0m\u001b[0m\n\u001b[1;32m      3\u001b[0m \u001b[0;32mfor\u001b[0m \u001b[0miNeuron\u001b[0m \u001b[0;32min\u001b[0m \u001b[0mgood_neurons\u001b[0m\u001b[0;34m:\u001b[0m\u001b[0;34m\u001b[0m\u001b[0m\n\u001b[0;32m----> 4\u001b[0;31m     \u001b[0mnorm_trace\u001b[0m\u001b[0;34m[\u001b[0m\u001b[0mi\u001b[0m\u001b[0;34m,\u001b[0m\u001b[0;34m:\u001b[0m\u001b[0;34m]\u001b[0m \u001b[0;34m=\u001b[0m \u001b[0;34m(\u001b[0m\u001b[0mneuron\u001b[0m\u001b[0;34m.\u001b[0m\u001b[0mC_raw\u001b[0m\u001b[0;34m[\u001b[0m\u001b[0miNeuron\u001b[0m\u001b[0;34m,\u001b[0m\u001b[0;34m:\u001b[0m\u001b[0;34m]\u001b[0m \u001b[0;34m-\u001b[0m \u001b[0mneuron\u001b[0m\u001b[0;34m.\u001b[0m\u001b[0mC_raw\u001b[0m\u001b[0;34m[\u001b[0m\u001b[0miNeuron\u001b[0m\u001b[0;34m,\u001b[0m\u001b[0;34m:\u001b[0m\u001b[0;34m]\u001b[0m\u001b[0;34m.\u001b[0m\u001b[0mmin\u001b[0m\u001b[0;34m(\u001b[0m\u001b[0;34m)\u001b[0m\u001b[0;34m)\u001b[0m \u001b[0;34m/\u001b[0m \u001b[0;34m(\u001b[0m\u001b[0mneuron\u001b[0m\u001b[0;34m.\u001b[0m\u001b[0mC_raw\u001b[0m\u001b[0;34m[\u001b[0m\u001b[0miNeuron\u001b[0m\u001b[0;34m,\u001b[0m\u001b[0;34m:\u001b[0m\u001b[0;34m]\u001b[0m\u001b[0;34m.\u001b[0m\u001b[0mmax\u001b[0m\u001b[0;34m(\u001b[0m\u001b[0;34m)\u001b[0m \u001b[0;34m-\u001b[0m \u001b[0mneuron\u001b[0m\u001b[0;34m.\u001b[0m\u001b[0mC_raw\u001b[0m\u001b[0;34m[\u001b[0m\u001b[0miNeuron\u001b[0m\u001b[0;34m,\u001b[0m\u001b[0;34m:\u001b[0m\u001b[0;34m]\u001b[0m\u001b[0;34m.\u001b[0m\u001b[0mmin\u001b[0m\u001b[0;34m(\u001b[0m\u001b[0;34m)\u001b[0m\u001b[0;34m)\u001b[0m\u001b[0;34m\u001b[0m\u001b[0m\n\u001b[0m\u001b[1;32m      5\u001b[0m     \u001b[0mi\u001b[0m\u001b[0;34m+=\u001b[0m\u001b[0;36m1\u001b[0m\u001b[0;34m\u001b[0m\u001b[0m\n",
      "\u001b[0;31mIndexError\u001b[0m: index 71 is out of bounds for axis 0 with size 71"
     ]
    }
   ],
   "source": [
    "norm_trace = np.zeros((len(good_neurons),neuron.C_raw.shape[1]))\n",
    "i = 0\n",
    "for iNeuron in good_neurons:\n",
    "    norm_trace[i,:] = (neuron.C_raw[iNeuron,:] - neuron.C_raw[iNeuron,:].min()) / (neuron.C_raw[iNeuron,:].max() - neuron.C_raw[iNeuron,:].min())\n",
    "    i+=1"
   ]
  },
  {
   "cell_type": "code",
   "execution_count": null,
   "metadata": {},
   "outputs": [],
   "source": [
    "plt.hist(norm_trace)"
   ]
  },
  {
   "cell_type": "code",
   "execution_count": null,
   "metadata": {
    "collapsed": true
   },
   "outputs": [],
   "source": [
    "#temp = [neuron.C_raw[x,:] - neuron.C_raw[x,:].min() for x in good_neurons]"
   ]
  },
  {
   "cell_type": "code",
   "execution_count": null,
   "metadata": {
    "collapsed": true
   },
   "outputs": [],
   "source": [
    "neuron.C_raw = norm_trace"
   ]
  },
  {
   "cell_type": "markdown",
   "metadata": {},
   "source": [
    "### Aligned to center poke\n",
    "    Pull out segements of calcium traces in designated window of frames. Calculate mean fluorescence for each neuron across all trials, and plot it. Normalize fluorescence for each neuron.\n",
    "    -- aligned_start = (number of trials x number frames x number of neurons x 2 (condition a and b)\n",
    "    -- mean_center_poke = mean fluorescence for each neuron across all trials aligned to center poke\n",
    "    -- norm_mean_center = normalized mean aligned to center poke"
   ]
  },
  {
   "cell_type": "code",
   "execution_count": null,
   "metadata": {
    "collapsed": true
   },
   "outputs": [],
   "source": [
    "start_stop_times_1 = [start_stop_times_1a, start_stop_times_1b]\n",
    "aligned_start_1 = np.zeros((np.max(nTrials_1), max_window_1, nNeurons, 2))\n",
    "mean_center_poke_1 = np.zeros((max_window_1, nNeurons, 2))\n",
    "norm_mean_center_1 = np.zeros((mean_center_poke_1.shape[0], nNeurons, 2))\n",
    "\n",
    "for i in [0,1]:\n",
    "\n",
    "    # create array containing segment of raw trace for each neuron for each trial \n",
    "    # aligned to center poke\n",
    "    count = 0\n",
    "    for iNeuron in range(len(good_neurons)):\n",
    "        for iTrial in range(0,nTrials_1[i]):\n",
    "            aligned_start_1[iTrial,:, count, i] = neuron.C_raw[iNeuron, int(start_stop_times_1[i][0][0].iloc[iTrial]):(int(start_stop_times_1[i][0][0].iloc[iTrial])+max_window_1)]\n",
    "        count = count+1\n",
    "\n",
    "    # take mean of fluorescent traces across all trials for each neuron, then normalize for each neuron\n",
    "    mean_center_poke_1[:,:,i]= np.mean(aligned_start_1[0:nTrials_1[i],:,:,i], axis=0)\n",
    "   "
   ]
  },
  {
   "cell_type": "code",
   "execution_count": null,
   "metadata": {},
   "outputs": [],
   "source": [
    "start_stop_times_2 = [start_stop_times_2a, start_stop_times_2b]\n",
    "aligned_start_2 = np.zeros((np.max(nTrials_2), max_window_2, nNeurons, 2))\n",
    "mean_center_poke_2 = np.zeros((max_window_2, nNeurons, 2))\n",
    "norm_mean_center_2 = np.zeros((mean_center_poke_2.shape[0], nNeurons, 2))\n",
    "\n",
    "for i in [0,1]:\n",
    "\n",
    "    # create array containing segment of raw trace for each neuron for each trial \n",
    "    # aligned to center poke\n",
    "    count = 0\n",
    "    for iNeuron in range(len(good_neurons)):\n",
    "        for iTrial in range(0,nTrials_2[i]):\n",
    "            aligned_start_2[iTrial,:, count, i] = neuron.C_raw[iNeuron, int(start_stop_times_2[i][0][0].iloc[iTrial]):(int(start_stop_times_2[i][0][0].iloc[iTrial])+max_window_2)]\n",
    "        count = count+1\n",
    "\n",
    "    # take mean of fluorescent traces across all trials for each neuron, then normalize for each neuron\n",
    "    mean_center_poke_2[:,:,i]= np.mean(aligned_start_2[0:nTrials_2[i],:,:,i], axis=0)\n",
    "    \n",
    "   "
   ]
  },
  {
   "cell_type": "code",
   "execution_count": null,
   "metadata": {
    "collapsed": true
   },
   "outputs": [],
   "source": []
  },
  {
   "cell_type": "markdown",
   "metadata": {},
   "source": [
    "normalize both along same scale"
   ]
  },
  {
   "cell_type": "code",
   "execution_count": null,
   "metadata": {
    "collapsed": true
   },
   "outputs": [],
   "source": [
    "agg_max = np.array([np.max(mean_center_poke_1,axis=0), np.max(mean_center_poke_2,axis=0)])\n",
    "agg_max = np.max(np.max(agg_max, axis = 2), axis=0)\n",
    "\n",
    "agg_min = np.array([np.min(mean_center_poke_1,axis=0), np.min(mean_center_poke_2,axis=0)])\n",
    "agg_min = np.min(np.min(agg_min, axis = 2), axis=0)\n",
    "\n",
    "for i in [0,1]:\n",
    "\n",
    "    for iNeuron in range(0,nNeurons):\n",
    "        norm_mean_center_1[:,iNeuron, i] = (mean_center_poke_1[:,iNeuron, i] - agg_min[iNeuron])/(agg_max[iNeuron] - agg_min[iNeuron])\n",
    "        \n",
    "    for iNeuron in range(0,nNeurons):\n",
    "        norm_mean_center_2[:,iNeuron, i] = (mean_center_poke_2[:,iNeuron, i] - agg_min[iNeuron])/(agg_max[iNeuron] - agg_min[iNeuron])\n",
    "    "
   ]
  },
  {
   "cell_type": "code",
   "execution_count": null,
   "metadata": {},
   "outputs": [],
   "source": [
    "for i in [0,1]:\n",
    "\n",
    "    plt.figure(figsize=(8,8))\n",
    "    plt.subplot(2,2,(2*i)+2-1)  \n",
    "    plt.imshow(np.transpose(mean_center_poke_1[:,:,i])), plt.colorbar()\n",
    "    plt.axvline(x=extension, color='k', linestyle = '--', linewidth=.9)\n",
    "    plt.xlabel('Frame (center poke at %s)' % extension)\n",
    "    plt.ylabel('Neuron ID')\n",
    "    plt.title(\"%s = %s\\n %s = %s\\nNum trials = %.0f\" % (cond1_name, conditions_1[i], cond2_name, cond2_a, nTrials_1[i])) \n",
    "    plt.axis('tight')\n",
    "    \n",
    "    plt.subplot(2,2,(2*i)+2)  \n",
    "    plt.imshow(np.transpose(mean_center_poke_2[:,:,i])), plt.colorbar()\n",
    "    plt.axvline(x=extension, color='k', linestyle = '--', linewidth=.9)\n",
    "    plt.xlabel('Frame (center poke at %s)' % extension)\n",
    "    plt.ylabel('Neuron ID')\n",
    "    plt.title(\"%s = %s\\n %s = %s\\nNum trials = %.0f\" % (cond1_name, conditions_1[i], cond2_name, cond2_b, nTrials_2[i])) \n",
    "    plt.axis('tight')\n",
    "    "
   ]
  },
  {
   "cell_type": "markdown",
   "metadata": {},
   "source": [
    "### Plot heatmap for normalized fluorescence mean traces"
   ]
  },
  {
   "cell_type": "code",
   "execution_count": null,
   "metadata": {},
   "outputs": [],
   "source": [
    "# heatmap for all neurons (each neuron represented by avg fluorescence across all trials)\n",
    "for i in [0,1]:\n",
    "    plt.figure(figsize=(8,8))\n",
    "    plt.subplot(2,2,(2*i)+2-1)  \n",
    "    plt.imshow(np.transpose(norm_mean_center_1[:,:,i])), plt.colorbar()\n",
    "    plt.axvline(x=extension, color='k', linestyle = '--', linewidth=.9)\n",
    "    plt.xlabel('Frame (center poke at %s)' % extension)\n",
    "    plt.ylabel('Neuron ID')\n",
    "    title = \"%s = %s\\n %s = %s\\nNum trials = %.0f\" % (cond1_name, conditions_1[i], cond2_name, cond2_a, nTrials_1[i])\n",
    "    plt.title(title)\n",
    "    plt.axis('tight')\n",
    "    \n",
    "    plt.subplot(2,2,(2*i)+2)  \n",
    "    plt.imshow(np.transpose(norm_mean_center_2[:,:,i])), plt.colorbar()\n",
    "    plt.axvline(x=extension, color='k', linestyle = '--', linewidth=.9)\n",
    "    plt.xlabel('Frame (center poke at %s)' % extension)\n",
    "    plt.ylabel('Neuron ID')\n",
    "    title = \"%s = %s\\n %s = %s\\nNum trials = %.0f\" % (cond1_name, conditions_1[i], cond2_name, cond2_b, nTrials_2[i])\n",
    "    plt.title(title)\n",
    "    plt.axis('tight')"
   ]
  },
  {
   "cell_type": "markdown",
   "metadata": {},
   "source": [
    "### heatmap for calcium traces of a single neuron across all trials\n",
    "    white dashed line for center poke time\n",
    "    white vertical lines for decision poke time -- need something more subtle"
   ]
  },
  {
   "cell_type": "code",
   "execution_count": null,
   "metadata": {},
   "outputs": [],
   "source": [
    "sample_neuron = 10\n",
    "\n",
    "plt.figure(figsize=(10,10))\n",
    "plt.imshow(aligned_start_1[0:nTrials_1[0],:,sample_neuron, 0])\n",
    "plt.axvline(x=extension, color='white', linestyle = '--', linewidth=.9)\n",
    "plt.ylabel('Trial Number')\n",
    "plt.xlabel('Frame (center poke at 10)')\n",
    "plt.scatter((frames_decision_1a)-(frames_center_1a)+extension,range(0,nTrials_1[0]), color='white', marker = '|', s=10)\n",
    "plt.title('%s = %s\\n%s = %s\\nNeuron ID = %s' % (cond1_name, conditions_1[0], cond2_name, cond2_a, sample_neuron))\n",
    "plt.axis('tight')\n"
   ]
  },
  {
   "cell_type": "markdown",
   "metadata": {},
   "source": [
    "## aligned to decision poke\n",
    "    Same process as for aligned to center poke\n",
    "    Need to confirm alignment is correct but is better than before"
   ]
  },
  {
   "cell_type": "code",
   "execution_count": null,
   "metadata": {},
   "outputs": [],
   "source": [
    "aligned_decision_1 = np.zeros((np.max(nTrials_1), max_window_1, nNeurons, 2))\n",
    "mean_decision_1 = np.zeros((max_window_1, nNeurons, 2))\n",
    "norm_mean_decision_1 = np.zeros((mean_decision_1.shape[0], nNeurons, 2))\n",
    "\n",
    "for i in [0,1]:\n",
    "\n",
    "    # create array containing segment of raw trace for each neuron for each trial \n",
    "    # aligned to decision poke\n",
    "    count = 0\n",
    "    for iNeuron in good_neurons:\n",
    "        for iTrial in range(0,nTrials_1[i]):\n",
    "            aligned_decision_1[iTrial,:, count, i] = neuron.C_raw[iNeuron, int(start_stop_times_1[i][1][0].iloc[iTrial])-max_window_1:(int(start_stop_times_1[i][1][0].iloc[iTrial]))]\n",
    "        count = count+1\n",
    "\n",
    "    # take mean of fluorescent traces across all trials for each neuron, then normalize for each neuron\n",
    "    mean_decision_1[:,:,i]= np.mean(aligned_decision_1[0:nTrials_1[i],:,:,i], axis=0)\n"
   ]
  },
  {
   "cell_type": "code",
   "execution_count": null,
   "metadata": {
    "collapsed": true
   },
   "outputs": [],
   "source": [
    "aligned_decision_2 = np.zeros((np.max(nTrials_2), max_window_2, nNeurons, 2))\n",
    "mean_decision_2 = np.zeros((max_window_2, nNeurons, 2))\n",
    "norm_mean_decision_2 = np.zeros((mean_decision_2.shape[0], nNeurons, 2))\n",
    "\n",
    "for i in [0,1]:\n",
    "\n",
    "    # create array containing segment of raw trace for each neuron for each trial \n",
    "    # aligned to decision poke\n",
    "    count = 0\n",
    "    for iNeuron in good_neurons:\n",
    "        for iTrial in range(0,nTrials_2[i]):\n",
    "            aligned_decision_2[iTrial,:, count, i] = neuron.C_raw[iNeuron, int(start_stop_times_2[i][1][0].iloc[iTrial])-max_window_2:(int(start_stop_times_2[i][1][0].iloc[iTrial]))]\n",
    "        count = count+1\n",
    "\n",
    "    # take mean of fluorescent traces across all trials for each neuron, then normalize for each neuron\n",
    "    mean_decision_2[:,:,i]= np.mean(aligned_decision_2[0:nTrials_2[i],:,:,i], axis=0)\n"
   ]
  },
  {
   "cell_type": "markdown",
   "metadata": {},
   "source": [
    "normalized all along the same scale"
   ]
  },
  {
   "cell_type": "code",
   "execution_count": null,
   "metadata": {
    "collapsed": true
   },
   "outputs": [],
   "source": [
    "for i in [0,1]:\n",
    "    plt.figure(figsize=(8,8))\n",
    "    plt.subplot(2,2,(2*i)+2-1)  \n",
    "    plt.imshow(np.transpose(mean_decision_1[:,:,i])), plt.colorbar()\n",
    "    plt.axvline(x=max_window_1-extension, color='k', linestyle = '--', linewidth=.9)\n",
    "    plt.xlabel('Frames (decision poke at %s)' % (max_window_1-extension))\n",
    "    plt.ylabel('Neuron ID')\n",
    "    plt.title(\"%s = %s\\n %s = %s\\nNum trials = %.0f\" % (cond1_name, conditions_1[i], cond2_name, cond2_a, nTrials_1[i]))\n",
    "    plt.axis('tight')\n",
    "    \n",
    "    plt.subplot(2,2,(2*i)+2)  \n",
    "    plt.imshow(np.transpose(mean_decision_2[:,:,i])), plt.colorbar()\n",
    "    plt.xlabel('Frames (decision poke at %s)' % (max_window_2-extension))\n",
    "    plt.axvline(x=max_window_2-extension, color='k', linestyle = '--', linewidth=.9)\n",
    "    plt.ylabel('Neuron ID')\n",
    "    plt.title(\"%s = %s\\n %s = %s\\nNum trials = %.0f\" % (cond1_name, conditions_1[i], cond2_name, cond2_b, nTrials_2[i]))\n",
    "    plt.axis('tight')"
   ]
  },
  {
   "cell_type": "code",
   "execution_count": null,
   "metadata": {
    "collapsed": true
   },
   "outputs": [],
   "source": [
    "# heatmap for all neurons (each neuron represented by avg fluorescence across all trials)\n",
    "for i in [0,1]:\n",
    "    plt.figure(figsize=(8,8))\n",
    "    plt.subplot(2,2,(2*i)+2-1)  \n",
    "    plt.imshow(np.transpose(norm_mean_decision_1[:,:,i])), plt.colorbar()\n",
    "    plt.axvline(x=max_window_1-extension, color='k', linestyle = '--', linewidth=.9)\n",
    "    plt.xlabel('Frames (decision poke at %s)' % (max_window_1-extension))\n",
    "    plt.ylabel('Neuron ID')\n",
    "    title = \"%s = %s\\n %s = %s\" % (cond1_name, conditions_1[i], cond2_name, cond2_a)\n",
    "    plt.title(title + '\\nNum trials: %.0f' % nTrials_1[i])\n",
    "    plt.axis('tight')\n",
    "    \n",
    "    plt.subplot(2,2,(2*i)+2)  \n",
    "    plt.imshow(np.transpose(norm_mean_decision_2[:,:,i])), plt.colorbar()\n",
    "    plt.axvline(x=max_window_2-extension, color='k', linestyle = '--', linewidth=.9)\n",
    "    plt.xlabel('Frames (decision poke at %s)' % (max_window_2-extension))\n",
    "    plt.ylabel('Neuron ID')\n",
    "    title = \"%s = %s\\n %s = %s\" % (cond1_name, conditions_1[i], cond2_name, cond2_b)\n",
    "    plt.title(title + '\\nNum trials: %.0f' % nTrials_2[i])\n",
    "    plt.axis('tight')"
   ]
  },
  {
   "cell_type": "code",
   "execution_count": null,
   "metadata": {
    "collapsed": true
   },
   "outputs": [],
   "source": [
    "plt.plot(norm_mean_decision_1[:,10,1])\n",
    "norm_mean_decision_1.shape"
   ]
  },
  {
   "cell_type": "markdown",
   "metadata": {},
   "source": [
    "## plot the difference between two different conditions\n",
    "    Heatmaps of the subtraction of normalized mean traces of two different states of a condition"
   ]
  },
  {
   "cell_type": "code",
   "execution_count": null,
   "metadata": {
    "collapsed": true
   },
   "outputs": [],
   "source": [
    "# plot the difference between two conditions for aligned to center poke\n",
    "plt.figure(figsize=(10,4))\n",
    "plt.subplot(1,2,1)\n",
    "plt.imshow(np.transpose(norm_mean_center_1[:,:,0] - norm_mean_center_1[:,:,1])), plt.colorbar()\n",
    "plt.axvline(x=extension, color='white', linestyle = '--', linewidth=.9)\n",
    "plt.ylabel('Neuron ID')\n",
    "plt.xlabel('Frames (center poke at %s)' % extension)\n",
    "plt.title('%s(%s) - %s(%s)\\n %s = %s' % (cond1_name, conditions_1[0], cond1_name, conditions_1[1], cond2_name, cond2_a))\n",
    "\n",
    "plt.subplot(1,2,2)\n",
    "plt.imshow(np.transpose(norm_mean_center_2[:,:,0] - norm_mean_center_2[:,:,1])), plt.colorbar()\n",
    "plt.axvline(x=extension, color='white', linestyle = '--', linewidth=.9)\n",
    "plt.ylabel('Neuron ID')\n",
    "plt.xlabel('Frames (center poke at %s)' % extension)\n",
    "plt.title('%s(%s) - %s(%s)\\n %s = %s' % (cond1_name, conditions_1[0], cond1_name, conditions_1[1], cond2_name, cond2_b))\n",
    "\n"
   ]
  },
  {
   "cell_type": "code",
   "execution_count": null,
   "metadata": {},
   "outputs": [],
   "source": [
    "# plot the difference between two conditions for aligned to decision poke\n",
    "plt.figure(figsize=(10,4))\n",
    "plt.subplot(1,2,1)\n",
    "plt.imshow(np.transpose(norm_mean_decision_1[:,:,0] - norm_mean_decision_1[:,:,1])), plt.colorbar()\n",
    "plt.axvline(x=max_window_1-extension, color='white', linestyle = '--', linewidth=.9)\n",
    "plt.xlabel('Frames (decision poke at %s)' % (max_window_1-extension))\n",
    "plt.ylabel('Neuron ID')\n",
    "plt.title('%s(%s) - %s(%s)\\n %s = %s' % (cond1_name, conditions_1[0], cond1_name, conditions_1[1], cond2_name, cond2_a))\n",
    "\n",
    "plt.subplot(1,2,2)\n",
    "plt.imshow(np.transpose(norm_mean_decision_2[:,:,0] - norm_mean_decision_2[:,:,1])), plt.colorbar()\n",
    "plt.axvline(x=max_window_2-extension, color='white', linestyle = '--', linewidth=.9)\n",
    "plt.xlabel('Frames (decision poke at %s)' % (max_window_2-extension))\n",
    "plt.ylabel('Neuron ID')\n",
    "plt.title('%s(%s) - %s(%s)\\n %s = %s' % (cond1_name, conditions_1[0], cond1_name, conditions_1[1], cond2_name, cond2_b))\n",
    "\n",
    "\n"
   ]
  },
  {
   "cell_type": "code",
   "execution_count": null,
   "metadata": {
    "collapsed": true
   },
   "outputs": [],
   "source": [
    "help(detectEvents)\n"
   ]
  }
 ],
 "metadata": {
  "anaconda-cloud": {},
  "kernelspec": {
   "display_name": "Python 3",
   "language": "python",
   "name": "python3"
  },
  "language_info": {
   "codemirror_mode": {
    "name": "ipython",
    "version": 3
   },
   "file_extension": ".py",
   "mimetype": "text/x-python",
   "name": "python",
   "nbconvert_exporter": "python",
   "pygments_lexer": "ipython3",
   "version": "3.5.3"
  }
 },
 "nbformat": 4,
 "nbformat_minor": 1
}
