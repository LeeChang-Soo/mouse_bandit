{
 "cells": [
  {
   "cell_type": "markdown",
   "metadata": {},
   "source": [
    "# The mouse behavior\n",
    "\n",
    "## Picture of the box\n",
    "\n",
    "## Video of mouse playing\n",
    "\n",
    "## Example dataframe of how the data is stored (without previous rewards)\n",
    "\n",
    "## Approach: optimal player is doing online inference in a hidden Markov model\n",
    "\n",
    "## Learning the parameters from the mouse data\n",
    "\n",
    "## Predicting mouse behavior\n",
    "\n",
    "## Compare to Logistic Regression"
   ]
  },
  {
   "cell_type": "markdown",
   "metadata": {},
   "source": [
    "### Import packages"
   ]
  },
  {
   "cell_type": "code",
   "execution_count": 4,
   "metadata": {
    "collapsed": true
   },
   "outputs": [],
   "source": [
    "from IPython.display import YouTubeVideo\n",
    "import sys\n",
    "sys.path.append('/Users/shayneufeld/GitHub/mouse_bandit/data_preprocessing_code')\n",
    "sys.path.append('/Users/shayneufeld/GitHub/mouse_bandit')\n",
    "import support_functions as sf\n",
    "import numpy as np\n",
    "import matplotlib.pyplot as plt\n",
    "from matplotlib import gridspec\n",
    "import seaborn as sns\n",
    "import pandas as pd\n",
    "import scipy as sp\n",
    "import bandit_preprocessing as bp\n",
    "import sklearn.linear_model\n",
    "import sklearn.tree\n",
    "%matplotlib inline "
   ]
  },
  {
   "cell_type": "markdown",
   "metadata": {},
   "source": [
    "### In a life where both our world and ourselves are constantly changing, it can be hard to figure out what to do: should you rely on what has happened in the past to make a decision? or should you explore and try to learn something new?\n",
    "\n",
    "### In reinforcement learning theory, this optimization problem is known as the 'explore-exploit' tradeoff, and was formalized in 1952 as the 'multi-armed bandit problem', where a gambler in front of a row of slot machines has to decide which machines to play, how many times to play each machine and in which order to play them.\n",
    "\n",
    "### An optimal gambler will do 'online inference in a hidden Markov model' - where it accumates evidence from its actions and combines it with an expectation for how often the reward probabilities for each slot machine changes\n",
    "\n",
    "### While animals (including humans!) make this type of decision all the time, it is not understood how our brain implements this decision process. Are there collections of neurons computing the very algorithms we discovered with math and statistics? Or have the organic circuits in our brain evolved to find an alternate solution? \n",
    "\n",
    "### This is the main project I'm working on right now! \n",
    "\n"
   ]
  },
  {
   "cell_type": "code",
   "execution_count": 3,
   "metadata": {
    "collapsed": false,
    "scrolled": false
   },
   "outputs": [
    {
     "data": {
      "text/html": [
       "\n",
       "        <iframe\n",
       "            width=\"400\"\n",
       "            height=\"300\"\n",
       "            src=\"https://www.youtube.com/embed/5ecQ8w4K0aE\"\n",
       "            frameborder=\"0\"\n",
       "            allowfullscreen\n",
       "        ></iframe>\n",
       "        "
      ],
      "text/plain": [
       "<IPython.lib.display.YouTubeVideo at 0x1047890f0>"
      ]
     },
     "execution_count": 3,
     "metadata": {},
     "output_type": "execute_result"
    }
   ],
   "source": [
    "YouTubeVideo(\"5ecQ8w4K0aE\")"
   ]
  },
  {
   "cell_type": "code",
   "execution_count": 26,
   "metadata": {
    "collapsed": false
   },
   "outputs": [
    {
     "name": "stdout",
     "output_type": "stream",
     "text": [
      "This data contains 3040 trials from 5 sessions\n",
      "First 5 data entries:\n"
     ]
    },
    {
     "data": {
      "text/html": [
       "<div>\n",
       "<table border=\"1\" class=\"dataframe\">\n",
       "  <thead>\n",
       "    <tr style=\"text-align: right;\">\n",
       "      <th></th>\n",
       "      <th>Mouse ID</th>\n",
       "      <th>Session ID</th>\n",
       "      <th>Block Trial</th>\n",
       "      <th>Port Streak</th>\n",
       "      <th>Reward Streak</th>\n",
       "      <th>10_Port</th>\n",
       "      <th>10_Reward</th>\n",
       "      <th>10_ITI</th>\n",
       "      <th>10_trialDuration</th>\n",
       "      <th>9_Port</th>\n",
       "      <th>...</th>\n",
       "      <th>2_trialDuration</th>\n",
       "      <th>1_Port</th>\n",
       "      <th>1_Reward</th>\n",
       "      <th>1_ITI</th>\n",
       "      <th>1_trialDuration</th>\n",
       "      <th>0_ITI</th>\n",
       "      <th>Decision</th>\n",
       "      <th>Switch</th>\n",
       "      <th>Higher p port</th>\n",
       "      <th>Reward</th>\n",
       "    </tr>\n",
       "  </thead>\n",
       "  <tbody>\n",
       "    <tr>\n",
       "      <th>0</th>\n",
       "      <td>harry</td>\n",
       "      <td>07252016_harry</td>\n",
       "      <td>11.0</td>\n",
       "      <td>1.0</td>\n",
       "      <td>-1.0</td>\n",
       "      <td>1.0</td>\n",
       "      <td>0.0</td>\n",
       "      <td>1.660</td>\n",
       "      <td>0.291</td>\n",
       "      <td>1.0</td>\n",
       "      <td>...</td>\n",
       "      <td>0.319</td>\n",
       "      <td>1.0</td>\n",
       "      <td>0.0</td>\n",
       "      <td>1.304</td>\n",
       "      <td>0.258</td>\n",
       "      <td>2.335</td>\n",
       "      <td>0.0</td>\n",
       "      <td>1.0</td>\n",
       "      <td>1.0</td>\n",
       "      <td>1.0</td>\n",
       "    </tr>\n",
       "    <tr>\n",
       "      <th>1</th>\n",
       "      <td>harry</td>\n",
       "      <td>07252016_harry</td>\n",
       "      <td>12.0</td>\n",
       "      <td>1.0</td>\n",
       "      <td>1.0</td>\n",
       "      <td>1.0</td>\n",
       "      <td>0.0</td>\n",
       "      <td>1.467</td>\n",
       "      <td>0.354</td>\n",
       "      <td>1.0</td>\n",
       "      <td>...</td>\n",
       "      <td>0.258</td>\n",
       "      <td>0.0</td>\n",
       "      <td>1.0</td>\n",
       "      <td>2.335</td>\n",
       "      <td>0.304</td>\n",
       "      <td>1.793</td>\n",
       "      <td>0.0</td>\n",
       "      <td>0.0</td>\n",
       "      <td>1.0</td>\n",
       "      <td>0.0</td>\n",
       "    </tr>\n",
       "    <tr>\n",
       "      <th>2</th>\n",
       "      <td>harry</td>\n",
       "      <td>07252016_harry</td>\n",
       "      <td>13.0</td>\n",
       "      <td>2.0</td>\n",
       "      <td>-1.0</td>\n",
       "      <td>1.0</td>\n",
       "      <td>0.0</td>\n",
       "      <td>1.490</td>\n",
       "      <td>0.320</td>\n",
       "      <td>1.0</td>\n",
       "      <td>...</td>\n",
       "      <td>0.304</td>\n",
       "      <td>0.0</td>\n",
       "      <td>0.0</td>\n",
       "      <td>1.793</td>\n",
       "      <td>0.261</td>\n",
       "      <td>1.613</td>\n",
       "      <td>0.0</td>\n",
       "      <td>0.0</td>\n",
       "      <td>1.0</td>\n",
       "      <td>0.0</td>\n",
       "    </tr>\n",
       "    <tr>\n",
       "      <th>3</th>\n",
       "      <td>harry</td>\n",
       "      <td>07252016_harry</td>\n",
       "      <td>14.0</td>\n",
       "      <td>3.0</td>\n",
       "      <td>-2.0</td>\n",
       "      <td>1.0</td>\n",
       "      <td>0.0</td>\n",
       "      <td>1.446</td>\n",
       "      <td>0.312</td>\n",
       "      <td>1.0</td>\n",
       "      <td>...</td>\n",
       "      <td>0.261</td>\n",
       "      <td>0.0</td>\n",
       "      <td>0.0</td>\n",
       "      <td>1.613</td>\n",
       "      <td>0.319</td>\n",
       "      <td>1.331</td>\n",
       "      <td>1.0</td>\n",
       "      <td>1.0</td>\n",
       "      <td>0.0</td>\n",
       "      <td>0.0</td>\n",
       "    </tr>\n",
       "    <tr>\n",
       "      <th>4</th>\n",
       "      <td>harry</td>\n",
       "      <td>07252016_harry</td>\n",
       "      <td>15.0</td>\n",
       "      <td>1.0</td>\n",
       "      <td>-3.0</td>\n",
       "      <td>1.0</td>\n",
       "      <td>0.0</td>\n",
       "      <td>2.453</td>\n",
       "      <td>0.266</td>\n",
       "      <td>1.0</td>\n",
       "      <td>...</td>\n",
       "      <td>0.319</td>\n",
       "      <td>1.0</td>\n",
       "      <td>0.0</td>\n",
       "      <td>1.331</td>\n",
       "      <td>0.428</td>\n",
       "      <td>1.545</td>\n",
       "      <td>1.0</td>\n",
       "      <td>0.0</td>\n",
       "      <td>0.0</td>\n",
       "      <td>0.0</td>\n",
       "    </tr>\n",
       "  </tbody>\n",
       "</table>\n",
       "<p>5 rows × 50 columns</p>\n",
       "</div>"
      ],
      "text/plain": [
       "  Mouse ID      Session ID  Block Trial  Port Streak  Reward Streak  10_Port  \\\n",
       "0    harry  07252016_harry         11.0          1.0           -1.0      1.0   \n",
       "1    harry  07252016_harry         12.0          1.0            1.0      1.0   \n",
       "2    harry  07252016_harry         13.0          2.0           -1.0      1.0   \n",
       "3    harry  07252016_harry         14.0          3.0           -2.0      1.0   \n",
       "4    harry  07252016_harry         15.0          1.0           -3.0      1.0   \n",
       "\n",
       "   10_Reward  10_ITI  10_trialDuration  9_Port   ...    2_trialDuration  \\\n",
       "0        0.0   1.660             0.291     1.0   ...              0.319   \n",
       "1        0.0   1.467             0.354     1.0   ...              0.258   \n",
       "2        0.0   1.490             0.320     1.0   ...              0.304   \n",
       "3        0.0   1.446             0.312     1.0   ...              0.261   \n",
       "4        0.0   2.453             0.266     1.0   ...              0.319   \n",
       "\n",
       "   1_Port  1_Reward  1_ITI  1_trialDuration  0_ITI  Decision  Switch  \\\n",
       "0     1.0       0.0  1.304            0.258  2.335       0.0     1.0   \n",
       "1     0.0       1.0  2.335            0.304  1.793       0.0     0.0   \n",
       "2     0.0       0.0  1.793            0.261  1.613       0.0     0.0   \n",
       "3     0.0       0.0  1.613            0.319  1.331       1.0     1.0   \n",
       "4     1.0       0.0  1.331            0.428  1.545       1.0     0.0   \n",
       "\n",
       "   Higher p port  Reward  \n",
       "0            1.0     1.0  \n",
       "1            1.0     0.0  \n",
       "2            1.0     0.0  \n",
       "3            0.0     0.0  \n",
       "4            0.0     0.0  \n",
       "\n",
       "[5 rows x 50 columns]"
      ]
     },
     "execution_count": 26,
     "metadata": {},
     "output_type": "execute_result"
    }
   ],
   "source": [
    "data = pd.read_csv('/Users/shayneufeld/GitHub/mouse_bandit/data/processed_data/harry_8020_high.csv',index_col=0)\n",
    "print('This data contains %.0f trials from %.0f sessions' % (data.shape[0],np.unique(data['Session ID'].values).shape[0]))\n",
    "print('First 5 data entries:')\n",
    "data.head(5)"
   ]
  },
  {
   "cell_type": "markdown",
   "metadata": {},
   "source": [
    "### Some really important summary statistics: \n",
    "1. what is the overall percentage of trials that this mouse ('harry') chose the port with a higher reward probability?\n",
    "2. what is the distribution of 'stays' (when a mouse returns to the same port it went to previously) and 'switches' (different from last choice)"
   ]
  },
  {
   "cell_type": "code",
   "execution_count": 84,
   "metadata": {
    "collapsed": false
   },
   "outputs": [
    {
     "name": "stdout",
     "output_type": "stream",
     "text": [
      "Number of trials in dataset: 3040\n",
      "Number of rewards recieved: 2164\n",
      "Number of switch trials 190\n"
     ]
    }
   ],
   "source": [
    "print('Number of trials in dataset: %.0f' % data.shape[0])\n",
    "print('Number of rewards recieved: %.0f' % data['Reward'].sum())\n",
    "print('Number of switch trials %.0f' % data['Switch'].sum())"
   ]
  },
  {
   "cell_type": "code",
   "execution_count": 81,
   "metadata": {
    "collapsed": false,
    "scrolled": false
   },
   "outputs": [
    {
     "data": {
      "image/png": "[encoded data removed]",
      "text/plain": [
       "<matplotlib.figure.Figure at 0x1176010f0>"
      ]
     },
     "metadata": {},
     "output_type": "display_data"
    }
   ],
   "source": [
    "sns.set_style('darkgrid')\n",
    "plt.figure(figsize=(10,5))\n",
    "'''\n",
    "plt.subplot(131)\n",
    "ax = sns.barplot(x=\"Session ID\", y=\"Num Trials\", data=data_summary)\n",
    "plt.plot(np.arange(5),num_rewards,color='black',linewidth=5,label='Num Rewards')\n",
    "plt.legend(loc='best')\n",
    "ax.set_xticklabels(sessions,rotation=30)\n",
    "plt.title('Number of trials & rewards',x=0.5,y=1.05)\n",
    "plt.ylim(0,900)\n",
    "'''\n",
    "\n",
    "plt.subplot(121)\n",
    "ax = sns.barplot(x='Session ID',y='Higher p port',data = data)\n",
    "ax.set_xticklabels(sessions,rotation=30)\n",
    "plt.hlines(y=0.8,xmin=-0.5,xmax=5.5,color='black',linewidth=3,label='Fraction rewards given',alpha=0.7,linestyles='dotted')\n",
    "plt.legend(loc='best')\n",
    "plt.ylim(0.5,1)\n",
    "plt.title('Fraction of trials where higher reward port chosen',x=0.5,y=1.05)\n",
    "\n",
    "plt.subplot(122)\n",
    "ax = sns.barplot(x='Session ID',y='Switch',data = data)\n",
    "ax.set_xticklabels(sessions,rotation=30)\n",
    "plt.title('Fraction of trials where mouse switched from previous trial',x=0.5,y=1.05)\n",
    "\n",
    "plt.tight_layout()"
   ]
  },
  {
   "cell_type": "markdown",
   "metadata": {},
   "source": [
    "Before we start to do anything complex ... what if the mice are simply implementing a 'win-stay, lose-switch' strategy?"
   ]
  },
  {
   "cell_type": "code",
   "execution_count": 86,
   "metadata": {
    "collapsed": false
   },
   "outputs": [
    {
     "name": "stdout",
     "output_type": "stream",
     "text": [
      "Fraction of the time that a switch occured following an unrewarded trial: 0.20\n"
     ]
    }
   ],
   "source": [
    "print('Fraction of the time that a switch occured following an unrewarded trial: %.02f' % data[data['1_Reward'] == 0]['Switch'].mean() )"
   ]
  },
  {
   "cell_type": "markdown",
   "metadata": {},
   "source": [
    "Nope! Something more complicated is going on here. "
   ]
  },
  {
   "cell_type": "markdown",
   "metadata": {},
   "source": [
    "## How are mice using information from the past to make a decision?\n",
    "\n",
    "**Idea #1**: do logistic regression using previous trial outcomes as features to predict either 1) which port the mouse will choose or 2) whether a mouse will stay or switch\n",
    "\n",
    "**Problem**: logistic regression fails to predict when a mouse will switch, even when:\n",
    "    1. the decision boundary is optimized\n",
    "    2. interaction terms between the previous trial outcomes are introduced\n",
    "    3. a lot more data is used (up to 70,000 trials)\n",
    "    \n",
    "**Idea #2**: try predicting a mouse's decisions using the strategy of an optimal player: online inference in a hidden Markov model.\n",
    "\n",
    "A hidden Markov model is a statistical system where there are multiple states connected with specific transition probabilities. These states cannot be directly observed (hence the hidden), but can be estimated using evidence that is probabilistically related to which state the system is in (ie how frequently a reward is delivered)."
   ]
  },
  {
   "cell_type": "markdown",
   "metadata": {},
   "source": [
    "\n",
    "\n",
    "\n",
    "Link to [Notebook 2](notebook2.ipynb)"
   ]
  }
 ],
 "metadata": {
  "anaconda-cloud": {},
  "kernelspec": {
   "display_name": "Python [conda env:cagrin]",
   "language": "python",
   "name": "conda-env-cagrin-py"
  },
  "language_info": {
   "codemirror_mode": {
    "name": "ipython",
    "version": 3
   },
   "file_extension": ".py",
   "mimetype": "text/x-python",
   "name": "python",
   "nbconvert_exporter": "python",
   "pygments_lexer": "ipython3",
   "version": "3.5.2"
  }
 },
 "nbformat": 4,
 "nbformat_minor": 1
}
