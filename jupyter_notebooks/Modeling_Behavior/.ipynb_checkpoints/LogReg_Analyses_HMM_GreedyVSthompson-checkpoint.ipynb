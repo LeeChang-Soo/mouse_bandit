{
 "cells": [
  {
   "cell_type": "markdown",
   "metadata": {},
   "source": [
    "# Logistic Regression\n",
    "\n",
    "This logistic regression is based on the Beeler/Daw et al. 2010 paper.\n",
    "Specifically:\n",
    "\n",
    "dependent variable: binary choice of port (-1 or 1)\n",
    "\n",
    "explanatory variables: \n",
    "1. the N previous rewards $ r_{t-N:t-1} $\n",
    "2. the previous choice $c_{t-1}$ to capture a tendency to stay or switch\n",
    "3. bias variable (1) to capture fixed, overall preference for either port\n",
    "\n",
    "Note: this model only carries information about ports when it gets a reward. IE -1 = right reward, 1 = left reward, but 0 = no reward (for either side). Should compare models with this information vs. added information about the non-rewarded port choices. "
   ]
  },
  {
   "cell_type": "markdown",
   "metadata": {},
   "source": [
    "## 02/19/2017\n",
    "I just ran the above code on the following data:\n",
    "    \n",
    "- `full_9010_02192017.csv`\n",
    "- `full_8020_02192017.csv`\n",
    "- `full_7030_02192017.csv`\n",
    "\n",
    "Which were computed by compiling the following data:\n",
    "- block range: exactly 50 rewards\n",
    "- p(choose high Port) >= [p-0.1] where p = p(high Port)\n",
    "\n",
    "Observations:\n",
    "1. pseudo-R2 also similar: ~0.64-0.69\n",
    "2. For (1)  maybe a slight trend that 90-10 had a better model, but not certain. \n",
    "3. For each condition, I tried adding in more ports (up to 3) into the past to see if it would help out. For all 3 conditions, decisions for t-N where 2 >= 2 had coefficients = 0. That is, the only non-zero beta for the ports was the most recent one. \n",
    "\n",
    "Next step: \n",
    "\n",
    "\n",
    "**Figures**\n",
    "\n",
    "1. Logistic regression performs similarly across different conditions\n",
    "    - x axis: 90-10,80-20,70-30\n",
    "    - y axis: F1 score, pseudo-R2\n",
    "2. Comparing model flexibility across different conditions\n",
    "    - x axis: number of previous rewards included (i.e. parameters in model)\n",
    "    - y axis: BIC\n",
    "    - color: each condition\n",
    "3. Knowing where the non-rewarded trials are:\n",
    "    - what if you did the same regression, but instead you know where the non-rewarded trials are?\n",
    "    - also, compare to adding in previous ports (or rewards in the above scenario) and compare\n",
    "\n",
    "4. Comparing 'strategies' across conditions\n",
    "    - train on 90-10, test on 80-20 (and all combinations)\n",
    "\n",
    "5. Comparing 'strategies' across mice\n",
    "    - train on one mouse:condition pair, and test on another mouse:condition pair (for the same condition)\n",
    "    \n"
   ]
  },
  {
   "cell_type": "code",
   "execution_count": 2,
   "metadata": {
    "collapsed": false
   },
   "outputs": [],
   "source": [
    "import sys\n",
    "sys.path.append('/Users/shayneufeld/GitHub/mouse_bandit/data_preprocessing_code')\n",
    "sys.path.append('/Users/shayneufeld/GitHub/mouse_bandit')\n",
    "import support_functions as sf\n",
    "import numpy as np\n",
    "import matplotlib.pyplot as plt\n",
    "from matplotlib import gridspec\n",
    "import seaborn as sns\n",
    "import pandas as pd\n",
    "import scipy as sp\n",
    "import bandit_preprocessing as bp\n",
    "import sklearn.linear_model\n",
    "import sklearn.tree\n",
    "%matplotlib inline "
   ]
  },
  {
   "cell_type": "markdown",
   "metadata": {},
   "source": [
    "## define function to do logistic regression and some basic evalutions"
   ]
  },
  {
   "cell_type": "code",
   "execution_count": 13,
   "metadata": {
    "collapsed": false
   },
   "outputs": [],
   "source": [
    "'''\n",
    "I compiled the code above into a more compact function so I can cycle through different conditions/mice/etc \n",
    "as neccessary\n",
    "'''\n",
    "\n",
    "def logreg_and_eval(data,num_rewards=10,test_data=False):\n",
    "    '''\n",
    "    Perform Logistic Regression on a pandas dataframe of trials (from feature matrix)\n",
    "    \n",
    "    Inputs:\n",
    "        - data: pandas dataframe of trials (from feature matrix)\n",
    "    Outputs:\n",
    "        - logreg: trained logistic regression model (from sklearn)\n",
    "        - stats:  pandas dataframe with F1, pseudo-R2, and BIC scores from model\n",
    "        - coeffs: beta coefficients from logreg\n",
    "    \n",
    "    '''\n",
    "    \n",
    "    from statsmodels.discrete.discrete_model import Logit\n",
    "    \n",
    "    port_features = []\n",
    "    reward_features = []\n",
    "\n",
    "    #change right port to -1 instead of 0\n",
    "    for col in data:\n",
    "        if '_Port' in col:\n",
    "            data.loc[data[col] == 0,col] = -1\n",
    "            port_features.append(col)\n",
    "        elif '_Reward' in col:\n",
    "            reward_features.append(col)\n",
    "\n",
    "    #create new feature matrix\n",
    "    d = data.copy()\n",
    "    for i in range(len(port_features)):\n",
    "        d[reward_features[i]] = d[reward_features[i]].values*d[port_features[i]].values\n",
    "    \n",
    "    \n",
    "    #determine the features\n",
    "    features = reward_features.copy()\n",
    "    features = features[-1*num_rewards:] #only take the num of rewards specificied in the function\n",
    "    features.append('1_Port') #append the last decision as a feature\n",
    "    features.append('Decision') #finally append the decision so we can take it to predict later\n",
    "    \n",
    "    #final version of data\n",
    "    d = d[features].copy() #this now just has the features we want and the decision we want to predict\n",
    "    \n",
    "    #do the same thing for the test data if it exists!\n",
    "    if test_data is not False:\n",
    "        for col in test_data:\n",
    "            if '_Port' in col:\n",
    "                test_data.loc[test_data[col] == 0,col] = -1\n",
    "\n",
    "        #create new feature matrix\n",
    "        data_test_new = test_data.copy()\n",
    "        for i in range(len(port_features)):\n",
    "            data_test_new[reward_features[i]] = test_data[reward_features[i]].values*test_data[port_features[i]].values\n",
    "        \n",
    "        d_test = data_test_new[features].copy()\n",
    "    \n",
    "    \n",
    "        #set training and testing sets now\n",
    "        x_train = d.iloc[:,:-1].values\n",
    "        y_train = d.iloc[:,-1].values\n",
    "        x_test = d_test.iloc[:,:-1].values\n",
    "        y_test = d_test.iloc[:,-1].values\n",
    "        \n",
    "        prev_port_test = d_test['1_Port'].values\n",
    "        prev_port_test[prev_port_test==-1] = 0\n",
    "    \n",
    "    #if there is no test data, then split up the data into training and testing\n",
    "    else:\n",
    "        #extract features and decisions\n",
    "        x = d.iloc[:,:-1].values\n",
    "        y = d.iloc[:,-1].values\n",
    "\n",
    "        #split into training and testing\n",
    "        n_trials = x.shape[0]\n",
    "        shuf_inds = np.random.permutation(n_trials)\n",
    "        split_ind = int(n_trials*0.7)\n",
    "\n",
    "        x_train = x[shuf_inds[:split_ind],:]\n",
    "        y_train = y[shuf_inds[:split_ind]]\n",
    "\n",
    "        x_test = x[shuf_inds[split_ind:],:]\n",
    "        y_test = y[shuf_inds[split_ind:]]\n",
    "        \n",
    "        #extract previous port decision for test set\n",
    "        #these will be used to calculate switches on the test predictions\n",
    "        prev_port_test = d['1_Port'].values[shuf_inds[split_ind:]]\n",
    "        prev_port_test[prev_port_test==-1] = 0\n",
    "    \n",
    "    '''\n",
    "    Modeling\n",
    "    '''\n",
    "    \n",
    "    #fit logistic regression\n",
    "    logreg = sklearn.linear_model.LogisticRegressionCV()\n",
    "    logreg.fit(x_train,y_train)\n",
    "    \n",
    "    #predict on testing set\n",
    "    y_predict = logreg.predict(x_test)\n",
    "    y_predict_proba = logreg.predict_proba(x_test)\n",
    "    \n",
    "    #model accuracy\n",
    "    score = logreg.score(x_test,y_test)\n",
    "    \n",
    "    #calculating pseudo-R2 and BIC from statsmodel OLS\n",
    "    #model = Logit(y_train,x_train)\n",
    "    #rslt  = model.fit()\n",
    "\n",
    "    #switches\n",
    "    y_test_switch = np.abs(y_test - prev_port_test)\n",
    "    y_predict_switch = np.abs(y_predict - prev_port_test)\n",
    "    acc_pos,acc_neg,F1=sf.score_both_and_confuse(y_predict_switch,y_test_switch,confusion=False,disp=True)\n",
    "    \n",
    "    #extract coefficients\n",
    "    coefs = logreg.coef_ #retrieve coefs\n",
    "    coefs = np.append(coefs[0],logreg.intercept_) #add bias coef\n",
    "    \n",
    "    #create stats database to return\n",
    "    d_ = {'F1':F1,'Accuracy':score}\n",
    "    stats = pd.DataFrame(data=d_,index=[0])\n",
    "    features = features[:-1]\n",
    "    features.append('Bias')\n",
    "    \n",
    "    coefs = pd.DataFrame(data=coefs.reshape(1,-1),columns=features)\n",
    "    return logreg,stats,coefs"
   ]
  },
  {
   "cell_type": "code",
   "execution_count": 11,
   "metadata": {
    "collapsed": true
   },
   "outputs": [],
   "source": [
    "def logreg_and_eval_withports(data,num_rewards=10,num_ports=1,test_data=False):\n",
    "    '''\n",
    "    Perform Logistic Regression on a pandas dataframe of trials (from feature matrix)\n",
    "    \n",
    "    Inputs:\n",
    "        - data: pandas dataframe of trials (from feature matrix)\n",
    "    Outputs:\n",
    "        - logreg: trained logistic regression model (from sklearn)\n",
    "        - stats:  pandas dataframe with F1, pseudo-R2, and BIC scores from model\n",
    "        - coeffs: beta coefficients from logreg\n",
    "    \n",
    "    '''\n",
    "    \n",
    "    from statsmodels.discrete.discrete_model import Logit\n",
    "    \n",
    "    port_features = []\n",
    "    reward_features = []\n",
    "\n",
    "    #change right port to -1 instead of 0\n",
    "    for col in data:\n",
    "        if '_Port' in col:\n",
    "            data.loc[data[col] == 0,col] = -1\n",
    "            port_features.append(col)\n",
    "        elif '_Reward' in col:\n",
    "            reward_features.append(col)\n",
    "\n",
    "    #create new feature matrix\n",
    "    d = data.copy()\n",
    "    for i in range(len(port_features)):\n",
    "        d[reward_features[i]] = d[reward_features[i]].values*d[port_features[i]].values\n",
    "    \n",
    "    \n",
    "    #determine the features\n",
    "    features = reward_features.copy()\n",
    "    if num_rewards == 0:\n",
    "        features = port_features[-1*num_ports:]\n",
    "    elif num_ports == 0:\n",
    "        features = features[-1*num_rewards:] #only take the num of rewards specificied in the function\n",
    "    else:\n",
    "        features = features[-1*num_rewards:]\n",
    "        features = np.append(features,port_features[-1*num_ports:])\n",
    "    \n",
    "    print(features)\n",
    "    features = np.append(features,'Decision') #finally append the decision so we can take it to predict later\n",
    "    \n",
    "    \n",
    "    \n",
    "    #final version of data\n",
    "    d = d[features].copy() #this now just has the features we want and the decision we want to predict\n",
    "    \n",
    "    #do the same thing for the test data if it exists!\n",
    "    if test_data is not False:\n",
    "        for col in test_data:\n",
    "            if '_Port' in col:\n",
    "                test_data.loc[test_data[col] == 0,col] = -1\n",
    "\n",
    "        #create new feature matrix\n",
    "        data_test_new = test_data.copy()\n",
    "        for i in range(len(port_features)):\n",
    "            data_test_new[reward_features[i]] = test_data[reward_features[i]].values*test_data[port_features[i]].values\n",
    "        \n",
    "        d_test = data_test_new[features].copy()\n",
    "    \n",
    "    \n",
    "        #set training and testing sets now\n",
    "        x_train = d.iloc[:,:-1].values\n",
    "        y_train = d.iloc[:,-1].values\n",
    "        x_test = d_test.iloc[:,:-1].values\n",
    "        y_test = d_test.iloc[:,-1].values\n",
    "        \n",
    "        prev_port_test = test_data['1_Port'].values\n",
    "        prev_port_test[prev_port_test==-1] = 0\n",
    "    \n",
    "    #if there is no test data, then split up the data into training and testing\n",
    "    else:\n",
    "        #extract features and decisions\n",
    "        x = d.iloc[:,:-1].values\n",
    "        y = d.iloc[:,-1].values\n",
    "\n",
    "        #split into training and testing\n",
    "        n_trials = x.shape[0]\n",
    "        shuf_inds = np.random.permutation(n_trials)\n",
    "        split_ind = int(n_trials*0.7)\n",
    "\n",
    "        x_train = x[shuf_inds[:split_ind],:]\n",
    "        y_train = y[shuf_inds[:split_ind]]\n",
    "\n",
    "        x_test = x[shuf_inds[split_ind:],:]\n",
    "        y_test = y[shuf_inds[split_ind:]]\n",
    "        \n",
    "        #extract previous port decision for test set\n",
    "        #these will be used to calculate switches on the test predictions\n",
    "        prev_port_test = data['1_Port'].values[shuf_inds[split_ind:]]\n",
    "        prev_port_test[prev_port_test==-1] = 0\n",
    "    \n",
    "    '''\n",
    "    Modeling\n",
    "    '''\n",
    "    \n",
    "    #fit logistic regression\n",
    "    logreg = sklearn.linear_model.LogisticRegressionCV()\n",
    "    logreg.fit(x_train,y_train)\n",
    "    \n",
    "    #predict on testing set\n",
    "    y_predict = logreg.predict(x_test)\n",
    "    y_predict_proba = logreg.predict_proba(x_test)\n",
    "    \n",
    "    #model accuracy\n",
    "    score = logreg.score(x_test,y_test)\n",
    "    \n",
    "    #calculating pseudo-R2 and BIC from statsmodel OLS\n",
    "    #model = Logit(y_train,x_train)\n",
    "    #rslt  = model.fit()\n",
    "\n",
    "    #switches\n",
    "    y_test_switch = np.abs(y_test - prev_port_test)\n",
    "    y_predict_switch = np.abs(y_predict - prev_port_test)\n",
    "    acc_pos,acc_neg,F1=sf.score_both_and_confuse(y_predict_switch,y_test_switch,confusion=False,disp=True)\n",
    "    \n",
    "    #extract coefficients\n",
    "    coefs = logreg.coef_ #retrieve coefs\n",
    "    coefs = np.append(coefs[0],logreg.intercept_) #add bias coef\n",
    "    \n",
    "    #create stats database to return\n",
    "    d_ = {'F1':F1,'Accuracy':score}\n",
    "    stats = pd.DataFrame(data=d_,index=[0])\n",
    "    features = features[:-1]\n",
    "    features = np.append(features,'Bias')\n",
    "    \n",
    "    coefs = pd.DataFrame(data=coefs.reshape(1,-1),columns=features)\n",
    "    return logreg,stats,coefs"
   ]
  },
  {
   "cell_type": "markdown",
   "metadata": {},
   "source": [
    "# Write here"
   ]
  },
  {
   "cell_type": "code",
   "execution_count": 5,
   "metadata": {
    "collapsed": false
   },
   "outputs": [],
   "source": [
    "data_t = pd.read_csv('/Users/shayneufeld/GitHub/mouse_bandit/data/processed_data/hmm_matrix_full_8020.csv',index_col=0)\n",
    "data_g = pd.read_csv('/Users/shayneufeld/GitHub/mouse_bandit/data/processed_data/hmm_matrix_full_8020_greedy.csv',index_col=0)\n",
    "\n",
    "datas = [data_t,data_g]\n",
    "models = []"
   ]
  },
  {
   "cell_type": "code",
   "execution_count": null,
   "metadata": {
    "collapsed": true
   },
   "outputs": [],
   "source": [
    "for i,d in enumerate(datas):\n",
    "    \n",
    "    for j in range(30):\n",
    "        model_curr,stats_curr,coefs_curr = logreg_and_eval(d,num_rewards=10)\n",
    "        models.append(models)\n",
    "\n",
    "        if ((i == 0 and j == 0)):\n",
    "            stats = stats_curr.copy()\n",
    "            coefs = coefs_curr.copy()\n",
    "        else:\n",
    "            stats = stats.append(stats_curr)\n",
    "            coefs = coefs.append(coefs_curr)"
   ]
  },
  {
   "cell_type": "code",
   "execution_count": 34,
   "metadata": {
    "collapsed": false,
    "scrolled": true
   },
   "outputs": [
    {
     "name": "stderr",
     "output_type": "stream",
     "text": [
      "/Users/shayneufeld/anaconda/envs/cagrin/lib/python3.5/site-packages/ipykernel/__main__.py:5: SettingWithCopyWarning: \n",
      "A value is trying to be set on a copy of a slice from a DataFrame.\n",
      "Try using .loc[row_indexer,col_indexer] = value instead\n",
      "\n",
      "See the caveats in the documentation: http://pandas.pydata.org/pandas-docs/stable/indexing.html#indexing-view-versus-copy\n",
      "/Users/shayneufeld/anaconda/envs/cagrin/lib/python3.5/site-packages/ipykernel/__main__.py:8: SettingWithCopyWarning: \n",
      "A value is trying to be set on a copy of a slice from a DataFrame.\n",
      "Try using .loc[row_indexer,col_indexer] = value instead\n",
      "\n",
      "See the caveats in the documentation: http://pandas.pydata.org/pandas-docs/stable/indexing.html#indexing-view-versus-copy\n"
     ]
    }
   ],
   "source": [
    "stats.index = np.arange(stats.shape[0])\n",
    "coefs.index = np.arange(stats.shape[0])\n",
    "\n",
    "stats['Condition'] = 'Thompson'\n",
    "stats.iloc[30:]['Condition'] = 'Greedy'\n",
    "\n",
    "coefs['Condition'] = 'Thompson'\n",
    "coefs.iloc[30:]['Condition'] = 'Greedy'"
   ]
  },
  {
   "cell_type": "markdown",
   "metadata": {},
   "source": [
    "# Comparing beta coefficients across conditions"
   ]
  },
  {
   "cell_type": "code",
   "execution_count": 46,
   "metadata": {
    "collapsed": false,
    "scrolled": false
   },
   "outputs": [
    {
     "ename": "AssertionError",
     "evalue": "",
     "output_type": "error",
     "traceback": [
      "\u001b[0;31m---------------------------------------------------------------------------\u001b[0m",
      "\u001b[0;31mAssertionError\u001b[0m                            Traceback (most recent call last)",
      "\u001b[0;32m<ipython-input-46-b705b5807c21>\u001b[0m in \u001b[0;36m<module>\u001b[0;34m()\u001b[0m\n\u001b[1;32m      6\u001b[0m plt.errorbar(np.arange(coefs.shape[1]-1),coefs[coefs['Condition'] == 'Greedy'].iloc[:,1:].mean(),\n\u001b[1;32m      7\u001b[0m              \u001b[0myerr\u001b[0m\u001b[0;34m=\u001b[0m \u001b[0mcoefs\u001b[0m\u001b[0;34m[\u001b[0m\u001b[0mcoefs\u001b[0m\u001b[0;34m[\u001b[0m\u001b[0;34m'Condition'\u001b[0m\u001b[0;34m]\u001b[0m \u001b[0;34m==\u001b[0m \u001b[0;34m'Greedy'\u001b[0m\u001b[0;34m]\u001b[0m\u001b[0;34m.\u001b[0m\u001b[0miloc\u001b[0m\u001b[0;34m[\u001b[0m\u001b[0;34m:\u001b[0m\u001b[0;34m,\u001b[0m\u001b[0;36m1\u001b[0m\u001b[0;34m:\u001b[0m\u001b[0;34m]\u001b[0m\u001b[0;34m.\u001b[0m\u001b[0mmean\u001b[0m\u001b[0;34m(\u001b[0m\u001b[0;34m)\u001b[0m \u001b[0;34m/\u001b[0m \u001b[0mnp\u001b[0m\u001b[0;34m.\u001b[0m\u001b[0msqrt\u001b[0m\u001b[0;34m(\u001b[0m\u001b[0mnp\u001b[0m\u001b[0;34m.\u001b[0m\u001b[0msum\u001b[0m\u001b[0;34m(\u001b[0m\u001b[0mcoefs\u001b[0m\u001b[0;34m[\u001b[0m\u001b[0;34m'Condition'\u001b[0m\u001b[0;34m]\u001b[0m \u001b[0;34m==\u001b[0m \u001b[0;34m'Greedy'\u001b[0m\u001b[0;34m)\u001b[0m\u001b[0;34m)\u001b[0m\u001b[0;34m,\u001b[0m\u001b[0;34m\u001b[0m\u001b[0m\n\u001b[0;32m----> 8\u001b[0;31m              color='red',alpha=0.5)\n\u001b[0m\u001b[1;32m      9\u001b[0m plt.errorbar(np.arange(coefs.shape[1]-1),coefs[coefs['Condition'] == 'Thompson'].iloc[:,1:].mean(),\n\u001b[1;32m     10\u001b[0m              \u001b[0myerr\u001b[0m\u001b[0;34m=\u001b[0m \u001b[0mcoefs\u001b[0m\u001b[0;34m[\u001b[0m\u001b[0mcoefs\u001b[0m\u001b[0;34m[\u001b[0m\u001b[0;34m'Condition'\u001b[0m\u001b[0;34m]\u001b[0m \u001b[0;34m==\u001b[0m \u001b[0;34m'Thompson'\u001b[0m\u001b[0;34m]\u001b[0m\u001b[0;34m.\u001b[0m\u001b[0miloc\u001b[0m\u001b[0;34m[\u001b[0m\u001b[0;34m:\u001b[0m\u001b[0;34m,\u001b[0m\u001b[0;36m1\u001b[0m\u001b[0;34m:\u001b[0m\u001b[0;34m]\u001b[0m\u001b[0;34m.\u001b[0m\u001b[0mmean\u001b[0m\u001b[0;34m(\u001b[0m\u001b[0;34m)\u001b[0m \u001b[0;34m/\u001b[0m \u001b[0mnp\u001b[0m\u001b[0;34m.\u001b[0m\u001b[0msqrt\u001b[0m\u001b[0;34m(\u001b[0m\u001b[0mnp\u001b[0m\u001b[0;34m.\u001b[0m\u001b[0msum\u001b[0m\u001b[0;34m(\u001b[0m\u001b[0mcoefs\u001b[0m\u001b[0;34m[\u001b[0m\u001b[0;34m'Condition'\u001b[0m\u001b[0;34m]\u001b[0m \u001b[0;34m==\u001b[0m \u001b[0;34m'Thompson'\u001b[0m\u001b[0;34m)\u001b[0m\u001b[0;34m)\u001b[0m\u001b[0;34m,\u001b[0m\u001b[0;34m\u001b[0m\u001b[0m\n",
      "\u001b[0;32m/Users/shayneufeld/anaconda/envs/cagrin/lib/python3.5/site-packages/matplotlib/pyplot.py\u001b[0m in \u001b[0;36merrorbar\u001b[0;34m(x, y, yerr, xerr, fmt, ecolor, elinewidth, capsize, barsabove, lolims, uplims, xlolims, xuplims, errorevery, capthick, hold, data, **kwargs)\u001b[0m\n\u001b[1;32m   2835\u001b[0m                           \u001b[0mxlolims\u001b[0m\u001b[0;34m=\u001b[0m\u001b[0mxlolims\u001b[0m\u001b[0;34m,\u001b[0m \u001b[0mxuplims\u001b[0m\u001b[0;34m=\u001b[0m\u001b[0mxuplims\u001b[0m\u001b[0;34m,\u001b[0m\u001b[0;34m\u001b[0m\u001b[0m\n\u001b[1;32m   2836\u001b[0m                           \u001b[0merrorevery\u001b[0m\u001b[0;34m=\u001b[0m\u001b[0merrorevery\u001b[0m\u001b[0;34m,\u001b[0m \u001b[0mcapthick\u001b[0m\u001b[0;34m=\u001b[0m\u001b[0mcapthick\u001b[0m\u001b[0;34m,\u001b[0m \u001b[0mdata\u001b[0m\u001b[0;34m=\u001b[0m\u001b[0mdata\u001b[0m\u001b[0;34m,\u001b[0m\u001b[0;34m\u001b[0m\u001b[0m\n\u001b[0;32m-> 2837\u001b[0;31m                           **kwargs)\n\u001b[0m\u001b[1;32m   2838\u001b[0m     \u001b[0;32mfinally\u001b[0m\u001b[0;34m:\u001b[0m\u001b[0;34m\u001b[0m\u001b[0m\n\u001b[1;32m   2839\u001b[0m         \u001b[0max\u001b[0m\u001b[0;34m.\u001b[0m\u001b[0mhold\u001b[0m\u001b[0;34m(\u001b[0m\u001b[0mwashold\u001b[0m\u001b[0;34m)\u001b[0m\u001b[0;34m\u001b[0m\u001b[0m\n",
      "\u001b[0;32m/Users/shayneufeld/anaconda/envs/cagrin/lib/python3.5/site-packages/matplotlib/__init__.py\u001b[0m in \u001b[0;36minner\u001b[0;34m(ax, *args, **kwargs)\u001b[0m\n\u001b[1;32m   1817\u001b[0m                     warnings.warn(msg % (label_namer, func.__name__),\n\u001b[1;32m   1818\u001b[0m                                   RuntimeWarning, stacklevel=2)\n\u001b[0;32m-> 1819\u001b[0;31m             \u001b[0;32mreturn\u001b[0m \u001b[0mfunc\u001b[0m\u001b[0;34m(\u001b[0m\u001b[0max\u001b[0m\u001b[0;34m,\u001b[0m \u001b[0;34m*\u001b[0m\u001b[0margs\u001b[0m\u001b[0;34m,\u001b[0m \u001b[0;34m**\u001b[0m\u001b[0mkwargs\u001b[0m\u001b[0;34m)\u001b[0m\u001b[0;34m\u001b[0m\u001b[0m\n\u001b[0m\u001b[1;32m   1820\u001b[0m         \u001b[0mpre_doc\u001b[0m \u001b[0;34m=\u001b[0m \u001b[0minner\u001b[0m\u001b[0;34m.\u001b[0m\u001b[0m__doc__\u001b[0m\u001b[0;34m\u001b[0m\u001b[0m\n\u001b[1;32m   1821\u001b[0m         \u001b[0;32mif\u001b[0m \u001b[0mpre_doc\u001b[0m \u001b[0;32mis\u001b[0m \u001b[0;32mNone\u001b[0m\u001b[0;34m:\u001b[0m\u001b[0;34m\u001b[0m\u001b[0m\n",
      "\u001b[0;32m/Users/shayneufeld/anaconda/envs/cagrin/lib/python3.5/site-packages/matplotlib/axes/_axes.py\u001b[0m in \u001b[0;36merrorbar\u001b[0;34m(self, x, y, yerr, xerr, fmt, ecolor, elinewidth, capsize, barsabove, lolims, uplims, xlolims, xuplims, errorevery, capthick, **kwargs)\u001b[0m\n\u001b[1;32m   2929\u001b[0m             \u001b[0mnoylims\u001b[0m \u001b[0;34m=\u001b[0m \u001b[0;34m~\u001b[0m\u001b[0;34m(\u001b[0m\u001b[0mlolims\u001b[0m \u001b[0;34m|\u001b[0m \u001b[0muplims\u001b[0m\u001b[0;34m)\u001b[0m\u001b[0;34m\u001b[0m\u001b[0m\n\u001b[1;32m   2930\u001b[0m             \u001b[0;32mif\u001b[0m \u001b[0mnoylims\u001b[0m\u001b[0;34m.\u001b[0m\u001b[0many\u001b[0m\u001b[0;34m(\u001b[0m\u001b[0;34m)\u001b[0m\u001b[0;34m:\u001b[0m\u001b[0;34m\u001b[0m\u001b[0m\n\u001b[0;32m-> 2931\u001b[0;31m                 \u001b[0mxo\u001b[0m\u001b[0;34m,\u001b[0m \u001b[0m_\u001b[0m \u001b[0;34m=\u001b[0m \u001b[0mxywhere\u001b[0m\u001b[0;34m(\u001b[0m\u001b[0mx\u001b[0m\u001b[0;34m,\u001b[0m \u001b[0mlower\u001b[0m\u001b[0;34m,\u001b[0m \u001b[0mnoylims\u001b[0m \u001b[0;34m&\u001b[0m \u001b[0meverymask\u001b[0m\u001b[0;34m)\u001b[0m\u001b[0;34m\u001b[0m\u001b[0m\n\u001b[0m\u001b[1;32m   2932\u001b[0m                 \u001b[0mlo\u001b[0m\u001b[0;34m,\u001b[0m \u001b[0muo\u001b[0m \u001b[0;34m=\u001b[0m \u001b[0mxywhere\u001b[0m\u001b[0;34m(\u001b[0m\u001b[0mlower\u001b[0m\u001b[0;34m,\u001b[0m \u001b[0mupper\u001b[0m\u001b[0;34m,\u001b[0m \u001b[0mnoylims\u001b[0m \u001b[0;34m&\u001b[0m \u001b[0meverymask\u001b[0m\u001b[0;34m)\u001b[0m\u001b[0;34m\u001b[0m\u001b[0m\n\u001b[1;32m   2933\u001b[0m                 \u001b[0mbarcols\u001b[0m\u001b[0;34m.\u001b[0m\u001b[0mappend\u001b[0m\u001b[0;34m(\u001b[0m\u001b[0mself\u001b[0m\u001b[0;34m.\u001b[0m\u001b[0mvlines\u001b[0m\u001b[0;34m(\u001b[0m\u001b[0mxo\u001b[0m\u001b[0;34m,\u001b[0m \u001b[0mlo\u001b[0m\u001b[0;34m,\u001b[0m \u001b[0muo\u001b[0m\u001b[0;34m,\u001b[0m \u001b[0;34m**\u001b[0m\u001b[0mlines_kw\u001b[0m\u001b[0;34m)\u001b[0m\u001b[0;34m)\u001b[0m\u001b[0;34m\u001b[0m\u001b[0m\n",
      "\u001b[0;32m/Users/shayneufeld/anaconda/envs/cagrin/lib/python3.5/site-packages/matplotlib/axes/_axes.py\u001b[0m in \u001b[0;36mxywhere\u001b[0;34m(xs, ys, mask)\u001b[0m\n\u001b[1;32m   2817\u001b[0m             \u001b[0mys\u001b[0m \u001b[0mare\u001b[0m \u001b[0;32mnot\u001b[0m \u001b[0marrays\u001b[0m\u001b[0;34m\u001b[0m\u001b[0m\n\u001b[1;32m   2818\u001b[0m             \"\"\"\n\u001b[0;32m-> 2819\u001b[0;31m             \u001b[0;32massert\u001b[0m \u001b[0mlen\u001b[0m\u001b[0;34m(\u001b[0m\u001b[0mxs\u001b[0m\u001b[0;34m)\u001b[0m \u001b[0;34m==\u001b[0m \u001b[0mlen\u001b[0m\u001b[0;34m(\u001b[0m\u001b[0mys\u001b[0m\u001b[0;34m)\u001b[0m\u001b[0;34m\u001b[0m\u001b[0m\n\u001b[0m\u001b[1;32m   2820\u001b[0m             \u001b[0;32massert\u001b[0m \u001b[0mlen\u001b[0m\u001b[0;34m(\u001b[0m\u001b[0mxs\u001b[0m\u001b[0;34m)\u001b[0m \u001b[0;34m==\u001b[0m \u001b[0mlen\u001b[0m\u001b[0;34m(\u001b[0m\u001b[0mmask\u001b[0m\u001b[0;34m)\u001b[0m\u001b[0;34m\u001b[0m\u001b[0m\n\u001b[1;32m   2821\u001b[0m             \u001b[0mxs\u001b[0m \u001b[0;34m=\u001b[0m \u001b[0;34m[\u001b[0m\u001b[0mthisx\u001b[0m \u001b[0;32mfor\u001b[0m \u001b[0mthisx\u001b[0m\u001b[0;34m,\u001b[0m \u001b[0mb\u001b[0m \u001b[0;32min\u001b[0m \u001b[0mzip\u001b[0m\u001b[0;34m(\u001b[0m\u001b[0mxs\u001b[0m\u001b[0;34m,\u001b[0m \u001b[0mmask\u001b[0m\u001b[0;34m)\u001b[0m \u001b[0;32mif\u001b[0m \u001b[0mb\u001b[0m\u001b[0;34m]\u001b[0m\u001b[0;34m\u001b[0m\u001b[0m\n",
      "\u001b[0;31mAssertionError\u001b[0m: "
     ]
    },
    {
     "data": {
      "image/png": "[encoded data removed]",
      "text/plain": [
       "<matplotlib.figure.Figure at 0x113295a58>"
      ]
     },
     "metadata": {},
     "output_type": "display_data"
    }
   ],
   "source": [
    "sns.set_style('darkgrid')\n",
    "plt.figure(figsize=(12,4))\n",
    "gs = gridspec.GridSpec(1,4,width_ratios=[2,1,1,1])\n",
    "\n",
    "plt.subplot(gs[0])\n",
    "plt.errorbar(np.arange(coefs.shape[1]-1),coefs[coefs['Condition'] == 'Greedy'].iloc[:,1:].mean(),\n",
    "             yerr= coefs[coefs['Condition'] == 'Greedy'].iloc[:,1:].mean() / np.sqrt(np.sum(coefs['Condition'] == 'Greedy')),\n",
    "             color='red',alpha=0.5)\n",
    "plt.errorbar(np.arange(coefs.shape[1]-1),coefs[coefs['Condition'] == 'Thompson'].iloc[:,1:].mean(),\n",
    "             yerr= coefs[coefs['Condition'] == 'Thompson'].iloc[:,1:].mean() / np.sqrt(np.sum(coefs['Condition'] == 'Thompson')),\n",
    "             color='green',alpha=0.5)\n",
    "\n",
    "plt.scatter(np.arange(coefs.shape[1]-1),coefs[coefs['Condition'] == 'Greedy'].iloc[:,1:].mean(),\n",
    "            color='red',label='90-10',s=50)\n",
    "plt.scatter(np.arange(coefs.shape[1]-1),coefs[coefs['Condition'] == 'Thompson'].iloc[:,1:].mean(),\n",
    "            color='green',label='80-20',s=50)\n",
    "\n",
    "plt.legend(loc='upper left')\n",
    "plt.xticks(np.arange(coefs.shape[1]),coefs.columns.values[1:],rotation='vertical')\n",
    "plt.xlim(-0.5,8.5)\n",
    "plt.title('Regression Coefficients')\n",
    "\n",
    "plt.subplot(gs[1])\n",
    "sns.barplot(x='Condition',y='Accuracy',data=stats)\n",
    "plt.title('Accuracy (test)')\n",
    "plt.ylim(0.7,1)\n",
    "\n",
    "plt.subplot(gs[2])\n",
    "sns.barplot(x='Condition',y='F1',data=stats)\n",
    "plt.title('F1 (test)')\n",
    "#plt.ylim(0.7,1)\n",
    "\n",
    "plt.tight_layout()"
   ]
  },
  {
   "cell_type": "markdown",
   "metadata": {},
   "source": [
    "## Test number of parameters / model flexibility vs BIC"
   ]
  },
  {
   "cell_type": "code",
   "execution_count": 29,
   "metadata": {
    "collapsed": false
   },
   "outputs": [
    {
     "data": {
      "text/html": [
       "<div>\n",
       "<table border=\"1\" class=\"dataframe\">\n",
       "  <thead>\n",
       "    <tr style=\"text-align: right;\">\n",
       "      <th></th>\n",
       "      <th>Condition</th>\n",
       "      <th>Accuracy</th>\n",
       "      <th>BIC</th>\n",
       "      <th>F1</th>\n",
       "      <th>negative loglikelihood</th>\n",
       "      <th>pseudo-R2</th>\n",
       "    </tr>\n",
       "  </thead>\n",
       "  <tbody>\n",
       "    <tr>\n",
       "      <th>0</th>\n",
       "      <td>70.0</td>\n",
       "      <td>0.861862</td>\n",
       "      <td>5225.774873</td>\n",
       "      <td>0.566038</td>\n",
       "      <td>2577.476777</td>\n",
       "      <td>0.468250</td>\n",
       "    </tr>\n",
       "    <tr>\n",
       "      <th>0</th>\n",
       "      <td>70.0</td>\n",
       "      <td>0.858859</td>\n",
       "      <td>5143.249004</td>\n",
       "      <td>0.567926</td>\n",
       "      <td>2536.213842</td>\n",
       "      <td>0.476742</td>\n",
       "    </tr>\n",
       "  </tbody>\n",
       "</table>\n",
       "</div>"
      ],
      "text/plain": [
       "   Condition  Accuracy          BIC        F1  negative loglikelihood  \\\n",
       "0       70.0  0.861862  5225.774873  0.566038             2577.476777   \n",
       "0       70.0  0.858859  5143.249004  0.567926             2536.213842   \n",
       "\n",
       "   pseudo-R2  \n",
       "0   0.468250  \n",
       "0   0.476742  "
      ]
     },
     "execution_count": 29,
     "metadata": {},
     "output_type": "execute_result"
    }
   ],
   "source": [
    "stats.head(2)"
   ]
  },
  {
   "cell_type": "code",
   "execution_count": 31,
   "metadata": {
    "collapsed": false,
    "scrolled": false
   },
   "outputs": [
    {
     "name": "stdout",
     "output_type": "stream",
     "text": [
      "Warning: Maximum number of iterations has been exceeded.\n",
      "         Current function value: 0.011477\n",
      "         Iterations: 35\n",
      "          Predicted NO  Predicted YES\n",
      "True NO         2853.0            0.0\n",
      "True YES           4.0          140.0\n",
      "\n",
      "F1: 0.986\n",
      "\n",
      "Accuracy on class 0: 1.00\n",
      "Accuracy on class 1: 0.97\n",
      "\n"
     ]
    },
    {
     "name": "stderr",
     "output_type": "stream",
     "text": [
      "/Users/shayneufeld/anaconda/envs/cagrin/lib/python3.5/site-packages/statsmodels/base/model.py:496: ConvergenceWarning: Maximum Likelihood optimization failed to converge. Check mle_retvals\n",
      "  \"Check mle_retvals\", ConvergenceWarning)\n"
     ]
    },
    {
     "name": "stdout",
     "output_type": "stream",
     "text": [
      "Warning: Maximum number of iterations has been exceeded.\n",
      "         Current function value: 0.009128\n",
      "         Iterations: 35\n",
      "          Predicted NO  Predicted YES\n",
      "True NO         2860.0            0.0\n",
      "True YES           5.0          132.0\n",
      "\n",
      "F1: 0.981\n",
      "\n",
      "Accuracy on class 0: 1.00\n",
      "Accuracy on class 1: 0.96\n",
      "\n"
     ]
    },
    {
     "name": "stderr",
     "output_type": "stream",
     "text": [
      "/Users/shayneufeld/anaconda/envs/cagrin/lib/python3.5/site-packages/statsmodels/base/model.py:496: ConvergenceWarning: Maximum Likelihood optimization failed to converge. Check mle_retvals\n",
      "  \"Check mle_retvals\", ConvergenceWarning)\n"
     ]
    },
    {
     "name": "stdout",
     "output_type": "stream",
     "text": [
      "Warning: Maximum number of iterations has been exceeded.\n",
      "         Current function value: 0.008785\n",
      "         Iterations: 35\n",
      "          Predicted NO  Predicted YES\n",
      "True NO         2862.0            0.0\n",
      "True YES           5.0          130.0\n",
      "\n",
      "F1: 0.981\n",
      "\n",
      "Accuracy on class 0: 1.00\n",
      "Accuracy on class 1: 0.96\n",
      "\n"
     ]
    },
    {
     "name": "stderr",
     "output_type": "stream",
     "text": [
      "/Users/shayneufeld/anaconda/envs/cagrin/lib/python3.5/site-packages/statsmodels/base/model.py:496: ConvergenceWarning: Maximum Likelihood optimization failed to converge. Check mle_retvals\n",
      "  \"Check mle_retvals\", ConvergenceWarning)\n"
     ]
    },
    {
     "name": "stdout",
     "output_type": "stream",
     "text": [
      "Warning: Maximum number of iterations has been exceeded.\n",
      "         Current function value: 0.012267\n",
      "         Iterations: 35\n",
      "          Predicted NO  Predicted YES\n",
      "True NO         2863.0            0.0\n",
      "True YES           4.0          130.0\n",
      "\n",
      "F1: 0.985\n",
      "\n",
      "Accuracy on class 0: 1.00\n",
      "Accuracy on class 1: 0.97\n",
      "\n"
     ]
    },
    {
     "name": "stderr",
     "output_type": "stream",
     "text": [
      "/Users/shayneufeld/anaconda/envs/cagrin/lib/python3.5/site-packages/statsmodels/base/model.py:496: ConvergenceWarning: Maximum Likelihood optimization failed to converge. Check mle_retvals\n",
      "  \"Check mle_retvals\", ConvergenceWarning)\n"
     ]
    },
    {
     "name": "stdout",
     "output_type": "stream",
     "text": [
      "Warning: Maximum number of iterations has been exceeded.\n",
      "         Current function value: 0.012396\n",
      "         Iterations: 35\n",
      "          Predicted NO  Predicted YES\n",
      "True NO         2858.0            0.0\n",
      "True YES           2.0          137.0\n",
      "\n",
      "F1: 0.993\n",
      "\n",
      "Accuracy on class 0: 1.00\n",
      "Accuracy on class 1: 0.99\n",
      "\n"
     ]
    },
    {
     "name": "stderr",
     "output_type": "stream",
     "text": [
      "/Users/shayneufeld/anaconda/envs/cagrin/lib/python3.5/site-packages/statsmodels/base/model.py:496: ConvergenceWarning: Maximum Likelihood optimization failed to converge. Check mle_retvals\n",
      "  \"Check mle_retvals\", ConvergenceWarning)\n"
     ]
    },
    {
     "name": "stdout",
     "output_type": "stream",
     "text": [
      "Warning: Maximum number of iterations has been exceeded.\n",
      "         Current function value: 0.011067\n",
      "         Iterations: 35\n",
      "          Predicted NO  Predicted YES\n",
      "True NO         2873.0            0.0\n",
      "True YES           3.0          121.0\n",
      "\n",
      "F1: 0.988\n",
      "\n",
      "Accuracy on class 0: 1.00\n",
      "Accuracy on class 1: 0.98\n",
      "\n"
     ]
    },
    {
     "name": "stderr",
     "output_type": "stream",
     "text": [
      "/Users/shayneufeld/anaconda/envs/cagrin/lib/python3.5/site-packages/statsmodels/base/model.py:496: ConvergenceWarning: Maximum Likelihood optimization failed to converge. Check mle_retvals\n",
      "  \"Check mle_retvals\", ConvergenceWarning)\n"
     ]
    },
    {
     "name": "stdout",
     "output_type": "stream",
     "text": [
      "Warning: Maximum number of iterations has been exceeded.\n",
      "         Current function value: 0.010968\n",
      "         Iterations: 35\n",
      "          Predicted NO  Predicted YES\n",
      "True NO         2854.0            0.0\n",
      "True YES           5.0          138.0\n",
      "\n",
      "F1: 0.982\n",
      "\n",
      "Accuracy on class 0: 1.00\n",
      "Accuracy on class 1: 0.97\n",
      "\n"
     ]
    },
    {
     "name": "stderr",
     "output_type": "stream",
     "text": [
      "/Users/shayneufeld/anaconda/envs/cagrin/lib/python3.5/site-packages/statsmodels/base/model.py:496: ConvergenceWarning: Maximum Likelihood optimization failed to converge. Check mle_retvals\n",
      "  \"Check mle_retvals\", ConvergenceWarning)\n"
     ]
    },
    {
     "name": "stdout",
     "output_type": "stream",
     "text": [
      "Warning: Maximum number of iterations has been exceeded.\n",
      "         Current function value: 0.010811\n",
      "         Iterations: 35\n",
      "          Predicted NO  Predicted YES\n",
      "True NO         2867.0            0.0\n",
      "True YES           5.0          125.0\n",
      "\n",
      "F1: 0.980\n",
      "\n",
      "Accuracy on class 0: 1.00\n",
      "Accuracy on class 1: 0.96\n",
      "\n"
     ]
    },
    {
     "name": "stderr",
     "output_type": "stream",
     "text": [
      "/Users/shayneufeld/anaconda/envs/cagrin/lib/python3.5/site-packages/statsmodels/base/model.py:496: ConvergenceWarning: Maximum Likelihood optimization failed to converge. Check mle_retvals\n",
      "  \"Check mle_retvals\", ConvergenceWarning)\n"
     ]
    },
    {
     "name": "stdout",
     "output_type": "stream",
     "text": [
      "Warning: Maximum number of iterations has been exceeded.\n",
      "         Current function value: 0.011053\n",
      "         Iterations: 35\n",
      "          Predicted NO  Predicted YES\n",
      "True NO         2863.0            0.0\n",
      "True YES           4.0          130.0\n",
      "\n",
      "F1: 0.985\n",
      "\n",
      "Accuracy on class 0: 1.00\n",
      "Accuracy on class 1: 0.97\n",
      "\n"
     ]
    },
    {
     "name": "stderr",
     "output_type": "stream",
     "text": [
      "/Users/shayneufeld/anaconda/envs/cagrin/lib/python3.5/site-packages/statsmodels/base/model.py:496: ConvergenceWarning: Maximum Likelihood optimization failed to converge. Check mle_retvals\n",
      "  \"Check mle_retvals\", ConvergenceWarning)\n"
     ]
    },
    {
     "name": "stdout",
     "output_type": "stream",
     "text": [
      "Warning: Maximum number of iterations has been exceeded.\n",
      "         Current function value: 0.011682\n",
      "         Iterations: 35\n",
      "          Predicted NO  Predicted YES\n",
      "True NO         2862.0            0.0\n",
      "True YES           3.0          132.0\n",
      "\n",
      "F1: 0.989\n",
      "\n",
      "Accuracy on class 0: 1.00\n",
      "Accuracy on class 1: 0.98\n",
      "\n"
     ]
    },
    {
     "name": "stderr",
     "output_type": "stream",
     "text": [
      "/Users/shayneufeld/anaconda/envs/cagrin/lib/python3.5/site-packages/statsmodels/base/model.py:496: ConvergenceWarning: Maximum Likelihood optimization failed to converge. Check mle_retvals\n",
      "  \"Check mle_retvals\", ConvergenceWarning)\n"
     ]
    },
    {
     "name": "stdout",
     "output_type": "stream",
     "text": [
      "Warning: Maximum number of iterations has been exceeded.\n",
      "         Current function value: 0.009077\n",
      "         Iterations: 35\n",
      "          Predicted NO  Predicted YES\n",
      "True NO         2846.0            3.0\n",
      "True YES           4.0          144.0\n",
      "\n",
      "F1: 0.976\n",
      "\n",
      "Accuracy on class 0: 1.00\n",
      "Accuracy on class 1: 0.97\n",
      "\n"
     ]
    },
    {
     "name": "stderr",
     "output_type": "stream",
     "text": [
      "/Users/shayneufeld/anaconda/envs/cagrin/lib/python3.5/site-packages/statsmodels/base/model.py:496: ConvergenceWarning: Maximum Likelihood optimization failed to converge. Check mle_retvals\n",
      "  \"Check mle_retvals\", ConvergenceWarning)\n"
     ]
    },
    {
     "name": "stdout",
     "output_type": "stream",
     "text": [
      "Warning: Maximum number of iterations has been exceeded.\n",
      "         Current function value: 0.011080\n",
      "         Iterations: 35\n",
      "          Predicted NO  Predicted YES\n",
      "True NO         2864.0            0.0\n",
      "True YES           3.0          130.0\n",
      "\n",
      "F1: 0.989\n",
      "\n",
      "Accuracy on class 0: 1.00\n",
      "Accuracy on class 1: 0.98\n",
      "\n"
     ]
    },
    {
     "name": "stderr",
     "output_type": "stream",
     "text": [
      "/Users/shayneufeld/anaconda/envs/cagrin/lib/python3.5/site-packages/statsmodels/base/model.py:496: ConvergenceWarning: Maximum Likelihood optimization failed to converge. Check mle_retvals\n",
      "  \"Check mle_retvals\", ConvergenceWarning)\n"
     ]
    },
    {
     "name": "stdout",
     "output_type": "stream",
     "text": [
      "Warning: Maximum number of iterations has been exceeded.\n",
      "         Current function value: 0.012422\n",
      "         Iterations: 35\n",
      "          Predicted NO  Predicted YES\n",
      "True NO         2871.0            0.0\n",
      "True YES           3.0          123.0\n",
      "\n",
      "F1: 0.988\n",
      "\n",
      "Accuracy on class 0: 1.00\n",
      "Accuracy on class 1: 0.98\n",
      "\n"
     ]
    },
    {
     "name": "stderr",
     "output_type": "stream",
     "text": [
      "/Users/shayneufeld/anaconda/envs/cagrin/lib/python3.5/site-packages/statsmodels/base/model.py:496: ConvergenceWarning: Maximum Likelihood optimization failed to converge. Check mle_retvals\n",
      "  \"Check mle_retvals\", ConvergenceWarning)\n"
     ]
    },
    {
     "name": "stdout",
     "output_type": "stream",
     "text": [
      "Warning: Maximum number of iterations has been exceeded.\n",
      "         Current function value: inf\n",
      "         Iterations: 35\n"
     ]
    },
    {
     "name": "stderr",
     "output_type": "stream",
     "text": [
      "/Users/shayneufeld/anaconda/envs/cagrin/lib/python3.5/site-packages/statsmodels/discrete/discrete_model.py:1214: RuntimeWarning: overflow encountered in exp\n",
      "  return 1/(1+np.exp(-X))\n",
      "/Users/shayneufeld/anaconda/envs/cagrin/lib/python3.5/site-packages/statsmodels/discrete/discrete_model.py:1264: RuntimeWarning: divide by zero encountered in log\n",
      "  return np.sum(np.log(self.cdf(q*np.dot(X,params))))\n"
     ]
    },
    {
     "ename": "LinAlgError",
     "evalue": "Singular matrix",
     "output_type": "error",
     "traceback": [
      "\u001b[0;31m---------------------------------------------------------------------------\u001b[0m",
      "\u001b[0;31mLinAlgError\u001b[0m                               Traceback (most recent call last)",
      "\u001b[0;32m<ipython-input-31-1d0c9015f1e2>\u001b[0m in \u001b[0;36m<module>\u001b[0;34m()\u001b[0m\n\u001b[1;32m      5\u001b[0m \u001b[0;34m\u001b[0m\u001b[0m\n\u001b[1;32m      6\u001b[0m     \u001b[0;32mfor\u001b[0m \u001b[0mj\u001b[0m \u001b[0;32min\u001b[0m \u001b[0menumerate\u001b[0m\u001b[0;34m(\u001b[0m\u001b[0mrange\u001b[0m\u001b[0;34m(\u001b[0m\u001b[0;36m30\u001b[0m\u001b[0;34m)\u001b[0m\u001b[0;34m)\u001b[0m\u001b[0;34m:\u001b[0m\u001b[0;34m\u001b[0m\u001b[0m\n\u001b[0;32m----> 7\u001b[0;31m         \u001b[0mmodel_curr\u001b[0m\u001b[0;34m,\u001b[0m\u001b[0mstats_curr\u001b[0m\u001b[0;34m,\u001b[0m\u001b[0mcoefs_curr\u001b[0m \u001b[0;34m=\u001b[0m \u001b[0mlogreg_and_eval\u001b[0m\u001b[0;34m(\u001b[0m\u001b[0md\u001b[0m\u001b[0;34m,\u001b[0m\u001b[0mnum_rewards\u001b[0m\u001b[0;34m=\u001b[0m\u001b[0mn\u001b[0m\u001b[0;34m)\u001b[0m\u001b[0;34m\u001b[0m\u001b[0m\n\u001b[0m\u001b[1;32m      8\u001b[0m         \u001b[0mmodels\u001b[0m\u001b[0;34m.\u001b[0m\u001b[0mappend\u001b[0m\u001b[0;34m(\u001b[0m\u001b[0mmodels\u001b[0m\u001b[0;34m)\u001b[0m\u001b[0;34m\u001b[0m\u001b[0m\n\u001b[1;32m      9\u001b[0m         \u001b[0mstats_curr\u001b[0m\u001b[0;34m[\u001b[0m\u001b[0;34m'No. parameters'\u001b[0m\u001b[0;34m]\u001b[0m \u001b[0;34m=\u001b[0m \u001b[0mn\u001b[0m\u001b[0;34m\u001b[0m\u001b[0m\n",
      "\u001b[0;32m<ipython-input-3-d5ffe30cc168>\u001b[0m in \u001b[0;36mlogreg_and_eval\u001b[0;34m(data, num_rewards, test_data)\u001b[0m\n\u001b[1;32m    107\u001b[0m     \u001b[0;31m#calculating pseudo-R2 and BIC from statsmodel OLS\u001b[0m\u001b[0;34m\u001b[0m\u001b[0;34m\u001b[0m\u001b[0m\n\u001b[1;32m    108\u001b[0m     \u001b[0mmodel\u001b[0m \u001b[0;34m=\u001b[0m \u001b[0mLogit\u001b[0m\u001b[0;34m(\u001b[0m\u001b[0my_train\u001b[0m\u001b[0;34m,\u001b[0m\u001b[0mx_train\u001b[0m\u001b[0;34m)\u001b[0m\u001b[0;34m\u001b[0m\u001b[0m\n\u001b[0;32m--> 109\u001b[0;31m     \u001b[0mrslt\u001b[0m  \u001b[0;34m=\u001b[0m \u001b[0mmodel\u001b[0m\u001b[0;34m.\u001b[0m\u001b[0mfit\u001b[0m\u001b[0;34m(\u001b[0m\u001b[0;34m)\u001b[0m\u001b[0;34m\u001b[0m\u001b[0m\n\u001b[0m\u001b[1;32m    110\u001b[0m \u001b[0;34m\u001b[0m\u001b[0m\n\u001b[1;32m    111\u001b[0m     \u001b[0;31m#switches\u001b[0m\u001b[0;34m\u001b[0m\u001b[0;34m\u001b[0m\u001b[0m\n",
      "\u001b[0;32m/Users/shayneufeld/anaconda/envs/cagrin/lib/python3.5/site-packages/statsmodels/discrete/discrete_model.py\u001b[0m in \u001b[0;36mfit\u001b[0;34m(self, start_params, method, maxiter, full_output, disp, callback, **kwargs)\u001b[0m\n\u001b[1;32m   1375\u001b[0m         bnryfit = super(Logit, self).fit(start_params=start_params,\n\u001b[1;32m   1376\u001b[0m                 \u001b[0mmethod\u001b[0m\u001b[0;34m=\u001b[0m\u001b[0mmethod\u001b[0m\u001b[0;34m,\u001b[0m \u001b[0mmaxiter\u001b[0m\u001b[0;34m=\u001b[0m\u001b[0mmaxiter\u001b[0m\u001b[0;34m,\u001b[0m \u001b[0mfull_output\u001b[0m\u001b[0;34m=\u001b[0m\u001b[0mfull_output\u001b[0m\u001b[0;34m,\u001b[0m\u001b[0;34m\u001b[0m\u001b[0m\n\u001b[0;32m-> 1377\u001b[0;31m                 disp=disp, callback=callback, **kwargs)\n\u001b[0m\u001b[1;32m   1378\u001b[0m \u001b[0;34m\u001b[0m\u001b[0m\n\u001b[1;32m   1379\u001b[0m         \u001b[0mdiscretefit\u001b[0m \u001b[0;34m=\u001b[0m \u001b[0mLogitResults\u001b[0m\u001b[0;34m(\u001b[0m\u001b[0mself\u001b[0m\u001b[0;34m,\u001b[0m \u001b[0mbnryfit\u001b[0m\u001b[0;34m)\u001b[0m\u001b[0;34m\u001b[0m\u001b[0m\n",
      "\u001b[0;32m/Users/shayneufeld/anaconda/envs/cagrin/lib/python3.5/site-packages/statsmodels/discrete/discrete_model.py\u001b[0m in \u001b[0;36mfit\u001b[0;34m(self, start_params, method, maxiter, full_output, disp, callback, **kwargs)\u001b[0m\n\u001b[1;32m    202\u001b[0m         mlefit = super(DiscreteModel, self).fit(start_params=start_params,\n\u001b[1;32m    203\u001b[0m                 \u001b[0mmethod\u001b[0m\u001b[0;34m=\u001b[0m\u001b[0mmethod\u001b[0m\u001b[0;34m,\u001b[0m \u001b[0mmaxiter\u001b[0m\u001b[0;34m=\u001b[0m\u001b[0mmaxiter\u001b[0m\u001b[0;34m,\u001b[0m \u001b[0mfull_output\u001b[0m\u001b[0;34m=\u001b[0m\u001b[0mfull_output\u001b[0m\u001b[0;34m,\u001b[0m\u001b[0;34m\u001b[0m\u001b[0m\n\u001b[0;32m--> 204\u001b[0;31m                 disp=disp, callback=callback, **kwargs)\n\u001b[0m\u001b[1;32m    205\u001b[0m \u001b[0;34m\u001b[0m\u001b[0m\n\u001b[1;32m    206\u001b[0m         \u001b[0;32mreturn\u001b[0m \u001b[0mmlefit\u001b[0m \u001b[0;31m# up to subclasses to wrap results\u001b[0m\u001b[0;34m\u001b[0m\u001b[0m\n",
      "\u001b[0;32m/Users/shayneufeld/anaconda/envs/cagrin/lib/python3.5/site-packages/statsmodels/base/model.py\u001b[0m in \u001b[0;36mfit\u001b[0;34m(self, start_params, method, maxiter, full_output, disp, fargs, callback, retall, skip_hessian, **kwargs)\u001b[0m\n\u001b[1;32m    456\u001b[0m             \u001b[0mHinv\u001b[0m \u001b[0;34m=\u001b[0m \u001b[0mcov_params_func\u001b[0m\u001b[0;34m(\u001b[0m\u001b[0mself\u001b[0m\u001b[0;34m,\u001b[0m \u001b[0mxopt\u001b[0m\u001b[0;34m,\u001b[0m \u001b[0mretvals\u001b[0m\u001b[0;34m)\u001b[0m\u001b[0;34m\u001b[0m\u001b[0m\n\u001b[1;32m    457\u001b[0m         \u001b[0;32melif\u001b[0m \u001b[0mmethod\u001b[0m \u001b[0;34m==\u001b[0m \u001b[0;34m'newton'\u001b[0m \u001b[0;32mand\u001b[0m \u001b[0mfull_output\u001b[0m\u001b[0;34m:\u001b[0m\u001b[0;34m\u001b[0m\u001b[0m\n\u001b[0;32m--> 458\u001b[0;31m             \u001b[0mHinv\u001b[0m \u001b[0;34m=\u001b[0m \u001b[0mnp\u001b[0m\u001b[0;34m.\u001b[0m\u001b[0mlinalg\u001b[0m\u001b[0;34m.\u001b[0m\u001b[0minv\u001b[0m\u001b[0;34m(\u001b[0m\u001b[0;34m-\u001b[0m\u001b[0mretvals\u001b[0m\u001b[0;34m[\u001b[0m\u001b[0;34m'Hessian'\u001b[0m\u001b[0;34m]\u001b[0m\u001b[0;34m)\u001b[0m \u001b[0;34m/\u001b[0m \u001b[0mnobs\u001b[0m\u001b[0;34m\u001b[0m\u001b[0m\n\u001b[0m\u001b[1;32m    459\u001b[0m         \u001b[0;32melif\u001b[0m \u001b[0;32mnot\u001b[0m \u001b[0mskip_hessian\u001b[0m\u001b[0;34m:\u001b[0m\u001b[0;34m\u001b[0m\u001b[0m\n\u001b[1;32m    460\u001b[0m             \u001b[0mH\u001b[0m \u001b[0;34m=\u001b[0m \u001b[0;34m-\u001b[0m\u001b[0;36m1\u001b[0m \u001b[0;34m*\u001b[0m \u001b[0mself\u001b[0m\u001b[0;34m.\u001b[0m\u001b[0mhessian\u001b[0m\u001b[0;34m(\u001b[0m\u001b[0mxopt\u001b[0m\u001b[0;34m)\u001b[0m\u001b[0;34m\u001b[0m\u001b[0m\n",
      "\u001b[0;32m/Users/shayneufeld/anaconda/envs/cagrin/lib/python3.5/site-packages/numpy/linalg/linalg.py\u001b[0m in \u001b[0;36minv\u001b[0;34m(a)\u001b[0m\n\u001b[1;32m    524\u001b[0m     \u001b[0msignature\u001b[0m \u001b[0;34m=\u001b[0m \u001b[0;34m'D->D'\u001b[0m \u001b[0;32mif\u001b[0m \u001b[0misComplexType\u001b[0m\u001b[0;34m(\u001b[0m\u001b[0mt\u001b[0m\u001b[0;34m)\u001b[0m \u001b[0;32melse\u001b[0m \u001b[0;34m'd->d'\u001b[0m\u001b[0;34m\u001b[0m\u001b[0m\n\u001b[1;32m    525\u001b[0m     \u001b[0mextobj\u001b[0m \u001b[0;34m=\u001b[0m \u001b[0mget_linalg_error_extobj\u001b[0m\u001b[0;34m(\u001b[0m\u001b[0m_raise_linalgerror_singular\u001b[0m\u001b[0;34m)\u001b[0m\u001b[0;34m\u001b[0m\u001b[0m\n\u001b[0;32m--> 526\u001b[0;31m     \u001b[0mainv\u001b[0m \u001b[0;34m=\u001b[0m \u001b[0m_umath_linalg\u001b[0m\u001b[0;34m.\u001b[0m\u001b[0minv\u001b[0m\u001b[0;34m(\u001b[0m\u001b[0ma\u001b[0m\u001b[0;34m,\u001b[0m \u001b[0msignature\u001b[0m\u001b[0;34m=\u001b[0m\u001b[0msignature\u001b[0m\u001b[0;34m,\u001b[0m \u001b[0mextobj\u001b[0m\u001b[0;34m=\u001b[0m\u001b[0mextobj\u001b[0m\u001b[0;34m)\u001b[0m\u001b[0;34m\u001b[0m\u001b[0m\n\u001b[0m\u001b[1;32m    527\u001b[0m     \u001b[0;32mreturn\u001b[0m \u001b[0mwrap\u001b[0m\u001b[0;34m(\u001b[0m\u001b[0mainv\u001b[0m\u001b[0;34m.\u001b[0m\u001b[0mastype\u001b[0m\u001b[0;34m(\u001b[0m\u001b[0mresult_t\u001b[0m\u001b[0;34m,\u001b[0m \u001b[0mcopy\u001b[0m\u001b[0;34m=\u001b[0m\u001b[0;32mFalse\u001b[0m\u001b[0;34m)\u001b[0m\u001b[0;34m)\u001b[0m\u001b[0;34m\u001b[0m\u001b[0m\n\u001b[1;32m    528\u001b[0m \u001b[0;34m\u001b[0m\u001b[0m\n",
      "\u001b[0;32m/Users/shayneufeld/anaconda/envs/cagrin/lib/python3.5/site-packages/numpy/linalg/linalg.py\u001b[0m in \u001b[0;36m_raise_linalgerror_singular\u001b[0;34m(err, flag)\u001b[0m\n\u001b[1;32m     88\u001b[0m \u001b[0;34m\u001b[0m\u001b[0m\n\u001b[1;32m     89\u001b[0m \u001b[0;32mdef\u001b[0m \u001b[0m_raise_linalgerror_singular\u001b[0m\u001b[0;34m(\u001b[0m\u001b[0merr\u001b[0m\u001b[0;34m,\u001b[0m \u001b[0mflag\u001b[0m\u001b[0;34m)\u001b[0m\u001b[0;34m:\u001b[0m\u001b[0;34m\u001b[0m\u001b[0m\n\u001b[0;32m---> 90\u001b[0;31m     \u001b[0;32mraise\u001b[0m \u001b[0mLinAlgError\u001b[0m\u001b[0;34m(\u001b[0m\u001b[0;34m\"Singular matrix\"\u001b[0m\u001b[0;34m)\u001b[0m\u001b[0;34m\u001b[0m\u001b[0m\n\u001b[0m\u001b[1;32m     91\u001b[0m \u001b[0;34m\u001b[0m\u001b[0m\n\u001b[1;32m     92\u001b[0m \u001b[0;32mdef\u001b[0m \u001b[0m_raise_linalgerror_nonposdef\u001b[0m\u001b[0;34m(\u001b[0m\u001b[0merr\u001b[0m\u001b[0;34m,\u001b[0m \u001b[0mflag\u001b[0m\u001b[0;34m)\u001b[0m\u001b[0;34m:\u001b[0m\u001b[0;34m\u001b[0m\u001b[0m\n",
      "\u001b[0;31mLinAlgError\u001b[0m: Singular matrix"
     ]
    }
   ],
   "source": [
    "d = data_80.copy()\n",
    "stats = pd.DataFrame(columns=['Accuracy','BIC','negative loglikelihood','pseudo-R2','No. parameters'])\n",
    "\n",
    "for i,n in enumerate(np.arange(10,0,-1)):\n",
    "    \n",
    "    for j in enumerate(range(30)):\n",
    "        model_curr,stats_curr,coefs_curr = logreg_and_eval(d,num_rewards=n)\n",
    "        models.append(models)\n",
    "        stats_curr['No. parameters'] = n\n",
    "        stats = stats.append(stats_curr)"
   ]
  },
  {
   "cell_type": "code",
   "execution_count": 32,
   "metadata": {
    "collapsed": false
   },
   "outputs": [
    {
     "data": {
      "text/plain": [
       "<matplotlib.text.Text at 0x104221780>"
      ]
     },
     "execution_count": 32,
     "metadata": {},
     "output_type": "execute_result"
    },
    {
     "data": {
      "text/plain": [
       "<matplotlib.figure.Figure at 0x10fe31668>"
      ]
     },
     "metadata": {},
     "output_type": "display_data"
    },
    {
     "data": {
      "image/png": "[encoded data removed]",
      "text/plain": [
       "<matplotlib.figure.Figure at 0x10421d780>"
      ]
     },
     "metadata": {},
     "output_type": "display_data"
    }
   ],
   "source": [
    "plt.figure(figsize=(10,4))\n",
    "sns.factorplot(x='No. parameters',y='BIC',data=stats,color='black')\n",
    "plt.title('BIC vs model flexibility')"
   ]
  },
  {
   "cell_type": "code",
   "execution_count": null,
   "metadata": {
    "collapsed": false,
    "scrolled": true
   },
   "outputs": [],
   "source": [
    "BIC = np.zeros((10,10))\n",
    "F1 = np.zeros((10,10))\n",
    "R2 = np.zeros((10,10))\n",
    "acc = np.zeros((10,10))\n",
    "\n",
    "for i in range(10):\n",
    "    for j in range(10):\n",
    "        if not ((j==0) & (i==0)):\n",
    "            model_curr,stats_curr,coefs_curr = logreg_and_eval_withports(d,num_rewards=i,num_ports=j)\n",
    "            BIC[i,j] = stats_curr['BIC'].values\n",
    "            F1[i,j] = stats_curr['F1'].values\n",
    "            R2[i,j] = stats_curr['pseudo-R2'].values\n",
    "            acc[i,j] = stats_curr['Accuracy'].values"
   ]
  },
  {
   "cell_type": "code",
   "execution_count": null,
   "metadata": {
    "collapsed": false
   },
   "outputs": [],
   "source": [
    "plt.figure(figsize=(20,5))\n",
    "plt.suptitle('Model behavior vs # of rewards and decisions included',x=0.5,y=1.05,fontsize=20)\n",
    "\n",
    "plt.subplot(141)\n",
    "sns.heatmap(BIC,vmin=1500,vmax=3000)\n",
    "plt.xlabel('# previous decisions in model',fontsize=15)\n",
    "plt.ylabel('# previous reward outcomes in model',fontsize=15)\n",
    "plt.title('BIC',fontsize=15)\n",
    "\n",
    "plt.subplot(142)\n",
    "sns.heatmap(F1)\n",
    "plt.xlabel('# previous decisions in model',fontsize=15)\n",
    "plt.ylabel('# previous reward outcomes in model',fontsize=15)\n",
    "plt.title('F1',fontsize=15)\n",
    "\n",
    "plt.subplot(143)\n",
    "sns.heatmap(R2,vmin=0.5)\n",
    "plt.xlabel('# previous decisions in model',fontsize=15)\n",
    "plt.ylabel('# previous reward outcomes in model',fontsize=15)\n",
    "plt.title('R2')\n",
    "\n",
    "plt.subplot(144)\n",
    "sns.heatmap(acc,vmin=0.8)\n",
    "plt.xlabel('# previous decisions in model',fontsize=15)\n",
    "plt.ylabel('# previous reward outcomes in model',fontsize=15)\n",
    "plt.title('Accuracy')\n",
    "\n",
    "plt.tight_layout()"
   ]
  },
  {
   "cell_type": "markdown",
   "metadata": {},
   "source": [
    "# Training / testing on different conditions"
   ]
  },
  {
   "cell_type": "markdown",
   "metadata": {},
   "source": [
    "### 1. Train on 90-10, test on 80-20 and 70-30"
   ]
  },
  {
   "cell_type": "code",
   "execution_count": null,
   "metadata": {
    "collapsed": false
   },
   "outputs": [],
   "source": [
    "for i,d in enumerate([data_90,data_80,data_70]):\n",
    "    \n",
    "    if i == 0:\n",
    "        model,stats,coefs = logreg_and_eval(d)\n",
    "    else:\n",
    "        model,stats_curr,coefs_curr = logreg_and_eval(data_90,test_data = d)\n",
    "        \n",
    "        stats = stats.append(stats_curr)\n",
    "        coefs = coefs.append(coefs_curr)\n",
    "\n",
    "stats_90 = stats.drop(['BIC','negative loglikelihood','pseudo-R2'],axis=1)"
   ]
  },
  {
   "cell_type": "code",
   "execution_count": null,
   "metadata": {
    "collapsed": false,
    "scrolled": true
   },
   "outputs": [],
   "source": [
    "stats_90['Testing Condition'] = [90,80,70]\n",
    "stats_90"
   ]
  },
  {
   "cell_type": "markdown",
   "metadata": {},
   "source": [
    "So this is interesting - accuracy stays pretty much the same across conditions, but F1 goes way down. And if we take a look at the confusion tables above, we can see it is because the accuracy on the switches went down (and accuracy on stays went up. "
   ]
  },
  {
   "cell_type": "markdown",
   "metadata": {},
   "source": [
    "### 2. Train on 80-20"
   ]
  },
  {
   "cell_type": "code",
   "execution_count": null,
   "metadata": {
    "collapsed": false,
    "scrolled": false
   },
   "outputs": [],
   "source": [
    "for i,d in enumerate([data_80,data_90,data_70]):\n",
    "    \n",
    "    if i == 0:\n",
    "        model,stats,coefs = logreg_and_eval(d)\n",
    "    else:\n",
    "        model,stats_curr,coefs_curr = logreg_and_eval(data_80,test_data = d)\n",
    "        \n",
    "        stats = stats.append(stats_curr)\n",
    "        coefs = coefs.append(coefs_curr)\n",
    "\n",
    "stats_80 = stats.drop(['BIC','negative loglikelihood','pseudo-R2'],axis=1)\n",
    "\n",
    "stats_80['Testing Condition'] = [80,90,70]\n",
    "stats_80"
   ]
  },
  {
   "cell_type": "markdown",
   "metadata": {},
   "source": [
    "### 3. Train on 70-30"
   ]
  },
  {
   "cell_type": "code",
   "execution_count": null,
   "metadata": {
    "collapsed": false,
    "scrolled": false
   },
   "outputs": [],
   "source": [
    "for i,d in enumerate([data_70,data_80,data_90]):\n",
    "    \n",
    "    if i == 0:\n",
    "        model,stats,coefs = logreg_and_eval(d)\n",
    "    else:\n",
    "        model,stats_curr,coefs_curr = logreg_and_eval(data_70,test_data = d)\n",
    "        \n",
    "        stats = stats.append(stats_curr)\n",
    "        coefs = coefs.append(coefs_curr)\n",
    "\n",
    "stats_70 = stats.drop(['BIC','negative loglikelihood','pseudo-R2'],axis=1)\n",
    "\n",
    "stats_70['Testing Condition'] = [70,80,90]\n",
    "stats_70"
   ]
  },
  {
   "cell_type": "code",
   "execution_count": null,
   "metadata": {
    "collapsed": false
   },
   "outputs": [],
   "source": [
    "f1s = np.vstack((stats_90['F1'].values,\n",
    "               stats_80['F1'].values[[1,0,2]],\n",
    "               stats_70['F1'].values[[2,1,0]]))\n",
    "sns.heatmap(f1s)\n",
    "plt.xticks([0.5,1.5,2.5],['90','80','70'])\n",
    "plt.yticks([0.5,1.5,2.5],['70','80','90'])\n",
    "plt.ylabel('Testing Condition')\n",
    "plt.xlabel('Training Condition')\n",
    "plt.title('F1 scores when trained & tested on different conditions')"
   ]
  },
  {
   "cell_type": "markdown",
   "metadata": {},
   "source": [
    "So if this is right, it means that the rules are different - what predicts a switch in 90-10 does not predict a switch in 80-20. But since most of the trials follow the last one, the accuracy doesn't drop very much. So it appears to be working fine, even though it is not. \n",
    "\n",
    "Can the difference be explained in the small differences in beta coefficient values? It must be ... what else is there? They seem similar enough that I'm surprised it makes such a difference. \n",
    "\n",
    "Let's go on to train and test on separate mice:"
   ]
  },
  {
   "cell_type": "markdown",
   "metadata": {},
   "source": [
    "# Train/test on separate mice"
   ]
  },
  {
   "cell_type": "markdown",
   "metadata": {},
   "source": [
    "First let's take a quick look at the mice's performances - specifically just at p(choose high P port):"
   ]
  },
  {
   "cell_type": "code",
   "execution_count": null,
   "metadata": {
    "collapsed": false
   },
   "outputs": [],
   "source": [
    "data_90.insert(0,'Condition',0.9)\n",
    "data_80.insert(0,'Condition',0.8)\n",
    "data_70.insert(0,'Condition',0.7)"
   ]
  },
  {
   "cell_type": "code",
   "execution_count": null,
   "metadata": {
    "collapsed": false
   },
   "outputs": [],
   "source": [
    "all_data = data_90.append(data_80)\n",
    "all_data = all_data.append(data_70)\n",
    "all_data.shape"
   ]
  },
  {
   "cell_type": "code",
   "execution_count": null,
   "metadata": {
    "collapsed": false
   },
   "outputs": [],
   "source": [
    "sns.factorplot(x='Condition',y='Higher p port',hue='Mouse ID',data = all_data,legend=False,size=5,aspect=1.7)\n",
    "plt.legend(bbox_to_anchor=(1.2,1))\n",
    "plt.xticks(fontsize=20)\n",
    "plt.yticks(fontsize=20)\n",
    "plt.xlabel('Condition',fontsize=20)\n",
    "plt.ylabel('rate higher prob port chosen',fontsize=20)\n",
    "plt.title('Average p(choose better port) for each mouse across conditions',fontsize=20,x=0.5,y=1.1)"
   ]
  },
  {
   "cell_type": "markdown",
   "metadata": {},
   "source": [
    "Okay, so based on this. Let's start with 80-20, and do a few different comparisons. \n",
    "\n",
    "1. Start by training with harry, and testing on all the others. \n",
    "2. Then try training on volde, testing on all others. \n",
    "3. Finally train on someone in the middle - like Tom or q45, and test on others"
   ]
  },
  {
   "cell_type": "code",
   "execution_count": null,
   "metadata": {
    "collapsed": false,
    "scrolled": false
   },
   "outputs": [],
   "source": [
    "'''\n",
    "Loop through mice\n",
    "'''\n",
    "mice = np.unique(data_80['Mouse ID'].values)\n",
    "\n",
    "stats = pd.DataFrame(columns=['Accuracy','F1','Training Mouse','Testing Mouse'])\n",
    "test_mice = []\n",
    "train_mice = []\n",
    "\n",
    "for mouse_train in mice:\n",
    "\n",
    "    d_train = data_80[data_80['Mouse ID'] == mouse_train].copy()\n",
    "\n",
    "    for i,mouse_test in enumerate(mice):\n",
    "        d_test = data_80[data_80['Mouse ID'] == mouse_test].copy()\n",
    "\n",
    "        if i == 0:\n",
    "            model,stats_curr,coefs = logreg_and_eval(d_train,test_data = d_test)\n",
    "            stats_curr = stats_curr.drop(['BIC','negative loglikelihood','pseudo-R2'],axis=1)\n",
    "            stats = stats.append(stats_curr)\n",
    "        else:\n",
    "            model,stats_curr,coefs_curr = logreg_and_eval(d_train,test_data = d_test)\n",
    "            stats_curr = stats_curr.drop(['BIC','negative loglikelihood','pseudo-R2'],axis=1)\n",
    "            stats= stats.append(stats_curr)\n",
    "            coefs = coefs.append(coefs_curr)\n",
    "\n",
    "        test_mice.append(mouse_test)\n",
    "        train_mice.append(mouse_train)\n",
    "\n",
    "stats['Testing Mouse'] = test_mice\n",
    "stats['Training Mouse'] = train_mice\n",
    "acc_matrix = np.reshape(stats['Accuracy'].values,(len(mice),-1)).T\n",
    "F1_matrix = np.reshape(stats['F1'].values,(len(mice),-1)).T"
   ]
  },
  {
   "cell_type": "code",
   "execution_count": null,
   "metadata": {
    "collapsed": false,
    "scrolled": false
   },
   "outputs": [],
   "source": [
    "plt.figure(figsize=(15,5))\n",
    "plt.subplot(121)\n",
    "sns.heatmap(acc_matrix)\n",
    "plt.xticks(np.arange(11)+0.5,mice,rotation='vertical')\n",
    "plt.yticks(np.arange(11)+0.5,mice[::-1],rotation='horizontal')\n",
    "plt.xlabel('Training Mouse')\n",
    "plt.ylabel('Testing Mouse')\n",
    "plt.title('Accuracy')\n",
    "\n",
    "plt.subplot(122)\n",
    "sns.heatmap(F1_matrix)\n",
    "plt.xticks(np.arange(11)+0.5,mice,rotation='vertical')\n",
    "plt.yticks(np.arange(11)+0.5,mice[::-1],rotation='horizontal')\n",
    "plt.xlabel('Training Mouse')\n",
    "plt.ylabel('Testing Mouse')\n",
    "plt.title('F1')"
   ]
  },
  {
   "cell_type": "code",
   "execution_count": null,
   "metadata": {
    "collapsed": false
   },
   "outputs": [],
   "source": [
    "data_80.head(2)"
   ]
  },
  {
   "cell_type": "code",
   "execution_count": null,
   "metadata": {
    "collapsed": false
   },
   "outputs": [],
   "source": [
    "u_switch = np.zeros(len(mice))\n",
    "u_acc = np.zeros(len(mice))\n",
    "\n",
    "for i,mouse in enumerate(mice):\n",
    "    u_switch[i] = data_80[data_80['Mouse ID']== mouse]['Switch'].mean()\n",
    "    u_acc[i] = data_80[data_80['Mouse ID']== mouse]['Higher p port'].mean()"
   ]
  },
  {
   "cell_type": "code",
   "execution_count": null,
   "metadata": {
    "collapsed": false,
    "scrolled": false
   },
   "outputs": [],
   "source": [
    "colors = sns.color_palette('hls',n_colors=len(mice))\n",
    "plt.figure(figsize=(12,5))\n",
    "plt.suptitle('Higher switch rates anti-correlate with accuracy on test mice',fontsize=20,x=0.5,y=1.1)\n",
    "plt.subplot(121)\n",
    "for i,mouse in enumerate(mice):\n",
    "    plt.scatter(u_switch[i],acc_matrix[i,:].mean(),label=mouse,c=colors[i],s=50)\n",
    "#plt.legend(bbox_to_anchor=(1.3,1))\n",
    "plt.xlabel('mean switch rate')\n",
    "plt.ylabel('mean accuracy when used as test mouse')\n",
    "plt.ylim(0.75,1)\n",
    "plt.xlim(0,0.22)\n",
    "plt.title('Testing accuracy vs mean switch rate')\n",
    "\n",
    "\n",
    "plt.subplot(122)\n",
    "for i,mouse in enumerate(mice):\n",
    "    plt.scatter(u_switch[i],acc_matrix[:,i].mean(),label=mouse,c=colors[i],s=50)\n",
    "plt.legend(bbox_to_anchor=(1.3,1))\n",
    "plt.xlabel('mean switch rate')\n",
    "plt.ylabel('mean accuracy when used as train mouse')\n",
    "plt.ylim(0.75,1)\n",
    "plt.xlim(0,0.22)\n",
    "plt.title('Training accuracy vs mean switch rate')\n",
    "\n",
    "plt.tight_layout()"
   ]
  },
  {
   "cell_type": "code",
   "execution_count": null,
   "metadata": {
    "collapsed": false
   },
   "outputs": [],
   "source": [
    "colors = sns.color_palette('hls',n_colors=len(mice))\n",
    "plt.figure(figsize=(12,5))\n",
    "plt.suptitle('Higher switch rates correlate with F1 score on test mice',fontsize=20,x=0.5,y=1.1)\n",
    "plt.subplot(121)\n",
    "for i,mouse in enumerate(mice):\n",
    "    plt.scatter(u_switch[i],F1_matrix[i,:].mean(),label=mouse,c=colors[i],s=50)\n",
    "#plt.legend(bbox_to_anchor=(1.3,1))\n",
    "plt.xlabel('mean switch rate')\n",
    "plt.ylabel('mean F1 when used as test mouse')\n",
    "#plt.ylim(0.75,1)\n",
    "#plt.xlim(0,0.22)\n",
    "plt.title('Testing F1 vs mean switch rate')\n",
    "\n",
    "\n",
    "plt.subplot(122)\n",
    "for i,mouse in enumerate(mice):\n",
    "    plt.scatter(u_switch[i],F1_matrix[:,i].mean(),label=mouse,c=colors[i],s=50)\n",
    "plt.legend(bbox_to_anchor=(1.3,1))\n",
    "plt.xlabel('mean switch rate')\n",
    "plt.ylabel('mean F1 when used as train mouse')\n",
    "#plt.ylim(0.75,1)\n",
    "#plt.xlim(0,0.22)\n",
    "plt.title('Training F1 vs mean switch rate')\n",
    "\n",
    "plt.tight_layout()"
   ]
  },
  {
   "cell_type": "code",
   "execution_count": null,
   "metadata": {
    "collapsed": false
   },
   "outputs": [],
   "source": [
    "colors = sns.color_palette('hls',n_colors=len(mice))\n",
    "plt.figure(figsize=(12,5))\n",
    "plt.suptitle('Better behavior correlates with accuracy score on test mice',fontsize=20,x=0.5,y=1.1)\n",
    "plt.subplot(121)\n",
    "for i,mouse in enumerate(mice):\n",
    "    plt.scatter(u_acc[i],acc_matrix[i,:].mean(),label=mouse,c=colors[i],s=50)\n",
    "#plt.legend(bbox_to_anchor=(1.3,1))\n",
    "plt.xlabel('mean p(high p port)')\n",
    "plt.ylabel('mean acc when used as test mouse')\n",
    "#plt.ylim(0.75,1)\n",
    "#plt.xlim(0,0.22)\n",
    "plt.title('Testing Acc vs mean p(high p port)')\n",
    "\n",
    "\n",
    "plt.subplot(122)\n",
    "for i,mouse in enumerate(mice):\n",
    "    plt.scatter(u_acc[i],acc_matrix[:,i].mean(),label=mouse,c=colors[i],s=50)\n",
    "plt.legend(bbox_to_anchor=(1.3,1))\n",
    "plt.xlabel('mean p(high p port)')\n",
    "plt.ylabel('mean acc when used as train mouse')\n",
    "#plt.ylim(0.75,1)\n",
    "#plt.xlim(0,0.22)\n",
    "plt.title('Training acc vs mean p(high p port)')\n",
    "\n",
    "plt.tight_layout()"
   ]
  },
  {
   "cell_type": "code",
   "execution_count": null,
   "metadata": {
    "collapsed": false
   },
   "outputs": [],
   "source": [
    "colors = sns.color_palette('hls',n_colors=len(mice))\n",
    "plt.figure(figsize=(12,5))\n",
    "plt.suptitle('p(high p port) vs F1 score',fontsize=20,x=0.5,y=1.1)\n",
    "plt.subplot(121)\n",
    "for i,mouse in enumerate(mice):\n",
    "    plt.scatter(u_acc[i],F1_matrix[i,:].mean(),label=mouse,c=colors[i],s=50)\n",
    "#plt.legend(bbox_to_anchor=(1.3,1))\n",
    "plt.xlabel('p(high p port)')\n",
    "plt.ylabel('mean F1 when used as test mouse')\n",
    "#plt.ylim(0.75,1)\n",
    "#plt.xlim(0,0.22)\n",
    "plt.title('Testing F1 vs mean switch rate')\n",
    "\n",
    "\n",
    "plt.subplot(122)\n",
    "for i,mouse in enumerate(mice):\n",
    "    plt.scatter(u_acc[i],F1_matrix[:,i].mean(),label=mouse,c=colors[i],s=50)\n",
    "plt.legend(bbox_to_anchor=(1.3,1))\n",
    "plt.xlabel('p(high p port)')\n",
    "plt.ylabel('mean F1 when used as train mouse')\n",
    "#plt.ylim(0.75,1)\n",
    "#plt.xlim(0,0.22)\n",
    "plt.title('Training F1 vs mean switch rate')\n",
    "\n",
    "plt.tight_layout()"
   ]
  }
 ],
 "metadata": {
  "anaconda-cloud": {},
  "kernelspec": {
   "display_name": "Python [conda env:cagrin]",
   "language": "python",
   "name": "conda-env-cagrin-py"
  },
  "language_info": {
   "codemirror_mode": {
    "name": "ipython",
    "version": 3
   },
   "file_extension": ".py",
   "mimetype": "text/x-python",
   "name": "python",
   "nbconvert_exporter": "python",
   "pygments_lexer": "ipython3",
   "version": "3.5.2"
  }
 },
 "nbformat": 4,
 "nbformat_minor": 1
}
