{
 "cells": [
  {
   "cell_type": "markdown",
   "metadata": {},
   "source": [
    "# Combing data from multiple days / mice / conditions to create bigger data sets"
   ]
  },
  {
   "cell_type": "code",
   "execution_count": 2,
   "metadata": {
    "collapsed": false
   },
   "outputs": [],
   "source": [
    "import sys\n",
    "sys.path.append('/Users/shayneufeld/GitHub/mouse_bandit/data_preprocessing_code')\n",
    "sys.path.append('/Users/shayneufeld/GitHub/mouse_bandit')\n",
    "import support_functions as sf\n",
    "import numpy as np\n",
    "import matplotlib.pyplot as plt\n",
    "import seaborn as sns\n",
    "import pandas as pd\n",
    "import scipy as sp\n",
    "import bandit_preprocessing as bp\n",
    "import sklearn.linear_model\n",
    "from sklearn import discriminant_analysis\n",
    "from sklearn import model_selection\n",
    "from sklearn import tree as Tree\n",
    "import sklearn.tree\n",
    "%matplotlib inline "
   ]
  },
  {
   "cell_type": "markdown",
   "metadata": {},
   "source": [
    "## load in csv files (from running exportTrials.m)"
   ]
  },
  {
   "cell_type": "code",
   "execution_count": 3,
   "metadata": {
    "collapsed": true
   },
   "outputs": [],
   "source": [
    "'''\n",
    "load in trial data\n",
    "'''\n",
    "columns = ['Elapsed Time (s)','Since last trial (s)','Trial Duration (s)','Port Poked','Right Reward Prob','Left Reward Prob','Reward Given']\n",
    "df_90 = pd.read_csv('/Users/shayneufeld/GitHub/mouse_bandit/data/trials_90_10.csv',names=columns)\n",
    "df_70 = pd.read_csv('/Users/shayneufeld/GitHub/mouse_bandit/data/trials_70_30.csv',names=columns)"
   ]
  },
  {
   "cell_type": "markdown",
   "metadata": {},
   "source": [
    "## convert into 1 feature matrix"
   ]
  },
  {
   "cell_type": "code",
   "execution_count": 4,
   "metadata": {
    "collapsed": true
   },
   "outputs": [],
   "source": [
    "#column names for feature matrix:\n",
    "feature_names = ['Previous_10_Left_Choice','Previous_10_Right_Choice','Previous_10_Left_Reward',\n",
    "                 'Previous_10_Right_Reward','Streak','5_Port','5_Reward','5_ITI','5_trialDuration',\n",
    "                 '4_Port','4_Reward','4_ITI','4_trialDuration','3_Port','3_Reward','3_ITI',\n",
    "                 '3_trialDuration','2_Port','2_Reward','2_ITI','2_trialDuration','1_Port','1_Reward',\n",
    "                 '1_ITI','1_trialDuration','0_ITI','0_trialDuration','Decision'\n",
    "                 ]"
   ]
  },
  {
   "cell_type": "code",
   "execution_count": 17,
   "metadata": {
    "collapsed": true
   },
   "outputs": [],
   "source": [
    "dfs = [df_90,df_70]\n",
    "\n",
    "for i,df in enumerate(dfs):\n",
    "    \n",
    "    curr_feature_matrix = bp.create_feature_matrix(df,10,5,feature_names)\n",
    "    \n",
    "    if i == 0:\n",
    "        master_matrix = curr_feature_matrix.copy()\n",
    "    else:\n",
    "        master_matrix = master_matrix.append(curr_feature_matrix)\n",
    "    "
   ]
  },
  {
   "cell_type": "code",
   "execution_count": 20,
   "metadata": {
    "collapsed": false,
    "scrolled": true
   },
   "outputs": [
    {
     "data": {
      "text/plain": [
       "(1032, 28)"
      ]
     },
     "execution_count": 20,
     "metadata": {},
     "output_type": "execute_result"
    }
   ],
   "source": [
    "master_matrix.shape"
   ]
  }
 ],
 "metadata": {
  "anaconda-cloud": {},
  "kernelspec": {
   "display_name": "Python [conda env:cagrin]",
   "language": "python",
   "name": "conda-env-cagrin-py"
  },
  "language_info": {
   "codemirror_mode": {
    "name": "ipython",
    "version": 3
   },
   "file_extension": ".py",
   "mimetype": "text/x-python",
   "name": "python",
   "nbconvert_exporter": "python",
   "pygments_lexer": "ipython3",
   "version": "3.5.2"
  }
 },
 "nbformat": 4,
 "nbformat_minor": 1
}
