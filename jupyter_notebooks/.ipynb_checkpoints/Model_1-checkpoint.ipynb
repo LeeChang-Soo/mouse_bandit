{
 "cells": [
  {
   "cell_type": "markdown",
   "metadata": {},
   "source": [
    "# Building Models. Attempt 1"
   ]
  },
  {
   "cell_type": "code",
   "execution_count": 2,
   "metadata": {
    "collapsed": false
   },
   "outputs": [],
   "source": [
    "import sys\n",
    "sys.path.append('/Users/shayneufeld/GitHub/mouse_bandit/data_preprocessing_code')\n",
    "sys.path.append('/Users/shayneufeld/GitHub/mouse_bandit')\n",
    "import support_functions as sf\n",
    "import numpy as np\n",
    "import matplotlib.pyplot as plt\n",
    "import seaborn as sns\n",
    "import pandas as pd\n",
    "import scipy as sp\n",
    "import bandit_preprocessing as bp\n",
    "import sklearn.linear_model\n",
    "from sklearn import discriminant_analysis\n",
    "from sklearn import model_selection\n",
    "from sklearn import tree as Tree\n",
    "import sklearn.tree\n",
    "import sys\n",
    "import os\n",
    "%matplotlib inline "
   ]
  },
  {
   "cell_type": "markdown",
   "metadata": {},
   "source": [
    "# Build a simple model\n",
    "\n",
    "Where it chooses whichever port is rewarding at > 50%"
   ]
  },
  {
   "cell_type": "code",
   "execution_count": 3,
   "metadata": {
    "collapsed": false
   },
   "outputs": [],
   "source": [
    "def play(choice,pR,pL):\n",
    "    outcome = np.zeros(2)\n",
    "    if choice == 0: #right trial\n",
    "        outcome[0] = np.random.uniform() <= pR\n",
    "        outcome[1] = -1\n",
    "    else:\n",
    "        outcome[0] = -1\n",
    "        outcome[1] = np.random.uniform() <= pL\n",
    "    \n",
    "    return outcome\n",
    "        \n",
    "\n",
    "def decide(last_choice,history):\n",
    "    decision = -1\n",
    "    \n",
    "    if last_choice == 0: #right trial\n",
    "        h = history[:,0]\n",
    "        \n",
    "        if h[h!= -1].mean() >= 0.5:\n",
    "            decision = 0\n",
    "        else:\n",
    "            decision = 1\n",
    "    \n",
    "    else: #left trial\n",
    "        h = history[:,1]\n",
    "        \n",
    "        if h[h!= -1].mean() >= 0.5:\n",
    "            decision = 1\n",
    "        else:\n",
    "            decision = 0\n",
    "    \n",
    "    return decision"
   ]
  },
  {
   "cell_type": "code",
   "execution_count": 25,
   "metadata": {
    "collapsed": false,
    "scrolled": false
   },
   "outputs": [],
   "source": [
    "def simulate(pL=0.8,pR=0.2,block_length=50,n_trials=500):\n",
    "\n",
    "    #initialize game\n",
    "    curr_block_reward = 0\n",
    "    last_choice = 0\n",
    "    choices = np.zeros(n_trials)*-1\n",
    "    outcomes = np.zeros((n_trials,2))\n",
    "    block_num = 0\n",
    "\n",
    "    trials = np.zeros((n_trials,6))\n",
    "\n",
    "    for trial in range(n_trials):\n",
    "\n",
    "        '''\n",
    "        update reward probabilities\n",
    "        '''\n",
    "        if curr_block_reward == 50:\n",
    "            pL = 1 - pL\n",
    "            pR = 1 - pR\n",
    "            curr_block_reward = 0\n",
    "            block_num +=1\n",
    "\n",
    "        '''\n",
    "        play a trial\n",
    "        '''\n",
    "\n",
    "        if trial < 5:\n",
    "            choices[trial] = decide(last_choice,outcomes[:trial,:])\n",
    "\n",
    "        else:\n",
    "            choices[trial] = decide(last_choice,outcomes[trial-5:trial,:])\n",
    "\n",
    "        outcomes[trial,:] = play(choices[trial],pR,pL)\n",
    "\n",
    "        '''\n",
    "        store trial information\n",
    "        '''\n",
    "\n",
    "        #choice\n",
    "        trials[trial,0] = choices[trial]\n",
    "        #p(R)\n",
    "        trials[trial,1] = pR\n",
    "        #p(L)\n",
    "        trials[trial,2] = pL\n",
    "        #reward\n",
    "        trials[trial,3] = outcomes[trial,choices[trial]]\n",
    "        #switch\n",
    "        if last_choice != choices[trial]:\n",
    "            trials[trial,4] = 1\n",
    "\n",
    "        #p(high)\n",
    "        if pL > pR:\n",
    "            if choices[trial] == 1:\n",
    "                trials[trial,5] = 1\n",
    "        else:\n",
    "            if choices[trial] == 0:\n",
    "                trials[trial,5] = 1\n",
    "\n",
    "\n",
    "        '''\n",
    "        update\n",
    "        '''\n",
    "        if outcomes[trial,choices[trial]] == 1:\n",
    "            curr_block_reward += 1\n",
    "\n",
    "        last_choice = choices[trial]\n",
    "        \n",
    "    '''\n",
    "    convert into dataframe\n",
    "    '''\n",
    "    model = pd.DataFrame(data = trials,index=None,columns=['Port','pR','pL','Reward','Switch','p(high) chosen'])\n",
    "        \n",
    "    return model"
   ]
  },
  {
   "cell_type": "code",
   "execution_count": 26,
   "metadata": {
    "collapsed": false
   },
   "outputs": [
    {
     "name": "stderr",
     "output_type": "stream",
     "text": [
      "//anaconda/envs/CaGRIN/lib/python3.5/site-packages/numpy/core/_methods.py:59: RuntimeWarning: Mean of empty slice.\n",
      "  warnings.warn(\"Mean of empty slice.\", RuntimeWarning)\n",
      "//anaconda/envs/CaGRIN/lib/python3.5/site-packages/ipykernel/__main__.py:46: VisibleDeprecationWarning: using a non-integer number instead of an integer will result in an error in the future\n",
      "//anaconda/envs/CaGRIN/lib/python3.5/site-packages/ipykernel/__main__.py:63: VisibleDeprecationWarning: using a non-integer number instead of an integer will result in an error in the future\n"
     ]
    }
   ],
   "source": [
    "model = simulate()"
   ]
  },
  {
   "cell_type": "code",
   "execution_count": 33,
   "metadata": {
    "collapsed": true
   },
   "outputs": [],
   "source": [
    "right_1 = np.where((model['Port']==0) & (model['Reward'] == 1))[0]\n",
    "right_0 = np.where((model['Port']==0) & (model['Reward'] == 0))[0]\n",
    "\n",
    "left_1 = np.where((model['Port']==1) & (model['Reward'] == 1))[0]\n",
    "left_0 = np.where((model['Port']==1) & (model['Reward'] == 0))[0]"
   ]
  },
  {
   "cell_type": "code",
   "execution_count": 35,
   "metadata": {
    "collapsed": false
   },
   "outputs": [
    {
     "data": {
      "text/plain": [
       "<matplotlib.text.Text at 0x114c4d048>"
      ]
     },
     "execution_count": 35,
     "metadata": {},
     "output_type": "execute_result"
    },
    {
     "data": {
      "image/png": "[encoded data removed]",
      "text/plain": [
       "<matplotlib.figure.Figure at 0x114363c18>"
      ]
     },
     "metadata": {},
     "output_type": "display_data"
    }
   ],
   "source": [
    "plt.figure(figsize=(15,5))\n",
    "#plt.scatter(np.arange(n_trials),choices)\n",
    "plt.scatter(right_1,np.zeros(right_1.shape[0]),color='green',s=50)\n",
    "plt.scatter(right_0,np.zeros(right_0.shape[0]),color='purple',s=50)\n",
    "plt.scatter(left_1,np.zeros(left_1.shape[0])+1,color='green',s=50)\n",
    "plt.scatter(left_0,np.zeros(left_0.shape[0])+1,color='purple',s=50)\n",
    "plt.xlim(100,300)\n",
    "plt.yticks([0,1],['Right','Left'],fontsize=20)\n",
    "plt.xticks(fontsize=20)\n",
    "plt.xlabel('Trial #',fontsize=20)\n",
    "plt.title('Basic Model 1 Simulation',fontsize=20)"
   ]
  },
  {
   "cell_type": "code",
   "execution_count": 37,
   "metadata": {
    "collapsed": false
   },
   "outputs": [
    {
     "name": "stderr",
     "output_type": "stream",
     "text": [
      "//anaconda/envs/CaGRIN/lib/python3.5/site-packages/numpy/core/_methods.py:59: RuntimeWarning: Mean of empty slice.\n",
      "  warnings.warn(\"Mean of empty slice.\", RuntimeWarning)\n",
      "//anaconda/envs/CaGRIN/lib/python3.5/site-packages/ipykernel/__main__.py:46: VisibleDeprecationWarning: using a non-integer number instead of an integer will result in an error in the future\n",
      "//anaconda/envs/CaGRIN/lib/python3.5/site-packages/ipykernel/__main__.py:63: VisibleDeprecationWarning: using a non-integer number instead of an integer will result in an error in the future\n"
     ]
    }
   ],
   "source": [
    "n_sims = 50\n",
    "\n",
    "p_switch_model = np.zeros(n_sims)\n",
    "for sim in range(n_sims):\n",
    "    model = simulate() \n",
    "    p_switch_model[sim] = model['p(high) chosen'].mean()"
   ]
  },
  {
   "cell_type": "markdown",
   "metadata": {},
   "source": [
    "# Compare to data"
   ]
  },
  {
   "cell_type": "code",
   "execution_count": 36,
   "metadata": {
    "collapsed": true
   },
   "outputs": [],
   "source": [
    "data = pd.read_csv('/Users/shayneufeld/GitHub/mouse_bandit/data/processed_data/new_master_8020_df.csv',index_col=0)"
   ]
  }
 ],
 "metadata": {
  "anaconda-cloud": {},
  "kernelspec": {
   "display_name": "Python [conda env:CaGRIN]",
   "language": "python",
   "name": "conda-env-CaGRIN-py"
  },
  "language_info": {
   "codemirror_mode": {
    "name": "ipython",
    "version": 3
   },
   "file_extension": ".py",
   "mimetype": "text/x-python",
   "name": "python",
   "nbconvert_exporter": "python",
   "pygments_lexer": "ipython3",
   "version": "3.5.2"
  }
 },
 "nbformat": 4,
 "nbformat_minor": 1
}
