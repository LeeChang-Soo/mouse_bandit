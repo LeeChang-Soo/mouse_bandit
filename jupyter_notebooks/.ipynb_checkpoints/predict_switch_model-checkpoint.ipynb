{
 "cells": [
  {
   "cell_type": "code",
   "execution_count": 27,
   "metadata": {
    "collapsed": false
   },
   "outputs": [],
   "source": [
    "import sys\n",
    "sys.path.append('/Users/shayneufeld/GitHub/ac209a_project/data_preprocessing_code')\n",
    "sys.path.append('/Users/shayneufeld/GitHub/ac209a_project')\n",
    "import support_functions as sf\n",
    "import numpy as np\n",
    "import matplotlib.pyplot as plt\n",
    "import seaborn as sns\n",
    "import pandas as pd\n",
    "import scipy as sp\n",
    "import bandit_preprocessing as bp\n",
    "import sklearn.linear_model\n",
    "from sklearn import discriminant_analysis\n",
    "from sklearn import cross_validation\n",
    "from sklearn import tree as Tree\n",
    "import sklearn.tree\n",
    "%matplotlib inline "
   ]
  },
  {
   "cell_type": "markdown",
   "metadata": {},
   "source": [
    "## Load in trial data and convert into feature dataframe"
   ]
  },
  {
   "cell_type": "code",
   "execution_count": 2,
   "metadata": {
    "collapsed": true
   },
   "outputs": [],
   "source": [
    "'''\n",
    "load in trial data\n",
    "'''\n",
    "columns = ['Elapsed Time (s)','Since last trial (s)','Trial Duration (s)','Port Poked','Right Reward Prob','Left Reward Prob','Reward Given']\n",
    "df_90 = pd.read_csv('/Users/shayneufeld/GitHub/ac209a_project/data/trials_90_10.csv',names=columns)\n",
    "df_70 = pd.read_csv('/Users/shayneufeld/GitHub/ac209a_project/data/trials_70_30.csv',names=columns)"
   ]
  },
  {
   "cell_type": "code",
   "execution_count": 3,
   "metadata": {
    "collapsed": true
   },
   "outputs": [],
   "source": [
    "'''\n",
    "convert into feature dataframe\n",
    "'''\n",
    "feature_names = ['Previous_10_Left_Choice',\n",
    "                 'Previous_10_Right_Choice',\n",
    "                 'Previous_10_Left_Reward',\n",
    "                 'Previous_10_Right_Reward',\n",
    "                 'Streak',\n",
    "                 '5_Port',\n",
    "                 '5_Reward',\n",
    "                 '5_ITI',\n",
    "                 '5_trialDuration',\n",
    "                 '4_Port',\n",
    "                 '4_Reward',\n",
    "                 '4_ITI',\n",
    "                 '4_trialDuration',\n",
    "                 '3_Port',\n",
    "                 '3_Reward',\n",
    "                 '3_ITI',\n",
    "                 '3_trialDuration',\n",
    "                 '2_Port',\n",
    "                 '2_Reward',\n",
    "                 '2_ITI',\n",
    "                 '2_trialDuration',\n",
    "                 '1_Port',\n",
    "                 '1_Reward',\n",
    "                 '1_ITI',\n",
    "                 '1_trialDuration',\n",
    "                 '0_ITI',\n",
    "                 '0_trialDuration',\n",
    "                 'Decision'\n",
    "                 ]"
   ]
  },
  {
   "cell_type": "code",
   "execution_count": 4,
   "metadata": {
    "collapsed": false
   },
   "outputs": [],
   "source": [
    "df = bp.create_feature_matrix(df_70,10,5,feature_names)"
   ]
  },
  {
   "cell_type": "code",
   "execution_count": 5,
   "metadata": {
    "collapsed": false,
    "scrolled": true
   },
   "outputs": [
    {
     "data": {
      "text/html": [
       "<div>\n",
       "<table border=\"1\" class=\"dataframe\">\n",
       "  <thead>\n",
       "    <tr style=\"text-align: right;\">\n",
       "      <th></th>\n",
       "      <th>Previous_10_Left_Choice</th>\n",
       "      <th>Previous_10_Right_Choice</th>\n",
       "      <th>Previous_10_Left_Reward</th>\n",
       "      <th>Previous_10_Right_Reward</th>\n",
       "      <th>Streak</th>\n",
       "      <th>5_Port</th>\n",
       "      <th>5_Reward</th>\n",
       "      <th>5_ITI</th>\n",
       "      <th>5_trialDuration</th>\n",
       "      <th>4_Port</th>\n",
       "      <th>...</th>\n",
       "      <th>2_Reward</th>\n",
       "      <th>2_ITI</th>\n",
       "      <th>2_trialDuration</th>\n",
       "      <th>1_Port</th>\n",
       "      <th>1_Reward</th>\n",
       "      <th>1_ITI</th>\n",
       "      <th>1_trialDuration</th>\n",
       "      <th>0_ITI</th>\n",
       "      <th>0_trialDuration</th>\n",
       "      <th>Decision</th>\n",
       "    </tr>\n",
       "  </thead>\n",
       "  <tbody>\n",
       "    <tr>\n",
       "      <th>0</th>\n",
       "      <td>9.0</td>\n",
       "      <td>1.0</td>\n",
       "      <td>6.0</td>\n",
       "      <td>0.0</td>\n",
       "      <td>-1.0</td>\n",
       "      <td>1.0</td>\n",
       "      <td>1.0</td>\n",
       "      <td>1.874</td>\n",
       "      <td>0.323</td>\n",
       "      <td>1.0</td>\n",
       "      <td>...</td>\n",
       "      <td>1.0</td>\n",
       "      <td>3.422</td>\n",
       "      <td>0.324</td>\n",
       "      <td>1.0</td>\n",
       "      <td>0.0</td>\n",
       "      <td>2.610</td>\n",
       "      <td>0.263</td>\n",
       "      <td>1.058</td>\n",
       "      <td>0.323</td>\n",
       "      <td>1.0</td>\n",
       "    </tr>\n",
       "    <tr>\n",
       "      <th>1</th>\n",
       "      <td>9.0</td>\n",
       "      <td>1.0</td>\n",
       "      <td>5.0</td>\n",
       "      <td>0.0</td>\n",
       "      <td>-2.0</td>\n",
       "      <td>1.0</td>\n",
       "      <td>1.0</td>\n",
       "      <td>2.184</td>\n",
       "      <td>0.307</td>\n",
       "      <td>1.0</td>\n",
       "      <td>...</td>\n",
       "      <td>0.0</td>\n",
       "      <td>2.610</td>\n",
       "      <td>0.263</td>\n",
       "      <td>1.0</td>\n",
       "      <td>0.0</td>\n",
       "      <td>1.058</td>\n",
       "      <td>0.323</td>\n",
       "      <td>1.735</td>\n",
       "      <td>0.357</td>\n",
       "      <td>1.0</td>\n",
       "    </tr>\n",
       "    <tr>\n",
       "      <th>2</th>\n",
       "      <td>9.0</td>\n",
       "      <td>1.0</td>\n",
       "      <td>5.0</td>\n",
       "      <td>0.0</td>\n",
       "      <td>-3.0</td>\n",
       "      <td>1.0</td>\n",
       "      <td>1.0</td>\n",
       "      <td>2.248</td>\n",
       "      <td>0.273</td>\n",
       "      <td>1.0</td>\n",
       "      <td>...</td>\n",
       "      <td>0.0</td>\n",
       "      <td>1.058</td>\n",
       "      <td>0.323</td>\n",
       "      <td>1.0</td>\n",
       "      <td>0.0</td>\n",
       "      <td>1.735</td>\n",
       "      <td>0.357</td>\n",
       "      <td>11.162</td>\n",
       "      <td>0.334</td>\n",
       "      <td>1.0</td>\n",
       "    </tr>\n",
       "    <tr>\n",
       "      <th>3</th>\n",
       "      <td>9.0</td>\n",
       "      <td>1.0</td>\n",
       "      <td>5.0</td>\n",
       "      <td>0.0</td>\n",
       "      <td>1.0</td>\n",
       "      <td>1.0</td>\n",
       "      <td>1.0</td>\n",
       "      <td>3.422</td>\n",
       "      <td>0.324</td>\n",
       "      <td>1.0</td>\n",
       "      <td>...</td>\n",
       "      <td>0.0</td>\n",
       "      <td>1.735</td>\n",
       "      <td>0.357</td>\n",
       "      <td>1.0</td>\n",
       "      <td>1.0</td>\n",
       "      <td>11.162</td>\n",
       "      <td>0.334</td>\n",
       "      <td>2.001</td>\n",
       "      <td>0.312</td>\n",
       "      <td>1.0</td>\n",
       "    </tr>\n",
       "    <tr>\n",
       "      <th>4</th>\n",
       "      <td>9.0</td>\n",
       "      <td>1.0</td>\n",
       "      <td>5.0</td>\n",
       "      <td>0.0</td>\n",
       "      <td>-1.0</td>\n",
       "      <td>1.0</td>\n",
       "      <td>0.0</td>\n",
       "      <td>2.610</td>\n",
       "      <td>0.263</td>\n",
       "      <td>1.0</td>\n",
       "      <td>...</td>\n",
       "      <td>1.0</td>\n",
       "      <td>11.162</td>\n",
       "      <td>0.334</td>\n",
       "      <td>1.0</td>\n",
       "      <td>0.0</td>\n",
       "      <td>2.001</td>\n",
       "      <td>0.312</td>\n",
       "      <td>1.415</td>\n",
       "      <td>0.344</td>\n",
       "      <td>1.0</td>\n",
       "    </tr>\n",
       "  </tbody>\n",
       "</table>\n",
       "<p>5 rows × 28 columns</p>\n",
       "</div>"
      ],
      "text/plain": [
       "   Previous_10_Left_Choice  Previous_10_Right_Choice  Previous_10_Left_Reward  \\\n",
       "0                      9.0                       1.0                      6.0   \n",
       "1                      9.0                       1.0                      5.0   \n",
       "2                      9.0                       1.0                      5.0   \n",
       "3                      9.0                       1.0                      5.0   \n",
       "4                      9.0                       1.0                      5.0   \n",
       "\n",
       "   Previous_10_Right_Reward  Streak  5_Port  5_Reward  5_ITI  5_trialDuration  \\\n",
       "0                       0.0    -1.0     1.0       1.0  1.874            0.323   \n",
       "1                       0.0    -2.0     1.0       1.0  2.184            0.307   \n",
       "2                       0.0    -3.0     1.0       1.0  2.248            0.273   \n",
       "3                       0.0     1.0     1.0       1.0  3.422            0.324   \n",
       "4                       0.0    -1.0     1.0       0.0  2.610            0.263   \n",
       "\n",
       "   4_Port    ...     2_Reward   2_ITI  2_trialDuration  1_Port  1_Reward  \\\n",
       "0     1.0    ...          1.0   3.422            0.324     1.0       0.0   \n",
       "1     1.0    ...          0.0   2.610            0.263     1.0       0.0   \n",
       "2     1.0    ...          0.0   1.058            0.323     1.0       0.0   \n",
       "3     1.0    ...          0.0   1.735            0.357     1.0       1.0   \n",
       "4     1.0    ...          1.0  11.162            0.334     1.0       0.0   \n",
       "\n",
       "    1_ITI  1_trialDuration   0_ITI  0_trialDuration  Decision  \n",
       "0   2.610            0.263   1.058            0.323       1.0  \n",
       "1   1.058            0.323   1.735            0.357       1.0  \n",
       "2   1.735            0.357  11.162            0.334       1.0  \n",
       "3  11.162            0.334   2.001            0.312       1.0  \n",
       "4   2.001            0.312   1.415            0.344       1.0  \n",
       "\n",
       "[5 rows x 28 columns]"
      ]
     },
     "execution_count": 5,
     "metadata": {},
     "output_type": "execute_result"
    }
   ],
   "source": [
    "df.head(5)"
   ]
  },
  {
   "cell_type": "code",
   "execution_count": 6,
   "metadata": {
    "collapsed": true
   },
   "outputs": [],
   "source": [
    "#extract features and decisions\n",
    "x = df.iloc[:,:-1].values\n",
    "y = df.iloc[:,-1].values"
   ]
  },
  {
   "cell_type": "markdown",
   "metadata": {},
   "source": [
    "# Change 'y' so that 1 corresponds to a switch, and 0 corresponds to no switch"
   ]
  },
  {
   "cell_type": "code",
   "execution_count": 7,
   "metadata": {
    "collapsed": false
   },
   "outputs": [
    {
     "name": "stdout",
     "output_type": "stream",
     "text": [
      "(556, 27)\n",
      "(556,)\n"
     ]
    }
   ],
   "source": [
    "y_diff = np.diff(y)\n",
    "x = x[:-1,:]\n",
    "y = np.abs(y_diff.copy())\n",
    "\n",
    "print(x.shape)\n",
    "print(y_diff.shape)"
   ]
  },
  {
   "cell_type": "code",
   "execution_count": 8,
   "metadata": {
    "collapsed": false
   },
   "outputs": [],
   "source": [
    "#split into training and testing\n",
    "n_trials = x.shape[0]\n",
    "shuf_inds = np.random.permutation(n_trials)\n",
    "split_ind = int(n_trials*0.7)\n",
    "\n",
    "x_train = x[shuf_inds[:split_ind],:]\n",
    "y_train = y[shuf_inds[:split_ind]]\n",
    "\n",
    "x_test = x[shuf_inds[split_ind:],:]\n",
    "y_test = y[shuf_inds[split_ind:]]"
   ]
  },
  {
   "cell_type": "code",
   "execution_count": 9,
   "metadata": {
    "collapsed": false
   },
   "outputs": [
    {
     "name": "stdout",
     "output_type": "stream",
     "text": [
      "# train trials: 389 | # switches: 39\n",
      "# test trials: 167 | # switches: 21\n"
     ]
    }
   ],
   "source": [
    "print('# train trials: %.0f | # switches: %.0f' % (x_train.shape[0],np.sum(y_train)))\n",
    "print('# test trials: %.0f | # switches: %.0f' % (x_test.shape[0],np.sum(y_test)))"
   ]
  },
  {
   "cell_type": "code",
   "execution_count": 11,
   "metadata": {
    "collapsed": false
   },
   "outputs": [
    {
     "name": "stdout",
     "output_type": "stream",
     "text": [
      "          Predicted NO  Predicted YES\n",
      "True NO          144.0            2.0\n",
      "True YES          21.0            0.0\n",
      "\n",
      "F1: 0.000\n",
      "\n",
      "Score: 0.86\n"
     ]
    }
   ],
   "source": [
    "logreg = sklearn.linear_model.LogisticRegression()\n",
    "logreg.fit(x_train,y_train)\n",
    "y_predict = logreg.predict(x_test)\n",
    "acc,F1=sf.score_F1_and_confuse(y_predict,y_test,confusion=False)"
   ]
  },
  {
   "cell_type": "markdown",
   "metadata": {},
   "source": [
    "# LDA and tune priors"
   ]
  },
  {
   "cell_type": "code",
   "execution_count": 21,
   "metadata": {
    "collapsed": false
   },
   "outputs": [],
   "source": [
    "'''\n",
    "LDA\n",
    "'''\n",
    "P = np.arange(0,1,0.01)\n",
    "\n",
    "acc_cv = []\n",
    "\n",
    "for i,p in enumerate(P):\n",
    "    prior = np.array([1.0-p,p])\n",
    "    lda = discriminant_analysis.LinearDiscriminantAnalysis(priors = prior)\n",
    "    \n",
    "    kf = cross_validation.KFold(x_train.shape[0],n_folds=3)\n",
    "    cum_acc_pos = 0\n",
    "    cum_acc_neg = 0\n",
    "    \n",
    "    for train_index,test_index in kf:\n",
    "        x_train_cv = x_train[train_index,:]\n",
    "        y_train_cv = y_train[train_index]\n",
    "        x_test_cv = x_train[test_index,:]\n",
    "        y_test_cv = y_train[test_index]\n",
    "\n",
    "        lda.fit(x_train_cv,y_train_cv)\n",
    "        y_predict = lda.predict(x_test_cv)\n",
    "        \n",
    "        acc_pos,acc_neg,F1 = sf.score_both_and_confuse(y_predict,y_test_cv,confusion=False,disp=False)\n",
    "        \n",
    "        cum_acc_pos += acc_pos\n",
    "        cum_acc_neg += acc_neg\n",
    "\n",
    "    acc_cv.append([cum_acc_pos / 3.0,cum_acc_neg / 3.0])\n",
    "\n",
    "acc_cv = np.asarray(acc_cv)"
   ]
  },
  {
   "cell_type": "code",
   "execution_count": 25,
   "metadata": {
    "collapsed": false
   },
   "outputs": [
    {
     "data": {
      "text/plain": [
       "<matplotlib.text.Text at 0x117567cd0>"
      ]
     },
     "execution_count": 25,
     "metadata": {},
     "output_type": "execute_result"
    },
    {
     "data": {
      "image/png": "[encoded data removed]",
      "text/plain": [
       "<matplotlib.figure.Figure at 0x11720bd50>"
      ]
     },
     "metadata": {},
     "output_type": "display_data"
    }
   ],
   "source": [
    "plt.figure(figsize=(10,4))\n",
    "plt.plot(P,acc_cv[:,0],color='purple',label='switching accuracy')\n",
    "plt.plot(P,acc_cv[:,1],color='black',label='staying accuracy')\n",
    "plt.hlines(y=0.5,xmin=0,xmax=1,color='black',alpha=0.7,linestyle='dotted')\n",
    "plt.legend(loc='lower right',bbox_to_anchor=[0.7,0])\n",
    "plt.xlim(0,1)\n",
    "plt.xlabel('Prior on switching')\n",
    "plt.ylabel('Model accuracy')\n",
    "plt.title('LDA')"
   ]
  },
  {
   "cell_type": "markdown",
   "metadata": {},
   "source": [
    "## Decision Tree"
   ]
  },
  {
   "cell_type": "code",
   "execution_count": 29,
   "metadata": {
    "collapsed": false
   },
   "outputs": [
    {
     "name": "stdout",
     "output_type": "stream",
     "text": [
      "          Predicted NO  Predicted YES\n",
      "True NO          135.0           11.0\n",
      "True YES          17.0            4.0\n",
      "\n",
      "F1: 0.222\n",
      "\n",
      "Accuracy on healthy patients: 0.92\n",
      "Accuracy on flu patients: 0.19\n",
      "\n"
     ]
    }
   ],
   "source": [
    "tree = Tree.DecisionTreeClassifier()\n",
    "tree.fit(x_train,y_train)\n",
    "y_predict = tree.predict(x_test)\n",
    "acc_pos,acc_neg,F1 = sf.score_both_and_confuse(y_predict,y_test,confusion=False)"
   ]
  },
  {
   "cell_type": "code",
   "execution_count": 36,
   "metadata": {
    "collapsed": false
   },
   "outputs": [
    {
     "ename": "ValueError",
     "evalue": "Class label 2 not present.",
     "output_type": "error",
     "traceback": [
      "\u001b[0;31m---------------------------------------------------------------------------\u001b[0m",
      "\u001b[0;31mValueError\u001b[0m                                Traceback (most recent call last)",
      "\u001b[0;32m<ipython-input-36-721e645c9fe2>\u001b[0m in \u001b[0;36m<module>\u001b[0;34m()\u001b[0m\n\u001b[1;32m     20\u001b[0m             \u001b[0my_test_cv\u001b[0m \u001b[0;34m=\u001b[0m \u001b[0my_train\u001b[0m\u001b[0;34m[\u001b[0m\u001b[0mtest_index\u001b[0m\u001b[0;34m]\u001b[0m\u001b[0;34m\u001b[0m\u001b[0m\n\u001b[1;32m     21\u001b[0m \u001b[0;34m\u001b[0m\u001b[0m\n\u001b[0;32m---> 22\u001b[0;31m             \u001b[0mtree\u001b[0m\u001b[0;34m.\u001b[0m\u001b[0mfit\u001b[0m\u001b[0;34m(\u001b[0m\u001b[0mx_train_cv\u001b[0m\u001b[0;34m,\u001b[0m\u001b[0my_train_cv\u001b[0m\u001b[0;34m)\u001b[0m\u001b[0;34m\u001b[0m\u001b[0m\n\u001b[0m\u001b[1;32m     23\u001b[0m             \u001b[0my_predict\u001b[0m \u001b[0;34m=\u001b[0m \u001b[0mtree\u001b[0m\u001b[0;34m.\u001b[0m\u001b[0mpredict\u001b[0m\u001b[0;34m(\u001b[0m\u001b[0mx_test_cv\u001b[0m\u001b[0;34m)\u001b[0m\u001b[0;34m\u001b[0m\u001b[0m\n\u001b[1;32m     24\u001b[0m \u001b[0;34m\u001b[0m\u001b[0m\n",
      "\u001b[0;32m//anaconda/envs/ac209/lib/python2.7/site-packages/sklearn/tree/tree.pyc\u001b[0m in \u001b[0;36mfit\u001b[0;34m(self, X, y, sample_weight, check_input, X_idx_sorted)\u001b[0m\n\u001b[1;32m    193\u001b[0m             \u001b[0;32mif\u001b[0m \u001b[0mself\u001b[0m\u001b[0;34m.\u001b[0m\u001b[0mclass_weight\u001b[0m \u001b[0;32mis\u001b[0m \u001b[0;32mnot\u001b[0m \u001b[0mNone\u001b[0m\u001b[0;34m:\u001b[0m\u001b[0;34m\u001b[0m\u001b[0m\n\u001b[1;32m    194\u001b[0m                 expanded_class_weight = compute_sample_weight(\n\u001b[0;32m--> 195\u001b[0;31m                     self.class_weight, y_original)\n\u001b[0m\u001b[1;32m    196\u001b[0m \u001b[0;34m\u001b[0m\u001b[0m\n\u001b[1;32m    197\u001b[0m         \u001b[0;32melse\u001b[0m\u001b[0;34m:\u001b[0m\u001b[0;34m\u001b[0m\u001b[0m\n",
      "\u001b[0;32m//anaconda/envs/ac209/lib/python2.7/site-packages/sklearn/utils/class_weight.pyc\u001b[0m in \u001b[0;36mcompute_sample_weight\u001b[0;34m(class_weight, y, indices)\u001b[0m\n\u001b[1;32m    166\u001b[0m             weight_k = compute_class_weight(class_weight_k,\n\u001b[1;32m    167\u001b[0m                                             \u001b[0mclasses_full\u001b[0m\u001b[0;34m,\u001b[0m\u001b[0;34m\u001b[0m\u001b[0m\n\u001b[0;32m--> 168\u001b[0;31m                                             y_full)\n\u001b[0m\u001b[1;32m    169\u001b[0m \u001b[0;34m\u001b[0m\u001b[0m\n\u001b[1;32m    170\u001b[0m         \u001b[0mweight_k\u001b[0m \u001b[0;34m=\u001b[0m \u001b[0mweight_k\u001b[0m\u001b[0;34m[\u001b[0m\u001b[0mnp\u001b[0m\u001b[0;34m.\u001b[0m\u001b[0msearchsorted\u001b[0m\u001b[0;34m(\u001b[0m\u001b[0mclasses_full\u001b[0m\u001b[0;34m,\u001b[0m \u001b[0my_full\u001b[0m\u001b[0;34m)\u001b[0m\u001b[0;34m]\u001b[0m\u001b[0;34m\u001b[0m\u001b[0m\n",
      "\u001b[0;32m//anaconda/envs/ac209/lib/python2.7/site-packages/sklearn/utils/class_weight.pyc\u001b[0m in \u001b[0;36mcompute_class_weight\u001b[0;34m(class_weight, classes, y)\u001b[0m\n\u001b[1;32m     74\u001b[0m             \u001b[0mi\u001b[0m \u001b[0;34m=\u001b[0m \u001b[0mnp\u001b[0m\u001b[0;34m.\u001b[0m\u001b[0msearchsorted\u001b[0m\u001b[0;34m(\u001b[0m\u001b[0mclasses\u001b[0m\u001b[0;34m,\u001b[0m \u001b[0mc\u001b[0m\u001b[0;34m)\u001b[0m\u001b[0;34m\u001b[0m\u001b[0m\n\u001b[1;32m     75\u001b[0m             \u001b[0;32mif\u001b[0m \u001b[0mi\u001b[0m \u001b[0;34m>=\u001b[0m \u001b[0mlen\u001b[0m\u001b[0;34m(\u001b[0m\u001b[0mclasses\u001b[0m\u001b[0;34m)\u001b[0m \u001b[0;32mor\u001b[0m \u001b[0mclasses\u001b[0m\u001b[0;34m[\u001b[0m\u001b[0mi\u001b[0m\u001b[0;34m]\u001b[0m \u001b[0;34m!=\u001b[0m \u001b[0mc\u001b[0m\u001b[0;34m:\u001b[0m\u001b[0;34m\u001b[0m\u001b[0m\n\u001b[0;32m---> 76\u001b[0;31m                 \u001b[0;32mraise\u001b[0m \u001b[0mValueError\u001b[0m\u001b[0;34m(\u001b[0m\u001b[0;34m\"Class label %d not present.\"\u001b[0m \u001b[0;34m%\u001b[0m \u001b[0mc\u001b[0m\u001b[0;34m)\u001b[0m\u001b[0;34m\u001b[0m\u001b[0m\n\u001b[0m\u001b[1;32m     77\u001b[0m             \u001b[0;32melse\u001b[0m\u001b[0;34m:\u001b[0m\u001b[0;34m\u001b[0m\u001b[0m\n\u001b[1;32m     78\u001b[0m                 \u001b[0mweight\u001b[0m\u001b[0;34m[\u001b[0m\u001b[0mi\u001b[0m\u001b[0;34m]\u001b[0m \u001b[0;34m=\u001b[0m \u001b[0mclass_weight\u001b[0m\u001b[0;34m[\u001b[0m\u001b[0mc\u001b[0m\u001b[0;34m]\u001b[0m\u001b[0;34m\u001b[0m\u001b[0m\n",
      "\u001b[0;31mValueError\u001b[0m: Class label 2 not present."
     ]
    }
   ],
   "source": [
    "D = np.array([2,5,10,20,50,100])\n",
    "P = np.arange(0,1,0.01)\n",
    "\n",
    "acc_cv = []\n",
    "\n",
    "for i,d in enumerate(D):\n",
    "    \n",
    "    for p in P:\n",
    "        prior = np.array([1.0-p,p])\n",
    "        tree = Tree.DecisionTreeClassifier(max_depth=d,class_weight={1:prior[0],2:prior[1]})\n",
    "\n",
    "        kf = cross_validation.KFold(x_train.shape[0],n_folds=2)\n",
    "        cum_acc_pos = 0\n",
    "        cum_acc_neg = 0\n",
    "\n",
    "        for train_index,test_index in kf:\n",
    "            x_train_cv = x_train[train_index,:]\n",
    "            y_train_cv = y_train[train_index]\n",
    "            x_test_cv = x_train[test_index,:]\n",
    "            y_test_cv = y_train[test_index]\n",
    "\n",
    "            tree.fit(x_train_cv,y_train_cv)\n",
    "            y_predict = tree.predict(x_test_cv)\n",
    "\n",
    "            acc_pos,acc_neg,F1 = sf.score_both_and_confuse(y_predict,y_test_cv,confusion=False,disp=False)\n",
    "\n",
    "            cum_acc_pos += acc_pos\n",
    "            cum_acc_neg += acc_neg\n",
    "\n",
    "        acc_cv.append([cum_acc_pos / 2.0,cum_acc_neg / 2.0])\n",
    "\n",
    "acc_cv = np.asarray(acc_cv)\n",
    "    "
   ]
  },
  {
   "cell_type": "code",
   "execution_count": 34,
   "metadata": {
    "collapsed": false
   },
   "outputs": [
    {
     "data": {
      "text/plain": [
       "<matplotlib.text.Text at 0x116bd6590>"
      ]
     },
     "execution_count": 34,
     "metadata": {},
     "output_type": "execute_result"
    },
    {
     "data": {
      "image/png": "[encoded data removed]",
      "text/plain": [
       "<matplotlib.figure.Figure at 0x116477c50>"
      ]
     },
     "metadata": {},
     "output_type": "display_data"
    }
   ],
   "source": [
    "plt.figure(figsize=(10,4))\n",
    "plt.plot(D,acc_cv[:,0],color='purple',label='switching accuracy')\n",
    "plt.plot(D,acc_cv[:,1],color='black',label='staying accuracy')\n",
    "plt.hlines(y=0.5,xmin=0,xmax=1,color='black',alpha=0.7,linestyle='dotted')\n",
    "plt.legend(loc='lower right',bbox_to_anchor=[0.7,0.3])\n",
    "plt.xlim(0,100)\n",
    "plt.xlabel('Prior on switching')\n",
    "plt.ylabel('Model accuracy')\n",
    "plt.title('Decision Tree')"
   ]
  }
 ],
 "metadata": {
  "anaconda-cloud": {},
  "kernelspec": {
   "display_name": "Python [conda env:ac209]",
   "language": "python",
   "name": "conda-env-ac209-py"
  },
  "language_info": {
   "codemirror_mode": {
    "name": "ipython",
    "version": 2
   },
   "file_extension": ".py",
   "mimetype": "text/x-python",
   "name": "python",
   "nbconvert_exporter": "python",
   "pygments_lexer": "ipython2",
   "version": "2.7.12"
  }
 },
 "nbformat": 4,
 "nbformat_minor": 1
}
