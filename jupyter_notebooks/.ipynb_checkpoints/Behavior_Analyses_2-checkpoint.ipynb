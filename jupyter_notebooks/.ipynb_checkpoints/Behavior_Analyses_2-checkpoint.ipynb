{
 "cells": [
  {
   "cell_type": "markdown",
   "metadata": {},
   "source": [
    "# Visualizing the mouse behavior"
   ]
  },
  {
   "cell_type": "code",
   "execution_count": 1,
   "metadata": {
    "collapsed": false
   },
   "outputs": [],
   "source": [
    "import sys\n",
    "sys.path.append('/Users/shayneufeld/GitHub/mouse_bandit/data_preprocessing_code')\n",
    "sys.path.append('/Users/shayneufeld/GitHub/mouse_bandit')\n",
    "import support_functions as sf\n",
    "import numpy as np\n",
    "import matplotlib.pyplot as plt\n",
    "import seaborn as sns\n",
    "import pandas as pd\n",
    "import scipy as sp\n",
    "import bandit_preprocessing as bp\n",
    "import sklearn.linear_model\n",
    "from sklearn import discriminant_analysis\n",
    "from sklearn import model_selection\n",
    "from sklearn import tree as Tree\n",
    "import sklearn.tree\n",
    "import sys\n",
    "import os\n",
    "%matplotlib inline "
   ]
  },
  {
   "cell_type": "markdown",
   "metadata": {},
   "source": [
    "## load in csv files (from running exportTrials.m)"
   ]
  },
  {
   "cell_type": "code",
   "execution_count": 13,
   "metadata": {
    "collapsed": false
   },
   "outputs": [],
   "source": [
    "'''\n",
    "load in trial data\n",
    "'''\n",
    "columns = ['Elapsed Time (s)','Since last trial (s)','Trial Duration (s)','Port Poked','Right Reward Prob','Left Reward Prob','Reward Given']\n",
    "\n",
    "root_dir = '/Users/shayneufeld/GitHub/mouse_bandit/data/70_30_trial_data'\n",
    "\n",
    "trial_7030_df = pd.DataFrame(columns=columns)\n",
    "trial_7030_list = []\n",
    "\n",
    "for file in os.listdir(root_dir):\n",
    "    if not file[0] == '.':\n",
    "        file_name = os.path.join(root_dir,file)\n",
    "        trial_7030_df = trial_7030_df.append(pd.read_csv(file_name,names=columns))\n",
    "        trial_7030_list.append(pd.read_csv(file_name,names=columns))"
   ]
  },
  {
   "cell_type": "markdown",
   "metadata": {},
   "source": [
    "# p(choose higher p port)"
   ]
  },
  {
   "cell_type": "code",
   "execution_count": 14,
   "metadata": {
    "collapsed": false
   },
   "outputs": [
    {
     "data": {
      "text/plain": [
       "4910"
      ]
     },
     "execution_count": 14,
     "metadata": {},
     "output_type": "execute_result"
    }
   ],
   "source": [
    "np.sum(trial_7030_df[trial_7030_df['Left Reward Prob'] == 0.7]['Port Poked'] == 2)"
   ]
  },
  {
   "cell_type": "code",
   "execution_count": 15,
   "metadata": {
    "collapsed": false,
    "scrolled": false
   },
   "outputs": [
    {
     "name": "stdout",
     "output_type": "stream",
     "text": [
      "0.729244021981\n",
      "0.758695652174\n"
     ]
    }
   ],
   "source": [
    "# right rewards\n",
    "\n",
    "pleft = np.sum(trial_7030_df[trial_7030_df['Left Reward Prob'] == 0.7]['Port Poked'] == 2).astype('float') / trial_7030_df[trial_7030_df['Left Reward Prob'] == 0.7].shape[0]\n",
    "rleft = np.sum(trial_7030_df[trial_7030_df['Right Reward Prob'] == 0.7]['Port Poked'] == 1).astype('float') / trial_7030_df[trial_7030_df['Right Reward Prob'] == 0.7].shape[0]\n",
    "\n",
    "print(pleft)\n",
    "print(rleft)"
   ]
  },
  {
   "cell_type": "code",
   "execution_count": 16,
   "metadata": {
    "collapsed": false
   },
   "outputs": [],
   "source": [
    "p_high_7030 = np.zeros(len(trial_7030_list))\n",
    "\n",
    "for i,s in enumerate(trial_7030_list):\n",
    "    numerator = np.sum(s[s['Left Reward Prob'] == 0.7]['Port Poked'] == 2).astype('float') + np.sum(s[s['Right Reward Prob'] == 0.7]['Port Poked'] == 1).astype('float')\n",
    "    denom = s[s['Left Reward Prob'] == 0.7].shape[0] + s[s['Right Reward Prob'] == 0.7].shape[0] \n",
    "    \n",
    "    p_high_7030[i] = numerator / denom"
   ]
  },
  {
   "cell_type": "code",
   "execution_count": 17,
   "metadata": {
    "collapsed": false,
    "scrolled": true
   },
   "outputs": [
    {
     "data": {
      "text/plain": [
       "array([ 0.79883382,  0.78306878,  0.41001855,  0.74860335,  0.73809524,\n",
       "        0.81493002,  0.82120253,  0.78004535,  0.75197889,  0.8027735 ,\n",
       "        0.74874372,  0.70704225,  0.74489796,  0.78428094,  0.78202995,\n",
       "        0.75250836,  0.85625   ,  0.61262799,  0.75      ,  0.76633987,\n",
       "        0.67727273,  0.70639535,  0.79696133,  0.70673077,  0.73905429,\n",
       "        0.73584906])"
      ]
     },
     "execution_count": 17,
     "metadata": {},
     "output_type": "execute_result"
    }
   ],
   "source": [
    "p_high_7030"
   ]
  },
  {
   "cell_type": "markdown",
   "metadata": {},
   "source": [
    "I see - some mice are shitty. We only want well behaving mice. Let's look at that for 80-20 as well:"
   ]
  },
  {
   "cell_type": "code",
   "execution_count": 118,
   "metadata": {
    "collapsed": false
   },
   "outputs": [],
   "source": [
    "'''\n",
    "load in trial data\n",
    "'''\n",
    "columns = ['Elapsed Time (s)','Since last trial (s)','Trial Duration (s)','Port Poked','Right Reward Prob','Left Reward Prob','Reward Given']\n",
    "\n",
    "root_dir = '/Users/shayneufeld/GitHub/mouse_bandit/data/80_20_trial_data/dumble_harry'\n",
    "\n",
    "trial_8020_df = pd.DataFrame(columns=columns)\n",
    "trial_8020_list = []\n",
    "\n",
    "for file in os.listdir(root_dir):\n",
    "    if not file[0] == '.':\n",
    "        file_name = os.path.join(root_dir,file)\n",
    "        trial_8020_df = trial_8020_df.append(pd.read_csv(file_name,names=columns))\n",
    "        trial_8020_list.append(pd.read_csv(file_name,names=columns))"
   ]
  },
  {
   "cell_type": "code",
   "execution_count": 119,
   "metadata": {
    "collapsed": true
   },
   "outputs": [],
   "source": [
    "p_high_8020 = np.zeros(len(trial_8020_list))\n",
    "p_actual = np.zeros(len(trial_8020_list))\n",
    "\n",
    "for i,s in enumerate(trial_8020_list):\n",
    "    numerator = np.sum(s[s['Left Reward Prob'] == 0.8]['Port Poked'] == 2).astype('float') + np.sum(s[s['Right Reward Prob'] == 0.8]['Port Poked'] == 1).astype('float')\n",
    "    denom = s[s['Left Reward Prob'] == 0.8].shape[0] + s[s['Right Reward Prob'] == 0.8].shape[0] \n",
    "    \n",
    "    p_high_8020[i] = numerator / denom"
   ]
  },
  {
   "cell_type": "code",
   "execution_count": 120,
   "metadata": {
    "collapsed": false
   },
   "outputs": [
    {
     "data": {
      "text/plain": [
       "array([ 0.82226212,  0.82786885,  0.79785605,  0.84955752,  0.83308042,\n",
       "        0.86068111,  0.80185185,  0.82664234,  0.82901554,  0.85785124,\n",
       "        0.81923077,  0.88475836,  0.85447761,  0.83065954,  0.88820827,\n",
       "        0.79310345,  0.83760684,  0.81154499,  0.88428325,  0.83304042])"
      ]
     },
     "execution_count": 120,
     "metadata": {},
     "output_type": "execute_result"
    }
   ],
   "source": [
    "p_high_8020"
   ]
  },
  {
   "cell_type": "code",
   "execution_count": 121,
   "metadata": {
    "collapsed": false
   },
   "outputs": [
    {
     "data": {
      "text/plain": [
       "<matplotlib.axes._subplots.AxesSubplot at 0x1152243c8>"
      ]
     },
     "execution_count": 121,
     "metadata": {},
     "output_type": "execute_result"
    },
    {
     "data": {
      "image/png": "[encoded data removed]",
      "text/plain": [
       "<matplotlib.figure.Figure at 0x116990eb8>"
      ]
     },
     "metadata": {},
     "output_type": "display_data"
    }
   ],
   "source": [
    "plt.figure(figsize=(10,3))\n",
    "sns.swarmplot(data=p_high_8020-0.8,color='black',orient='h')\n",
    "sns.swarmplot(data=p_high_7030-0.7,color='red',orient='h')"
   ]
  },
  {
   "cell_type": "code",
   "execution_count": 122,
   "metadata": {
    "collapsed": false
   },
   "outputs": [
    {
     "data": {
      "text/plain": [
       "([<matplotlib.axis.XTick at 0x1159c68d0>,\n",
       "  <matplotlib.axis.XTick at 0x114a962b0>,\n",
       "  <matplotlib.axis.XTick at 0x11681cf98>],\n",
       " <a list of 3 Text xticklabel objects>)"
      ]
     },
     "execution_count": 122,
     "metadata": {},
     "output_type": "execute_result"
    },
    {
     "data": {
      "image/png": "[encoded data removed]",
      "text/plain": [
       "<matplotlib.figure.Figure at 0x116b0b518>"
      ]
     },
     "metadata": {},
     "output_type": "display_data"
    }
   ],
   "source": [
    "sns.set_style('white')\n",
    "plt.figure(figsize=(25,3))\n",
    "plt.scatter((p_high_8020-0.8)*100.0,np.random.uniform(low=0.2,high=0.5,size=p_high_8020.shape),color='black',s=200,alpha=0.5)\n",
    "plt.scatter((p_high_7030-0.7)*100.0,np.random.uniform(low=0.2,high=0.5,size=p_high_7030.shape),color='black',s=200,alpha=0.5)\n",
    "plt.ylim(-0,0.9)\n",
    "plt.xlim(-14,17)\n",
    "plt.bar(left=-3,height=1,width=6,color='red',alpha=0.2)\n",
    "plt.xlabel(' % different from win-stay lose-switch',fontsize=40)\n",
    "sns.despine(left='True')\n",
    "plt.xticks([-10,0,10],fontsize=40)\n"
   ]
  },
  {
   "cell_type": "markdown",
   "metadata": {},
   "source": [
    "# Divide data into 'high' and 'low' performance (wrt win-stay lose-switch)"
   ]
  },
  {
   "cell_type": "code",
   "execution_count": 123,
   "metadata": {
    "collapsed": false
   },
   "outputs": [
    {
     "data": {
      "text/plain": [
       "array([ 0.82226212,  0.82786885,  0.79785605,  0.84955752,  0.83308042,\n",
       "        0.86068111,  0.80185185,  0.82664234,  0.82901554,  0.85785124,\n",
       "        0.81923077,  0.88475836,  0.85447761,  0.83065954,  0.88820827,\n",
       "        0.79310345,  0.83760684,  0.81154499,  0.88428325,  0.83304042])"
      ]
     },
     "execution_count": 123,
     "metadata": {},
     "output_type": "execute_result"
    }
   ],
   "source": [
    "p_high_8020"
   ]
  },
  {
   "cell_type": "code",
   "execution_count": 132,
   "metadata": {
    "collapsed": false
   },
   "outputs": [],
   "source": [
    "trials_high_8020 = pd.DataFrame(columns=columns)\n",
    "trials_low_8020 = pd.DataFrame(columns=columns)\n",
    "\n",
    "for i,p in enumerate(p_high_8020):\n",
    "    \n",
    "    if p > 0.85:\n",
    "        trials_high_8020 = trials_high_8020.append(trial_8020_list[i])\n",
    "    else:\n",
    "        trials_low_8020 = trials_low_8020.append(trial_8020_list[i])"
   ]
  },
  {
   "cell_type": "code",
   "execution_count": 133,
   "metadata": {
    "collapsed": false
   },
   "outputs": [],
   "source": [
    "trials_high_7030 = pd.DataFrame(columns=columns)\n",
    "trials_low_7030 = pd.DataFrame(columns=columns)\n",
    "\n",
    "for i,p in enumerate(p_high_7030):\n",
    "    \n",
    "    if p > 0.75:\n",
    "        trials_high_7030 = trials_high_7030.append(trial_7030_list[i])\n",
    "    else:\n",
    "        trials_low_7030 = trials_low_7030.append(trial_7030_list[i])"
   ]
  },
  {
   "cell_type": "code",
   "execution_count": 126,
   "metadata": {
    "collapsed": false
   },
   "outputs": [
    {
     "data": {
      "text/plain": [
       "(3557, 7)"
      ]
     },
     "execution_count": 126,
     "metadata": {},
     "output_type": "execute_result"
    }
   ],
   "source": [
    "trials_high_8020.shape"
   ]
  },
  {
   "cell_type": "code",
   "execution_count": 127,
   "metadata": {
    "collapsed": false
   },
   "outputs": [
    {
     "data": {
      "text/plain": [
       "(7267, 7)"
      ]
     },
     "execution_count": 127,
     "metadata": {},
     "output_type": "execute_result"
    }
   ],
   "source": [
    "trials_high_7030.shape"
   ]
  },
  {
   "cell_type": "code",
   "execution_count": 134,
   "metadata": {
    "collapsed": true
   },
   "outputs": [],
   "source": [
    "trials_high = trials_high_8020.append(trials_high_7030)\n",
    "trials_low = trials_low_8020.append(trials_low_7030)"
   ]
  },
  {
   "cell_type": "code",
   "execution_count": 135,
   "metadata": {
    "collapsed": true
   },
   "outputs": [],
   "source": [
    "#column names for feature matrix:\n",
    "feature_names = ['Previous_10_Left_Choice','Previous_10_Right_Choice','Previous_10_Left_Reward',\n",
    "                 'Previous_10_Right_Reward','Streak','5_Port','5_Reward','5_ITI','5_trialDuration',\n",
    "                 '4_Port','4_Reward','4_ITI','4_trialDuration','3_Port','3_Reward','3_ITI',\n",
    "                 '3_trialDuration','2_Port','2_Reward','2_ITI','2_trialDuration','1_Port','1_Reward',\n",
    "                 '1_ITI','1_trialDuration','0_ITI','0_trialDuration','Decision'\n",
    "                 ]"
   ]
  },
  {
   "cell_type": "code",
   "execution_count": 136,
   "metadata": {
    "collapsed": true
   },
   "outputs": [],
   "source": [
    "high_feature_matrix = bp.create_feature_matrix(trials_high,10,5,feature_names)\n",
    "low_feature_matrix = bp.create_feature_matrix(trials_low,10,5,feature_names)"
   ]
  },
  {
   "cell_type": "code",
   "execution_count": 137,
   "metadata": {
    "collapsed": true
   },
   "outputs": [],
   "source": [
    "high_feature_matrix.to_csv('/Users/shayneufeld/GitHub/mouse_bandit/data/processed_data/high_master_df.csv')\n",
    "low_feature_matrix.to_csv('/Users/shayneufeld/GitHub/mouse_bandit/data/processed_data/low_master_df.csv')"
   ]
  }
 ],
 "metadata": {
  "anaconda-cloud": {},
  "kernelspec": {
   "display_name": "Python [conda env:CaGRIN]",
   "language": "python",
   "name": "conda-env-CaGRIN-py"
  },
  "language_info": {
   "codemirror_mode": {
    "name": "ipython",
    "version": 3
   },
   "file_extension": ".py",
   "mimetype": "text/x-python",
   "name": "python",
   "nbconvert_exporter": "python",
   "pygments_lexer": "ipython3",
   "version": "3.5.2"
  }
 },
 "nbformat": 4,
 "nbformat_minor": 1
}
