{
 "cells": [
  {
   "cell_type": "markdown",
   "metadata": {},
   "source": [
    "# Visualizing the mouse behavior"
   ]
  },
  {
   "cell_type": "code",
   "execution_count": 1,
   "metadata": {
    "collapsed": false
   },
   "outputs": [],
   "source": [
    "import sys\n",
    "sys.path.append('/Users/shayneufeld/GitHub/mouse_bandit/data_preprocessing_code')\n",
    "sys.path.append('/Users/shayneufeld/GitHub/mouse_bandit')\n",
    "import support_functions as sf\n",
    "import numpy as np\n",
    "import matplotlib.pyplot as plt\n",
    "import seaborn as sns\n",
    "import pandas as pd\n",
    "import scipy as sp\n",
    "import bandit_preprocessing as bp\n",
    "import sklearn.linear_model\n",
    "from sklearn import discriminant_analysis\n",
    "from sklearn import model_selection\n",
    "from sklearn import tree as Tree\n",
    "import sklearn.tree\n",
    "import sys\n",
    "import os\n",
    "%matplotlib inline "
   ]
  },
  {
   "cell_type": "markdown",
   "metadata": {},
   "source": [
    "## load in csv files (from running exportTrials.m)"
   ]
  },
  {
   "cell_type": "code",
   "execution_count": 31,
   "metadata": {
    "collapsed": false
   },
   "outputs": [],
   "source": [
    "'''\n",
    "load in trial data\n",
    "'''\n",
    "columns = ['Elapsed Time (s)','Since last trial (s)','Trial Duration (s)','Port Poked','Right Reward Prob','Left Reward Prob','Reward Given']\n",
    "\n",
    "root_dir = '/Users/shayneufeld/GitHub/mouse_bandit/data/70_30_trial_data'\n",
    "\n",
    "trial_df = pd.DataFrame(columns=columns)\n",
    "trial_list = []\n",
    "\n",
    "for file in os.listdir(root_dir):\n",
    "    if not file[0] == '.':\n",
    "        file_name = os.path.join(root_dir,file)\n",
    "        trial_df = trial_df.append(pd.read_csv(file_name,names=columns))\n",
    "        trial_list.append(pd.read_csv(file_name,names=columns))"
   ]
  },
  {
   "cell_type": "code",
   "execution_count": 22,
   "metadata": {
    "collapsed": false,
    "scrolled": true
   },
   "outputs": [
    {
     "data": {
      "text/html": [
       "<div>\n",
       "<table border=\"1\" class=\"dataframe\">\n",
       "  <thead>\n",
       "    <tr style=\"text-align: right;\">\n",
       "      <th></th>\n",
       "      <th>Elapsed Time (s)</th>\n",
       "      <th>Since last trial (s)</th>\n",
       "      <th>Trial Duration (s)</th>\n",
       "      <th>Port Poked</th>\n",
       "      <th>Right Reward Prob</th>\n",
       "      <th>Left Reward Prob</th>\n",
       "      <th>Reward Given</th>\n",
       "    </tr>\n",
       "  </thead>\n",
       "  <tbody>\n",
       "    <tr>\n",
       "      <th>0</th>\n",
       "      <td>56.314</td>\n",
       "      <td>1.845</td>\n",
       "      <td>1.073</td>\n",
       "      <td>1.0</td>\n",
       "      <td>0.7</td>\n",
       "      <td>0.3</td>\n",
       "      <td>0.0</td>\n",
       "    </tr>\n",
       "    <tr>\n",
       "      <th>1</th>\n",
       "      <td>60.726</td>\n",
       "      <td>2.980</td>\n",
       "      <td>1.432</td>\n",
       "      <td>2.0</td>\n",
       "      <td>0.7</td>\n",
       "      <td>0.3</td>\n",
       "      <td>0.0</td>\n",
       "    </tr>\n",
       "    <tr>\n",
       "      <th>2</th>\n",
       "      <td>86.194</td>\n",
       "      <td>1.688</td>\n",
       "      <td>0.618</td>\n",
       "      <td>1.0</td>\n",
       "      <td>0.7</td>\n",
       "      <td>0.3</td>\n",
       "      <td>0.0</td>\n",
       "    </tr>\n",
       "    <tr>\n",
       "      <th>3</th>\n",
       "      <td>122.500</td>\n",
       "      <td>2.937</td>\n",
       "      <td>0.586</td>\n",
       "      <td>1.0</td>\n",
       "      <td>0.7</td>\n",
       "      <td>0.3</td>\n",
       "      <td>1.0</td>\n",
       "    </tr>\n",
       "    <tr>\n",
       "      <th>4</th>\n",
       "      <td>128.880</td>\n",
       "      <td>1.437</td>\n",
       "      <td>0.333</td>\n",
       "      <td>1.0</td>\n",
       "      <td>0.7</td>\n",
       "      <td>0.3</td>\n",
       "      <td>1.0</td>\n",
       "    </tr>\n",
       "  </tbody>\n",
       "</table>\n",
       "</div>"
      ],
      "text/plain": [
       "   Elapsed Time (s)  Since last trial (s)  Trial Duration (s)  Port Poked  \\\n",
       "0            56.314                 1.845               1.073         1.0   \n",
       "1            60.726                 2.980               1.432         2.0   \n",
       "2            86.194                 1.688               0.618         1.0   \n",
       "3           122.500                 2.937               0.586         1.0   \n",
       "4           128.880                 1.437               0.333         1.0   \n",
       "\n",
       "   Right Reward Prob  Left Reward Prob  Reward Given  \n",
       "0                0.7               0.3           0.0  \n",
       "1                0.7               0.3           0.0  \n",
       "2                0.7               0.3           0.0  \n",
       "3                0.7               0.3           1.0  \n",
       "4                0.7               0.3           1.0  "
      ]
     },
     "execution_count": 22,
     "metadata": {},
     "output_type": "execute_result"
    }
   ],
   "source": [
    "trial_df.head(5)"
   ]
  },
  {
   "cell_type": "markdown",
   "metadata": {},
   "source": [
    "# p(choose higher p port)"
   ]
  },
  {
   "cell_type": "code",
   "execution_count": 24,
   "metadata": {
    "collapsed": false
   },
   "outputs": [
    {
     "name": "stdout",
     "output_type": "stream",
     "text": [
      "0.729244021981\n",
      "0.758695652174\n"
     ]
    }
   ],
   "source": [
    "# right rewards\n",
    "\n",
    "pleft = np.sum(trial_df[trial_df['Left Reward Prob'] == 0.7]['Port Poked'] == 2).astype('float') / trial_df[trial_df['Left Reward Prob'] == 0.7].shape[0]\n",
    "rleft = np.sum(trial_df[trial_df['Right Reward Prob'] == 0.7]['Port Poked'] == 1).astype('float') / trial_df[trial_df['Right Reward Prob'] == 0.7].shape[0]\n",
    "\n",
    "print(pleft)\n",
    "print(rleft)"
   ]
  },
  {
   "cell_type": "code",
   "execution_count": 25,
   "metadata": {
    "collapsed": false
   },
   "outputs": [
    {
     "data": {
      "text/plain": [
       "0.74462499113034841"
      ]
     },
     "execution_count": 25,
     "metadata": {},
     "output_type": "execute_result"
    }
   ],
   "source": [
    "numerator = np.sum(trial_df[trial_df['Left Reward Prob'] == 0.7]['Port Poked'] == 2).astype('float') + np.sum(trial_df[trial_df['Right Reward Prob'] == 0.7]['Port Poked'] == 1).astype('float')\n",
    "denom = trial_df[trial_df['Left Reward Prob'] == 0.7].shape[0] + trial_df[trial_df['Right Reward Prob'] == 0.7].shape[0]\n",
    "\n",
    "overall = numerator / denom\n",
    "overall"
   ]
  },
  {
   "cell_type": "code",
   "execution_count": 32,
   "metadata": {
    "collapsed": true
   },
   "outputs": [],
   "source": [
    "p_high = np.zeros(len(trial_list))\n",
    "\n",
    "for i,s in enumerate(trial_list):\n",
    "    numerator = np.sum(s[s['Left Reward Prob'] == 0.7]['Port Poked'] == 2).astype('float') + np.sum(s[s['Right Reward Prob'] == 0.7]['Port Poked'] == 1).astype('float')\n",
    "    denom = s[s['Left Reward Prob'] == 0.7].shape[0] + s[s['Right Reward Prob'] == 0.7].shape[0] \n",
    "    \n",
    "    p_high[i] = numerator / denom"
   ]
  },
  {
   "cell_type": "code",
   "execution_count": 33,
   "metadata": {
    "collapsed": false
   },
   "outputs": [
    {
     "data": {
      "text/plain": [
       "array([ 0.79883382,  0.78306878,  0.41001855,  0.74860335,  0.73809524,\n",
       "        0.81493002,  0.82120253,  0.78004535,  0.75197889,  0.8027735 ,\n",
       "        0.74874372,  0.70704225,  0.74489796,  0.78428094,  0.78202995,\n",
       "        0.75250836,  0.85625   ,  0.61262799,  0.75      ,  0.76633987,\n",
       "        0.67727273,  0.70639535,  0.79696133,  0.70673077,  0.73905429,\n",
       "        0.73584906])"
      ]
     },
     "execution_count": 33,
     "metadata": {},
     "output_type": "execute_result"
    }
   ],
   "source": [
    "p_high"
   ]
  },
  {
   "cell_type": "markdown",
   "metadata": {},
   "source": [
    "I see - some mice are shitty. We only want well behaving mice. Let's look at that for 80-20 as well:"
   ]
  },
  {
   "cell_type": "code",
   "execution_count": 34,
   "metadata": {
    "collapsed": true
   },
   "outputs": [],
   "source": [
    "'''\n",
    "load in trial data\n",
    "'''\n",
    "columns = ['Elapsed Time (s)','Since last trial (s)','Trial Duration (s)','Port Poked','Right Reward Prob','Left Reward Prob','Reward Given']\n",
    "\n",
    "root_dir = '/Users/shayneufeld/GitHub/mouse_bandit/data/80_20_trial_data/dumble_harry'\n",
    "\n",
    "trial_8020_df = pd.DataFrame(columns=columns)\n",
    "trial_8020_list = []\n",
    "\n",
    "for file in os.listdir(root_dir):\n",
    "    if not file[0] == '.':\n",
    "        file_name = os.path.join(root_dir,file)\n",
    "        trial_8020_df = trial_df.append(pd.read_csv(file_name,names=columns))\n",
    "        trial_8020_list.append(pd.read_csv(file_name,names=columns))"
   ]
  },
  {
   "cell_type": "code",
   "execution_count": 39,
   "metadata": {
    "collapsed": true
   },
   "outputs": [],
   "source": [
    "p_high = np.zeros(len(trial_8020_list))\n",
    "\n",
    "for i,s in enumerate(trial_8020_list):\n",
    "    numerator = np.sum(s[s['Left Reward Prob'] == 0.8]['Port Poked'] == 2).astype('float') + np.sum(s[s['Right Reward Prob'] == 0.8]['Port Poked'] == 1).astype('float')\n",
    "    denom = s[s['Left Reward Prob'] == 0.8].shape[0] + s[s['Right Reward Prob'] == 0.8].shape[0] \n",
    "    \n",
    "    p_high[i] = numerator / denom"
   ]
  },
  {
   "cell_type": "code",
   "execution_count": 40,
   "metadata": {
    "collapsed": false
   },
   "outputs": [
    {
     "data": {
      "text/plain": [
       "array([ 0.82226212,  0.82786885,  0.79785605,  0.84955752,  0.83308042,\n",
       "        0.86068111,  0.80185185,  0.82664234,  0.82901554,  0.85785124,\n",
       "        0.81923077,  0.88475836,  0.85447761,  0.83065954,  0.88820827,\n",
       "        0.79310345,  0.83760684,  0.81154499,  0.88428325,  0.83304042])"
      ]
     },
     "execution_count": 40,
     "metadata": {},
     "output_type": "execute_result"
    }
   ],
   "source": [
    "p_high"
   ]
  },
  {
   "cell_type": "code",
   "execution_count": 43,
   "metadata": {
    "collapsed": false
   },
   "outputs": [
    {
     "data": {
      "text/plain": [
       "<matplotlib.axes._subplots.AxesSubplot at 0x11067b048>"
      ]
     },
     "execution_count": 43,
     "metadata": {},
     "output_type": "execute_result"
    },
    {
     "data": {
      "image/png": "[encoded data removed]",
      "text/plain": [
       "<matplotlib.figure.Figure at 0x110573320>"
      ]
     },
     "metadata": {},
     "output_type": "display_data"
    }
   ],
   "source": [
    "plt.figure(figsize=(7,7))\n",
    "sns.boxplot(data=p_high)"
   ]
  },
  {
   "cell_type": "markdown",
   "metadata": {},
   "source": [
    "# probability of switching after reward vs no reward"
   ]
  },
  {
   "cell_type": "code",
   "execution_count": null,
   "metadata": {
    "collapsed": true
   },
   "outputs": [],
   "source": []
  }
 ],
 "metadata": {
  "anaconda-cloud": {},
  "kernelspec": {
   "display_name": "Python [conda env:CaGRIN]",
   "language": "python",
   "name": "conda-env-CaGRIN-py"
  },
  "language_info": {
   "codemirror_mode": {
    "name": "ipython",
    "version": 3
   },
   "file_extension": ".py",
   "mimetype": "text/x-python",
   "name": "python",
   "nbconvert_exporter": "python",
   "pygments_lexer": "ipython3",
   "version": "3.5.2"
  }
 },
 "nbformat": 4,
 "nbformat_minor": 1
}
