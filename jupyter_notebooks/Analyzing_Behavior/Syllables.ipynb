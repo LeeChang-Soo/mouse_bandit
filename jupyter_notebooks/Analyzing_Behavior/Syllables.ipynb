{
 "cells": [
  {
   "cell_type": "markdown",
   "metadata": {},
   "source": [
    "# Extracting 'syllables' "
   ]
  },
  {
   "cell_type": "code",
   "execution_count": 1,
   "metadata": {
    "collapsed": false
   },
   "outputs": [],
   "source": [
    "import sys\n",
    "sys.path.append('/Users/shayneufeld/GitHub/mouse_bandit/data_preprocessing_code')\n",
    "sys.path.append('/Users/shayneufeld/GitHub/mouse_bandit')\n",
    "import support_functions as sf\n",
    "import numpy as np\n",
    "import matplotlib.pyplot as plt\n",
    "import seaborn as sns\n",
    "import pandas as pd\n",
    "import scipy as sp\n",
    "import bandit_preprocessing as bp\n",
    "import sys\n",
    "import os\n",
    "%matplotlib inline "
   ]
  },
  {
   "cell_type": "markdown",
   "metadata": {},
   "source": [
    "## load in csv files (from running exportTrials.m)"
   ]
  },
  {
   "cell_type": "markdown",
   "metadata": {},
   "source": [
    "### Mouse data"
   ]
  },
  {
   "cell_type": "code",
   "execution_count": 2,
   "metadata": {
    "collapsed": false
   },
   "outputs": [],
   "source": [
    "data90 = pd.read_csv('/Users/shayneufeld/GitHub/mouse_bandit/data/processed_data/full_9010_02192017.csv',index_col=0)\n",
    "data80 = pd.read_csv('/Users/shayneufeld/GitHub/mouse_bandit/data/processed_data/full_8020_02192017.csv',index_col=0)\n",
    "data70 = pd.read_csv('/Users/shayneufeld/GitHub/mouse_bandit/data/processed_data/full_7030_02192017.csv',index_col=0)"
   ]
  },
  {
   "cell_type": "markdown",
   "metadata": {},
   "source": [
    "### HMM data"
   ]
  },
  {
   "cell_type": "code",
   "execution_count": 84,
   "metadata": {
    "collapsed": true
   },
   "outputs": [],
   "source": [
    "data90 = pd.read_csv('/Users/shayneufeld/GitHub/mouse_bandit/data/processed_data/hmm_matrix_full_9010.csv',index_col=0)\n",
    "data80 = pd.read_csv('/Users/shayneufeld/GitHub/mouse_bandit/data/processed_data/hmm_matrix_full_8020.csv',index_col=0)\n",
    "data70 = pd.read_csv('/Users/shayneufeld/GitHub/mouse_bandit/data/processed_data/hmm_matrix_full_7030.csv',index_col=0)"
   ]
  },
  {
   "cell_type": "code",
   "execution_count": 3,
   "metadata": {
    "collapsed": false,
    "scrolled": true
   },
   "outputs": [],
   "source": [
    "data90['Condition'] = '90-10'\n",
    "data80['Condition'] = '80-20'\n",
    "data70['Condition'] = '70-30'"
   ]
  },
  {
   "cell_type": "code",
   "execution_count": 4,
   "metadata": {
    "collapsed": false,
    "scrolled": true
   },
   "outputs": [],
   "source": [
    "data = data90.append(data80)\n",
    "data = data.append(data70)"
   ]
  },
  {
   "cell_type": "code",
   "execution_count": 11,
   "metadata": {
    "collapsed": false
   },
   "outputs": [
    {
     "data": {
      "text/plain": [
       "(77487, 51)"
      ]
     },
     "execution_count": 11,
     "metadata": {},
     "output_type": "execute_result"
    }
   ],
   "source": [
    "data.shape"
   ]
  },
  {
   "cell_type": "markdown",
   "metadata": {},
   "source": [
    "# Looking at syllables"
   ]
  },
  {
   "cell_type": "code",
   "execution_count": 6,
   "metadata": {
    "collapsed": false
   },
   "outputs": [
    {
     "data": {
      "text/html": [
       "<div>\n",
       "<table border=\"1\" class=\"dataframe\">\n",
       "  <thead>\n",
       "    <tr style=\"text-align: right;\">\n",
       "      <th></th>\n",
       "      <th>Mouse ID</th>\n",
       "      <th>Session ID</th>\n",
       "      <th>Block Trial</th>\n",
       "      <th>Port Streak</th>\n",
       "      <th>Reward Streak</th>\n",
       "      <th>10_Port</th>\n",
       "      <th>10_Reward</th>\n",
       "      <th>10_ITI</th>\n",
       "      <th>10_trialDuration</th>\n",
       "      <th>9_Port</th>\n",
       "      <th>...</th>\n",
       "      <th>1_Port</th>\n",
       "      <th>1_Reward</th>\n",
       "      <th>1_ITI</th>\n",
       "      <th>1_trialDuration</th>\n",
       "      <th>0_ITI</th>\n",
       "      <th>Decision</th>\n",
       "      <th>Switch</th>\n",
       "      <th>Higher p port</th>\n",
       "      <th>Reward</th>\n",
       "      <th>Condition</th>\n",
       "    </tr>\n",
       "  </thead>\n",
       "  <tbody>\n",
       "    <tr>\n",
       "      <th>0</th>\n",
       "      <td>K1</td>\n",
       "      <td>11042016_K1</td>\n",
       "      <td>11.0</td>\n",
       "      <td>9.0</td>\n",
       "      <td>-1.0</td>\n",
       "      <td>0.0</td>\n",
       "      <td>0.0</td>\n",
       "      <td>15.781</td>\n",
       "      <td>1.542</td>\n",
       "      <td>1.0</td>\n",
       "      <td>...</td>\n",
       "      <td>1.0</td>\n",
       "      <td>0.0</td>\n",
       "      <td>1.346</td>\n",
       "      <td>0.674</td>\n",
       "      <td>1.087</td>\n",
       "      <td>1.0</td>\n",
       "      <td>0.0</td>\n",
       "      <td>1.0</td>\n",
       "      <td>1.0</td>\n",
       "      <td>90-10</td>\n",
       "    </tr>\n",
       "    <tr>\n",
       "      <th>1</th>\n",
       "      <td>K1</td>\n",
       "      <td>11042016_K1</td>\n",
       "      <td>12.0</td>\n",
       "      <td>10.0</td>\n",
       "      <td>1.0</td>\n",
       "      <td>1.0</td>\n",
       "      <td>1.0</td>\n",
       "      <td>3.252</td>\n",
       "      <td>0.880</td>\n",
       "      <td>1.0</td>\n",
       "      <td>...</td>\n",
       "      <td>1.0</td>\n",
       "      <td>1.0</td>\n",
       "      <td>1.087</td>\n",
       "      <td>0.574</td>\n",
       "      <td>1.584</td>\n",
       "      <td>1.0</td>\n",
       "      <td>0.0</td>\n",
       "      <td>1.0</td>\n",
       "      <td>1.0</td>\n",
       "      <td>90-10</td>\n",
       "    </tr>\n",
       "    <tr>\n",
       "      <th>2</th>\n",
       "      <td>K1</td>\n",
       "      <td>11042016_K1</td>\n",
       "      <td>13.0</td>\n",
       "      <td>10.0</td>\n",
       "      <td>2.0</td>\n",
       "      <td>1.0</td>\n",
       "      <td>1.0</td>\n",
       "      <td>1.294</td>\n",
       "      <td>0.805</td>\n",
       "      <td>1.0</td>\n",
       "      <td>...</td>\n",
       "      <td>1.0</td>\n",
       "      <td>1.0</td>\n",
       "      <td>1.584</td>\n",
       "      <td>0.646</td>\n",
       "      <td>5.985</td>\n",
       "      <td>1.0</td>\n",
       "      <td>0.0</td>\n",
       "      <td>1.0</td>\n",
       "      <td>1.0</td>\n",
       "      <td>90-10</td>\n",
       "    </tr>\n",
       "    <tr>\n",
       "      <th>3</th>\n",
       "      <td>K1</td>\n",
       "      <td>11042016_K1</td>\n",
       "      <td>14.0</td>\n",
       "      <td>10.0</td>\n",
       "      <td>3.0</td>\n",
       "      <td>1.0</td>\n",
       "      <td>1.0</td>\n",
       "      <td>2.992</td>\n",
       "      <td>0.787</td>\n",
       "      <td>1.0</td>\n",
       "      <td>...</td>\n",
       "      <td>1.0</td>\n",
       "      <td>1.0</td>\n",
       "      <td>5.985</td>\n",
       "      <td>0.552</td>\n",
       "      <td>1.062</td>\n",
       "      <td>1.0</td>\n",
       "      <td>0.0</td>\n",
       "      <td>1.0</td>\n",
       "      <td>1.0</td>\n",
       "      <td>90-10</td>\n",
       "    </tr>\n",
       "    <tr>\n",
       "      <th>4</th>\n",
       "      <td>K1</td>\n",
       "      <td>11042016_K1</td>\n",
       "      <td>15.0</td>\n",
       "      <td>10.0</td>\n",
       "      <td>4.0</td>\n",
       "      <td>1.0</td>\n",
       "      <td>1.0</td>\n",
       "      <td>1.058</td>\n",
       "      <td>0.689</td>\n",
       "      <td>1.0</td>\n",
       "      <td>...</td>\n",
       "      <td>1.0</td>\n",
       "      <td>1.0</td>\n",
       "      <td>1.062</td>\n",
       "      <td>0.664</td>\n",
       "      <td>1.122</td>\n",
       "      <td>1.0</td>\n",
       "      <td>0.0</td>\n",
       "      <td>1.0</td>\n",
       "      <td>0.0</td>\n",
       "      <td>90-10</td>\n",
       "    </tr>\n",
       "  </tbody>\n",
       "</table>\n",
       "<p>5 rows × 51 columns</p>\n",
       "</div>"
      ],
      "text/plain": [
       "  Mouse ID   Session ID  Block Trial  Port Streak  Reward Streak  10_Port  \\\n",
       "0       K1  11042016_K1         11.0          9.0           -1.0      0.0   \n",
       "1       K1  11042016_K1         12.0         10.0            1.0      1.0   \n",
       "2       K1  11042016_K1         13.0         10.0            2.0      1.0   \n",
       "3       K1  11042016_K1         14.0         10.0            3.0      1.0   \n",
       "4       K1  11042016_K1         15.0         10.0            4.0      1.0   \n",
       "\n",
       "   10_Reward  10_ITI  10_trialDuration  9_Port    ...      1_Port  1_Reward  \\\n",
       "0        0.0  15.781             1.542     1.0    ...         1.0       0.0   \n",
       "1        1.0   3.252             0.880     1.0    ...         1.0       1.0   \n",
       "2        1.0   1.294             0.805     1.0    ...         1.0       1.0   \n",
       "3        1.0   2.992             0.787     1.0    ...         1.0       1.0   \n",
       "4        1.0   1.058             0.689     1.0    ...         1.0       1.0   \n",
       "\n",
       "   1_ITI  1_trialDuration  0_ITI  Decision  Switch  Higher p port  Reward  \\\n",
       "0  1.346            0.674  1.087       1.0     0.0            1.0     1.0   \n",
       "1  1.087            0.574  1.584       1.0     0.0            1.0     1.0   \n",
       "2  1.584            0.646  5.985       1.0     0.0            1.0     1.0   \n",
       "3  5.985            0.552  1.062       1.0     0.0            1.0     1.0   \n",
       "4  1.062            0.664  1.122       1.0     0.0            1.0     0.0   \n",
       "\n",
       "   Condition  \n",
       "0      90-10  \n",
       "1      90-10  \n",
       "2      90-10  \n",
       "3      90-10  \n",
       "4      90-10  \n",
       "\n",
       "[5 rows x 51 columns]"
      ]
     },
     "execution_count": 6,
     "metadata": {},
     "output_type": "execute_result"
    }
   ],
   "source": [
    "data.head(5)"
   ]
  },
  {
   "cell_type": "markdown",
   "metadata": {},
   "source": [
    "# Syllables (including port)"
   ]
  },
  {
   "cell_type": "code",
   "execution_count": 167,
   "metadata": {
    "collapsed": false,
    "scrolled": false
   },
   "outputs": [],
   "source": [
    "columns = data.columns.values\n",
    "combos = []\n",
    "df_combos = pd.DataFrame(data = None,index=np.arange(0,data.shape[0]),columns=['Syllable','Decision','Mouse ID','Condition'])\n",
    "for row in range(data.shape[0]):\n",
    "    trial = data.iloc[row]\n",
    "    c = np.zeros(10)\n",
    "\n",
    "    for j,i in enumerate(np.arange(1,11)):\n",
    "        i_str = str(i) + '_'\n",
    "        matching = [s for s in columns if ((i_str in s) & ((('Port') in s) or ('Reward' in s)))]\n",
    "\n",
    "        if (np.array_equal(trial[matching].values,[0,0])):\n",
    "            c[j] = -1\n",
    "        elif (np.array_equal(trial[matching].values,[1,0])):\n",
    "            c[j] = -2\n",
    "        elif (np.array_equal(trial[matching].values,[0,1])):\n",
    "            c[j] = 1\n",
    "        elif (np.array_equal(trial[matching].values,[1,1])):\n",
    "            c[j] = 2\n",
    "\n",
    "    c = np.flipud(c)\n",
    "    \n",
    "    df_combos.iloc[row]['Syllable'] = str(c)[1:-1]\n",
    "    df_combos.iloc[row]['Decision'] = trial['Decision']\n",
    "    df_combos.iloc[row]['Mouse ID'] = trial['Mouse ID']\n",
    "    df_combos.iloc[row]['Condition'] = trial['Condition']"
   ]
  },
  {
   "cell_type": "markdown",
   "metadata": {},
   "source": [
    "# Syllables (Reward only)"
   ]
  },
  {
   "cell_type": "code",
   "execution_count": 174,
   "metadata": {
    "collapsed": false
   },
   "outputs": [],
   "source": [
    "columns = data.columns.values\n",
    "combos = []\n",
    "df_combos = pd.DataFrame(data = None,index=np.arange(0,data.shape[0]),columns=['Syllable','Decision','Mouse ID','Condition'])\n",
    "for row in range(data.shape[0]):\n",
    "    trial = data.iloc[row]\n",
    "    c = np.zeros(10)\n",
    "    \n",
    "    #only consider instances where the mouse has not switched in the past 5 trials\n",
    "    if trial['Port Streak'] >= 5:\n",
    "        for j,i in enumerate(np.arange(1,11)):\n",
    "            i_str = str(i) + '_'\n",
    "\n",
    "            matching = [s for s in columns if ((i_str in s) & ('Reward' in s))]\n",
    "\n",
    "            c[j] = trial[matching].values\n",
    "\n",
    "        c = np.flipud(c)\n",
    "\n",
    "        df_combos.iloc[row]['Syllable'] = str(c)[1:-1]\n",
    "        df_combos.iloc[row]['Decision'] = trial['Decision']\n",
    "        df_combos.iloc[row]['Mouse ID'] = trial['Mouse ID']\n",
    "        df_combos.iloc[row]['Condition'] = trial['Condition']\n"
   ]
  },
  {
   "cell_type": "markdown",
   "metadata": {},
   "source": [
    "## Load in df_combos (if already computed -- it takes a while)"
   ]
  },
  {
   "cell_type": "code",
   "execution_count": 10,
   "metadata": {
    "collapsed": false
   },
   "outputs": [
    {
     "data": {
      "text/plain": [
       "(77487, 5)"
      ]
     },
     "execution_count": 10,
     "metadata": {},
     "output_type": "execute_result"
    }
   ],
   "source": [
    "df_combos = pd.read_csv('/Users/shayneufeld/GitHub/mouse_bandit/data/syllables.csv',index_col=0)\n",
    "df_combos.shape"
   ]
  },
  {
   "cell_type": "markdown",
   "metadata": {},
   "source": [
    "## Add 'switch' parameter"
   ]
  },
  {
   "cell_type": "code",
   "execution_count": 193,
   "metadata": {
    "collapsed": true
   },
   "outputs": [],
   "source": [
    "df_combos['Switch'] = data['Switch'].values"
   ]
  },
  {
   "cell_type": "markdown",
   "metadata": {},
   "source": [
    "## Add 'port streak' parameter"
   ]
  },
  {
   "cell_type": "code",
   "execution_count": 12,
   "metadata": {
    "collapsed": true
   },
   "outputs": [],
   "source": [
    "df_combos['Port Streak'] = data['Port Streak'].values"
   ]
  },
  {
   "cell_type": "code",
   "execution_count": 16,
   "metadata": {
    "collapsed": false
   },
   "outputs": [],
   "source": [
    "df = df_combos[df_combos['Port Streak'] >= 10].copy()"
   ]
  },
  {
   "cell_type": "markdown",
   "metadata": {},
   "source": [
    "## Unique syllables"
   ]
  },
  {
   "cell_type": "code",
   "execution_count": 20,
   "metadata": {
    "collapsed": false,
    "scrolled": false
   },
   "outputs": [
    {
     "data": {
      "text/plain": [
       "(1009,)"
      ]
     },
     "execution_count": 20,
     "metadata": {},
     "output_type": "execute_result"
    }
   ],
   "source": [
    "unique = np.unique(df['Syllable'].values)\n",
    "unique.shape"
   ]
  },
  {
   "cell_type": "code",
   "execution_count": 18,
   "metadata": {
    "collapsed": false
   },
   "outputs": [],
   "source": [
    "u_switch = []\n",
    "for u in unique:\n",
    "    u_switch.append(df_combos[df_combos['Syllable'] == u]['Switch'].mean())"
   ]
  },
  {
   "cell_type": "code",
   "execution_count": 19,
   "metadata": {
    "collapsed": false
   },
   "outputs": [
    {
     "data": {
      "text/plain": [
       "<matplotlib.text.Text at 0x110343cc0>"
      ]
     },
     "execution_count": 19,
     "metadata": {},
     "output_type": "execute_result"
    },
    {
     "data": {
      "image/png": "[encoded data removed]",
      "text/plain": [
       "<matplotlib.figure.Figure at 0x106b81748>"
      ]
     },
     "metadata": {},
     "output_type": "display_data"
    }
   ],
   "source": [
    "plt.hist(u_switch,bins=20)\n",
    "plt.xlabel('p(switch)')\n",
    "plt.ylabel('Syllable Count')"
   ]
  },
  {
   "cell_type": "code",
   "execution_count": 48,
   "metadata": {
    "collapsed": false
   },
   "outputs": [
    {
     "data": {
      "text/plain": [
       " 1.  1.  1.  1.  1.  1.  1.  1.  1.  1.    270\n",
       " 1.  1.  1.  1.  1.  1.  1.  1.  1.  0.    131\n",
       " 1.  1.  1.  1.  1.  1.  1.  0.  1.  1.    125\n",
       " 1.  0.  1.  1.  1.  1.  1.  1.  1.  1.    123\n",
       " 1.  1.  1.  0.  1.  1.  1.  1.  1.  1.    123\n",
       " 1.  1.  1.  1.  1.  1.  1.  1.  0.  1.    119\n",
       " 1.  1.  1.  1.  1.  1.  0.  1.  1.  1.    117\n",
       " 1.  1.  0.  1.  1.  1.  1.  1.  1.  1.    117\n",
       " 1.  1.  1.  1.  1.  0.  1.  1.  1.  1.    115\n",
       " 0.  1.  1.  1.  1.  1.  1.  1.  1.  1.    113\n",
       " 1.  1.  1.  1.  0.  1.  1.  1.  1.  1.    112\n",
       " 1.  1.  1.  1.  1.  1.  1.  1.  0.  0.     71\n",
       " 1.  1.  1.  1.  0.  1.  1.  1.  1.  0.     61\n",
       " 0.  1.  1.  1.  0.  1.  1.  1.  1.  1.     61\n",
       " 1.  0.  1.  1.  1.  0.  1.  1.  1.  1.     60\n",
       " 1.  1.  1.  1.  1.  1.  0.  1.  1.  0.     60\n",
       " 1.  1.  1.  0.  1.  1.  1.  1.  1.  0.     59\n",
       " 1.  1.  1.  1.  1.  0.  0.  1.  1.  1.     56\n",
       " 1.  1.  1.  1.  0.  1.  0.  1.  1.  1.     55\n",
       " 1.  1.  1.  1.  1.  1.  1.  0.  0.  1.     55\n",
       " 1.  1.  1.  0.  1.  1.  1.  1.  0.  1.     54\n",
       " 1.  1.  0.  1.  1.  1.  1.  1.  1.  0.     53\n",
       " 0.  1.  1.  1.  1.  1.  1.  1.  1.  0.     53\n",
       " 1.  1.  1.  1.  1.  1.  0.  0.  1.  1.     52\n",
       " 1.  1.  0.  1.  1.  1.  1.  1.  0.  1.     52\n",
       " 1.  1.  1.  1.  0.  0.  1.  1.  1.  1.     51\n",
       " 1.  1.  0.  1.  1.  0.  1.  1.  1.  1.     51\n",
       " 1.  1.  1.  1.  1.  0.  1.  1.  1.  0.     51\n",
       " 0.  1.  1.  1.  1.  0.  1.  1.  1.  1.     50\n",
       " 1.  0.  1.  1.  1.  1.  0.  1.  1.  1.     50\n",
       "                                          ... \n",
       " 0.  1.  0.  1.  0.  0.  0.  0.  0.  1.      1\n",
       " 1.  1.  0.  0.  0.  0.  1.  1.  1.  0.      1\n",
       " 0.  0.  0.  0.  1.  1.  0.  0.  1.  0.      1\n",
       " 0.  0.  0.  0.  0.  1.  1.  1.  1.  1.      1\n",
       " 1.  0.  0.  1.  1.  0.  0.  0.  1.  1.      1\n",
       " 0.  0.  1.  1.  0.  1.  0.  1.  0.  0.      1\n",
       " 0.  1.  0.  1.  1.  0.  1.  0.  0.  1.      1\n",
       " 1.  0.  0.  0.  0.  0.  0.  1.  0.  1.      1\n",
       " 0.  0.  0.  0.  0.  0.  0.  1.  1.  0.      1\n",
       " 0.  1.  0.  0.  1.  1.  0.  0.  0.  1.      1\n",
       " 0.  0.  1.  0.  0.  1.  1.  1.  0.  1.      1\n",
       " 0.  0.  0.  0.  1.  1.  0.  1.  1.  0.      1\n",
       " 1.  0.  0.  0.  0.  1.  1.  0.  0.  1.      1\n",
       " 1.  0.  0.  1.  0.  0.  1.  1.  0.  1.      1\n",
       " 1.  1.  0.  0.  0.  0.  0.  1.  0.  1.      1\n",
       " 1.  0.  0.  0.  1.  1.  0.  0.  1.  0.      1\n",
       " 0.  1.  0.  0.  1.  1.  0.  1.  1.  0.      1\n",
       " 1.  1.  0.  0.  0.  0.  1.  0.  0.  0.      1\n",
       " 1.  0.  0.  1.  1.  1.  0.  1.  0.  0.      1\n",
       " 1.  0.  0.  1.  0.  0.  0.  0.  0.  1.      1\n",
       " 0.  0.  0.  0.  0.  1.  0.  1.  0.  1.      1\n",
       " 0.  0.  0.  1.  1.  0.  0.  0.  1.  0.      1\n",
       " 0.  0.  0.  0.  1.  0.  0.  0.  1.  0.      1\n",
       " 0.  0.  1.  0.  0.  1.  1.  0.  1.  0.      1\n",
       " 0.  0.  0.  0.  1.  1.  1.  0.  0.  1.      1\n",
       " 0.  0.  0.  1.  1.  0.  0.  1.  0.  1.      1\n",
       " 1.  1.  1.  0.  0.  0.  0.  0.  1.  1.      1\n",
       " 1.  0.  0.  0.  0.  0.  0.  0.  0.  1.      1\n",
       " 1.  1.  0.  0.  0.  0.  0.  0.  0.  1.      1\n",
       " 0.  1.  1.  1.  0.  1.  0.  0.  0.  1.      1\n",
       "Name: Syllable, dtype: int64"
      ]
     },
     "execution_count": 48,
     "metadata": {},
     "output_type": "execute_result"
    }
   ],
   "source": [
    "counts = df[df['Condition']=='70-30']['Syllable'].value_counts()\n",
    "#counts.sort_values(ascending=False)\n",
    "counts"
   ]
  },
  {
   "cell_type": "code",
   "execution_count": null,
   "metadata": {
    "collapsed": true
   },
   "outputs": [],
   "source": []
  },
  {
   "cell_type": "markdown",
   "metadata": {},
   "source": [
    "## Save df_combos"
   ]
  },
  {
   "cell_type": "code",
   "execution_count": 227,
   "metadata": {
    "collapsed": false
   },
   "outputs": [],
   "source": [
    "df_combos.to_csv('/Users/shayneufeld/GitHub/mouse_bandit/data/syllables.csv')"
   ]
  },
  {
   "cell_type": "code",
   "execution_count": 49,
   "metadata": {
    "collapsed": false
   },
   "outputs": [
    {
     "data": {
      "text/html": [
       "<div>\n",
       "<table border=\"1\" class=\"dataframe\">\n",
       "  <thead>\n",
       "    <tr style=\"text-align: right;\">\n",
       "      <th></th>\n",
       "      <th>Mouse ID</th>\n",
       "      <th>Session ID</th>\n",
       "      <th>Block Trial</th>\n",
       "      <th>Port Streak</th>\n",
       "      <th>Reward Streak</th>\n",
       "      <th>10_Port</th>\n",
       "      <th>10_Reward</th>\n",
       "      <th>10_ITI</th>\n",
       "      <th>10_trialDuration</th>\n",
       "      <th>9_Port</th>\n",
       "      <th>...</th>\n",
       "      <th>1_Port</th>\n",
       "      <th>1_Reward</th>\n",
       "      <th>1_ITI</th>\n",
       "      <th>1_trialDuration</th>\n",
       "      <th>0_ITI</th>\n",
       "      <th>Decision</th>\n",
       "      <th>Switch</th>\n",
       "      <th>Higher p port</th>\n",
       "      <th>Reward</th>\n",
       "      <th>Condition</th>\n",
       "    </tr>\n",
       "  </thead>\n",
       "  <tbody>\n",
       "    <tr>\n",
       "      <th>0</th>\n",
       "      <td>K1</td>\n",
       "      <td>11042016_K1</td>\n",
       "      <td>11.0</td>\n",
       "      <td>9.0</td>\n",
       "      <td>-1.0</td>\n",
       "      <td>0.0</td>\n",
       "      <td>0.0</td>\n",
       "      <td>15.781</td>\n",
       "      <td>1.542</td>\n",
       "      <td>1.0</td>\n",
       "      <td>...</td>\n",
       "      <td>1.0</td>\n",
       "      <td>0.0</td>\n",
       "      <td>1.346</td>\n",
       "      <td>0.674</td>\n",
       "      <td>1.087</td>\n",
       "      <td>1.0</td>\n",
       "      <td>0.0</td>\n",
       "      <td>1.0</td>\n",
       "      <td>1.0</td>\n",
       "      <td>90-10</td>\n",
       "    </tr>\n",
       "    <tr>\n",
       "      <th>1</th>\n",
       "      <td>K1</td>\n",
       "      <td>11042016_K1</td>\n",
       "      <td>12.0</td>\n",
       "      <td>10.0</td>\n",
       "      <td>1.0</td>\n",
       "      <td>1.0</td>\n",
       "      <td>1.0</td>\n",
       "      <td>3.252</td>\n",
       "      <td>0.880</td>\n",
       "      <td>1.0</td>\n",
       "      <td>...</td>\n",
       "      <td>1.0</td>\n",
       "      <td>1.0</td>\n",
       "      <td>1.087</td>\n",
       "      <td>0.574</td>\n",
       "      <td>1.584</td>\n",
       "      <td>1.0</td>\n",
       "      <td>0.0</td>\n",
       "      <td>1.0</td>\n",
       "      <td>1.0</td>\n",
       "      <td>90-10</td>\n",
       "    </tr>\n",
       "    <tr>\n",
       "      <th>2</th>\n",
       "      <td>K1</td>\n",
       "      <td>11042016_K1</td>\n",
       "      <td>13.0</td>\n",
       "      <td>10.0</td>\n",
       "      <td>2.0</td>\n",
       "      <td>1.0</td>\n",
       "      <td>1.0</td>\n",
       "      <td>1.294</td>\n",
       "      <td>0.805</td>\n",
       "      <td>1.0</td>\n",
       "      <td>...</td>\n",
       "      <td>1.0</td>\n",
       "      <td>1.0</td>\n",
       "      <td>1.584</td>\n",
       "      <td>0.646</td>\n",
       "      <td>5.985</td>\n",
       "      <td>1.0</td>\n",
       "      <td>0.0</td>\n",
       "      <td>1.0</td>\n",
       "      <td>1.0</td>\n",
       "      <td>90-10</td>\n",
       "    </tr>\n",
       "    <tr>\n",
       "      <th>3</th>\n",
       "      <td>K1</td>\n",
       "      <td>11042016_K1</td>\n",
       "      <td>14.0</td>\n",
       "      <td>10.0</td>\n",
       "      <td>3.0</td>\n",
       "      <td>1.0</td>\n",
       "      <td>1.0</td>\n",
       "      <td>2.992</td>\n",
       "      <td>0.787</td>\n",
       "      <td>1.0</td>\n",
       "      <td>...</td>\n",
       "      <td>1.0</td>\n",
       "      <td>1.0</td>\n",
       "      <td>5.985</td>\n",
       "      <td>0.552</td>\n",
       "      <td>1.062</td>\n",
       "      <td>1.0</td>\n",
       "      <td>0.0</td>\n",
       "      <td>1.0</td>\n",
       "      <td>1.0</td>\n",
       "      <td>90-10</td>\n",
       "    </tr>\n",
       "    <tr>\n",
       "      <th>4</th>\n",
       "      <td>K1</td>\n",
       "      <td>11042016_K1</td>\n",
       "      <td>15.0</td>\n",
       "      <td>10.0</td>\n",
       "      <td>4.0</td>\n",
       "      <td>1.0</td>\n",
       "      <td>1.0</td>\n",
       "      <td>1.058</td>\n",
       "      <td>0.689</td>\n",
       "      <td>1.0</td>\n",
       "      <td>...</td>\n",
       "      <td>1.0</td>\n",
       "      <td>1.0</td>\n",
       "      <td>1.062</td>\n",
       "      <td>0.664</td>\n",
       "      <td>1.122</td>\n",
       "      <td>1.0</td>\n",
       "      <td>0.0</td>\n",
       "      <td>1.0</td>\n",
       "      <td>0.0</td>\n",
       "      <td>90-10</td>\n",
       "    </tr>\n",
       "  </tbody>\n",
       "</table>\n",
       "<p>5 rows × 51 columns</p>\n",
       "</div>"
      ],
      "text/plain": [
       "  Mouse ID   Session ID  Block Trial  Port Streak  Reward Streak  10_Port  \\\n",
       "0       K1  11042016_K1         11.0          9.0           -1.0      0.0   \n",
       "1       K1  11042016_K1         12.0         10.0            1.0      1.0   \n",
       "2       K1  11042016_K1         13.0         10.0            2.0      1.0   \n",
       "3       K1  11042016_K1         14.0         10.0            3.0      1.0   \n",
       "4       K1  11042016_K1         15.0         10.0            4.0      1.0   \n",
       "\n",
       "   10_Reward  10_ITI  10_trialDuration  9_Port    ...      1_Port  1_Reward  \\\n",
       "0        0.0  15.781             1.542     1.0    ...         1.0       0.0   \n",
       "1        1.0   3.252             0.880     1.0    ...         1.0       1.0   \n",
       "2        1.0   1.294             0.805     1.0    ...         1.0       1.0   \n",
       "3        1.0   2.992             0.787     1.0    ...         1.0       1.0   \n",
       "4        1.0   1.058             0.689     1.0    ...         1.0       1.0   \n",
       "\n",
       "   1_ITI  1_trialDuration  0_ITI  Decision  Switch  Higher p port  Reward  \\\n",
       "0  1.346            0.674  1.087       1.0     0.0            1.0     1.0   \n",
       "1  1.087            0.574  1.584       1.0     0.0            1.0     1.0   \n",
       "2  1.584            0.646  5.985       1.0     0.0            1.0     1.0   \n",
       "3  5.985            0.552  1.062       1.0     0.0            1.0     1.0   \n",
       "4  1.062            0.664  1.122       1.0     0.0            1.0     0.0   \n",
       "\n",
       "   Condition  \n",
       "0      90-10  \n",
       "1      90-10  \n",
       "2      90-10  \n",
       "3      90-10  \n",
       "4      90-10  \n",
       "\n",
       "[5 rows x 51 columns]"
      ]
     },
     "execution_count": 49,
     "metadata": {},
     "output_type": "execute_result"
    }
   ],
   "source": [
    "data[data['Switch']==1]['1_']"
   ]
  }
 ],
 "metadata": {
  "anaconda-cloud": {},
  "kernelspec": {
   "display_name": "Python [conda env:CaGRIN]",
   "language": "python",
   "name": "conda-env-CaGRIN-py"
  },
  "language_info": {
   "codemirror_mode": {
    "name": "ipython",
    "version": 3
   },
   "file_extension": ".py",
   "mimetype": "text/x-python",
   "name": "python",
   "nbconvert_exporter": "python",
   "pygments_lexer": "ipython3",
   "version": "3.5.2"
  }
 },
 "nbformat": 4,
 "nbformat_minor": 1
}
