{
 "cells": [
  {
   "cell_type": "markdown",
   "metadata": {},
   "source": [
    "# Visualizing the mouse behavior"
   ]
  },
  {
   "cell_type": "code",
   "execution_count": 1,
   "metadata": {
    "collapsed": false
   },
   "outputs": [],
   "source": [
    "import sys\n",
    "sys.path.append('/Users/shayneufeld/GitHub/mouse_bandit/data_preprocessing_code')\n",
    "sys.path.append('/Users/shayneufeld/GitHub/mouse_bandit')\n",
    "import support_functions as sf\n",
    "import numpy as np\n",
    "import matplotlib.pyplot as plt\n",
    "import seaborn as sns\n",
    "import pandas as pd\n",
    "import scipy as sp\n",
    "import bandit_preprocessing as bp\n",
    "import sys\n",
    "import os\n",
    "%matplotlib inline "
   ]
  },
  {
   "cell_type": "markdown",
   "metadata": {},
   "source": [
    "## load in csv files (from running exportTrials.m)"
   ]
  },
  {
   "cell_type": "markdown",
   "metadata": {},
   "source": [
    "### Mouse data"
   ]
  },
  {
   "cell_type": "code",
   "execution_count": 2,
   "metadata": {
    "collapsed": false
   },
   "outputs": [],
   "source": [
    "data90 = pd.read_csv('/Users/shayneufeld/GitHub/mouse_bandit/data/processed_data/full_9010_02192017.csv',index_col=0)\n",
    "data80 = pd.read_csv('/Users/shayneufeld/GitHub/mouse_bandit/data/processed_data/full_8020_02192017.csv',index_col=0)\n",
    "data70 = pd.read_csv('/Users/shayneufeld/GitHub/mouse_bandit/data/processed_data/full_7030_02192017.csv',index_col=0)"
   ]
  },
  {
   "cell_type": "markdown",
   "metadata": {},
   "source": [
    "### HMM data"
   ]
  },
  {
   "cell_type": "code",
   "execution_count": 3,
   "metadata": {
    "collapsed": false
   },
   "outputs": [
    {
     "data": {
      "text/plain": [
       "\"\\ndata90 = pd.read_csv('/Users/shayneufeld/GitHub/mouse_bandit/data/processed_data/hmm_matrix_full_9010.csv',index_col=0)\\ndata80 = pd.read_csv('/Users/shayneufeld/GitHub/mouse_bandit/data/processed_data/hmm_matrix_full_8020.csv',index_col=0)\\ndata70 = pd.read_csv('/Users/shayneufeld/GitHub/mouse_bandit/data/processed_data/hmm_matrix_full_7030.csv',index_col=0)\\n\""
      ]
     },
     "execution_count": 3,
     "metadata": {},
     "output_type": "execute_result"
    }
   ],
   "source": [
    "'''\n",
    "data90 = pd.read_csv('/Users/shayneufeld/GitHub/mouse_bandit/data/processed_data/hmm_matrix_full_9010.csv',index_col=0)\n",
    "data80 = pd.read_csv('/Users/shayneufeld/GitHub/mouse_bandit/data/processed_data/hmm_matrix_full_8020.csv',index_col=0)\n",
    "data70 = pd.read_csv('/Users/shayneufeld/GitHub/mouse_bandit/data/processed_data/hmm_matrix_full_7030.csv',index_col=0)\n",
    "'''"
   ]
  },
  {
   "cell_type": "markdown",
   "metadata": {},
   "source": [
    "## Collapse into single df"
   ]
  },
  {
   "cell_type": "code",
   "execution_count": 4,
   "metadata": {
    "collapsed": false,
    "scrolled": true
   },
   "outputs": [],
   "source": [
    "data90['Condition'] = '90-10'\n",
    "data80['Condition'] = '80-20'\n",
    "data70['Condition'] = '70-30'\n",
    "\n",
    "datas = data90.append(data80)\n",
    "datas = datas.append(data70)"
   ]
  },
  {
   "cell_type": "code",
   "execution_count": 5,
   "metadata": {
    "collapsed": false
   },
   "outputs": [
    {
     "data": {
      "text/plain": [
       "(77487, 51)"
      ]
     },
     "execution_count": 5,
     "metadata": {},
     "output_type": "execute_result"
    }
   ],
   "source": [
    "datas.shape"
   ]
  },
  {
   "cell_type": "markdown",
   "metadata": {},
   "source": [
    "# Compare prevalance of switches following reward"
   ]
  },
  {
   "cell_type": "code",
   "execution_count": 6,
   "metadata": {
    "collapsed": true
   },
   "outputs": [],
   "source": [
    "fontsize=20"
   ]
  },
  {
   "cell_type": "code",
   "execution_count": 7,
   "metadata": {
    "collapsed": false
   },
   "outputs": [
    {
     "data": {
      "image/png": "[encoded data removed]",
      "text/plain": [
       "<matplotlib.figure.Figure at 0x11103a240>"
      ]
     },
     "metadata": {},
     "output_type": "display_data"
    }
   ],
   "source": [
    "sns.set_style('white')\n",
    "plt.figure(figsize=(4,5))\n",
    "sns.barplot(x='Condition',y='Switch',data=datas,n_boot = 1000,ci=95)\n",
    "plt.ylim(0,0.2)\n",
    "#plt.title('p(switch) after rewarded trial',fontsize=20)\n",
    "plt.xticks(fontsize=fontsize)\n",
    "plt.yticks([0,0.1,0.2],fontsize=fontsize)\n",
    "#plt.ylabel('fraction switch trials',fontsize=fontsize)\n",
    "#plt.xlabel('Condition',fontsize=15)\n",
    "plt.ylabel('')\n",
    "plt.xlabel('')\n",
    "sns.despine()"
   ]
  },
  {
   "cell_type": "code",
   "execution_count": 8,
   "metadata": {
    "collapsed": false
   },
   "outputs": [
    {
     "data": {
      "image/png": "[encoded data removed]",
      "text/plain": [
       "<matplotlib.figure.Figure at 0x110e137b8>"
      ]
     },
     "metadata": {},
     "output_type": "display_data"
    }
   ],
   "source": [
    "sns.set_style('white')\n",
    "plt.figure(figsize=(4,5))\n",
    "sns.barplot(x='Condition',y='Switch',data=datas[datas['1_Reward']==1],n_boot = 1000,ci=95)\n",
    "plt.ylim(0,0.05)\n",
    "#plt.title('p(switch) after rewarded trial',fontsize=20)\n",
    "plt.xticks(fontsize=fontsize)\n",
    "plt.yticks([0,0.02,0.04],fontsize=fontsize)\n",
    "#plt.ylabel('fraction switch trials',fontsize=fontsize)\n",
    "#plt.xlabel('Condition',fontsize=15)\n",
    "plt.ylabel('')\n",
    "plt.xlabel('')\n",
    "sns.despine()"
   ]
  },
  {
   "cell_type": "code",
   "execution_count": 9,
   "metadata": {
    "collapsed": false
   },
   "outputs": [
    {
     "ename": "NameError",
     "evalue": "name 'data' is not defined",
     "output_type": "error",
     "traceback": [
      "\u001b[0;31m---------------------------------------------------------------------------\u001b[0m",
      "\u001b[0;31mNameError\u001b[0m                                 Traceback (most recent call last)",
      "\u001b[0;32m<ipython-input-9-b0efaa65cd30>\u001b[0m in \u001b[0;36m<module>\u001b[0;34m()\u001b[0m\n\u001b[0;32m----> 1\u001b[0;31m \u001b[0mdata\u001b[0m\u001b[0;34m[\u001b[0m\u001b[0;34m(\u001b[0m\u001b[0;34m(\u001b[0m\u001b[0mdata\u001b[0m\u001b[0;34m[\u001b[0m\u001b[0;34m'Condition'\u001b[0m\u001b[0;34m]\u001b[0m\u001b[0;34m==\u001b[0m\u001b[0;34m'90-10'\u001b[0m\u001b[0;34m)\u001b[0m \u001b[0;34m&\u001b[0m \u001b[0;34m(\u001b[0m\u001b[0mdata\u001b[0m\u001b[0;34m[\u001b[0m\u001b[0;34m'1_Reward'\u001b[0m\u001b[0;34m]\u001b[0m\u001b[0;34m==\u001b[0m\u001b[0;36m1\u001b[0m\u001b[0;34m)\u001b[0m\u001b[0;34m)\u001b[0m\u001b[0;34m]\u001b[0m\u001b[0;34m[\u001b[0m\u001b[0;34m'Switch'\u001b[0m\u001b[0;34m]\u001b[0m\u001b[0;34m.\u001b[0m\u001b[0mmean\u001b[0m\u001b[0;34m(\u001b[0m\u001b[0;34m)\u001b[0m\u001b[0;34m\u001b[0m\u001b[0m\n\u001b[0m",
      "\u001b[0;31mNameError\u001b[0m: name 'data' is not defined"
     ]
    }
   ],
   "source": [
    "data[((data['Condition']=='90-10') & (data['1_Reward']==1))]['Switch'].mean()"
   ]
  },
  {
   "cell_type": "code",
   "execution_count": null,
   "metadata": {
    "collapsed": true
   },
   "outputs": [],
   "source": [
    "print('90-10: %.02f $\\pm$ .02%f', % ())"
   ]
  },
  {
   "cell_type": "code",
   "execution_count": null,
   "metadata": {
    "collapsed": false,
    "scrolled": false
   },
   "outputs": [],
   "source": [
    "plt.figure(figsize=(4,5))\n",
    "sns.barplot(x='Condition',y='Switch',data=datas[datas['1_Reward']==0],n_boot = 1000,ci=95)\n",
    "plt.ylim(0,0.5)\n",
    "#plt.title('p(switch) after unrewarded trial',fontsize=20)\n",
    "plt.xticks(fontsize=fontsize)\n",
    "plt.yticks([0,0.25,0.5],fontsize=fontsize)\n",
    "plt.ylabel('fraction switch trials',fontsize=fontsize)\n",
    "plt.xlabel('Condition',fontsize=15)\n",
    "plt.ylabel('')\n",
    "plt.xlabel('')\n",
    "sns.despine()"
   ]
  },
  {
   "cell_type": "code",
   "execution_count": null,
   "metadata": {
    "collapsed": false
   },
   "outputs": [],
   "source": [
    "conditions = np.unique(datas['Condition'].values)\n",
    "print(conditions)\n",
    "colors = ['red','green','blue']\n",
    "\n",
    "for j,condition in enumerate(conditions):\n",
    "    data = datas[datas['Condition'] == condition].copy()\n",
    "    port_streaks = np.unique(data['Port Streak'].values)\n",
    "    p_switch = np.zeros((port_streaks.shape[0],2))\n",
    "\n",
    "    for i,streak in enumerate(port_streaks):\n",
    "            switches = data[data['Port Streak'] == streak]['Switch']\n",
    "            p_switch[i,0] = switches.mean()\n",
    "            p_switch[i,1] = switches.std() / np.sqrt(switches.shape[0])\n",
    "\n",
    "    plt.plot(port_streaks,p_switch[:,0],color=colors[j])\n",
    "    plt.fill_between(x=port_streaks,y1=p_switch[:,0]+p_switch[:,1],y2=p_switch[:,0]-p_switch[:,1],color=colors[j],alpha=0.3)\n",
    "    plt.xlabel('Port Streak',fontsize=fontsize)\n",
    "    plt.ylabel('p(switch)',fontsize=fontsize)\n",
    "    plt.xticks(fontsize=20)\n",
    "    plt.yticks([0,0.1,0.2,0.3],fontsize=fontsize)\n",
    "\n",
    "\n",
    "sns.despine()"
   ]
  },
  {
   "cell_type": "code",
   "execution_count": null,
   "metadata": {
    "collapsed": false
   },
   "outputs": [],
   "source": [
    "data70[data70['Reward Streak'] == streak]"
   ]
  },
  {
   "cell_type": "markdown",
   "metadata": {
    "collapsed": false
   },
   "source": [
    "## conditions = np.unique(datas['Condition'].values)\n",
    "print(conditions)\n",
    "colors = ['red','green','blue']\n",
    "\n",
    "for j,condition in enumerate(conditions):\n",
    "    data = datas[datas['Condition'] == condition].copy()\n",
    "    reward_streaks = np.unique(data['Reward Streak'].values)\n",
    "    p_switch = np.zeros((reward_streaks.shape[0],2))\n",
    "\n",
    "    for i,streak in enumerate(reward_streaks):\n",
    "            switches = data[data['Reward Streak'] == streak]['Switch']\n",
    "            p_switch[i,0] = switches.mean()\n",
    "            p_switch[i,1] = switches.std() / np.sqrt(switches.shape[0])\n",
    "\n",
    "    plt.plot(reward_streaks,p_switch[:,0],color=colors[j],label=condition)\n",
    "    plt.fill_between(x=reward_streaks,y1=p_switch[:,0]+p_switch[:,1],y2=p_switch[:,0]-p_switch[:,1],color=colors[j],alpha=0.3)\n",
    "    #plt.xlabel('Reward Streak',fontsize=fontsize)\n",
    "    #plt.ylabel('p(switch)',fontsize=fontsize)\n",
    "    plt.yticks([0,0.25,0.5,0.75],fontsize=fontsize)\n",
    "    plt.xticks(fontsize=20)\n",
    "    plt.xlim(-5,10)\n",
    "    plt.legend(loc='best',fontsize=fontsize)\n",
    "    #plt.yticks([0,0.1,0.2,0.3],fontsize=20)\n",
    "    plt.vlines(x=0,ymin=-0,ymax=0.5,color='white',linewidth=5,zorder=10)\n",
    "\n",
    "    sns.despine()"
   ]
  },
  {
   "cell_type": "code",
   "execution_count": null,
   "metadata": {
    "collapsed": true
   },
   "outputs": [],
   "source": [
    "boolean_2R = ((datas['1_Port']==1) & (datas['2_Port'] == 1) & (datas['1_Reward']==1) & (datas['2_Reward']==1))\n",
    "boolean_2NR = ((datas['1_Port']==1) & (datas['2_Port'] == 1) & (datas['1_Reward']==0) & (datas['2_Reward']==0))"
   ]
  },
  {
   "cell_type": "code",
   "execution_count": null,
   "metadata": {
    "collapsed": false
   },
   "outputs": [],
   "source": [
    "sns.barplot(x='Condition',y='Decision',data = datas[boolean_2R] )"
   ]
  },
  {
   "cell_type": "code",
   "execution_count": null,
   "metadata": {
    "collapsed": false
   },
   "outputs": [],
   "source": [
    "sns.barplot(x='Condition',y='Decision',data = datas[boolean_2NR] )\n",
    "plt.ylim(0,1)"
   ]
  },
  {
   "cell_type": "code",
   "execution_count": null,
   "metadata": {
    "collapsed": false,
    "scrolled": true
   },
   "outputs": [],
   "source": [
    "boolean_2NR_R = ((datas['1_Port']==0) & (datas['2_Port'] == 0) & (datas['1_Reward']==0) & (datas['2_Reward']==0))\n",
    "sns.barplot(x='Condition',y='Decision',data = datas[boolean_2NR_R] )\n",
    "plt.ylim(0,1)"
   ]
  },
  {
   "cell_type": "code",
   "execution_count": null,
   "metadata": {
    "collapsed": false
   },
   "outputs": [],
   "source": [
    "boolean_2NR_R = ((datas['1_Reward']==0) & (datas['2_Reward']==0))\n",
    "sns.barplot(x='Condition',y='Switch',data = datas[boolean_2NR_R] )"
   ]
  }
 ],
 "metadata": {
  "anaconda-cloud": {},
  "kernelspec": {
   "display_name": "Python [conda env:CaGRIN]",
   "language": "python",
   "name": "conda-env-CaGRIN-py"
  },
  "language_info": {
   "codemirror_mode": {
    "name": "ipython",
    "version": 3
   },
   "file_extension": ".py",
   "mimetype": "text/x-python",
   "name": "python",
   "nbconvert_exporter": "python",
   "pygments_lexer": "ipython3",
   "version": "3.5.2"
  }
 },
 "nbformat": 4,
 "nbformat_minor": 1
}
