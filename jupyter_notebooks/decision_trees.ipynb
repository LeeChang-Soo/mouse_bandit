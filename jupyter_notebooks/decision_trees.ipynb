{
 "cells": [
  {
   "cell_type": "markdown",
   "metadata": {},
   "source": [
    "# Decision Trees"
   ]
  },
  {
   "cell_type": "code",
   "execution_count": 32,
   "metadata": {
    "collapsed": false
   },
   "outputs": [],
   "source": [
    "import sys\n",
    "sys.path.append('/Users/shayneufeld/GitHub/mouse_bandit/data_preprocessing_code')\n",
    "sys.path.append('/Users/shayneufeld/GitHub/mouse_bandit')\n",
    "import support_functions as sf\n",
    "import numpy as np\n",
    "import matplotlib.pyplot as plt\n",
    "import seaborn as sns\n",
    "import pandas as pd\n",
    "import scipy as sp\n",
    "import bandit_preprocessing as bp\n",
    "import sklearn.linear_model\n",
    "from sklearn import discriminant_analysis\n",
    "from sklearn import cross_validation\n",
    "from sklearn import tree as Tree\n",
    "from sklearn import ensemble\n",
    "from IPython.display import Image\n",
    "from sklearn.externals.six import StringIO\n",
    "import pydotplus\n",
    "import sklearn.tree\n",
    "%matplotlib inline "
   ]
  },
  {
   "cell_type": "markdown",
   "metadata": {},
   "source": [
    "## Load in data"
   ]
  },
  {
   "cell_type": "code",
   "execution_count": 40,
   "metadata": {
    "collapsed": false
   },
   "outputs": [],
   "source": [
    "data = pd.read_csv('/Users/shayneufeld/GitHub/mouse_bandit/data/80_20_processed_data/new_master_8020_df.csv',index_col=0)"
   ]
  },
  {
   "cell_type": "code",
   "execution_count": 41,
   "metadata": {
    "collapsed": false,
    "scrolled": true
   },
   "outputs": [
    {
     "data": {
      "text/html": [
       "<div>\n",
       "<table border=\"1\" class=\"dataframe\">\n",
       "  <thead>\n",
       "    <tr style=\"text-align: right;\">\n",
       "      <th></th>\n",
       "      <th>Previous_10_Left_Choice</th>\n",
       "      <th>Previous_10_Right_Choice</th>\n",
       "      <th>Previous_10_Left_Reward</th>\n",
       "      <th>Previous_10_Right_Reward</th>\n",
       "      <th>Streak</th>\n",
       "      <th>5_Port</th>\n",
       "      <th>5_Reward</th>\n",
       "      <th>5_ITI</th>\n",
       "      <th>5_trialDuration</th>\n",
       "      <th>4_Port</th>\n",
       "      <th>...</th>\n",
       "      <th>2_Reward</th>\n",
       "      <th>2_ITI</th>\n",
       "      <th>2_trialDuration</th>\n",
       "      <th>1_Port</th>\n",
       "      <th>1_Reward</th>\n",
       "      <th>1_ITI</th>\n",
       "      <th>1_trialDuration</th>\n",
       "      <th>0_ITI</th>\n",
       "      <th>0_trialDuration</th>\n",
       "      <th>Decision</th>\n",
       "    </tr>\n",
       "  </thead>\n",
       "  <tbody>\n",
       "    <tr>\n",
       "      <th>0</th>\n",
       "      <td>10.0</td>\n",
       "      <td>0.0</td>\n",
       "      <td>8.0</td>\n",
       "      <td>0.0</td>\n",
       "      <td>-1.0</td>\n",
       "      <td>1.0</td>\n",
       "      <td>0.0</td>\n",
       "      <td>3.286</td>\n",
       "      <td>0.407</td>\n",
       "      <td>1.0</td>\n",
       "      <td>...</td>\n",
       "      <td>1.0</td>\n",
       "      <td>2.234</td>\n",
       "      <td>0.325</td>\n",
       "      <td>1.0</td>\n",
       "      <td>0.0</td>\n",
       "      <td>2.133</td>\n",
       "      <td>0.482</td>\n",
       "      <td>1.411</td>\n",
       "      <td>0.435</td>\n",
       "      <td>1.0</td>\n",
       "    </tr>\n",
       "    <tr>\n",
       "      <th>1</th>\n",
       "      <td>10.0</td>\n",
       "      <td>0.0</td>\n",
       "      <td>7.0</td>\n",
       "      <td>0.0</td>\n",
       "      <td>-2.0</td>\n",
       "      <td>1.0</td>\n",
       "      <td>1.0</td>\n",
       "      <td>2.405</td>\n",
       "      <td>0.463</td>\n",
       "      <td>1.0</td>\n",
       "      <td>...</td>\n",
       "      <td>0.0</td>\n",
       "      <td>2.133</td>\n",
       "      <td>0.482</td>\n",
       "      <td>1.0</td>\n",
       "      <td>0.0</td>\n",
       "      <td>1.411</td>\n",
       "      <td>0.435</td>\n",
       "      <td>2.169</td>\n",
       "      <td>0.395</td>\n",
       "      <td>0.0</td>\n",
       "    </tr>\n",
       "    <tr>\n",
       "      <th>2</th>\n",
       "      <td>9.0</td>\n",
       "      <td>1.0</td>\n",
       "      <td>6.0</td>\n",
       "      <td>0.0</td>\n",
       "      <td>-3.0</td>\n",
       "      <td>1.0</td>\n",
       "      <td>1.0</td>\n",
       "      <td>2.379</td>\n",
       "      <td>0.367</td>\n",
       "      <td>1.0</td>\n",
       "      <td>...</td>\n",
       "      <td>0.0</td>\n",
       "      <td>1.411</td>\n",
       "      <td>0.435</td>\n",
       "      <td>0.0</td>\n",
       "      <td>0.0</td>\n",
       "      <td>2.169</td>\n",
       "      <td>0.395</td>\n",
       "      <td>3.838</td>\n",
       "      <td>0.469</td>\n",
       "      <td>0.0</td>\n",
       "    </tr>\n",
       "    <tr>\n",
       "      <th>3</th>\n",
       "      <td>8.0</td>\n",
       "      <td>2.0</td>\n",
       "      <td>5.0</td>\n",
       "      <td>0.0</td>\n",
       "      <td>-4.0</td>\n",
       "      <td>1.0</td>\n",
       "      <td>1.0</td>\n",
       "      <td>2.234</td>\n",
       "      <td>0.325</td>\n",
       "      <td>1.0</td>\n",
       "      <td>...</td>\n",
       "      <td>0.0</td>\n",
       "      <td>2.169</td>\n",
       "      <td>0.395</td>\n",
       "      <td>0.0</td>\n",
       "      <td>0.0</td>\n",
       "      <td>3.838</td>\n",
       "      <td>0.469</td>\n",
       "      <td>1.846</td>\n",
       "      <td>0.378</td>\n",
       "      <td>1.0</td>\n",
       "    </tr>\n",
       "    <tr>\n",
       "      <th>4</th>\n",
       "      <td>8.0</td>\n",
       "      <td>2.0</td>\n",
       "      <td>5.0</td>\n",
       "      <td>0.0</td>\n",
       "      <td>1.0</td>\n",
       "      <td>1.0</td>\n",
       "      <td>0.0</td>\n",
       "      <td>2.133</td>\n",
       "      <td>0.482</td>\n",
       "      <td>1.0</td>\n",
       "      <td>...</td>\n",
       "      <td>0.0</td>\n",
       "      <td>3.838</td>\n",
       "      <td>0.469</td>\n",
       "      <td>1.0</td>\n",
       "      <td>1.0</td>\n",
       "      <td>1.846</td>\n",
       "      <td>0.378</td>\n",
       "      <td>1.527</td>\n",
       "      <td>0.416</td>\n",
       "      <td>1.0</td>\n",
       "    </tr>\n",
       "  </tbody>\n",
       "</table>\n",
       "<p>5 rows × 28 columns</p>\n",
       "</div>"
      ],
      "text/plain": [
       "   Previous_10_Left_Choice  Previous_10_Right_Choice  Previous_10_Left_Reward  \\\n",
       "0                     10.0                       0.0                      8.0   \n",
       "1                     10.0                       0.0                      7.0   \n",
       "2                      9.0                       1.0                      6.0   \n",
       "3                      8.0                       2.0                      5.0   \n",
       "4                      8.0                       2.0                      5.0   \n",
       "\n",
       "   Previous_10_Right_Reward  Streak  5_Port  5_Reward  5_ITI  5_trialDuration  \\\n",
       "0                       0.0    -1.0     1.0       0.0  3.286            0.407   \n",
       "1                       0.0    -2.0     1.0       1.0  2.405            0.463   \n",
       "2                       0.0    -3.0     1.0       1.0  2.379            0.367   \n",
       "3                       0.0    -4.0     1.0       1.0  2.234            0.325   \n",
       "4                       0.0     1.0     1.0       0.0  2.133            0.482   \n",
       "\n",
       "   4_Port    ...     2_Reward  2_ITI  2_trialDuration  1_Port  1_Reward  \\\n",
       "0     1.0    ...          1.0  2.234            0.325     1.0       0.0   \n",
       "1     1.0    ...          0.0  2.133            0.482     1.0       0.0   \n",
       "2     1.0    ...          0.0  1.411            0.435     0.0       0.0   \n",
       "3     1.0    ...          0.0  2.169            0.395     0.0       0.0   \n",
       "4     1.0    ...          0.0  3.838            0.469     1.0       1.0   \n",
       "\n",
       "   1_ITI  1_trialDuration  0_ITI  0_trialDuration  Decision  \n",
       "0  2.133            0.482  1.411            0.435       1.0  \n",
       "1  1.411            0.435  2.169            0.395       0.0  \n",
       "2  2.169            0.395  3.838            0.469       0.0  \n",
       "3  3.838            0.469  1.846            0.378       1.0  \n",
       "4  1.846            0.378  1.527            0.416       1.0  \n",
       "\n",
       "[5 rows x 28 columns]"
      ]
     },
     "execution_count": 41,
     "metadata": {},
     "output_type": "execute_result"
    }
   ],
   "source": [
    "data.head(5)"
   ]
  },
  {
   "cell_type": "code",
   "execution_count": 42,
   "metadata": {
    "collapsed": false
   },
   "outputs": [
    {
     "data": {
      "text/html": [
       "<div>\n",
       "<table border=\"1\" class=\"dataframe\">\n",
       "  <thead>\n",
       "    <tr style=\"text-align: right;\">\n",
       "      <th></th>\n",
       "      <th>Previous_10_Left_Choice</th>\n",
       "      <th>Previous_10_Right_Choice</th>\n",
       "      <th>Previous_10_Left_Reward</th>\n",
       "      <th>Previous_10_Right_Reward</th>\n",
       "      <th>Streak</th>\n",
       "      <th>5_Port</th>\n",
       "      <th>5_Reward</th>\n",
       "      <th>5_ITI</th>\n",
       "      <th>5_trialDuration</th>\n",
       "      <th>4_Port</th>\n",
       "      <th>...</th>\n",
       "      <th>2_Port</th>\n",
       "      <th>2_Reward</th>\n",
       "      <th>2_ITI</th>\n",
       "      <th>2_trialDuration</th>\n",
       "      <th>1_Port</th>\n",
       "      <th>1_Reward</th>\n",
       "      <th>1_ITI</th>\n",
       "      <th>1_trialDuration</th>\n",
       "      <th>0_ITI</th>\n",
       "      <th>Decision</th>\n",
       "    </tr>\n",
       "  </thead>\n",
       "  <tbody>\n",
       "    <tr>\n",
       "      <th>0</th>\n",
       "      <td>10.0</td>\n",
       "      <td>0.0</td>\n",
       "      <td>8.0</td>\n",
       "      <td>0.0</td>\n",
       "      <td>-1.0</td>\n",
       "      <td>1.0</td>\n",
       "      <td>0.0</td>\n",
       "      <td>3.286</td>\n",
       "      <td>0.407</td>\n",
       "      <td>1.0</td>\n",
       "      <td>...</td>\n",
       "      <td>1.0</td>\n",
       "      <td>1.0</td>\n",
       "      <td>2.234</td>\n",
       "      <td>0.325</td>\n",
       "      <td>1.0</td>\n",
       "      <td>0.0</td>\n",
       "      <td>2.133</td>\n",
       "      <td>0.482</td>\n",
       "      <td>1.411</td>\n",
       "      <td>1.0</td>\n",
       "    </tr>\n",
       "    <tr>\n",
       "      <th>1</th>\n",
       "      <td>10.0</td>\n",
       "      <td>0.0</td>\n",
       "      <td>7.0</td>\n",
       "      <td>0.0</td>\n",
       "      <td>-2.0</td>\n",
       "      <td>1.0</td>\n",
       "      <td>1.0</td>\n",
       "      <td>2.405</td>\n",
       "      <td>0.463</td>\n",
       "      <td>1.0</td>\n",
       "      <td>...</td>\n",
       "      <td>1.0</td>\n",
       "      <td>0.0</td>\n",
       "      <td>2.133</td>\n",
       "      <td>0.482</td>\n",
       "      <td>1.0</td>\n",
       "      <td>0.0</td>\n",
       "      <td>1.411</td>\n",
       "      <td>0.435</td>\n",
       "      <td>2.169</td>\n",
       "      <td>0.0</td>\n",
       "    </tr>\n",
       "  </tbody>\n",
       "</table>\n",
       "<p>2 rows × 27 columns</p>\n",
       "</div>"
      ],
      "text/plain": [
       "   Previous_10_Left_Choice  Previous_10_Right_Choice  Previous_10_Left_Reward  \\\n",
       "0                     10.0                       0.0                      8.0   \n",
       "1                     10.0                       0.0                      7.0   \n",
       "\n",
       "   Previous_10_Right_Reward  Streak  5_Port  5_Reward  5_ITI  5_trialDuration  \\\n",
       "0                       0.0    -1.0     1.0       0.0  3.286            0.407   \n",
       "1                       0.0    -2.0     1.0       1.0  2.405            0.463   \n",
       "\n",
       "   4_Port    ...     2_Port  2_Reward  2_ITI  2_trialDuration  1_Port  \\\n",
       "0     1.0    ...        1.0       1.0  2.234            0.325     1.0   \n",
       "1     1.0    ...        1.0       0.0  2.133            0.482     1.0   \n",
       "\n",
       "   1_Reward  1_ITI  1_trialDuration  0_ITI  Decision  \n",
       "0       0.0  2.133            0.482  1.411       1.0  \n",
       "1       0.0  1.411            0.435  2.169       0.0  \n",
       "\n",
       "[2 rows x 27 columns]"
      ]
     },
     "execution_count": 42,
     "metadata": {},
     "output_type": "execute_result"
    }
   ],
   "source": [
    "data = data.drop('0_trialDuration',axis=1)\n",
    "data.head(2)"
   ]
  },
  {
   "cell_type": "code",
   "execution_count": 43,
   "metadata": {
    "collapsed": true
   },
   "outputs": [],
   "source": [
    "#extract features and decisions\n",
    "x = data.iloc[:,:-1].values\n",
    "y = data.iloc[:,-1].values"
   ]
  },
  {
   "cell_type": "markdown",
   "metadata": {},
   "source": [
    "# Change 'y' so that 1 corresponds to a switch, and 0 corresponds to no switch"
   ]
  },
  {
   "cell_type": "code",
   "execution_count": 44,
   "metadata": {
    "collapsed": false
   },
   "outputs": [
    {
     "name": "stdout",
     "output_type": "stream",
     "text": [
      "(20831, 26)\n",
      "(20831,)\n"
     ]
    }
   ],
   "source": [
    "y_diff = np.diff(y)\n",
    "x = x[1:,:]\n",
    "y = np.abs(y_diff)\n",
    "\n",
    "print(x.shape)\n",
    "print(y_diff.shape)"
   ]
  },
  {
   "cell_type": "markdown",
   "metadata": {},
   "source": [
    "## Use only outcome features"
   ]
  },
  {
   "cell_type": "code",
   "execution_count": 45,
   "metadata": {
    "collapsed": false
   },
   "outputs": [],
   "source": [
    "data = data.iloc[1:,:]\n",
    "data['Decision'] = y\n",
    "\n",
    "outcome_features = ['Streak','5_Reward','4_Reward','3_Reward','2_Reward','1_Reward','Decision']\n",
    "\n",
    "data_outcome = data[outcome_features]\n",
    "\n",
    "x = data_outcome.iloc[:,:-1].values\n",
    "y = data_outcome.iloc[:,-1].values\n",
    "\n",
    "#uncomment if you want to run on all features\n",
    "x = data.iloc[:,:-1].values\n",
    "y = data.iloc[:,-1].values"
   ]
  },
  {
   "cell_type": "code",
   "execution_count": 46,
   "metadata": {
    "collapsed": false
   },
   "outputs": [],
   "source": [
    "#split into training and testing\n",
    "n_trials = x.shape[0]\n",
    "shuf_inds = np.random.permutation(n_trials)\n",
    "split_ind = int(n_trials*0.7)\n",
    "\n",
    "x_train = x[shuf_inds[:split_ind],:]\n",
    "y_train = y[shuf_inds[:split_ind]]\n",
    "\n",
    "x_test = x[shuf_inds[split_ind:],:]\n",
    "y_test = y[shuf_inds[split_ind:]]"
   ]
  },
  {
   "cell_type": "code",
   "execution_count": 47,
   "metadata": {
    "collapsed": false
   },
   "outputs": [
    {
     "name": "stdout",
     "output_type": "stream",
     "text": [
      "# train trials: 14581 | # switches: 1261 --> 8.6 percent\n",
      "# test trials: 6250 | # switches: 524 --> 8.4 percent\n"
     ]
    }
   ],
   "source": [
    "print('# train trials: %.0f | # switches: %.0f --> %.01f percent' % (y_train.shape[0],np.sum(y_train),np.sum(y_train)*100.0/y_train.shape[0]))\n",
    "print('# test trials: %.0f | # switches: %.0f --> %.01f percent' % (y_test.shape[0],np.sum(y_test),np.sum(y_test)*100.0/y_test.shape[0]))"
   ]
  },
  {
   "cell_type": "markdown",
   "metadata": {},
   "source": [
    "# Decision Tree with all outcome features"
   ]
  },
  {
   "cell_type": "code",
   "execution_count": 120,
   "metadata": {
    "collapsed": false
   },
   "outputs": [
    {
     "name": "stdout",
     "output_type": "stream",
     "text": [
      "          Predicted NO  Predicted YES\n",
      "True NO         4199.0         1527.0\n",
      "True YES          66.0          458.0\n",
      "\n",
      "F1: 0.365\n",
      "\n",
      "Accuracy on class 0: 0.73\n",
      "Accuracy on class 1: 0.87\n",
      "\n"
     ]
    }
   ],
   "source": [
    "tree = Tree.DecisionTreeClassifier(max_depth = 2,class_weight='balanced')\n",
    "tree.fit(x_train,y_train)\n",
    "y_predict = tree.predict(x_test)\n",
    "acc_pos,acc_neg,F1=sf.score_both_and_confuse(y_predict,y_test,confusion=False)"
   ]
  },
  {
   "cell_type": "code",
   "execution_count": 70,
   "metadata": {
    "collapsed": false
   },
   "outputs": [
    {
     "data": {
      "image/png": "[encoded data removed]",
      "text/plain": [
       "<IPython.core.display.Image object>"
      ]
     },
     "execution_count": 70,
     "metadata": {},
     "output_type": "execute_result"
    }
   ],
   "source": [
    "dot_data = Tree.export_graphviz(tree,out_file=None,\n",
    "                     feature_names=data.columns.values[:-1],\n",
    "                     class_names = ['Stay','Switch'],\n",
    "                     filled=True,rounded=True,special_characters=True)\n",
    "\n",
    "graph = pydotplus.graph_from_dot_data(dot_data)\n",
    "\n",
    "Image(graph.create_png())"
   ]
  },
  {
   "cell_type": "markdown",
   "metadata": {},
   "source": [
    "This isn't sensitive to max_depth i.e. it does not improve for any number > 1. "
   ]
  },
  {
   "cell_type": "code",
   "execution_count": 54,
   "metadata": {
    "collapsed": false
   },
   "outputs": [
    {
     "data": {
      "text/plain": [
       "array([ 0.        ,  0.        ,  0.        ,  0.        ,  0.        ,\n",
       "        0.        ,  0.        ,  0.        ,  0.        ,  0.        ,\n",
       "        0.        ,  0.        ,  0.        ,  0.        ,  0.        ,\n",
       "        0.        ,  0.        ,  0.        ,  0.04237534,  0.        ,\n",
       "        0.        ,  0.        ,  0.87563932,  0.        ,  0.        ,\n",
       "        0.08198534])"
      ]
     },
     "execution_count": 54,
     "metadata": {},
     "output_type": "execute_result"
    }
   ],
   "source": [
    "tree.feature_importances_"
   ]
  },
  {
   "cell_type": "markdown",
   "metadata": {},
   "source": [
    "# Try boosting single feature decision trees"
   ]
  },
  {
   "cell_type": "code",
   "execution_count": 95,
   "metadata": {
    "collapsed": false,
    "scrolled": false
   },
   "outputs": [
    {
     "name": "stdout",
     "output_type": "stream",
     "text": [
      "          Predicted NO  Predicted YES\n",
      "True NO         4232.0         1494.0\n",
      "True YES          83.0          441.0\n",
      "\n",
      "F1: 0.359\n",
      "\n",
      "Accuracy on class 0: 0.74\n",
      "Accuracy on class 1: 0.84\n",
      "\n"
     ]
    }
   ],
   "source": [
    "# boosting: many many weak classifiers (max_depth=1) refine themselves sequentially\n",
    "# tree is the default the base classifier\n",
    "estimator = ensemble.GradientBoostingClassifier(n_estimators=10, learning_rate=.001, max_depth=5, random_state=0)\n",
    "estimator.fit(x_train, y_train)\n",
    "y_pred = estimator.predict(x_test)\n",
    "acc_pos,acc_neg,F1=sf.score_both_and_confuse(y_predict,y_test,confusion=False)"
   ]
  },
  {
   "cell_type": "markdown",
   "metadata": {},
   "source": [
    "# Benchmark model --> what if we just predict the mouse switches every time it doesn't get a reward?"
   ]
  },
  {
   "cell_type": "code",
   "execution_count": 114,
   "metadata": {
    "collapsed": false,
    "scrolled": true
   },
   "outputs": [
    {
     "name": "stdout",
     "output_type": "stream",
     "text": [
      "          Predicted NO  Predicted YES\n",
      "True NO         3989.0         1737.0\n",
      "True YES         370.0          154.0\n",
      "\n",
      "F1: 0.128\n",
      "\n",
      "Accuracy on class 0: 0.70\n",
      "Accuracy on class 1: 0.29\n",
      "\n"
     ]
    },
    {
     "name": "stderr",
     "output_type": "stream",
     "text": [
      "/Users/shayneufeld/GitHub/mouse_bandit/support_functions.py:78: VisibleDeprecationWarning: boolean index did not match indexed array along dimension 0; dimension is 20831 but corresponding boolean dimension is 6250\n",
      "  acc_pos = np.mean(y_predict[y_test==1] == y_test[y_test==1])\n",
      "/Users/shayneufeld/GitHub/mouse_bandit/support_functions.py:79: VisibleDeprecationWarning: boolean index did not match indexed array along dimension 0; dimension is 20831 but corresponding boolean dimension is 6250\n",
      "  acc_neg = np.mean(y_predict[y_test==0] == y_test[y_test==0])\n"
     ]
    }
   ],
   "source": [
    "y_predict = (data['1_Reward'].values == 0).astype('int')\n",
    "acc_pos,acc_neg,F1=sf.score_both_and_confuse(y_predict,y_test,confusion=False)"
   ]
  },
  {
   "cell_type": "code",
   "execution_count": null,
   "metadata": {
    "collapsed": false
   },
   "outputs": [],
   "source": [
    "inds = np.arange(0,600,100)\n",
    "plt.figure(figsize=(15,10))\n",
    "\n",
    "for i,ind in enumerate(inds):\n",
    "    \n",
    "    plt.subplot(2,3,i+1)\n",
    "    plt.plot(P,acc_cv[ind:ind+100,0],color='purple',label='switching accuracy')\n",
    "    plt.plot(P,acc_cv[ind:ind+100,1],color='black',label='staying accuracy')\n",
    "    plt.hlines(y=0.5,xmin=0,xmax=1,color='black',alpha=0.7,linestyle='dotted')\n",
    "    plt.legend(loc='lower right',bbox_to_anchor=[0.5,0.3])\n",
    "    plt.ylabel('Model accuracy')\n",
    "    plt.xlabel('Switching class weight')\n",
    "    plt.title('Decision Tree \\nDepth: %.0f' % D[i])\n",
    "plt.tight_layout()"
   ]
  },
  {
   "cell_type": "code",
   "execution_count": null,
   "metadata": {
    "collapsed": false
   },
   "outputs": [],
   "source": [
    "best_tree = Tree.DecisionTreeClassifier(max_depth=2,class_weight={0:0.10,1:0.9})\n",
    "best_tree.fit(x_train,y_train)\n",
    "y_predict = best_tree.predict(x_test)\n",
    "acc_pos,acc_neg,F1 = sf.score_both_and_confuse(y_predict,y_test,confusion=False)"
   ]
  }
 ],
 "metadata": {
  "anaconda-cloud": {},
  "kernelspec": {
   "display_name": "Python [conda env:cagrin]",
   "language": "python",
   "name": "conda-env-cagrin-py"
  },
  "language_info": {
   "codemirror_mode": {
    "name": "ipython",
    "version": 3
   },
   "file_extension": ".py",
   "mimetype": "text/x-python",
   "name": "python",
   "nbconvert_exporter": "python",
   "pygments_lexer": "ipython3",
   "version": "3.5.2"
  }
 },
 "nbformat": 4,
 "nbformat_minor": 1
}
