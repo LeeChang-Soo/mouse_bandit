{
 "cells": [
  {
   "cell_type": "markdown",
   "metadata": {},
   "source": [
    "# Random Forest & Neural Net"
   ]
  },
  {
   "cell_type": "code",
   "execution_count": 1,
   "metadata": {
    "collapsed": false
   },
   "outputs": [],
   "source": [
    "import sys\n",
    "sys.path.append('/Users/shayneufeld/GitHub/mouse_bandit/data_preprocessing_code')\n",
    "sys.path.append('/Users/shayneufeld/GitHub/mouse_bandit')\n",
    "import support_functions as sf\n",
    "import numpy as np\n",
    "import matplotlib.pyplot as plt\n",
    "import seaborn as sns\n",
    "import pandas as pd\n",
    "import scipy as sp\n",
    "import bandit_preprocessing as bp\n",
    "import sklearn.linear_model\n",
    "from sklearn import discriminant_analysis\n",
    "from sklearn import model_selection\n",
    "from sklearn import tree as Tree\n",
    "from sklearn import ensemble\n",
    "from sklearn import neural_network\n",
    "import sklearn.tree\n",
    "%matplotlib inline "
   ]
  },
  {
   "cell_type": "markdown",
   "metadata": {},
   "source": [
    "### Load in data"
   ]
  },
  {
   "cell_type": "code",
   "execution_count": 2,
   "metadata": {
    "collapsed": false
   },
   "outputs": [
    {
     "data": {
      "text/html": [
       "<div>\n",
       "<table border=\"1\" class=\"dataframe\">\n",
       "  <thead>\n",
       "    <tr style=\"text-align: right;\">\n",
       "      <th></th>\n",
       "      <th>Previous_10_Left_Choice</th>\n",
       "      <th>Previous_10_Right_Choice</th>\n",
       "      <th>Previous_10_Left_Reward</th>\n",
       "      <th>Previous_10_Right_Reward</th>\n",
       "      <th>Streak</th>\n",
       "      <th>5_Port</th>\n",
       "      <th>5_Reward</th>\n",
       "      <th>5_ITI</th>\n",
       "      <th>5_trialDuration</th>\n",
       "      <th>4_Port</th>\n",
       "      <th>...</th>\n",
       "      <th>2_Reward</th>\n",
       "      <th>2_ITI</th>\n",
       "      <th>2_trialDuration</th>\n",
       "      <th>1_Port</th>\n",
       "      <th>1_Reward</th>\n",
       "      <th>1_ITI</th>\n",
       "      <th>1_trialDuration</th>\n",
       "      <th>0_ITI</th>\n",
       "      <th>Decision</th>\n",
       "      <th>Switch</th>\n",
       "    </tr>\n",
       "  </thead>\n",
       "  <tbody>\n",
       "    <tr>\n",
       "      <th>1</th>\n",
       "      <td>10.0</td>\n",
       "      <td>0.0</td>\n",
       "      <td>7.0</td>\n",
       "      <td>0.0</td>\n",
       "      <td>-2.0</td>\n",
       "      <td>1.0</td>\n",
       "      <td>1.0</td>\n",
       "      <td>2.405</td>\n",
       "      <td>0.463</td>\n",
       "      <td>1.0</td>\n",
       "      <td>...</td>\n",
       "      <td>0.0</td>\n",
       "      <td>2.133</td>\n",
       "      <td>0.482</td>\n",
       "      <td>1.0</td>\n",
       "      <td>0.0</td>\n",
       "      <td>1.411</td>\n",
       "      <td>0.435</td>\n",
       "      <td>2.169</td>\n",
       "      <td>0.0</td>\n",
       "      <td>1.0</td>\n",
       "    </tr>\n",
       "    <tr>\n",
       "      <th>2</th>\n",
       "      <td>9.0</td>\n",
       "      <td>1.0</td>\n",
       "      <td>6.0</td>\n",
       "      <td>0.0</td>\n",
       "      <td>-3.0</td>\n",
       "      <td>1.0</td>\n",
       "      <td>1.0</td>\n",
       "      <td>2.379</td>\n",
       "      <td>0.367</td>\n",
       "      <td>1.0</td>\n",
       "      <td>...</td>\n",
       "      <td>0.0</td>\n",
       "      <td>1.411</td>\n",
       "      <td>0.435</td>\n",
       "      <td>0.0</td>\n",
       "      <td>0.0</td>\n",
       "      <td>2.169</td>\n",
       "      <td>0.395</td>\n",
       "      <td>3.838</td>\n",
       "      <td>0.0</td>\n",
       "      <td>0.0</td>\n",
       "    </tr>\n",
       "    <tr>\n",
       "      <th>3</th>\n",
       "      <td>8.0</td>\n",
       "      <td>2.0</td>\n",
       "      <td>5.0</td>\n",
       "      <td>0.0</td>\n",
       "      <td>-4.0</td>\n",
       "      <td>1.0</td>\n",
       "      <td>1.0</td>\n",
       "      <td>2.234</td>\n",
       "      <td>0.325</td>\n",
       "      <td>1.0</td>\n",
       "      <td>...</td>\n",
       "      <td>0.0</td>\n",
       "      <td>2.169</td>\n",
       "      <td>0.395</td>\n",
       "      <td>0.0</td>\n",
       "      <td>0.0</td>\n",
       "      <td>3.838</td>\n",
       "      <td>0.469</td>\n",
       "      <td>1.846</td>\n",
       "      <td>1.0</td>\n",
       "      <td>1.0</td>\n",
       "    </tr>\n",
       "    <tr>\n",
       "      <th>4</th>\n",
       "      <td>8.0</td>\n",
       "      <td>2.0</td>\n",
       "      <td>5.0</td>\n",
       "      <td>0.0</td>\n",
       "      <td>1.0</td>\n",
       "      <td>1.0</td>\n",
       "      <td>0.0</td>\n",
       "      <td>2.133</td>\n",
       "      <td>0.482</td>\n",
       "      <td>1.0</td>\n",
       "      <td>...</td>\n",
       "      <td>0.0</td>\n",
       "      <td>3.838</td>\n",
       "      <td>0.469</td>\n",
       "      <td>1.0</td>\n",
       "      <td>1.0</td>\n",
       "      <td>1.846</td>\n",
       "      <td>0.378</td>\n",
       "      <td>1.527</td>\n",
       "      <td>1.0</td>\n",
       "      <td>0.0</td>\n",
       "    </tr>\n",
       "  </tbody>\n",
       "</table>\n",
       "<p>4 rows × 28 columns</p>\n",
       "</div>"
      ],
      "text/plain": [
       "   Previous_10_Left_Choice  Previous_10_Right_Choice  Previous_10_Left_Reward  \\\n",
       "1                     10.0                       0.0                      7.0   \n",
       "2                      9.0                       1.0                      6.0   \n",
       "3                      8.0                       2.0                      5.0   \n",
       "4                      8.0                       2.0                      5.0   \n",
       "\n",
       "   Previous_10_Right_Reward  Streak  5_Port  5_Reward  5_ITI  5_trialDuration  \\\n",
       "1                       0.0    -2.0     1.0       1.0  2.405            0.463   \n",
       "2                       0.0    -3.0     1.0       1.0  2.379            0.367   \n",
       "3                       0.0    -4.0     1.0       1.0  2.234            0.325   \n",
       "4                       0.0     1.0     1.0       0.0  2.133            0.482   \n",
       "\n",
       "   4_Port   ...    2_Reward  2_ITI  2_trialDuration  1_Port  1_Reward  1_ITI  \\\n",
       "1     1.0   ...         0.0  2.133            0.482     1.0       0.0  1.411   \n",
       "2     1.0   ...         0.0  1.411            0.435     0.0       0.0  2.169   \n",
       "3     1.0   ...         0.0  2.169            0.395     0.0       0.0  3.838   \n",
       "4     1.0   ...         0.0  3.838            0.469     1.0       1.0  1.846   \n",
       "\n",
       "   1_trialDuration  0_ITI  Decision  Switch  \n",
       "1            0.435  2.169       0.0     1.0  \n",
       "2            0.395  3.838       0.0     0.0  \n",
       "3            0.469  1.846       1.0     1.0  \n",
       "4            0.378  1.527       1.0     0.0  \n",
       "\n",
       "[4 rows x 28 columns]"
      ]
     },
     "execution_count": 2,
     "metadata": {},
     "output_type": "execute_result"
    }
   ],
   "source": [
    "data = pd.read_csv('/Users/shayneufeld/GitHub/mouse_bandit/data/processed_data/master_8020_df.csv',index_col=0)\n",
    "data = data.drop('0_trialDuration',axis=1)\n",
    "\n",
    "switches = np.abs(np.diff(data['Decision'].values))\n",
    "data = data.iloc[1:,:]\n",
    "data['Switch'] = switches\n",
    "feature_names = data.columns.values[:-1]\n",
    "data.head(4)"
   ]
  },
  {
   "cell_type": "code",
   "execution_count": 3,
   "metadata": {
    "collapsed": true
   },
   "outputs": [],
   "source": [
    "#extract features and decisions\n",
    "x = data.iloc[:,:-2].values\n",
    "y = data.iloc[:,-1].values"
   ]
  },
  {
   "cell_type": "markdown",
   "metadata": {},
   "source": [
    "### Split into training and testing set"
   ]
  },
  {
   "cell_type": "code",
   "execution_count": 4,
   "metadata": {
    "collapsed": false
   },
   "outputs": [],
   "source": [
    "#split into training and testing\n",
    "n_trials = x.shape[0]\n",
    "shuf_inds = np.random.permutation(n_trials)\n",
    "split_ind = int(n_trials*0.7)\n",
    "\n",
    "x_train = x[shuf_inds[:split_ind],:]\n",
    "y_train = y[shuf_inds[:split_ind]]\n",
    "\n",
    "x_test = x[shuf_inds[split_ind:],:]\n",
    "y_test = y[shuf_inds[split_ind:]]"
   ]
  },
  {
   "cell_type": "code",
   "execution_count": 5,
   "metadata": {
    "collapsed": false
   },
   "outputs": [
    {
     "name": "stdout",
     "output_type": "stream",
     "text": [
      "# train trials: 7927 | # switches: 592 --> 7.5 percent\n",
      "# test trials: 3398 | # switches: 305 --> 9.0 percent\n"
     ]
    }
   ],
   "source": [
    "print('# train trials: %.0f | # switches: %.0f --> %.01f percent' % (y_train.shape[0],np.sum(y_train),np.sum(y_train)*100.0/y_train.shape[0]))\n",
    "print('# test trials: %.0f | # switches: %.0f --> %.01f percent' % (y_test.shape[0],np.sum(y_test),np.sum(y_test)*100.0/y_test.shape[0]))"
   ]
  },
  {
   "cell_type": "markdown",
   "metadata": {},
   "source": [
    "# Random Forest\n",
    "\n"
   ]
  },
  {
   "cell_type": "code",
   "execution_count": 111,
   "metadata": {
    "collapsed": true
   },
   "outputs": [],
   "source": [
    "rf = ensemble.RandomForestClassifier(max_depth = 9,n_estimators = 50,criterion='gini',max_features='sqrt',class_weight='balanced')\n",
    "rf.fit(x_train,y_train)\n",
    "y_predict = rf.predict(x_test)"
   ]
  },
  {
   "cell_type": "code",
   "execution_count": 112,
   "metadata": {
    "collapsed": false
   },
   "outputs": [
    {
     "name": "stdout",
     "output_type": "stream",
     "text": [
      "          Predicted NO  Predicted YES\n",
      "True NO         2769.0          324.0\n",
      "True YES         121.0          184.0\n",
      "\n",
      "F1: 0.453\n",
      "\n",
      "Accuracy on class 0: 0.90\n",
      "Accuracy on class 1: 0.60\n",
      "\n"
     ]
    }
   ],
   "source": [
    "acc_pos,acc_neg,F1_k = sf.score_both_and_confuse(y_predict,y_test,confusion=False,disp=True)"
   ]
  },
  {
   "cell_type": "code",
   "execution_count": 79,
   "metadata": {
    "collapsed": false,
    "scrolled": false
   },
   "outputs": [],
   "source": [
    "features = data.columns.values[:-1]\n",
    "E = np.array([5,10,25,50]) #np.arange(1,50,10)\n",
    "D = np.arange(1,20,2)\n",
    "F1_rf,w = np.zeros(D.shape[0]),np.zeros(D.shape[0])\n",
    "\n",
    "for i,d in enumerate(D):\n",
    "    \n",
    "    for e in E:\n",
    "        rf = ensemble.RandomForestClassifier(n_estimators = e,max_depth=d,max_features='sqrt',class_weight='balanced')\n",
    "\n",
    "        kf = model_selection.KFold(n_splits=2)\n",
    "        cum_F1 = 0.0\n",
    "\n",
    "        for train_index,test_index in kf.split(x_train):\n",
    "            x_train_cv = x_train[train_index,:]\n",
    "            y_train_cv = y_train[train_index]\n",
    "            x_test_cv = x_train[test_index,:]\n",
    "            y_test_cv = y_train[test_index]\n",
    "\n",
    "            rf.fit(x_train_cv,y_train_cv)\n",
    "            y_predict = rf.predict(x_test_cv)\n",
    "\n",
    "            acc_pos,acc_neg,F1_k = sf.score_both_and_confuse(y_predict,y_test_cv,confusion=False,disp=False)\n",
    "\n",
    "            cum_F1 += F1_k\n",
    "\n",
    "        F1_cv = cum_F1 / 3.0\n",
    "    \n",
    "        if F1_cv > F1_rf[i]:\n",
    "            F1_rf[i] = F1_cv\n",
    "            w[i] = e"
   ]
  },
  {
   "cell_type": "code",
   "execution_count": 43,
   "metadata": {
    "collapsed": false,
    "scrolled": true
   },
   "outputs": [
    {
     "data": {
      "text/plain": [
       "array([ 0.24885589,  0.24308519,  0.26455525,  0.29056447,  0.29107618,\n",
       "        0.26792677,  0.24021607,  0.21290493,  0.18522044,  0.17094334])"
      ]
     },
     "execution_count": 43,
     "metadata": {},
     "output_type": "execute_result"
    }
   ],
   "source": [
    "F1"
   ]
  },
  {
   "cell_type": "code",
   "execution_count": 44,
   "metadata": {
    "collapsed": false
   },
   "outputs": [
    {
     "data": {
      "text/plain": [
       "array([  5.,  25.,  50.,  25.,  25.,  50.,  50.,   5.,   5.,   5.])"
      ]
     },
     "execution_count": 44,
     "metadata": {},
     "output_type": "execute_result"
    }
   ],
   "source": [
    "w"
   ]
  },
  {
   "cell_type": "code",
   "execution_count": 11,
   "metadata": {
    "collapsed": false
   },
   "outputs": [
    {
     "data": {
      "text/plain": [
       "<matplotlib.collections.PathCollection at 0x11122e6a0>"
      ]
     },
     "execution_count": 11,
     "metadata": {},
     "output_type": "execute_result"
    },
    {
     "data": {
      "image/png": "[encoded data removed]",
      "text/plain": [
       "<matplotlib.figure.Figure at 0x110b73be0>"
      ]
     },
     "metadata": {},
     "output_type": "display_data"
    }
   ],
   "source": [
    "plt.figure(figsize=(5,5))\n",
    "plt.scatter(D,F1)"
   ]
  },
  {
   "cell_type": "code",
   "execution_count": 75,
   "metadata": {
    "collapsed": false
   },
   "outputs": [
    {
     "data": {
      "text/plain": [
       "<matplotlib.legend.Legend at 0x118df7668>"
      ]
     },
     "execution_count": 75,
     "metadata": {},
     "output_type": "execute_result"
    },
    {
     "data": {
      "image/png": "[encoded data removed]",
      "text/plain": [
       "<matplotlib.figure.Figure at 0x118b8b1d0>"
      ]
     },
     "metadata": {},
     "output_type": "display_data"
    }
   ],
   "source": [
    "fig,ax1 = plt.subplots()\n",
    "ax1.plot(D,F1,color='black',label='F1 score')\n",
    "ax1.set_xlabel('Tree Depth',fontsize=25)\n",
    "plt.ylim(0,0.3)\n",
    "plt.ylabel('F1 CV score',fontsize=25)\n",
    "plt.legend(loc='lower left')"
   ]
  },
  {
   "cell_type": "code",
   "execution_count": 13,
   "metadata": {
    "collapsed": false
   },
   "outputs": [
    {
     "data": {
      "text/plain": [
       "array([ 10.,  10.,  10.,  50.,  50.,  50.,  50.,  50.,  10.,  10.])"
      ]
     },
     "execution_count": 13,
     "metadata": {},
     "output_type": "execute_result"
    }
   ],
   "source": [
    "w"
   ]
  },
  {
   "cell_type": "code",
   "execution_count": 31,
   "metadata": {
    "collapsed": false
   },
   "outputs": [
    {
     "name": "stdout",
     "output_type": "stream",
     "text": [
      "          Predicted NO  Predicted YES\n",
      "True NO         2780.0          313.0\n",
      "True YES         118.0          187.0\n",
      "\n",
      "F1: 0.465\n",
      "\n",
      "Accuracy on class 0: 0.90\n",
      "Accuracy on class 1: 0.61\n",
      "\n"
     ]
    }
   ],
   "source": [
    "rf = ensemble.RandomForestClassifier(n_estimators = 50,max_depth=9,max_features='sqrt',class_weight='balanced')\n",
    "rf.fit(x_train,y_train)\n",
    "y_predict = rf.predict(x_test)\n",
    "acc_pos,acc_neg,F1 = sf.score_both_and_confuse(y_predict,y_test,confusion=False,disp=True)"
   ]
  },
  {
   "cell_type": "code",
   "execution_count": 80,
   "metadata": {
    "collapsed": false
   },
   "outputs": [],
   "source": [
    "features = data.columns.values[:-1]\n",
    "E = np.array([5,10,25,50]) #np.arange(1,50,10)\n",
    "D = np.arange(1,20,2)\n",
    "F1_boost,w = np.zeros(D.shape[0]),np.zeros(D.shape[0])\n",
    "\n",
    "for i,d in enumerate(D):\n",
    "    \n",
    "    for e in E:\n",
    "        rf = ensemble.GradientBoostingClassifier(n_estimators = e,max_depth=d,max_features='sqrt')\n",
    "\n",
    "        kf = model_selection.KFold(n_splits=2)\n",
    "        cum_F1 = 0.0\n",
    "\n",
    "        for train_index,test_index in kf.split(x_train):\n",
    "            x_train_cv = x_train[train_index,:]\n",
    "            y_train_cv = y_train[train_index]\n",
    "            x_test_cv = x_train[test_index,:]\n",
    "            y_test_cv = y_train[test_index]\n",
    "\n",
    "            rf.fit(x_train_cv,y_train_cv)\n",
    "            y_predict = rf.predict(x_test_cv)\n",
    "\n",
    "            acc_pos,acc_neg,F1_k = sf.score_both_and_confuse(y_predict,y_test_cv,confusion=False,disp=False)\n",
    "\n",
    "            cum_F1 += F1_k\n",
    "\n",
    "        F1_cv = cum_F1 / 3.0\n",
    "    \n",
    "        if F1_cv > F1_boost[i]:\n",
    "            F1_boost[i] = F1_cv\n",
    "            w[i] = e"
   ]
  },
  {
   "cell_type": "code",
   "execution_count": 114,
   "metadata": {
    "collapsed": false
   },
   "outputs": [
    {
     "data": {
      "text/plain": [
       "([<matplotlib.axis.YTick at 0x11bbab860>,\n",
       "  <matplotlib.axis.YTick at 0x11bbb3cc0>,\n",
       "  <matplotlib.axis.YTick at 0x11bbddcc0>,\n",
       "  <matplotlib.axis.YTick at 0x11bbecb38>],\n",
       " <a list of 4 Text yticklabel objects>)"
      ]
     },
     "execution_count": 114,
     "metadata": {},
     "output_type": "execute_result"
    },
    {
     "data": {
      "image/png": "[encoded data removed]",
      "text/plain": [
       "<matplotlib.figure.Figure at 0x11b5bc390>"
      ]
     },
     "metadata": {},
     "output_type": "display_data"
    }
   ],
   "source": [
    "fig,ax1 = plt.subplots()\n",
    "ax1.plot(D,F1_rf,color='blue',label='Random Forest',linewidth=5,alpha=0.3)\n",
    "plt.plot(D,F1_boost,color='blue',label=\"Boosting\",alpha=0.9,linewidth=5)\n",
    "ax1.set_xlabel('Tree Depth',fontsize=25)\n",
    "plt.ylim(0,0.3)\n",
    "plt.ylabel('F1 CV score',fontsize=25)\n",
    "plt.xticks(fontsize=20)\n",
    "plt.yticks([0,0.1,0.2,0.3],fontsize=20)"
   ]
  },
  {
   "cell_type": "code",
   "execution_count": 102,
   "metadata": {
    "collapsed": false,
    "scrolled": true
   },
   "outputs": [
    {
     "name": "stdout",
     "output_type": "stream",
     "text": [
      "          Predicted NO  Predicted YES\n",
      "True NO         3043.0           50.0\n",
      "True YES         257.0           48.0\n",
      "\n",
      "F1: 0.238\n",
      "\n",
      "Accuracy on class 0: 0.98\n",
      "Accuracy on class 1: 0.16\n",
      "\n"
     ]
    }
   ],
   "source": [
    "boost = ensemble.GradientBoostingClassifier(n_estimators=50,max_depth=5)\n",
    "boost.fit(x_train,y_train)\n",
    "y_predict = boost.predict(x_test)\n",
    "acc_pos,acc_neg,F1 = sf.score_both_and_confuse(y_predict,y_test,confusion=False,disp=True)"
   ]
  },
  {
   "cell_type": "code",
   "execution_count": 108,
   "metadata": {
    "collapsed": false
   },
   "outputs": [
    {
     "name": "stdout",
     "output_type": "stream",
     "text": [
      "          Predicted NO  Predicted YES\n",
      "True NO         3022.0           71.0\n",
      "True YES         253.0           52.0\n",
      "\n",
      "F1: 0.243\n",
      "\n",
      "Accuracy on class 0: 0.98\n",
      "Accuracy on class 1: 0.17\n",
      "\n"
     ]
    }
   ],
   "source": [
    "ada= ensemble.AdaBoostClassifier(n_estimators=100)\n",
    "ada.fit(x_train,y_train)\n",
    "y_predict = ada.predict(x_test)\n",
    "acc_pos,acc_neg,F1 = sf.score_both_and_confuse(y_predict,y_test,confusion=False,disp=True)"
   ]
  },
  {
   "cell_type": "markdown",
   "metadata": {},
   "source": [
    "This is maybe doing a little better than our single models, but not by much. "
   ]
  },
  {
   "cell_type": "markdown",
   "metadata": {},
   "source": [
    "# Neural Net"
   ]
  },
  {
   "cell_type": "code",
   "execution_count": 26,
   "metadata": {
    "collapsed": false
   },
   "outputs": [
    {
     "name": "stdout",
     "output_type": "stream",
     "text": [
      "          Predicted NO  Predicted YES\n",
      "True NO         3051.0           42.0\n",
      "True YES         267.0           38.0\n",
      "\n",
      "F1: 0.197\n",
      "\n",
      "Accuracy on class 0: 0.99\n",
      "Accuracy on class 1: 0.12\n",
      "\n"
     ]
    }
   ],
   "source": [
    "mlp = neural_network.MLPClassifier(hidden_layer_sizes=(100,))\n",
    "mlp.fit(x_train,y_train)\n",
    "y_predict = mlp.predict(x_test)\n",
    "acc_pos,acc_neg,F1 = sf.score_both_and_confuse(y_predict,y_test,confusion=False,disp=True)"
   ]
  },
  {
   "cell_type": "code",
   "execution_count": 16,
   "metadata": {
    "collapsed": false
   },
   "outputs": [
    {
     "data": {
      "text/plain": [
       "array([[-0.007135  , -0.04163636,  0.00335061, ...,  0.2056332 ,\n",
       "        -0.2474716 ,  0.01009447],\n",
       "       [-0.04297648, -0.10517854, -0.05941977, ..., -0.20498744,\n",
       "        -0.0259902 ,  0.03459121],\n",
       "       [-0.01125303,  0.09107229, -0.16669009, ...,  0.09378345,\n",
       "        -0.19487751, -0.14958358],\n",
       "       ..., \n",
       "       [ 0.05781792,  0.11676558,  0.19791104, ..., -0.08346158,\n",
       "        -0.11341126,  0.05979339],\n",
       "       [ 0.14964907, -0.13699291, -0.06494882, ..., -0.09940432,\n",
       "        -0.22932466,  0.06416281],\n",
       "       [ 0.16625971, -0.17248249, -0.04364734, ...,  0.08550826,\n",
       "         0.19526544, -0.18894126]])"
      ]
     },
     "execution_count": 16,
     "metadata": {},
     "output_type": "execute_result"
    }
   ],
   "source": [
    "mlp.coefs_[0]"
   ]
  },
  {
   "cell_type": "code",
   "execution_count": 17,
   "metadata": {
    "collapsed": false
   },
   "outputs": [
    {
     "ename": "ValueError",
     "evalue": "x and y must be the same size",
     "output_type": "error",
     "traceback": [
      "\u001b[0;31m---------------------------------------------------------------------------\u001b[0m",
      "\u001b[0;31mValueError\u001b[0m                                Traceback (most recent call last)",
      "\u001b[0;32m<ipython-input-17-e48558ad5063>\u001b[0m in \u001b[0;36m<module>\u001b[0;34m()\u001b[0m\n\u001b[1;32m      1\u001b[0m \u001b[0mplt\u001b[0m\u001b[0;34m.\u001b[0m\u001b[0mfigure\u001b[0m\u001b[0;34m(\u001b[0m\u001b[0mfigsize\u001b[0m\u001b[0;34m=\u001b[0m\u001b[0;34m(\u001b[0m\u001b[0;36m5\u001b[0m\u001b[0;34m,\u001b[0m\u001b[0;36m5\u001b[0m\u001b[0;34m)\u001b[0m\u001b[0;34m)\u001b[0m\u001b[0;34m\u001b[0m\u001b[0m\n\u001b[0;32m----> 2\u001b[0;31m \u001b[0mplt\u001b[0m\u001b[0;34m.\u001b[0m\u001b[0mscatter\u001b[0m\u001b[0;34m(\u001b[0m\u001b[0mnp\u001b[0m\u001b[0;34m.\u001b[0m\u001b[0marange\u001b[0m\u001b[0;34m(\u001b[0m\u001b[0;36m27\u001b[0m\u001b[0;34m)\u001b[0m\u001b[0;34m,\u001b[0m\u001b[0mmlp\u001b[0m\u001b[0;34m.\u001b[0m\u001b[0mcoefs_\u001b[0m\u001b[0;34m[\u001b[0m\u001b[0;36m0\u001b[0m\u001b[0;34m]\u001b[0m\u001b[0;34m[\u001b[0m\u001b[0;34m:\u001b[0m\u001b[0;34m,\u001b[0m\u001b[0;36m0\u001b[0m\u001b[0;34m]\u001b[0m\u001b[0;34m)\u001b[0m\u001b[0;34m\u001b[0m\u001b[0m\n\u001b[0m",
      "\u001b[0;32m//anaconda/envs/CaGRIN/lib/python3.5/site-packages/matplotlib/pyplot.py\u001b[0m in \u001b[0;36mscatter\u001b[0;34m(x, y, s, c, marker, cmap, norm, vmin, vmax, alpha, linewidths, verts, edgecolors, hold, data, **kwargs)\u001b[0m\n\u001b[1;32m   3249\u001b[0m                          \u001b[0mvmin\u001b[0m\u001b[0;34m=\u001b[0m\u001b[0mvmin\u001b[0m\u001b[0;34m,\u001b[0m \u001b[0mvmax\u001b[0m\u001b[0;34m=\u001b[0m\u001b[0mvmax\u001b[0m\u001b[0;34m,\u001b[0m \u001b[0malpha\u001b[0m\u001b[0;34m=\u001b[0m\u001b[0malpha\u001b[0m\u001b[0;34m,\u001b[0m\u001b[0;34m\u001b[0m\u001b[0m\n\u001b[1;32m   3250\u001b[0m                          \u001b[0mlinewidths\u001b[0m\u001b[0;34m=\u001b[0m\u001b[0mlinewidths\u001b[0m\u001b[0;34m,\u001b[0m \u001b[0mverts\u001b[0m\u001b[0;34m=\u001b[0m\u001b[0mverts\u001b[0m\u001b[0;34m,\u001b[0m\u001b[0;34m\u001b[0m\u001b[0m\n\u001b[0;32m-> 3251\u001b[0;31m                          edgecolors=edgecolors, data=data, **kwargs)\n\u001b[0m\u001b[1;32m   3252\u001b[0m     \u001b[0;32mfinally\u001b[0m\u001b[0;34m:\u001b[0m\u001b[0;34m\u001b[0m\u001b[0m\n\u001b[1;32m   3253\u001b[0m         \u001b[0max\u001b[0m\u001b[0;34m.\u001b[0m\u001b[0mhold\u001b[0m\u001b[0;34m(\u001b[0m\u001b[0mwashold\u001b[0m\u001b[0;34m)\u001b[0m\u001b[0;34m\u001b[0m\u001b[0m\n",
      "\u001b[0;32m//anaconda/envs/CaGRIN/lib/python3.5/site-packages/matplotlib/__init__.py\u001b[0m in \u001b[0;36minner\u001b[0;34m(ax, *args, **kwargs)\u001b[0m\n\u001b[1;32m   1810\u001b[0m                     warnings.warn(msg % (label_namer, func.__name__),\n\u001b[1;32m   1811\u001b[0m                                   RuntimeWarning, stacklevel=2)\n\u001b[0;32m-> 1812\u001b[0;31m             \u001b[0;32mreturn\u001b[0m \u001b[0mfunc\u001b[0m\u001b[0;34m(\u001b[0m\u001b[0max\u001b[0m\u001b[0;34m,\u001b[0m \u001b[0;34m*\u001b[0m\u001b[0margs\u001b[0m\u001b[0;34m,\u001b[0m \u001b[0;34m**\u001b[0m\u001b[0mkwargs\u001b[0m\u001b[0;34m)\u001b[0m\u001b[0;34m\u001b[0m\u001b[0m\n\u001b[0m\u001b[1;32m   1813\u001b[0m         \u001b[0mpre_doc\u001b[0m \u001b[0;34m=\u001b[0m \u001b[0minner\u001b[0m\u001b[0;34m.\u001b[0m\u001b[0m__doc__\u001b[0m\u001b[0;34m\u001b[0m\u001b[0m\n\u001b[1;32m   1814\u001b[0m         \u001b[0;32mif\u001b[0m \u001b[0mpre_doc\u001b[0m \u001b[0;32mis\u001b[0m \u001b[0;32mNone\u001b[0m\u001b[0;34m:\u001b[0m\u001b[0;34m\u001b[0m\u001b[0m\n",
      "\u001b[0;32m//anaconda/envs/CaGRIN/lib/python3.5/site-packages/matplotlib/axes/_axes.py\u001b[0m in \u001b[0;36mscatter\u001b[0;34m(self, x, y, s, c, marker, cmap, norm, vmin, vmax, alpha, linewidths, verts, edgecolors, **kwargs)\u001b[0m\n\u001b[1;32m   3838\u001b[0m         \u001b[0my\u001b[0m \u001b[0;34m=\u001b[0m \u001b[0mnp\u001b[0m\u001b[0;34m.\u001b[0m\u001b[0mma\u001b[0m\u001b[0;34m.\u001b[0m\u001b[0mravel\u001b[0m\u001b[0;34m(\u001b[0m\u001b[0my\u001b[0m\u001b[0;34m)\u001b[0m\u001b[0;34m\u001b[0m\u001b[0m\n\u001b[1;32m   3839\u001b[0m         \u001b[0;32mif\u001b[0m \u001b[0mx\u001b[0m\u001b[0;34m.\u001b[0m\u001b[0msize\u001b[0m \u001b[0;34m!=\u001b[0m \u001b[0my\u001b[0m\u001b[0;34m.\u001b[0m\u001b[0msize\u001b[0m\u001b[0;34m:\u001b[0m\u001b[0;34m\u001b[0m\u001b[0m\n\u001b[0;32m-> 3840\u001b[0;31m             \u001b[0;32mraise\u001b[0m \u001b[0mValueError\u001b[0m\u001b[0;34m(\u001b[0m\u001b[0;34m\"x and y must be the same size\"\u001b[0m\u001b[0;34m)\u001b[0m\u001b[0;34m\u001b[0m\u001b[0m\n\u001b[0m\u001b[1;32m   3841\u001b[0m \u001b[0;34m\u001b[0m\u001b[0m\n\u001b[1;32m   3842\u001b[0m         \u001b[0ms\u001b[0m \u001b[0;34m=\u001b[0m \u001b[0mnp\u001b[0m\u001b[0;34m.\u001b[0m\u001b[0mma\u001b[0m\u001b[0;34m.\u001b[0m\u001b[0mravel\u001b[0m\u001b[0;34m(\u001b[0m\u001b[0ms\u001b[0m\u001b[0;34m)\u001b[0m  \u001b[0;31m# This doesn't have to match x, y in size.\u001b[0m\u001b[0;34m\u001b[0m\u001b[0m\n",
      "\u001b[0;31mValueError\u001b[0m: x and y must be the same size"
     ]
    },
    {
     "data": {
      "image/png": "[encoded data removed]",
      "text/plain": [
       "<matplotlib.figure.Figure at 0x111657160>"
      ]
     },
     "metadata": {},
     "output_type": "display_data"
    }
   ],
   "source": [
    "plt.figure(figsize=(5,5))\n",
    "plt.scatter(np.arange(27),mlp.coefs_[0][:,0])"
   ]
  }
 ],
 "metadata": {
  "anaconda-cloud": {},
  "kernelspec": {
   "display_name": "Python [conda env:CaGRIN]",
   "language": "python",
   "name": "conda-env-CaGRIN-py"
  },
  "language_info": {
   "codemirror_mode": {
    "name": "ipython",
    "version": 3
   },
   "file_extension": ".py",
   "mimetype": "text/x-python",
   "name": "python",
   "nbconvert_exporter": "python",
   "pygments_lexer": "ipython3",
   "version": "3.5.2"
  }
 },
 "nbformat": 4,
 "nbformat_minor": 1
}
