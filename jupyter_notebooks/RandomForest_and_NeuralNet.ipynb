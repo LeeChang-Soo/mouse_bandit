{
 "cells": [
  {
   "cell_type": "markdown",
   "metadata": {},
   "source": [
    "# Random Forest & Neural Net"
   ]
  },
  {
   "cell_type": "code",
   "execution_count": 1,
   "metadata": {
    "collapsed": false
   },
   "outputs": [],
   "source": [
    "import sys\n",
    "sys.path.append('/Users/shayneufeld/GitHub/mouse_bandit/data_preprocessing_code')\n",
    "sys.path.append('/Users/shayneufeld/GitHub/mouse_bandit')\n",
    "import support_functions as sf\n",
    "import numpy as np\n",
    "import matplotlib.pyplot as plt\n",
    "import seaborn as sns\n",
    "import pandas as pd\n",
    "import scipy as sp\n",
    "import bandit_preprocessing as bp\n",
    "import sklearn.linear_model\n",
    "from sklearn import discriminant_analysis\n",
    "from sklearn import model_selection\n",
    "from sklearn import tree as Tree\n",
    "from sklearn import ensemble\n",
    "from sklearn import neural_network\n",
    "import sklearn.tree\n",
    "%matplotlib inline "
   ]
  },
  {
   "cell_type": "markdown",
   "metadata": {},
   "source": [
    "### Load in data"
   ]
  },
  {
   "cell_type": "code",
   "execution_count": 2,
   "metadata": {
    "collapsed": false
   },
   "outputs": [],
   "source": [
    "data = pd.read_csv('/Users/shayneufeld/GitHub/mouse_bandit/data/80_20_processed_data/master_8020_df.csv',index_col=0)"
   ]
  },
  {
   "cell_type": "code",
   "execution_count": 3,
   "metadata": {
    "collapsed": false
   },
   "outputs": [
    {
     "data": {
      "text/html": [
       "<div>\n",
       "<table border=\"1\" class=\"dataframe\">\n",
       "  <thead>\n",
       "    <tr style=\"text-align: right;\">\n",
       "      <th></th>\n",
       "      <th>Previous_10_Left_Choice</th>\n",
       "      <th>Previous_10_Right_Choice</th>\n",
       "      <th>Previous_10_Left_Reward</th>\n",
       "      <th>Previous_10_Right_Reward</th>\n",
       "      <th>Streak</th>\n",
       "      <th>5_Port</th>\n",
       "      <th>5_Reward</th>\n",
       "      <th>5_ITI</th>\n",
       "      <th>5_trialDuration</th>\n",
       "      <th>4_Port</th>\n",
       "      <th>...</th>\n",
       "      <th>2_Reward</th>\n",
       "      <th>2_ITI</th>\n",
       "      <th>2_trialDuration</th>\n",
       "      <th>1_Port</th>\n",
       "      <th>1_Reward</th>\n",
       "      <th>1_ITI</th>\n",
       "      <th>1_trialDuration</th>\n",
       "      <th>0_ITI</th>\n",
       "      <th>0_trialDuration</th>\n",
       "      <th>Decision</th>\n",
       "    </tr>\n",
       "  </thead>\n",
       "  <tbody>\n",
       "    <tr>\n",
       "      <th>0</th>\n",
       "      <td>10.0</td>\n",
       "      <td>0.0</td>\n",
       "      <td>8.0</td>\n",
       "      <td>0.0</td>\n",
       "      <td>-1.0</td>\n",
       "      <td>1.0</td>\n",
       "      <td>0.0</td>\n",
       "      <td>3.286</td>\n",
       "      <td>0.407</td>\n",
       "      <td>1.0</td>\n",
       "      <td>...</td>\n",
       "      <td>1.0</td>\n",
       "      <td>2.234</td>\n",
       "      <td>0.325</td>\n",
       "      <td>1.0</td>\n",
       "      <td>0.0</td>\n",
       "      <td>2.133</td>\n",
       "      <td>0.482</td>\n",
       "      <td>1.411</td>\n",
       "      <td>0.435</td>\n",
       "      <td>1.0</td>\n",
       "    </tr>\n",
       "    <tr>\n",
       "      <th>1</th>\n",
       "      <td>10.0</td>\n",
       "      <td>0.0</td>\n",
       "      <td>7.0</td>\n",
       "      <td>0.0</td>\n",
       "      <td>-2.0</td>\n",
       "      <td>1.0</td>\n",
       "      <td>1.0</td>\n",
       "      <td>2.405</td>\n",
       "      <td>0.463</td>\n",
       "      <td>1.0</td>\n",
       "      <td>...</td>\n",
       "      <td>0.0</td>\n",
       "      <td>2.133</td>\n",
       "      <td>0.482</td>\n",
       "      <td>1.0</td>\n",
       "      <td>0.0</td>\n",
       "      <td>1.411</td>\n",
       "      <td>0.435</td>\n",
       "      <td>2.169</td>\n",
       "      <td>0.395</td>\n",
       "      <td>0.0</td>\n",
       "    </tr>\n",
       "    <tr>\n",
       "      <th>2</th>\n",
       "      <td>9.0</td>\n",
       "      <td>1.0</td>\n",
       "      <td>6.0</td>\n",
       "      <td>0.0</td>\n",
       "      <td>-3.0</td>\n",
       "      <td>1.0</td>\n",
       "      <td>1.0</td>\n",
       "      <td>2.379</td>\n",
       "      <td>0.367</td>\n",
       "      <td>1.0</td>\n",
       "      <td>...</td>\n",
       "      <td>0.0</td>\n",
       "      <td>1.411</td>\n",
       "      <td>0.435</td>\n",
       "      <td>0.0</td>\n",
       "      <td>0.0</td>\n",
       "      <td>2.169</td>\n",
       "      <td>0.395</td>\n",
       "      <td>3.838</td>\n",
       "      <td>0.469</td>\n",
       "      <td>0.0</td>\n",
       "    </tr>\n",
       "    <tr>\n",
       "      <th>3</th>\n",
       "      <td>8.0</td>\n",
       "      <td>2.0</td>\n",
       "      <td>5.0</td>\n",
       "      <td>0.0</td>\n",
       "      <td>-4.0</td>\n",
       "      <td>1.0</td>\n",
       "      <td>1.0</td>\n",
       "      <td>2.234</td>\n",
       "      <td>0.325</td>\n",
       "      <td>1.0</td>\n",
       "      <td>...</td>\n",
       "      <td>0.0</td>\n",
       "      <td>2.169</td>\n",
       "      <td>0.395</td>\n",
       "      <td>0.0</td>\n",
       "      <td>0.0</td>\n",
       "      <td>3.838</td>\n",
       "      <td>0.469</td>\n",
       "      <td>1.846</td>\n",
       "      <td>0.378</td>\n",
       "      <td>1.0</td>\n",
       "    </tr>\n",
       "    <tr>\n",
       "      <th>4</th>\n",
       "      <td>8.0</td>\n",
       "      <td>2.0</td>\n",
       "      <td>5.0</td>\n",
       "      <td>0.0</td>\n",
       "      <td>1.0</td>\n",
       "      <td>1.0</td>\n",
       "      <td>0.0</td>\n",
       "      <td>2.133</td>\n",
       "      <td>0.482</td>\n",
       "      <td>1.0</td>\n",
       "      <td>...</td>\n",
       "      <td>0.0</td>\n",
       "      <td>3.838</td>\n",
       "      <td>0.469</td>\n",
       "      <td>1.0</td>\n",
       "      <td>1.0</td>\n",
       "      <td>1.846</td>\n",
       "      <td>0.378</td>\n",
       "      <td>1.527</td>\n",
       "      <td>0.416</td>\n",
       "      <td>1.0</td>\n",
       "    </tr>\n",
       "  </tbody>\n",
       "</table>\n",
       "<p>5 rows × 28 columns</p>\n",
       "</div>"
      ],
      "text/plain": [
       "   Previous_10_Left_Choice  Previous_10_Right_Choice  Previous_10_Left_Reward  \\\n",
       "0                     10.0                       0.0                      8.0   \n",
       "1                     10.0                       0.0                      7.0   \n",
       "2                      9.0                       1.0                      6.0   \n",
       "3                      8.0                       2.0                      5.0   \n",
       "4                      8.0                       2.0                      5.0   \n",
       "\n",
       "   Previous_10_Right_Reward  Streak  5_Port  5_Reward  5_ITI  5_trialDuration  \\\n",
       "0                       0.0    -1.0     1.0       0.0  3.286            0.407   \n",
       "1                       0.0    -2.0     1.0       1.0  2.405            0.463   \n",
       "2                       0.0    -3.0     1.0       1.0  2.379            0.367   \n",
       "3                       0.0    -4.0     1.0       1.0  2.234            0.325   \n",
       "4                       0.0     1.0     1.0       0.0  2.133            0.482   \n",
       "\n",
       "   4_Port    ...     2_Reward  2_ITI  2_trialDuration  1_Port  1_Reward  \\\n",
       "0     1.0    ...          1.0  2.234            0.325     1.0       0.0   \n",
       "1     1.0    ...          0.0  2.133            0.482     1.0       0.0   \n",
       "2     1.0    ...          0.0  1.411            0.435     0.0       0.0   \n",
       "3     1.0    ...          0.0  2.169            0.395     0.0       0.0   \n",
       "4     1.0    ...          0.0  3.838            0.469     1.0       1.0   \n",
       "\n",
       "   1_ITI  1_trialDuration  0_ITI  0_trialDuration  Decision  \n",
       "0  2.133            0.482  1.411            0.435       1.0  \n",
       "1  1.411            0.435  2.169            0.395       0.0  \n",
       "2  2.169            0.395  3.838            0.469       0.0  \n",
       "3  3.838            0.469  1.846            0.378       1.0  \n",
       "4  1.846            0.378  1.527            0.416       1.0  \n",
       "\n",
       "[5 rows x 28 columns]"
      ]
     },
     "execution_count": 3,
     "metadata": {},
     "output_type": "execute_result"
    }
   ],
   "source": [
    "data.head(5)"
   ]
  },
  {
   "cell_type": "code",
   "execution_count": 4,
   "metadata": {
    "collapsed": true
   },
   "outputs": [],
   "source": [
    "#extract features and decisions\n",
    "x = data.iloc[:,:-1].values\n",
    "y = data.iloc[:,-1].values"
   ]
  },
  {
   "cell_type": "markdown",
   "metadata": {},
   "source": [
    "### Change 'y' so that 1 corresponds to a switch, and 0 corresponds to no switch"
   ]
  },
  {
   "cell_type": "code",
   "execution_count": 5,
   "metadata": {
    "collapsed": false
   },
   "outputs": [
    {
     "name": "stdout",
     "output_type": "stream",
     "text": [
      "(11325, 27)\n",
      "(11325,)\n"
     ]
    }
   ],
   "source": [
    "y_diff = np.diff(y)\n",
    "x = x[1:,:]\n",
    "y = np.abs(y_diff.copy())\n",
    "\n",
    "print(x.shape)\n",
    "print(y_diff.shape)"
   ]
  },
  {
   "cell_type": "markdown",
   "metadata": {},
   "source": [
    "### Split into training and testing set"
   ]
  },
  {
   "cell_type": "code",
   "execution_count": 6,
   "metadata": {
    "collapsed": false
   },
   "outputs": [],
   "source": [
    "#split into training and testing\n",
    "n_trials = x.shape[0]\n",
    "shuf_inds = np.random.permutation(n_trials)\n",
    "split_ind = int(n_trials*0.7)\n",
    "\n",
    "x_train = x[shuf_inds[:split_ind],:]\n",
    "y_train = y[shuf_inds[:split_ind]]\n",
    "\n",
    "x_test = x[shuf_inds[split_ind:],:]\n",
    "y_test = y[shuf_inds[split_ind:]]"
   ]
  },
  {
   "cell_type": "code",
   "execution_count": 7,
   "metadata": {
    "collapsed": false
   },
   "outputs": [
    {
     "name": "stdout",
     "output_type": "stream",
     "text": [
      "# train trials: 7927 | # switches: 618 --> 7.8 percent\n",
      "# test trials: 3398 | # switches: 279 --> 8.2 percent\n"
     ]
    }
   ],
   "source": [
    "print('# train trials: %.0f | # switches: %.0f --> %.01f percent' % (y_train.shape[0],np.sum(y_train),np.sum(y_train)*100.0/y_train.shape[0]))\n",
    "print('# test trials: %.0f | # switches: %.0f --> %.01f percent' % (y_test.shape[0],np.sum(y_test),np.sum(y_test)*100.0/y_test.shape[0]))"
   ]
  },
  {
   "cell_type": "markdown",
   "metadata": {},
   "source": [
    "# Random Forest\n",
    "\n"
   ]
  },
  {
   "cell_type": "code",
   "execution_count": 8,
   "metadata": {
    "collapsed": true
   },
   "outputs": [],
   "source": [
    "rf = ensemble.RandomForestClassifier(n_estimators = 10,criterion='gini',max_features='sqrt',class_weight={0:0.07,1:0.93})\n",
    "rf.fit(x_train,y_train)\n",
    "y_predict = rf.predict(x_test)"
   ]
  },
  {
   "cell_type": "code",
   "execution_count": 9,
   "metadata": {
    "collapsed": false
   },
   "outputs": [
    {
     "name": "stdout",
     "output_type": "stream",
     "text": [
      "          Predicted NO  Predicted YES\n",
      "True NO         3071.0           48.0\n",
      "True YES         249.0           30.0\n",
      "\n",
      "F1: 0.168\n",
      "\n",
      "Accuracy on class 0: 0.98\n",
      "Accuracy on class 1: 0.11\n",
      "\n"
     ]
    }
   ],
   "source": [
    "acc_pos,acc_neg,F1_k = sf.score_both_and_confuse(y_predict,y_test,confusion=False,disp=True)"
   ]
  },
  {
   "cell_type": "code",
   "execution_count": 10,
   "metadata": {
    "collapsed": false,
    "scrolled": true
   },
   "outputs": [],
   "source": [
    "features = data.columns.values[:-1]\n",
    "P = np.arange(0.5,1.0,0.01)\n",
    "D = np.arange(1,20)\n",
    "F1,w = np.zeros(D.shape[0]),np.zeros(D.shape[0])\n",
    "\n",
    "for i,d in enumerate(D):\n",
    "    \n",
    "    for p in P:\n",
    "        prior = np.array([1.0-p,p])\n",
    "        rf = ensemble.RandomForestClassifier(n_estimators = 10,max_depth=d,max_features='sqrt',class_weight={0:prior[0],1:prior[1]})\n",
    "\n",
    "        kf = model_selection.KFold(n_splits=3)\n",
    "        cum_F1 = 0.0\n",
    "\n",
    "        for train_index,test_index in kf.split(x_train):\n",
    "            x_train_cv = x_train[train_index,:]\n",
    "            y_train_cv = y_train[train_index]\n",
    "            x_test_cv = x_train[test_index,:]\n",
    "            y_test_cv = y_train[test_index]\n",
    "\n",
    "            rf.fit(x_train_cv,y_train_cv)\n",
    "            y_predict = rf.predict(x_test_cv)\n",
    "\n",
    "            acc_pos,acc_neg,F1_k = sf.score_both_and_confuse(y_predict,y_test_cv,confusion=False,disp=False)\n",
    "\n",
    "            cum_F1 += F1_k\n",
    "\n",
    "        F1_cv = cum_F1 / 3.0\n",
    "    \n",
    "        if F1_cv > F1[i]:\n",
    "            F1[i] = F1_cv\n",
    "            w[i] = p"
   ]
  },
  {
   "cell_type": "code",
   "execution_count": 11,
   "metadata": {
    "collapsed": false
   },
   "outputs": [
    {
     "data": {
      "text/plain": [
       "<matplotlib.legend.Legend at 0x11046b630>"
      ]
     },
     "execution_count": 11,
     "metadata": {},
     "output_type": "execute_result"
    },
    {
     "data": {
      "image/png": "[encoded data removed]",
      "text/plain": [
       "<matplotlib.figure.Figure at 0x1105c8d30>"
      ]
     },
     "metadata": {},
     "output_type": "display_data"
    }
   ],
   "source": [
    "fig,ax1 = plt.subplots()\n",
    "ax1.scatter(D,F1,color='black',label='F1 score')\n",
    "ax1.set_xlabel('Tree Depth')\n",
    "plt.legend(loc='lower left')\n",
    "\n",
    "ax2 = ax1.twinx()\n",
    "ax2.plot(D,w,color='red',alpha=0.5,label='switching weight')\n",
    "for tl in ax2.get_yticklabels():\n",
    "    tl.set_color('r')\n",
    "ax2.grid('off')\n",
    "ax2.set_ylim(0.8,1)\n",
    "\n",
    "plt.legend(bbox_to_anchor = (0.36,0.2))"
   ]
  },
  {
   "cell_type": "code",
   "execution_count": 24,
   "metadata": {
    "collapsed": false
   },
   "outputs": [
    {
     "name": "stdout",
     "output_type": "stream",
     "text": [
      "          Predicted NO  Predicted YES\n",
      "True NO         2702.0          417.0\n",
      "True YES          56.0          223.0\n",
      "\n",
      "F1: 0.485\n",
      "\n",
      "Accuracy on class 0: 0.87\n",
      "Accuracy on class 1: 0.80\n",
      "\n"
     ]
    }
   ],
   "source": [
    "rf = ensemble.RandomForestClassifier(n_estimators = 10,max_depth=4,max_features='sqrt',class_weight={0:0.14,1:0.86})\n",
    "rf.fit(x_train,y_train)\n",
    "y_predict = rf.predict(x_test)\n",
    "acc_pos,acc_neg,F1 = sf.score_both_and_confuse(y_predict,y_test,confusion=False,disp=True)"
   ]
  },
  {
   "cell_type": "markdown",
   "metadata": {},
   "source": [
    "This is maybe doing a little better than our single models, but not by much. "
   ]
  },
  {
   "cell_type": "markdown",
   "metadata": {},
   "source": [
    "# Neural Net"
   ]
  },
  {
   "cell_type": "code",
   "execution_count": 13,
   "metadata": {
    "collapsed": false
   },
   "outputs": [
    {
     "name": "stdout",
     "output_type": "stream",
     "text": [
      "          Predicted NO  Predicted YES\n",
      "True NO         3060.0           59.0\n",
      "True YES         209.0           70.0\n",
      "\n",
      "F1: 0.343\n",
      "\n",
      "Accuracy on class 0: 0.98\n",
      "Accuracy on class 1: 0.25\n",
      "\n"
     ]
    }
   ],
   "source": [
    "mlp = neural_network.MLPClassifier()\n",
    "mlp.fit(x_train,y_train)\n",
    "y_predict = mlp.predict(x_test)\n",
    "acc_pos,acc_neg,F1 = sf.score_both_and_confuse(y_predict,y_test,confusion=False,disp=True)"
   ]
  }
 ],
 "metadata": {
  "anaconda-cloud": {},
  "kernelspec": {
   "display_name": "Python [conda env:CaGRIN]",
   "language": "python",
   "name": "conda-env-CaGRIN-py"
  },
  "language_info": {
   "codemirror_mode": {
    "name": "ipython",
    "version": 3
   },
   "file_extension": ".py",
   "mimetype": "text/x-python",
   "name": "python",
   "nbconvert_exporter": "python",
   "pygments_lexer": "ipython3",
   "version": "3.5.2"
  }
 },
 "nbformat": 4,
 "nbformat_minor": 1
}
